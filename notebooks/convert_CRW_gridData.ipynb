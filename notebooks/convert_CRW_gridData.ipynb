{
 "cells": [
  {
   "cell_type": "code",
   "execution_count": 1,
   "metadata": {
    "collapsed": true
   },
   "outputs": [],
   "source": [
    "%matplotlib inline"
   ]
  },
  {
   "cell_type": "code",
   "execution_count": 2,
   "metadata": {
    "collapsed": true
   },
   "outputs": [],
   "source": [
    "import sys, os"
   ]
  },
  {
   "cell_type": "code",
   "execution_count": 3,
   "metadata": {},
   "outputs": [],
   "source": [
    "sys.path.append('/Users/nicolasf/operational/Presentation_Cartography/resource_converter/')"
   ]
  },
  {
   "cell_type": "code",
   "execution_count": 4,
   "metadata": {
    "collapsed": true
   },
   "outputs": [],
   "source": [
    "from read_gridData import read_gridData\n",
    "from write_gridData import write_gridData\n",
    "from NN_interp import NN_interp"
   ]
  },
  {
   "cell_type": "code",
   "execution_count": 5,
   "metadata": {
    "collapsed": true
   },
   "outputs": [],
   "source": [
    "import numpy as np\n",
    "from matplotlib import pyplot as plt\n",
    "import xarray as xr\n",
    "import pandas as pd"
   ]
  },
  {
   "cell_type": "code",
   "execution_count": 6,
   "metadata": {
    "collapsed": true
   },
   "outputs": [],
   "source": [
    "from glob import glob"
   ]
  },
  {
   "cell_type": "code",
   "execution_count": 7,
   "metadata": {
    "collapsed": true
   },
   "outputs": [],
   "source": [
    "var = 'BAA'"
   ]
  },
  {
   "cell_type": "code",
   "execution_count": 8,
   "metadata": {},
   "outputs": [],
   "source": [
    "dpath = os.path.join('/Volumes/GDATA/data/CRW', var)"
   ]
  },
  {
   "cell_type": "code",
   "execution_count": 9,
   "metadata": {
    "collapsed": true
   },
   "outputs": [],
   "source": [
    "lfiles = glob(os.path.join(dpath, '*.nc'))"
   ]
  },
  {
   "cell_type": "code",
   "execution_count": 10,
   "metadata": {},
   "outputs": [],
   "source": [
    "dset = xr.open_mfdataset(lfiles)"
   ]
  },
  {
   "cell_type": "code",
   "execution_count": 11,
   "metadata": {},
   "outputs": [
    {
     "data": {
      "text/plain": [
       "<xarray.Dataset>\n",
       "Dimensions:       (lat: 3600, lon: 7200, time: 29)\n",
       "Coordinates:\n",
       "  * lat           (lat) float32 89.975 89.925 89.875 89.825 89.775 89.725 ...\n",
       "  * lon           (lon) float32 -179.975 -179.925 -179.875 -179.825 -179.775 ...\n",
       "  * time          (time) datetime64[ns] 2017-10-07T12:00:00 ...\n",
       "Data variables:\n",
       "    surface_flag  (time, lat, lon) int8 0 0 0 0 0 0 0 0 0 0 0 0 0 0 0 0 0 0 ...\n",
       "    CRW_BAA       (time, lat, lon) float64 0.0 0.0 0.0 0.0 0.0 0.0 0.0 0.0 ...\n",
       "    crs           (time) int64 -32767 -32767 -32767 -32767 -32767 -32767 ...\n",
       "Attributes:\n",
       "    Conventions:                CF-1.6, ACDD-1.3, Unidata Observation Dataset...\n",
       "    ncei_template_version:      NCEI_NetCDF_Grid_Template_v2.0\n",
       "    title:                      NOAA Coral Reef Watch Daily Global 5-km Satel...\n",
       "    summary:                    This is a product of NOAA Coral Reef Watch da...\n",
       "    references:                 Liu, G, Heron SF, Eakin CM, Muller-Karger FE,...\n",
       "    institution:                NOAA/NESDIS/STAR Coral Reef Watch program\n",
       "    history:                    This product is based on CRW Version 1.0 NetC...\n",
       "    comment:                    This product is a product of the Coral Reef W...\n",
       "    license:                    The data are available for use without restri...\n",
       "    id:                         Satellite_Daily_Global_5km_Bleaching_Alert_Area\n",
       "    naming_authority:           gov.noaa.coralreefwatch\n",
       "    product_version:            3.0\n",
       "    product_netcdf_version:     1.0\n",
       "    uuid:                       cb288872-6cd9-4bd0-8e48-2570e042801c\n",
       "    gds_version_id:             2.0\n",
       "    netcdf_version_id:          4.1.2\n",
       "    date_created:               20130312T120000Z\n",
       "    date_issued:                20171008T165738Z\n",
       "    date_modified:              20171008T165738Z\n",
       "    date_metadata_modified:     20171008T165738Z\n",
       "    start_time:                 20171007T000000Z\n",
       "    time_coverage_start:        20171007T000000Z\n",
       "    time_coverage_duration:     P1D\n",
       "    stop_time:                  20171008T000000Z\n",
       "    time_coverage_end:          20171008T000000Z\n",
       "    time_coverage_resolution:   P1D\n",
       "    source:                     npp viirs, metop-b avhrr, goese/w imager, msg...\n",
       "    platform:                   metop-b GOESE (GOES-13) GOESW (GOES-15) msg/m...\n",
       "    sensor:                     npp viirs, metop-b avhrr, goese/w imager, msg...\n",
       "    instrument:                 npp viirs, metop-b avhrr, goese/w imager, msg...\n",
       "    platform_vocabulary:        metop-b GOESE (GOES-13) GOESW (GOES-15) msg/m...\n",
       "    instrument_vocabulary:      npp viirs, metop-b avhrr, goese/w imager, msg...\n",
       "    metadata_link:              https://coralreefwatch.noaa.gov/satellite/ble...\n",
       "    keywords:                   Oceans > Ocean Temperature > Bleaching Alert ...\n",
       "    keywords_vocabulary:        NASA Global Change Master Directory (GCMD) Sc...\n",
       "    standard_name_vocabulary:   NetCDF Climate and Forecast (CF) Metadata Con...\n",
       "    geospatial_bounds:          POLYGON((-90.0 180.0, 90.0 180.0, 90.0 -180.0...\n",
       "    geospatial_bounds_crs:      EPSG:4326\n",
       "    geospatial_lon_min:         -180.0\n",
       "    geospatial_lon_max:         180.0\n",
       "    geospatial_lat_min:         -90.0\n",
       "    geospatial_lat_max:         90.0\n",
       "    spatial_resolution:         0.05 degree\n",
       "    geospatial_lat_units:       degrees north\n",
       "    geospatial_lat_resolution:  0.05\n",
       "    geospatial_lon_units:       degrees east\n",
       "    geospatial_lon_resolution:  0.05\n",
       "    acknowledgment:             NOAA Coral Reef Watch program\n",
       "    creator_type:               group\n",
       "    creator_institution:        NOAA/NESDIS/STAR\n",
       "    creator_name:               NOAA Coral Reef Watch program\n",
       "    creator_email:              coralreefwatch@noaa.gov\n",
       "    creator_url:                https://coralreefwatch.noaa.gov\n",
       "    project:                    NOAA Coral Reef Watch program\n",
       "    program:                    NOAA Coral Reef Watch program\n",
       "    publisher_type:             group\n",
       "    publisher_institution:      NOAA/NESDIS/STAR\n",
       "    publisher_name:             NOAA Coral Reef Watch program\n",
       "    publisher_url:              https://coralreefwatch.noaa.gov\n",
       "    publisher_email:            coralreefwatch@noaa.gov\n",
       "    contributor_name:           NOAA Coral Reef Watch program\n",
       "    contributor_role:           Collecting source data and deriving products;...\n",
       "    processing_level:           L4\n",
       "    cdm_data_type:              Grid"
      ]
     },
     "execution_count": 11,
     "metadata": {},
     "output_type": "execute_result"
    }
   ],
   "source": [
    "dset.load()"
   ]
  },
  {
   "cell_type": "code",
   "execution_count": 12,
   "metadata": {},
   "outputs": [
    {
     "data": {
      "text/plain": [
       "<matplotlib.colorbar.Colorbar at 0x11348a208>"
      ]
     },
     "execution_count": 12,
     "metadata": {},
     "output_type": "execute_result"
    },
    {
     "data": {
      "image/png": "[encoded data removed]",
      "text/plain": [
       "<matplotlib.figure.Figure at 0x112cbd828>"
      ]
     },
     "metadata": {},
     "output_type": "display_data"
    }
   ],
   "source": [
    "im = plt.imshow(dset['CRW_BAA'][-1,:,:], cmap=plt.get_cmap('jet', 4)); plt.colorbar(im)"
   ]
  },
  {
   "cell_type": "code",
   "execution_count": 13,
   "metadata": {
    "collapsed": true
   },
   "outputs": [],
   "source": [
    "# lats = dset.lat.data\n",
    "# lons = dset.lon.data"
   ]
  },
  {
   "cell_type": "code",
   "execution_count": 14,
   "metadata": {
    "collapsed": true
   },
   "outputs": [],
   "source": [
    "# i = np.where(lons > 0.)[0][0]"
   ]
  },
  {
   "cell_type": "code",
   "execution_count": 15,
   "metadata": {
    "collapsed": true
   },
   "outputs": [],
   "source": [
    "# new_lons = lons.copy()"
   ]
  },
  {
   "cell_type": "code",
   "execution_count": 16,
   "metadata": {
    "collapsed": true
   },
   "outputs": [],
   "source": [
    "# new_lons = np.concatenate([new_lons[i::],new_lons[0:i]])"
   ]
  },
  {
   "cell_type": "code",
   "execution_count": 17,
   "metadata": {
    "collapsed": true
   },
   "outputs": [],
   "source": [
    "# dset['lon'] = (('lon'), new_lons)"
   ]
  },
  {
   "cell_type": "code",
   "execution_count": 18,
   "metadata": {},
   "outputs": [],
   "source": [
    "# data = np.concatenate((dset['CRW_BAA'].data[:,:,i::], dset['CRW_BAA'].data[:,:,0:i]), axis=2)"
   ]
  },
  {
   "cell_type": "code",
   "execution_count": 19,
   "metadata": {
    "collapsed": true
   },
   "outputs": [],
   "source": [
    "# dset['CRW_BAA'] = (('time','lat','lon'), data)"
   ]
  },
  {
   "cell_type": "code",
   "execution_count": 20,
   "metadata": {
    "collapsed": true
   },
   "outputs": [],
   "source": [
    "def make_map(dset, var='CRW_BAA', itime=0, ll_lon=-180., ur_lon=180., ll_lat=-45, ur_lat=45, central_longitude=180., cshrink=0.3, fname=None): \n",
    "    \n",
    "    from matplotlib import colors\n",
    "    from cartopy import crs as ccrs\n",
    "    from cartopy import feature as cfeature \n",
    "    from cartopy.mpl.ticker import LongitudeFormatter, LatitudeFormatter\n",
    "    \n",
    "    ticks = [0, 1, 2, 3, 4]\n",
    "    \n",
    "    bounds = [-0.5,0.5,1.5, 2.5, 3.5, 4.5]\n",
    "    \n",
    "    ticklabels = ['No stress', 'Watch', 'Warning', 'Alert Level 1', 'Alert Level 2']\n",
    "    \n",
    "    cmap = colors.ListedColormap(['#66ffff','#ffff00','#ff9933','#ff0000','#cc3300'])\n",
    "    \n",
    "    norm = colors.BoundaryNorm(bounds, cmap.N)\n",
    "    \n",
    "    sub = dset.isel(time=itime)\n",
    "    date = pd.to_datetime(sub.time.data)\n",
    "    sub = sub.squeeze() \n",
    "    sub = sub.sel(lon=slice(ll_lon, ur_lon), lat=slice(ur_lat, ll_lat)) \n",
    "    data = sub[var].data\n",
    "    \n",
    "    lons = sub.lon\n",
    "    lats = sub.lat \n",
    "    \n",
    "    proj = ccrs.PlateCarree(central_longitude=central_longitude)\n",
    "    \n",
    "    f, ax = plt.subplots(figsize=(10,8), subplot_kw={'projection':proj})\n",
    "    \n",
    "    ax.coastlines('50m')\n",
    "    \n",
    "    im = ax.pcolormesh(lons - central_longitude, lats, data, cmap=cmap, norm=norm)\n",
    "\n",
    "    cb = plt.colorbar(im, cmap=cmap, norm=norm, boundaries=bounds, ticks=ticks, shrink=cshrink)\n",
    "\n",
    "    cb.ax.yaxis.set_ticklabels(ticklabels); \n",
    "\n",
    "    xticks = np.arange(-180, 180, 40)\n",
    "    yticks = np.arange(-90., 90., 30.)\n",
    "\n",
    "    gl = ax.gridlines(draw_labels=False, lw=0.5, linestyle=':', xlocs=xticks, ylocs=yticks)\n",
    "\n",
    "    ax.set_xticks(xticks, crs=proj)\n",
    "\n",
    "    ax.set_yticks(yticks, crs=proj)\n",
    "\n",
    "    lon_formatter = LongitudeFormatter(zero_direction_label=True, dateline_direction_label=True)\n",
    "\n",
    "    lat_formatter = LatitudeFormatter()\n",
    "\n",
    "    ax.xaxis.set_major_formatter(lon_formatter)\n",
    "    ax.yaxis.set_major_formatter(lat_formatter)\n",
    "    \n",
    "    ax.set_title(\"CRW {0}, {1:%Y-%m%d}\".format(var, date))\n",
    "\n",
    "    ax.set_extent([lons.data.min() - central_longitude, lons.data.max() - central_longitude, lats.data.min(), lats.data.max()], crs=proj)\n",
    "\n",
    "    plt.tight_layout()\n",
    "    \n",
    "    if fname is None: \n",
    "        fname = \"../figures/{0}_{1:%Y%m%d}.png\".format(var, date)\n",
    "\n",
    "    f.savefig(fname, dpi=200)\n",
    "    \n",
    "    sub.close()\n",
    "    \n",
    "    plt.close(f)\n",
    "    \n",
    "    \n",
    "    "
   ]
  },
  {
   "cell_type": "code",
   "execution_count": 21,
   "metadata": {},
   "outputs": [],
   "source": [
    "# make_map(dset)"
   ]
  },
  {
   "cell_type": "code",
   "execution_count": 22,
   "metadata": {},
   "outputs": [],
   "source": [
    "for itime in range(len(dset.time)): \n",
    "    make_map(dset, itime=itime)"
   ]
  },
  {
   "cell_type": "code",
   "execution_count": 23,
   "metadata": {
    "collapsed": true
   },
   "outputs": [],
   "source": [
    "var='CRW_BAA'"
   ]
  },
  {
   "cell_type": "code",
   "execution_count": 24,
   "metadata": {
    "collapsed": true
   },
   "outputs": [],
   "source": [
    "from collections import OrderedDict"
   ]
  },
  {
   "cell_type": "code",
   "execution_count": 25,
   "metadata": {},
   "outputs": [],
   "source": [
    "nlon = len(dset['lon'])\n",
    "\n",
    "nlat = len(dset['lat'])\n",
    "\n",
    "minlon = np.float32(min(dset['lon']).data)\n",
    "\n",
    "minlat = np.float32(min(dset['lat']).data)\n",
    "\n",
    "maxlon = np.float32(max(dset['lon']).data)\n",
    "\n",
    "maxlat = np.float32(max(dset['lat']).data)\n",
    "\n",
    "valid_range = [np.float32(dset[var].min().min().min()), np.float32(dset[var].max().max().max())]"
   ]
  },
  {
   "cell_type": "code",
   "execution_count": 26,
   "metadata": {
    "collapsed": true
   },
   "outputs": [],
   "source": [
    "dirout = 'BAA'"
   ]
  },
  {
   "cell_type": "code",
   "execution_count": 27,
   "metadata": {
    "collapsed": true
   },
   "outputs": [],
   "source": [
    "if not os.path.exists('../outputs/{}'.format(dirout)): \n",
    "    os.mkdir('../outputs/{}'.format(dirout))"
   ]
  },
  {
   "cell_type": "code",
   "execution_count": 28,
   "metadata": {
    "collapsed": true
   },
   "outputs": [],
   "source": [
    "for itime in range(len(dset.time)): \n",
    "    sub = dset.isel(time=itime)\n",
    "    date = pd.to_datetime(sub.time.data)\n",
    "    data = sub[var].data\n",
    "    data_to_write = NN_interp(data)\n",
    "    \n",
    "    meta = OrderedDict([('header', 'VCDATA02'),\n",
    "         ('width', nlon),\n",
    "         ('height', nlat),\n",
    "         ('ncomponents', 1),\n",
    "         ('bounds', [maxlat, minlat, minlon, maxlon]),\n",
    "         ('vname', var),\n",
    "         ('level', 'MeanSea'),\n",
    "         ('units', 'BAA'),\n",
    "         ('valid_range', valid_range),\n",
    "         ('timestamp', date)])\n",
    "    \n",
    "    fname_out = \"{}_{:%Y%m%d}.gridData\".format(var, date)\n",
    "     \n",
    "    write_gridData('../outputs/{}/{}'.format(dirout, fname_out), \\\n",
    "               meta, \\\n",
    "               data_to_write, \\\n",
    "               flip=True)\n",
    "    sub.close()"
   ]
  },
  {
   "cell_type": "code",
   "execution_count": 29,
   "metadata": {
    "collapsed": true
   },
   "outputs": [],
   "source": [
    "import json"
   ]
  },
  {
   "cell_type": "code",
   "execution_count": 31,
   "metadata": {
    "collapsed": true
   },
   "outputs": [],
   "source": [
    "SetDescription = {}\n",
    "SetDescription['description'] = \"CRW BAA\"\n",
    "SetDescription['errorAgeHours'] = 24 * 365 * 10\n",
    "SetDescription['name'] = \"CRW BAA\"\n",
    "SetDescription['provider'] = \"NOAA\"\n",
    "SetDescription['setType'] = \"Model\"\n",
    "SetDescription['warnAgeHours'] = 12 * 365 * 10\n",
    "with open('../outputs/{}/SetDescription.json'.format(dirout),'w') as f: \n",
    "    json.dump(SetDescription, f)"
   ]
  },
  {
   "cell_type": "code",
   "execution_count": 38,
   "metadata": {},
   "outputs": [
    {
     "name": "stdout",
     "output_type": "stream",
     "text": [
      "      29\r\n"
     ]
    }
   ],
   "source": [
    "!ls -l ../outputs/BAA/*.gridData | wc -l "
   ]
  },
  {
   "cell_type": "code",
   "execution_count": 39,
   "metadata": {},
   "outputs": [],
   "source": [
    "c = 29"
   ]
  },
  {
   "cell_type": "code",
   "execution_count": 40,
   "metadata": {
    "collapsed": true
   },
   "outputs": [],
   "source": [
    "with open('../outputs/{}/SetComplete.txt'.format(dirout), 'w') as f: \n",
    "    f.write(str(c))"
   ]
  },
  {
   "cell_type": "code",
   "execution_count": null,
   "metadata": {
    "collapsed": true
   },
   "outputs": [],
   "source": []
  }
 ],
 "metadata": {
  "kernelspec": {
   "display_name": "Python [default]",
   "language": "python",
   "name": "python3"
  },
  "language_info": {
   "codemirror_mode": {
    "name": "ipython",
    "version": 3
   },
   "file_extension": ".py",
   "mimetype": "text/x-python",
   "name": "python",
   "nbconvert_exporter": "python",
   "pygments_lexer": "ipython3",
   "version": "3.5.2"
  },
  "toc": {
   "colors": {
    "hover_highlight": "#DAA520",
    "running_highlight": "#FF0000",
    "selected_highlight": "#FFD700"
   },
   "moveMenuLeft": true,
   "nav_menu": {
    "height": "12px",
    "width": "252px"
   },
   "navigate_menu": true,
   "number_sections": true,
   "sideBar": true,
   "threshold": 4,
   "toc_cell": false,
   "toc_section_display": "block",
   "toc_window_display": false,
   "widenNotebook": false
  }
 },
 "nbformat": 4,
 "nbformat_minor": 2
}
