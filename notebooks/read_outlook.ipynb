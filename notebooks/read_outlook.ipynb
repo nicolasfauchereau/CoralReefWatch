{
 "cells": [
  {
   "cell_type": "code",
   "execution_count": 1,
   "metadata": {
    "collapsed": true
   },
   "outputs": [],
   "source": [
    "%matplotlib inline\n",
    "import os\n",
    "import sys\n",
    "import numpy as np\n",
    "import pandas as pd\n",
    "from matplotlib import pyplot as plt\n",
    "import xarray as xr"
   ]
  },
  {
   "cell_type": "code",
   "execution_count": 2,
   "metadata": {
    "collapsed": true
   },
   "outputs": [],
   "source": [
    "from dateutil import parser"
   ]
  },
  {
   "cell_type": "code",
   "execution_count": 3,
   "metadata": {
    "collapsed": true
   },
   "outputs": [],
   "source": [
    "import salem"
   ]
  },
  {
   "cell_type": "code",
   "execution_count": 4,
   "metadata": {
    "collapsed": true
   },
   "outputs": [],
   "source": [
    "from subprocess import call"
   ]
  },
  {
   "cell_type": "code",
   "execution_count": 5,
   "metadata": {
    "collapsed": true
   },
   "outputs": [],
   "source": [
    "# url = \"ftp://ftp.star.nesdis.noaa.gov/pub/sod/mecb/crw/data/outlook/v4/nc/v1/outlook/2017/cfsv2_outlook-060perc_4mon-and-wkly_v4_icwk20171210_for_20171224to20180325.nc\""
   ]
  },
  {
   "cell_type": "code",
   "execution_count": 6,
   "metadata": {
    "collapsed": true
   },
   "outputs": [],
   "source": [
    "url = \"ftp://ftp.star.nesdis.noaa.gov/pub/sod/mecb/crw/data/outlook/v4/nc/v1/outlook/2017/cfsv2_outlook-060perc_4mon-and-wkly_v4_icwk20171126_for_20171210to20180325.nc\""
   ]
  },
  {
   "cell_type": "code",
   "execution_count": 7,
   "metadata": {
    "collapsed": true
   },
   "outputs": [],
   "source": [
    "dates = url.split('_')[-1].split(\".\")[-2].split(\"to\")"
   ]
  },
  {
   "cell_type": "code",
   "execution_count": 8,
   "metadata": {},
   "outputs": [
    {
     "data": {
      "text/plain": [
       "['20171210', '20180325']"
      ]
     },
     "execution_count": 8,
     "metadata": {},
     "output_type": "execute_result"
    }
   ],
   "source": [
    "dates"
   ]
  },
  {
   "cell_type": "code",
   "execution_count": 9,
   "metadata": {},
   "outputs": [],
   "source": [
    "dates = list(map(parser.parse, dates))"
   ]
  },
  {
   "cell_type": "code",
   "execution_count": 10,
   "metadata": {},
   "outputs": [],
   "source": [
    "dates_range = pd.date_range(start=dates[0], freq='7d', periods=12)"
   ]
  },
  {
   "cell_type": "code",
   "execution_count": 11,
   "metadata": {},
   "outputs": [
    {
     "data": {
      "text/plain": [
       "DatetimeIndex(['2017-12-10', '2017-12-17', '2017-12-24', '2017-12-31',\n",
       "               '2018-01-07', '2018-01-14', '2018-01-21', '2018-01-28',\n",
       "               '2018-02-04', '2018-02-11', '2018-02-18', '2018-02-25'],\n",
       "              dtype='datetime64[ns]', freq='7D')"
      ]
     },
     "execution_count": 11,
     "metadata": {},
     "output_type": "execute_result"
    }
   ],
   "source": [
    "dates_range"
   ]
  },
  {
   "cell_type": "code",
   "execution_count": 12,
   "metadata": {
    "collapsed": true
   },
   "outputs": [],
   "source": [
    "opath = \"/Volumes/GDATA/data/CRW/outlook/\""
   ]
  },
  {
   "cell_type": "code",
   "execution_count": 13,
   "metadata": {
    "collapsed": true
   },
   "outputs": [],
   "source": [
    "filename = url.split(\"/\")[-1]"
   ]
  },
  {
   "cell_type": "code",
   "execution_count": 14,
   "metadata": {},
   "outputs": [
    {
     "data": {
      "text/plain": [
       "'cfsv2_outlook-060perc_4mon-and-wkly_v4_icwk20171126_for_20171210to20180325.nc'"
      ]
     },
     "execution_count": 14,
     "metadata": {},
     "output_type": "execute_result"
    }
   ],
   "source": [
    "filename"
   ]
  },
  {
   "cell_type": "code",
   "execution_count": 15,
   "metadata": {
    "collapsed": true
   },
   "outputs": [],
   "source": [
    "download = True"
   ]
  },
  {
   "cell_type": "code",
   "execution_count": 16,
   "metadata": {
    "collapsed": true
   },
   "outputs": [],
   "source": [
    "if download:\n",
    "    cmd = \"curl --silent {} -o {}/{}\".format(url, opath, filename)\n",
    "    r = call(cmd, shell=True)"
   ]
  },
  {
   "cell_type": "code",
   "execution_count": 17,
   "metadata": {
    "collapsed": true
   },
   "outputs": [],
   "source": [
    "dset = xr.open_dataset(os.path.join(opath, filename))"
   ]
  },
  {
   "cell_type": "code",
   "execution_count": 19,
   "metadata": {},
   "outputs": [
    {
     "data": {
      "text/plain": [
       "<xarray.Dataset>\n",
       "Dimensions:            (lat: 360, lon: 720, time: 1)\n",
       "Coordinates:\n",
       "  * time               (time) datetime64[ns] 2017-12-03T12:00:00\n",
       "  * lat                (lat) float32 89.75 89.25 88.75 88.25 87.75 87.25 ...\n",
       "  * lon                (lon) float32 0.25 0.75 1.25 1.75 2.25 2.75 3.25 3.75 ...\n",
       "Data variables:\n",
       "    surface_flag       (lat, lon) int8 ...\n",
       "    CRW_BAA_FourMonth  (time, lat, lon) float64 ...\n",
       "    CRW_BAA_Week_01    (time, lat, lon) float64 ...\n",
       "    CRW_BAA_Week_02    (time, lat, lon) float64 ...\n",
       "    CRW_BAA_Week_03    (time, lat, lon) float64 ...\n",
       "    CRW_BAA_Week_04    (time, lat, lon) float64 ...\n",
       "    CRW_BAA_Week_05    (time, lat, lon) float64 ...\n",
       "    CRW_BAA_Week_06    (time, lat, lon) float64 ...\n",
       "    CRW_BAA_Week_07    (time, lat, lon) float64 ...\n",
       "    CRW_BAA_Week_08    (time, lat, lon) float64 ...\n",
       "    CRW_BAA_Week_09    (time, lat, lon) float64 ...\n",
       "    CRW_BAA_Week_10    (time, lat, lon) float64 ...\n",
       "    CRW_BAA_Week_11    (time, lat, lon) float64 ...\n",
       "    CRW_BAA_Week_12    (time, lat, lon) float64 ...\n",
       "    CRW_BAA_Week_13    (time, lat, lon) float64 ...\n",
       "    CRW_BAA_Week_14    (time, lat, lon) float64 ...\n",
       "    CRW_BAA_Week_15    (time, lat, lon) float64 ...\n",
       "    CRW_BAA_Week_16    (time, lat, lon) float64 ...\n",
       "    CRW_BAA_Week_17    (time, lat, lon) float64 ...\n",
       "    CRW_BAA_Week_18    (time, lat, lon) float64 ...\n",
       "    CRW_BAA_Week_19    (time, lat, lon) float64 ...\n",
       "    CRW_BAA_Week_20    (time, lat, lon) float64 ...\n",
       "    crs                int16 ...\n",
       "Attributes:\n",
       "    Conventions:                CF-1.6, ACDD-1.3, Unidata Observation Dataset...\n",
       "    ncei_template_version:      NCEI_NetCDF_Grid_Template_v2.0\n",
       "    title:                      NOAA Coral Reef Watch 28 Nov 2017 Global 0.5-...\n",
       "    summary:                    This is a product of NOAA Coral Reef Watch gl...\n",
       "    references:                 https://coralreefwatch.noaa.gov/satellite/ble...\n",
       "    institution:                NOAA/NESDIS/STAR Coral Reef Watch program\n",
       "    history:                    This data file is based on NOAA Coral Reef Wa...\n",
       "    comment:                    This product is a product of the Coral Reef W...\n",
       "    license:                    The data are available for use without restri...\n",
       "    id:                         NOAA_CoralReefWatch_Global_Four_Month_Coral_B...\n",
       "    naming_authority:           gov.noaa.coralreefwatch\n",
       "    product_version:            4.0\n",
       "    product_netcdf_version:     1.0\n",
       "    uuid:                       a638114f-bb6d-4837-a4f0-f168b6395539\n",
       "    gds_version_id:             2.0\n",
       "    netcdf_version_id:          4.1.2\n",
       "    date_created:               20160830T120000Z\n",
       "    date_issued:                20171128T170523Z\n",
       "    date_modified:              20171128T170523Z\n",
       "    date_metadata_modified:     20171128T170523Z\n",
       "    start_time:                 20171204T000000Z\n",
       "    time_coverage_start:        20171204T000000Z\n",
       "    time_coverage_duration:     P4M\n",
       "    stop_time:                  20180326T000000Z\n",
       "    time_coverage_end:          20180326T000000Z\n",
       "    time_coverage_resolution:   P4M\n",
       "    description_time:           Contents of the global time attributes (start...\n",
       "    source:                     This Outlook product was based on the sea sur...\n",
       "    metadata_link:              https://coralreefwatch.noaa.gov/satellite/ble...\n",
       "    keywords:                   Oceans > Ocean Temperature > Bleaching Alert ...\n",
       "    keywords_vocabulary:        NASA Global Change Master Directory (GCMD) Sc...\n",
       "    standard_name_vocabulary:   NetCDF Climate and Forecast (CF) Metadata Con...\n",
       "    geospatial_bounds:          POLYGON((-90.0 0.0, 90.0 0.0, 90.0 360.0, -90...\n",
       "    geospatial_bounds_crs:      EPSG:4326\n",
       "    geospatial_lon_min:         0.0\n",
       "    geospatial_lon_max:         360.0\n",
       "    geospatial_lat_min:         -90.0\n",
       "    geospatial_lat_max:         90.0\n",
       "    spatial_resolution:         0.5 degrees\n",
       "    geospatial_lat_units:       degrees north\n",
       "    geospatial_lat_resolution:  0.5\n",
       "    geospatial_lon_units:       degrees east\n",
       "    geospatial_lon_resolution:  0.5\n",
       "    acknowledgment:             NOAA Coral Reef Watch program\n",
       "    creator_type:               group\n",
       "    creator_institution:        NOAA/NESDIS/STAR\n",
       "    creator_name:               NOAA Coral Reef Watch program\n",
       "    creator_email:              coralreefwatch@noaa.gov\n",
       "    creator_url:                https://coralreefwatch.noaa.gov\n",
       "    project:                    NOAA Coral Reef Watch program\n",
       "    program:                    NOAA Coral Reef Watch program\n",
       "    publisher_type:             group\n",
       "    publisher_institution:      NOAA/NESDIS/STAR\n",
       "    publisher_name:             NOAA Coral Reef Watch program\n",
       "    publisher_url:              https://coralreefwatch.noaa.gov\n",
       "    publisher_email:            coralreefwatch@noaa.gov\n",
       "    contributor_name:           NOAA Coral Reef Watch program\n",
       "    contributor_role:           Collecting source data and deriving products;...\n",
       "    processing_level:           L4\n",
       "    cdm_data_type:              Grid"
      ]
     },
     "execution_count": 19,
     "metadata": {},
     "output_type": "execute_result"
    }
   ],
   "source": [
    "dset"
   ]
  },
  {
   "cell_type": "code",
   "execution_count": 20,
   "metadata": {},
   "outputs": [],
   "source": [
    "dset = dset.squeeze()"
   ]
  },
  {
   "cell_type": "code",
   "execution_count": 21,
   "metadata": {},
   "outputs": [
    {
     "data": {
      "text/plain": [
       "<xarray.Dataset>\n",
       "Dimensions:            (lat: 360, lon: 720)\n",
       "Coordinates:\n",
       "    time               datetime64[ns] 2017-12-03T12:00:00\n",
       "  * lat                (lat) float32 89.75 89.25 88.75 88.25 87.75 87.25 ...\n",
       "  * lon                (lon) float32 0.25 0.75 1.25 1.75 2.25 2.75 3.25 3.75 ...\n",
       "Data variables:\n",
       "    surface_flag       (lat, lon) int8 ...\n",
       "    CRW_BAA_FourMonth  (lat, lon) float64 ...\n",
       "    CRW_BAA_Week_01    (lat, lon) float64 ...\n",
       "    CRW_BAA_Week_02    (lat, lon) float64 ...\n",
       "    CRW_BAA_Week_03    (lat, lon) float64 ...\n",
       "    CRW_BAA_Week_04    (lat, lon) float64 ...\n",
       "    CRW_BAA_Week_05    (lat, lon) float64 ...\n",
       "    CRW_BAA_Week_06    (lat, lon) float64 ...\n",
       "    CRW_BAA_Week_07    (lat, lon) float64 ...\n",
       "    CRW_BAA_Week_08    (lat, lon) float64 ...\n",
       "    CRW_BAA_Week_09    (lat, lon) float64 ...\n",
       "    CRW_BAA_Week_10    (lat, lon) float64 ...\n",
       "    CRW_BAA_Week_11    (lat, lon) float64 ...\n",
       "    CRW_BAA_Week_12    (lat, lon) float64 ...\n",
       "    CRW_BAA_Week_13    (lat, lon) float64 ...\n",
       "    CRW_BAA_Week_14    (lat, lon) float64 ...\n",
       "    CRW_BAA_Week_15    (lat, lon) float64 ...\n",
       "    CRW_BAA_Week_16    (lat, lon) float64 ...\n",
       "    CRW_BAA_Week_17    (lat, lon) float64 ...\n",
       "    CRW_BAA_Week_18    (lat, lon) float64 ...\n",
       "    CRW_BAA_Week_19    (lat, lon) float64 ...\n",
       "    CRW_BAA_Week_20    (lat, lon) float64 ...\n",
       "    crs                int16 ...\n",
       "Attributes:\n",
       "    Conventions:                CF-1.6, ACDD-1.3, Unidata Observation Dataset...\n",
       "    ncei_template_version:      NCEI_NetCDF_Grid_Template_v2.0\n",
       "    title:                      NOAA Coral Reef Watch 28 Nov 2017 Global 0.5-...\n",
       "    summary:                    This is a product of NOAA Coral Reef Watch gl...\n",
       "    references:                 https://coralreefwatch.noaa.gov/satellite/ble...\n",
       "    institution:                NOAA/NESDIS/STAR Coral Reef Watch program\n",
       "    history:                    This data file is based on NOAA Coral Reef Wa...\n",
       "    comment:                    This product is a product of the Coral Reef W...\n",
       "    license:                    The data are available for use without restri...\n",
       "    id:                         NOAA_CoralReefWatch_Global_Four_Month_Coral_B...\n",
       "    naming_authority:           gov.noaa.coralreefwatch\n",
       "    product_version:            4.0\n",
       "    product_netcdf_version:     1.0\n",
       "    uuid:                       a638114f-bb6d-4837-a4f0-f168b6395539\n",
       "    gds_version_id:             2.0\n",
       "    netcdf_version_id:          4.1.2\n",
       "    date_created:               20160830T120000Z\n",
       "    date_issued:                20171128T170523Z\n",
       "    date_modified:              20171128T170523Z\n",
       "    date_metadata_modified:     20171128T170523Z\n",
       "    start_time:                 20171204T000000Z\n",
       "    time_coverage_start:        20171204T000000Z\n",
       "    time_coverage_duration:     P4M\n",
       "    stop_time:                  20180326T000000Z\n",
       "    time_coverage_end:          20180326T000000Z\n",
       "    time_coverage_resolution:   P4M\n",
       "    description_time:           Contents of the global time attributes (start...\n",
       "    source:                     This Outlook product was based on the sea sur...\n",
       "    metadata_link:              https://coralreefwatch.noaa.gov/satellite/ble...\n",
       "    keywords:                   Oceans > Ocean Temperature > Bleaching Alert ...\n",
       "    keywords_vocabulary:        NASA Global Change Master Directory (GCMD) Sc...\n",
       "    standard_name_vocabulary:   NetCDF Climate and Forecast (CF) Metadata Con...\n",
       "    geospatial_bounds:          POLYGON((-90.0 0.0, 90.0 0.0, 90.0 360.0, -90...\n",
       "    geospatial_bounds_crs:      EPSG:4326\n",
       "    geospatial_lon_min:         0.0\n",
       "    geospatial_lon_max:         360.0\n",
       "    geospatial_lat_min:         -90.0\n",
       "    geospatial_lat_max:         90.0\n",
       "    spatial_resolution:         0.5 degrees\n",
       "    geospatial_lat_units:       degrees north\n",
       "    geospatial_lat_resolution:  0.5\n",
       "    geospatial_lon_units:       degrees east\n",
       "    geospatial_lon_resolution:  0.5\n",
       "    acknowledgment:             NOAA Coral Reef Watch program\n",
       "    creator_type:               group\n",
       "    creator_institution:        NOAA/NESDIS/STAR\n",
       "    creator_name:               NOAA Coral Reef Watch program\n",
       "    creator_email:              coralreefwatch@noaa.gov\n",
       "    creator_url:                https://coralreefwatch.noaa.gov\n",
       "    project:                    NOAA Coral Reef Watch program\n",
       "    program:                    NOAA Coral Reef Watch program\n",
       "    publisher_type:             group\n",
       "    publisher_institution:      NOAA/NESDIS/STAR\n",
       "    publisher_name:             NOAA Coral Reef Watch program\n",
       "    publisher_url:              https://coralreefwatch.noaa.gov\n",
       "    publisher_email:            coralreefwatch@noaa.gov\n",
       "    contributor_name:           NOAA Coral Reef Watch program\n",
       "    contributor_role:           Collecting source data and deriving products;...\n",
       "    processing_level:           L4\n",
       "    cdm_data_type:              Grid"
      ]
     },
     "execution_count": 21,
     "metadata": {},
     "output_type": "execute_result"
    }
   ],
   "source": [
    "dset"
   ]
  },
  {
   "cell_type": "code",
   "execution_count": 22,
   "metadata": {},
   "outputs": [
    {
     "data": {
      "text/plain": [
       "<matplotlib.collections.QuadMesh at 0x1a1f731470>"
      ]
     },
     "execution_count": 22,
     "metadata": {},
     "output_type": "execute_result"
    },
    {
     "data": {
      "image/png": "[encoded data removed]",
      "text/plain": [
       "<matplotlib.figure.Figure at 0x1a1f3e1f28>"
      ]
     },
     "metadata": {},
     "output_type": "display_data"
    }
   ],
   "source": [
    "dset['CRW_BAA_Week_04'].plot()"
   ]
  },
  {
   "cell_type": "code",
   "execution_count": 23,
   "metadata": {
    "collapsed": true
   },
   "outputs": [],
   "source": [
    "dset = dset.sel(lon=slice(100, 300), lat=slice(50, -50))"
   ]
  },
  {
   "cell_type": "code",
   "execution_count": 24,
   "metadata": {},
   "outputs": [],
   "source": [
    "variables = [\"CRW_BAA_Week_{:02d}\".format(x) for x in range(2, 14)]"
   ]
  },
  {
   "cell_type": "code",
   "execution_count": 25,
   "metadata": {},
   "outputs": [
    {
     "data": {
      "text/plain": [
       "['CRW_BAA_Week_02',\n",
       " 'CRW_BAA_Week_03',\n",
       " 'CRW_BAA_Week_04',\n",
       " 'CRW_BAA_Week_05',\n",
       " 'CRW_BAA_Week_06',\n",
       " 'CRW_BAA_Week_07',\n",
       " 'CRW_BAA_Week_08',\n",
       " 'CRW_BAA_Week_09',\n",
       " 'CRW_BAA_Week_10',\n",
       " 'CRW_BAA_Week_11',\n",
       " 'CRW_BAA_Week_12',\n",
       " 'CRW_BAA_Week_13']"
      ]
     },
     "execution_count": 25,
     "metadata": {},
     "output_type": "execute_result"
    }
   ],
   "source": [
    "variables"
   ]
  },
  {
   "cell_type": "code",
   "execution_count": 26,
   "metadata": {},
   "outputs": [
    {
     "data": {
      "text/plain": [
       "<matplotlib.collections.QuadMesh at 0x1a2304c240>"
      ]
     },
     "execution_count": 26,
     "metadata": {},
     "output_type": "execute_result"
    },
    {
     "data": {
      "image/png": "[encoded data removed]",
      "text/plain": [
       "<matplotlib.figure.Figure at 0x1a1fb58358>"
      ]
     },
     "metadata": {},
     "output_type": "display_data"
    }
   ],
   "source": [
    "dset['surface_flag'].plot()"
   ]
  },
  {
   "cell_type": "code",
   "execution_count": 27,
   "metadata": {},
   "outputs": [
    {
     "data": {
      "text/plain": [
       "<matplotlib.collections.QuadMesh at 0x1a2308f710>"
      ]
     },
     "execution_count": 27,
     "metadata": {},
     "output_type": "execute_result"
    },
    {
     "data": {
      "image/png": "[encoded data removed]",
      "text/plain": [
       "<matplotlib.figure.Figure at 0x1a1fde8ac8>"
      ]
     },
     "metadata": {},
     "output_type": "display_data"
    }
   ],
   "source": [
    "dset['CRW_BAA_FourMonth'].plot()"
   ]
  },
  {
   "cell_type": "code",
   "execution_count": 28,
   "metadata": {},
   "outputs": [],
   "source": [
    "dset = dset[variables]"
   ]
  },
  {
   "cell_type": "code",
   "execution_count": 29,
   "metadata": {},
   "outputs": [],
   "source": [
    "l = [] \n",
    "for v in variables: \n",
    "    d = dset[v]\n",
    "    d.name = 'CRW_BAA'\n",
    "    l.append(d)"
   ]
  },
  {
   "cell_type": "code",
   "execution_count": 30,
   "metadata": {
    "collapsed": true,
    "run_control": {
     "marked": false
    }
   },
   "outputs": [],
   "source": [
    "dset = xr.concat(l, dim='time')"
   ]
  },
  {
   "cell_type": "code",
   "execution_count": 31,
   "metadata": {},
   "outputs": [],
   "source": [
    "dset['time'] = (('time'), dates_range)"
   ]
  },
  {
   "cell_type": "code",
   "execution_count": 32,
   "metadata": {},
   "outputs": [
    {
     "data": {
      "text/plain": [
       "<xarray.DataArray 'CRW_BAA' (time: 12, lat: 200, lon: 400)>\n",
       "array([[[ nan,  nan, ...,   0.,   0.],\n",
       "        [ nan,  nan, ...,   0.,   0.],\n",
       "        ..., \n",
       "        [  0.,   0., ...,   0.,   0.],\n",
       "        [  0.,   0., ...,   0.,   0.]],\n",
       "\n",
       "       [[ nan,  nan, ...,   0.,   0.],\n",
       "        [ nan,  nan, ...,   0.,   0.],\n",
       "        ..., \n",
       "        [  0.,   0., ...,   0.,   0.],\n",
       "        [  1.,   0., ...,   0.,   0.]],\n",
       "\n",
       "       ..., \n",
       "       [[ nan,  nan, ...,   0.,   0.],\n",
       "        [ nan,  nan, ...,   0.,   0.],\n",
       "        ..., \n",
       "        [  4.,   4., ...,   1.,   1.],\n",
       "        [  4.,   4., ...,   1.,   1.]],\n",
       "\n",
       "       [[ nan,  nan, ...,   0.,   0.],\n",
       "        [ nan,  nan, ...,   0.,   0.],\n",
       "        ..., \n",
       "        [  4.,   4., ...,   1.,   1.],\n",
       "        [  4.,   4., ...,   1.,   1.]]])\n",
       "Coordinates:\n",
       "  * lon      (lon) float32 100.25 100.75 101.25 101.75 102.25 102.75 103.25 ...\n",
       "  * lat      (lat) float32 49.75 49.25 48.75 48.25 47.75 47.25 46.75 46.25 ...\n",
       "  * time     (time) datetime64[ns] 2017-12-10 2017-12-17 2017-12-24 ...\n",
       "Attributes:\n",
       "    long_name:              predicted bleaching alert area at  60% probabilit...\n",
       "    valid_min:              0\n",
       "    valid_max:              4\n",
       "    reference:              https://coralreefwatch.noaa.gov/satellite/bleachi...\n",
       "    source:                 This Outlook product was based on the sea surface...\n",
       "    comment:                Predicted Bleaching Alert Area for each ocean gri...\n",
       "    coverage_content_type:  thematicClassification\n",
       "    grid_mapping:           crs"
      ]
     },
     "execution_count": 32,
     "metadata": {},
     "output_type": "execute_result"
    }
   ],
   "source": [
    "dset"
   ]
  },
  {
   "cell_type": "code",
   "execution_count": null,
   "metadata": {
    "collapsed": true
   },
   "outputs": [],
   "source": []
  },
  {
   "cell_type": "code",
   "execution_count": null,
   "metadata": {
    "collapsed": true
   },
   "outputs": [],
   "source": []
  },
  {
   "cell_type": "code",
   "execution_count": null,
   "metadata": {
    "collapsed": true
   },
   "outputs": [],
   "source": []
  },
  {
   "cell_type": "code",
   "execution_count": null,
   "metadata": {
    "collapsed": true
   },
   "outputs": [],
   "source": []
  },
  {
   "cell_type": "code",
   "execution_count": null,
   "metadata": {
    "collapsed": true
   },
   "outputs": [],
   "source": []
  },
  {
   "cell_type": "code",
   "execution_count": 91,
   "metadata": {},
   "outputs": [
    {
     "data": {
      "text/plain": [
       "<xarray.DataArray 'CRW_BAA' (time: 12, lat: 200, lon: 400)>\n",
       "array([[[ nan,  nan, ...,   0.,   0.],\n",
       "        [ nan,  nan, ...,   0.,   0.],\n",
       "        ..., \n",
       "        [  0.,   0., ...,   0.,   0.],\n",
       "        [  0.,   0., ...,   0.,   0.]],\n",
       "\n",
       "       [[ nan,  nan, ...,   0.,   0.],\n",
       "        [ nan,  nan, ...,   0.,   0.],\n",
       "        ..., \n",
       "        [  0.,   0., ...,   0.,   0.],\n",
       "        [  1.,   0., ...,   0.,   0.]],\n",
       "\n",
       "       ..., \n",
       "       [[ nan,  nan, ...,   0.,   0.],\n",
       "        [ nan,  nan, ...,   0.,   0.],\n",
       "        ..., \n",
       "        [  4.,   4., ...,   1.,   1.],\n",
       "        [  4.,   4., ...,   1.,   1.]],\n",
       "\n",
       "       [[ nan,  nan, ...,   0.,   0.],\n",
       "        [ nan,  nan, ...,   0.,   0.],\n",
       "        ..., \n",
       "        [  4.,   4., ...,   1.,   1.],\n",
       "        [  4.,   4., ...,   1.,   1.]]])\n",
       "Coordinates:\n",
       "  * lon      (lon) float32 100.25 100.75 101.25 101.75 102.25 102.75 103.25 ...\n",
       "  * lat      (lat) float32 49.75 49.25 48.75 48.25 47.75 47.25 46.75 46.25 ...\n",
       "  * time     (time) datetime64[ns] 2017-12-10 2017-12-17 2017-12-24 ...\n",
       "Attributes:\n",
       "    long_name:              predicted bleaching alert area at  60% probabilit...\n",
       "    valid_min:              0\n",
       "    valid_max:              4\n",
       "    reference:              https://coralreefwatch.noaa.gov/satellite/bleachi...\n",
       "    source:                 This Outlook product was based on the sea surface...\n",
       "    comment:                Predicted Bleaching Alert Area for each ocean gri...\n",
       "    coverage_content_type:  thematicClassification\n",
       "    grid_mapping:           crs"
      ]
     },
     "execution_count": 91,
     "metadata": {},
     "output_type": "execute_result"
    }
   ],
   "source": [
    "dset"
   ]
  },
  {
   "cell_type": "code",
   "execution_count": 33,
   "metadata": {},
   "outputs": [],
   "source": [
    "max_cat = dset.max('time')"
   ]
  },
  {
   "cell_type": "code",
   "execution_count": 34,
   "metadata": {},
   "outputs": [
    {
     "data": {
      "text/plain": [
       "<matplotlib.collections.QuadMesh at 0x1a23211f28>"
      ]
     },
     "execution_count": 34,
     "metadata": {},
     "output_type": "execute_result"
    },
    {
     "data": {
      "image/png": "[encoded data removed]",
      "text/plain": [
       "<matplotlib.figure.Figure at 0x1a230a20b8>"
      ]
     },
     "metadata": {},
     "output_type": "display_data"
    }
   ],
   "source": [
    "max_cat.plot()"
   ]
  },
  {
   "cell_type": "code",
   "execution_count": 35,
   "metadata": {},
   "outputs": [
    {
     "data": {
      "text/plain": [
       "<xarray.DataArray 'CRW_BAA' (lat: 200, lon: 400)>\n",
       "array([[ nan,  nan,  nan, ...,   0.,   0.,   0.],\n",
       "       [ nan,  nan,  nan, ...,   0.,   0.,   0.],\n",
       "       [ nan,  nan,  nan, ...,   0.,   0.,   0.],\n",
       "       ..., \n",
       "       [  4.,   4.,   4., ...,   1.,   1.,   1.],\n",
       "       [  4.,   4.,   4., ...,   1.,   1.,   1.],\n",
       "       [  4.,   4.,   4., ...,   1.,   1.,   1.]])\n",
       "Coordinates:\n",
       "  * lon      (lon) float32 100.25 100.75 101.25 101.75 102.25 102.75 103.25 ...\n",
       "  * lat      (lat) float32 49.75 49.25 48.75 48.25 47.75 47.25 46.75 46.25 ..."
      ]
     },
     "execution_count": 35,
     "metadata": {},
     "output_type": "execute_result"
    }
   ],
   "source": [
    "max_cat"
   ]
  },
  {
   "cell_type": "code",
   "execution_count": 36,
   "metadata": {},
   "outputs": [],
   "source": [
    "mask = max_cat.data.copy()"
   ]
  },
  {
   "cell_type": "code",
   "execution_count": 37,
   "metadata": {},
   "outputs": [],
   "source": [
    "mask[~np.isnan(mask)] = 1"
   ]
  },
  {
   "cell_type": "code",
   "execution_count": 38,
   "metadata": {},
   "outputs": [
    {
     "data": {
      "text/plain": [
       "<matplotlib.image.AxesImage at 0x1a1fd76358>"
      ]
     },
     "execution_count": 38,
     "metadata": {},
     "output_type": "execute_result"
    },
    {
     "data": {
      "image/png": "[encoded data removed]",
      "text/plain": [
       "<matplotlib.figure.Figure at 0x1a2313d518>"
      ]
     },
     "metadata": {},
     "output_type": "display_data"
    }
   ],
   "source": [
    "plt.imshow(mask)"
   ]
  },
  {
   "cell_type": "code",
   "execution_count": 39,
   "metadata": {},
   "outputs": [],
   "source": [
    "posmax = dset.argmax(dim='time', skipna=False)"
   ]
  },
  {
   "cell_type": "code",
   "execution_count": 40,
   "metadata": {},
   "outputs": [
    {
     "data": {
      "text/plain": [
       "<matplotlib.collections.QuadMesh at 0x1a2560aa58>"
      ]
     },
     "execution_count": 40,
     "metadata": {},
     "output_type": "execute_result"
    },
    {
     "data": {
      "image/png": "[encoded data removed]",
      "text/plain": [
       "<matplotlib.figure.Figure at 0x1a24d560f0>"
      ]
     },
     "metadata": {},
     "output_type": "display_data"
    }
   ],
   "source": [
    "posmax.plot()"
   ]
  },
  {
   "cell_type": "code",
   "execution_count": 41,
   "metadata": {},
   "outputs": [],
   "source": [
    "posmax_masked = posmax.data * mask"
   ]
  },
  {
   "cell_type": "code",
   "execution_count": 42,
   "metadata": {},
   "outputs": [
    {
     "data": {
      "text/plain": [
       "array([[ nan,  nan,  nan, ...,   0.,   0.,   0.],\n",
       "       [ nan,  nan,  nan, ...,   0.,   0.,   0.],\n",
       "       [ nan,  nan,  nan, ...,   0.,   0.,   0.],\n",
       "       ..., \n",
       "       [ 10.,  10.,  10., ...,   8.,   7.,   7.],\n",
       "       [  9.,  10.,  10., ...,   8.,   7.,   7.],\n",
       "       [ 10.,  10.,  10., ...,   8.,   7.,   7.]])"
      ]
     },
     "execution_count": 42,
     "metadata": {},
     "output_type": "execute_result"
    }
   ],
   "source": [
    "posmax_masked"
   ]
  },
  {
   "cell_type": "code",
   "execution_count": 43,
   "metadata": {},
   "outputs": [
    {
     "data": {
      "text/plain": [
       "<matplotlib.image.AxesImage at 0x1a258e7a90>"
      ]
     },
     "execution_count": 43,
     "metadata": {},
     "output_type": "execute_result"
    },
    {
     "data": {
      "image/png": "[encoded data removed]",
      "text/plain": [
       "<matplotlib.figure.Figure at 0x1a256185f8>"
      ]
     },
     "metadata": {},
     "output_type": "display_data"
    }
   ],
   "source": [
    "plt.imshow(posmax_masked)"
   ]
  },
  {
   "cell_type": "code",
   "execution_count": 44,
   "metadata": {},
   "outputs": [
    {
     "data": {
      "text/plain": [
       "<xarray.DataArray 'CRW_BAA' (lat: 200, lon: 400)>\n",
       "array([[ nan,  nan,  nan, ...,   0.,   0.,   0.],\n",
       "       [ nan,  nan,  nan, ...,   0.,   0.,   0.],\n",
       "       [ nan,  nan,  nan, ...,   0.,   0.,   0.],\n",
       "       ..., \n",
       "       [  4.,   4.,   4., ...,   1.,   1.,   1.],\n",
       "       [  4.,   4.,   4., ...,   1.,   1.,   1.],\n",
       "       [  4.,   4.,   4., ...,   1.,   1.,   1.]])\n",
       "Coordinates:\n",
       "  * lon      (lon) float32 100.25 100.75 101.25 101.75 102.25 102.75 103.25 ...\n",
       "  * lat      (lat) float32 49.75 49.25 48.75 48.25 47.75 47.25 46.75 46.25 ..."
      ]
     },
     "execution_count": 44,
     "metadata": {},
     "output_type": "execute_result"
    }
   ],
   "source": [
    "max_cat"
   ]
  },
  {
   "cell_type": "code",
   "execution_count": 45,
   "metadata": {},
   "outputs": [],
   "source": [
    "posmax_masked = xr.DataArray(posmax_masked, dims=('lat','lon'), coords={'lat':dset.lat.data, 'lon':dset.lon.data})"
   ]
  },
  {
   "cell_type": "code",
   "execution_count": 46,
   "metadata": {},
   "outputs": [
    {
     "data": {
      "text/plain": [
       "<matplotlib.collections.QuadMesh at 0x1a259922b0>"
      ]
     },
     "execution_count": 46,
     "metadata": {},
     "output_type": "execute_result"
    },
    {
     "data": {
      "image/png": "[encoded data removed]",
      "text/plain": [
       "<matplotlib.figure.Figure at 0x1a1fd88c18>"
      ]
     },
     "metadata": {},
     "output_type": "display_data"
    }
   ],
   "source": [
    "posmax_masked.plot()"
   ]
  },
  {
   "cell_type": "code",
   "execution_count": 48,
   "metadata": {
    "collapsed": true
   },
   "outputs": [],
   "source": [
    "d = xr.Dataset()"
   ]
  },
  {
   "cell_type": "code",
   "execution_count": 49,
   "metadata": {
    "collapsed": true
   },
   "outputs": [],
   "source": [
    "d['posmax_masked'] = posmax_masked"
   ]
  },
  {
   "cell_type": "code",
   "execution_count": 50,
   "metadata": {
    "collapsed": true
   },
   "outputs": [],
   "source": [
    "d['max_cat'] = max_cat"
   ]
  },
  {
   "cell_type": "code",
   "execution_count": 51,
   "metadata": {},
   "outputs": [
    {
     "data": {
      "text/plain": [
       "<matplotlib.collections.QuadMesh at 0x1a25e10780>"
      ]
     },
     "execution_count": 51,
     "metadata": {},
     "output_type": "execute_result"
    },
    {
     "data": {
      "image/png": "[encoded data removed]",
      "text/plain": [
       "<matplotlib.figure.Figure at 0x1a258f0fd0>"
      ]
     },
     "metadata": {},
     "output_type": "display_data"
    }
   ],
   "source": [
    "max_cat.plot()"
   ]
  },
  {
   "cell_type": "code",
   "execution_count": 52,
   "metadata": {},
   "outputs": [
    {
     "data": {
      "text/plain": [
       "<matplotlib.collections.QuadMesh at 0x1a26373780>"
      ]
     },
     "execution_count": 52,
     "metadata": {},
     "output_type": "execute_result"
    },
    {
     "data": {
      "image/png": "[encoded data removed]",
      "text/plain": [
       "<matplotlib.figure.Figure at 0x1a2560a080>"
      ]
     },
     "metadata": {},
     "output_type": "display_data"
    }
   ],
   "source": [
    "d['max_cat'].plot()"
   ]
  },
  {
   "cell_type": "code",
   "execution_count": 53,
   "metadata": {},
   "outputs": [
    {
     "data": {
      "text/plain": [
       "<matplotlib.collections.QuadMesh at 0x1a2323ed68>"
      ]
     },
     "execution_count": 53,
     "metadata": {},
     "output_type": "execute_result"
    },
    {
     "data": {
      "image/png": "[encoded data removed]",
      "text/plain": [
       "<matplotlib.figure.Figure at 0x1a264df5c0>"
      ]
     },
     "metadata": {},
     "output_type": "display_data"
    }
   ],
   "source": [
    "d['posmax_masked'].plot()"
   ]
  },
  {
   "cell_type": "code",
   "execution_count": 54,
   "metadata": {
    "collapsed": true
   },
   "outputs": [],
   "source": [
    "from glob import glob"
   ]
  },
  {
   "cell_type": "code",
   "execution_count": 55,
   "metadata": {
    "collapsed": true
   },
   "outputs": [],
   "source": [
    "lfiles = glob(\"../shapefiles/shapes_*_converted.shp\")"
   ]
  },
  {
   "cell_type": "code",
   "execution_count": 56,
   "metadata": {},
   "outputs": [
    {
     "data": {
      "text/plain": [
       "['../shapefiles/shapes_Nauru_converted.shp',\n",
       " '../shapefiles/shapes_Northern_Cook_Islands_converted.shp',\n",
       " '../shapefiles/shapes_Pitcairn_Islands_converted.shp',\n",
       " '../shapefiles/shapes_Tonga_converted.shp',\n",
       " '../shapefiles/shapes_Niue_converted.shp',\n",
       " '../shapefiles/shapes_Kiribati_Gilbert_Islands_converted.shp',\n",
       " '../shapefiles/shapes_Wallis_&_Futuna_converted.shp',\n",
       " '../shapefiles/shapes_Marshall_Islands_converted.shp',\n",
       " '../shapefiles/shapes_Vanuatu_North_converted.shp',\n",
       " '../shapefiles/shapes_New_Caledonia_converted.shp',\n",
       " '../shapefiles/shapes_Palau_converted.shp',\n",
       " '../shapefiles/shapes_Austral_Islands_converted.shp',\n",
       " '../shapefiles/shapes_Tuamotu__Gambier_Islands_converted.shp',\n",
       " '../shapefiles/shapes_Vanuatu_South_converted.shp',\n",
       " '../shapefiles/shapes_Samoa_converted.shp',\n",
       " '../shapefiles/shapes_Guam_converted.shp',\n",
       " '../shapefiles/shapes_Northern_Marianas_converted.shp',\n",
       " '../shapefiles/shapes_Southern_Cook_Islands_converted.shp',\n",
       " '../shapefiles/shapes_Solomon_Islands_converted.shp',\n",
       " '../shapefiles/shapes_American_Samoa_converted.shp',\n",
       " '../shapefiles/shapes_Tuvalu_converted.shp',\n",
       " '../shapefiles/shapes_Federated_States_of_Micronesia_converted.shp',\n",
       " '../shapefiles/shapes_Society_Islands_converted.shp',\n",
       " '../shapefiles/shapes_Kiribati_Line_Islands_converted.shp',\n",
       " '../shapefiles/shapes_Fiji_converted.shp',\n",
       " '../shapefiles/shapes_Kiribati_Phoenix_Islands_converted.shp',\n",
       " '../shapefiles/shapes_Marquesas_converted.shp',\n",
       " '../shapefiles/shapes_Papua_New_Guinea_converted.shp',\n",
       " '../shapefiles/shapes_Tokelau_converted.shp']"
      ]
     },
     "execution_count": 56,
     "metadata": {},
     "output_type": "execute_result"
    }
   ],
   "source": [
    "lfiles"
   ]
  },
  {
   "cell_type": "code",
   "execution_count": 57,
   "metadata": {
    "collapsed": true
   },
   "outputs": [],
   "source": [
    "f = lfiles[0]"
   ]
  },
  {
   "cell_type": "code",
   "execution_count": 58,
   "metadata": {},
   "outputs": [
    {
     "data": {
      "text/plain": [
       "'Nauru'"
      ]
     },
     "execution_count": 58,
     "metadata": {},
     "output_type": "execute_result"
    }
   ],
   "source": [
    "f.split('/')[-1].split(\".\")[-2].replace(\"shapes_\",\"\").replace(\"_converted\",\"\")"
   ]
  },
  {
   "cell_type": "code",
   "execution_count": 73,
   "metadata": {},
   "outputs": [
    {
     "name": "stdout",
     "output_type": "stream",
     "text": [
      "processing Nauru\n",
      "processing Northern_Cook_Islands\n",
      "processing Pitcairn_Islands\n",
      "processing Tonga\n",
      "processing Niue\n",
      "processing Kiribati_Gilbert_Islands\n",
      "processing Wallis_&_Futuna\n",
      "processing Marshall_Islands\n",
      "processing Vanuatu_North\n",
      "processing New_Caledonia\n",
      "processing Palau\n",
      "processing Austral_Islands\n",
      "processing Tuamotu__Gambier_Islands\n",
      "processing Vanuatu_South\n",
      "processing Samoa\n",
      "processing Guam\n",
      "processing Northern_Marianas\n",
      "processing Southern_Cook_Islands\n",
      "processing Solomon_Islands\n",
      "processing American_Samoa\n",
      "processing Tuvalu\n",
      "processing Federated_States_of_Micronesia\n",
      "processing Society_Islands\n",
      "processing Kiribati_Line_Islands\n",
      "processing Fiji\n",
      "processing Kiribati_Phoenix_Islands\n",
      "processing Marquesas\n",
      "processing Papua_New_Guinea\n",
      "processing Tokelau\n"
     ]
    }
   ],
   "source": [
    "concat_l_summary = []\n",
    "concat_l_summary_posmax = []  \n",
    "p90_dict = {}\n",
    "month_of_max_dict = {}\n",
    "cnames = []\n",
    "for f in lfiles: \n",
    "    country_name = f.split('/')[-1].split(\".\")[-2].replace(\"shapes_\",\"\").replace(\"_converted\",\"\")\n",
    "    print(\"processing {}\".format(country_name))\n",
    "    cnames.append(country_name)\n",
    "    sh_country = salem.read_shapefile(f)\n",
    "    d_subset = d.salem.subset(shape=sh_country, margin=2)\n",
    "    d_subset_roi = d_subset.salem.roi(shape=sh_country) \n",
    "    d_subset_roi_stacked = d_subset_roi.stack(z=('lat','lon')) \n",
    "    df = d_subset_roi_stacked['max_cat'].to_dataframe() \n",
    "    df = df.dropna() \n",
    "    summary_df = df.describe(percentiles=[0.1, 0.25, 0.5, 0.6, 0.7, 0.8, 0.9]) \n",
    "    df_pos = d_subset_roi_stacked['posmax_masked'].to_dataframe() \n",
    "    dfl = df.copy() \n",
    "    dfl.loc[:,'posmax_masked'] = df_pos \n",
    "    dfl_sub = dfl.query(\"max_cat == {}\".format(df.quantile(0.9)[0])) \n",
    "    summary_df_posmax = dfl_sub.posmax_masked.describe(percentiles=[0.1, 0.25, 0.5, 0.6, 0.7, 0.8, 0.9])\n",
    "    mode = dfl_sub.posmax_masked.mode()\n",
    "    date_of_max = dates_range[int(dfl_sub.posmax_masked.mode()[0])] \n",
    "    month_of_max = date_of_max.month\n",
    "    p90_dict[country_name] = int(df.quantile(0.9)[0])\n",
    "    month_of_max_dict[country_name] = month_of_max\n",
    "    concat_l_summary.append(summary_df)\n",
    "    concat_l_summary_posmax.append(summary_df_posmax)\n",
    "    "
   ]
  },
  {
   "cell_type": "code",
   "execution_count": 74,
   "metadata": {
    "collapsed": true
   },
   "outputs": [],
   "source": [
    "p90_df = pd.DataFrame(p90_dict, index=['max_category']).T"
   ]
  },
  {
   "cell_type": "code",
   "execution_count": 75,
   "metadata": {},
   "outputs": [],
   "source": [
    "month_of_max_df = pd.DataFrame(month_of_max_dict, index=['max_month']).T"
   ]
  },
  {
   "cell_type": "code",
   "execution_count": 76,
   "metadata": {},
   "outputs": [],
   "source": [
    "all_df = pd.concat([p90_df, month_of_max_df], axis=1)"
   ]
  },
  {
   "cell_type": "code",
   "execution_count": 90,
   "metadata": {},
   "outputs": [
    {
     "data": {
      "text/html": [
       "<div>\n",
       "<style scoped>\n",
       "    .dataframe tbody tr th:only-of-type {\n",
       "        vertical-align: middle;\n",
       "    }\n",
       "\n",
       "    .dataframe tbody tr th {\n",
       "        vertical-align: top;\n",
       "    }\n",
       "\n",
       "    .dataframe thead th {\n",
       "        text-align: right;\n",
       "    }\n",
       "</style>\n",
       "<table border=\"1\" class=\"dataframe\">\n",
       "  <thead>\n",
       "    <tr style=\"text-align: right;\">\n",
       "      <th></th>\n",
       "      <th>max_category</th>\n",
       "      <th>max_month</th>\n",
       "    </tr>\n",
       "  </thead>\n",
       "  <tbody>\n",
       "    <tr>\n",
       "      <th>American_Samoa</th>\n",
       "      <td>2</td>\n",
       "      <td>2</td>\n",
       "    </tr>\n",
       "    <tr>\n",
       "      <th>Austral_Islands</th>\n",
       "      <td>2</td>\n",
       "      <td>2</td>\n",
       "    </tr>\n",
       "    <tr>\n",
       "      <th>Federated_States_of_Micronesia</th>\n",
       "      <td>1</td>\n",
       "      <td>12</td>\n",
       "    </tr>\n",
       "    <tr>\n",
       "      <th>Fiji</th>\n",
       "      <td>3</td>\n",
       "      <td>2</td>\n",
       "    </tr>\n",
       "    <tr>\n",
       "      <th>Guam</th>\n",
       "      <td>0</td>\n",
       "      <td>12</td>\n",
       "    </tr>\n",
       "    <tr>\n",
       "      <th>Kiribati_Gilbert_Islands</th>\n",
       "      <td>1</td>\n",
       "      <td>1</td>\n",
       "    </tr>\n",
       "    <tr>\n",
       "      <th>Kiribati_Line_Islands</th>\n",
       "      <td>0</td>\n",
       "      <td>12</td>\n",
       "    </tr>\n",
       "    <tr>\n",
       "      <th>Kiribati_Phoenix_Islands</th>\n",
       "      <td>0</td>\n",
       "      <td>12</td>\n",
       "    </tr>\n",
       "    <tr>\n",
       "      <th>Marquesas</th>\n",
       "      <td>0</td>\n",
       "      <td>12</td>\n",
       "    </tr>\n",
       "    <tr>\n",
       "      <th>Marshall_Islands</th>\n",
       "      <td>1</td>\n",
       "      <td>12</td>\n",
       "    </tr>\n",
       "    <tr>\n",
       "      <th>Nauru</th>\n",
       "      <td>1</td>\n",
       "      <td>12</td>\n",
       "    </tr>\n",
       "    <tr>\n",
       "      <th>New_Caledonia</th>\n",
       "      <td>3</td>\n",
       "      <td>2</td>\n",
       "    </tr>\n",
       "    <tr>\n",
       "      <th>Niue</th>\n",
       "      <td>2</td>\n",
       "      <td>2</td>\n",
       "    </tr>\n",
       "    <tr>\n",
       "      <th>Northern_Cook_Islands</th>\n",
       "      <td>2</td>\n",
       "      <td>2</td>\n",
       "    </tr>\n",
       "    <tr>\n",
       "      <th>Northern_Marianas</th>\n",
       "      <td>0</td>\n",
       "      <td>12</td>\n",
       "    </tr>\n",
       "    <tr>\n",
       "      <th>Palau</th>\n",
       "      <td>1</td>\n",
       "      <td>12</td>\n",
       "    </tr>\n",
       "    <tr>\n",
       "      <th>Papua_New_Guinea</th>\n",
       "      <td>4</td>\n",
       "      <td>1</td>\n",
       "    </tr>\n",
       "    <tr>\n",
       "      <th>Pitcairn_Islands</th>\n",
       "      <td>2</td>\n",
       "      <td>2</td>\n",
       "    </tr>\n",
       "    <tr>\n",
       "      <th>Samoa</th>\n",
       "      <td>3</td>\n",
       "      <td>2</td>\n",
       "    </tr>\n",
       "    <tr>\n",
       "      <th>Society_Islands</th>\n",
       "      <td>2</td>\n",
       "      <td>2</td>\n",
       "    </tr>\n",
       "    <tr>\n",
       "      <th>Solomon_Islands</th>\n",
       "      <td>4</td>\n",
       "      <td>2</td>\n",
       "    </tr>\n",
       "    <tr>\n",
       "      <th>Southern_Cook_Islands</th>\n",
       "      <td>2</td>\n",
       "      <td>2</td>\n",
       "    </tr>\n",
       "    <tr>\n",
       "      <th>Tokelau</th>\n",
       "      <td>1</td>\n",
       "      <td>12</td>\n",
       "    </tr>\n",
       "    <tr>\n",
       "      <th>Tonga</th>\n",
       "      <td>3</td>\n",
       "      <td>2</td>\n",
       "    </tr>\n",
       "    <tr>\n",
       "      <th>Tuamotu__Gambier_Islands</th>\n",
       "      <td>2</td>\n",
       "      <td>2</td>\n",
       "    </tr>\n",
       "    <tr>\n",
       "      <th>Tuvalu</th>\n",
       "      <td>3</td>\n",
       "      <td>2</td>\n",
       "    </tr>\n",
       "    <tr>\n",
       "      <th>Vanuatu_North</th>\n",
       "      <td>3</td>\n",
       "      <td>2</td>\n",
       "    </tr>\n",
       "    <tr>\n",
       "      <th>Vanuatu_South</th>\n",
       "      <td>2</td>\n",
       "      <td>2</td>\n",
       "    </tr>\n",
       "    <tr>\n",
       "      <th>Wallis_&amp;_Futuna</th>\n",
       "      <td>3</td>\n",
       "      <td>2</td>\n",
       "    </tr>\n",
       "  </tbody>\n",
       "</table>\n",
       "</div>"
      ],
      "text/plain": [
       "                                max_category  max_month\n",
       "American_Samoa                             2          2\n",
       "Austral_Islands                            2          2\n",
       "Federated_States_of_Micronesia             1         12\n",
       "Fiji                                       3          2\n",
       "Guam                                       0         12\n",
       "Kiribati_Gilbert_Islands                   1          1\n",
       "Kiribati_Line_Islands                      0         12\n",
       "Kiribati_Phoenix_Islands                   0         12\n",
       "Marquesas                                  0         12\n",
       "Marshall_Islands                           1         12\n",
       "Nauru                                      1         12\n",
       "New_Caledonia                              3          2\n",
       "Niue                                       2          2\n",
       "Northern_Cook_Islands                      2          2\n",
       "Northern_Marianas                          0         12\n",
       "Palau                                      1         12\n",
       "Papua_New_Guinea                           4          1\n",
       "Pitcairn_Islands                           2          2\n",
       "Samoa                                      3          2\n",
       "Society_Islands                            2          2\n",
       "Solomon_Islands                            4          2\n",
       "Southern_Cook_Islands                      2          2\n",
       "Tokelau                                    1         12\n",
       "Tonga                                      3          2\n",
       "Tuamotu__Gambier_Islands                   2          2\n",
       "Tuvalu                                     3          2\n",
       "Vanuatu_North                              3          2\n",
       "Vanuatu_South                              2          2\n",
       "Wallis_&_Futuna                            3          2"
      ]
     },
     "execution_count": 90,
     "metadata": {},
     "output_type": "execute_result"
    }
   ],
   "source": [
    "all_df"
   ]
  },
  {
   "cell_type": "code",
   "execution_count": 82,
   "metadata": {},
   "outputs": [],
   "source": [
    "concat_l_summary_df = pd.concat(concat_l_summary, axis=1)"
   ]
  },
  {
   "cell_type": "code",
   "execution_count": 83,
   "metadata": {
    "collapsed": true
   },
   "outputs": [],
   "source": [
    "concat_l_summary_df.columns = cnames"
   ]
  },
  {
   "cell_type": "code",
   "execution_count": 84,
   "metadata": {},
   "outputs": [
    {
     "data": {
      "text/html": [
       "<div>\n",
       "<style scoped>\n",
       "    .dataframe tbody tr th:only-of-type {\n",
       "        vertical-align: middle;\n",
       "    }\n",
       "\n",
       "    .dataframe tbody tr th {\n",
       "        vertical-align: top;\n",
       "    }\n",
       "\n",
       "    .dataframe thead th {\n",
       "        text-align: right;\n",
       "    }\n",
       "</style>\n",
       "<table border=\"1\" class=\"dataframe\">\n",
       "  <thead>\n",
       "    <tr style=\"text-align: right;\">\n",
       "      <th></th>\n",
       "      <th>Nauru</th>\n",
       "      <th>Northern_Cook_Islands</th>\n",
       "      <th>Pitcairn_Islands</th>\n",
       "      <th>Tonga</th>\n",
       "      <th>Niue</th>\n",
       "      <th>Kiribati_Gilbert_Islands</th>\n",
       "      <th>Wallis_&amp;_Futuna</th>\n",
       "      <th>Marshall_Islands</th>\n",
       "      <th>Vanuatu_North</th>\n",
       "      <th>New_Caledonia</th>\n",
       "      <th>...</th>\n",
       "      <th>American_Samoa</th>\n",
       "      <th>Tuvalu</th>\n",
       "      <th>Federated_States_of_Micronesia</th>\n",
       "      <th>Society_Islands</th>\n",
       "      <th>Kiribati_Line_Islands</th>\n",
       "      <th>Fiji</th>\n",
       "      <th>Kiribati_Phoenix_Islands</th>\n",
       "      <th>Marquesas</th>\n",
       "      <th>Papua_New_Guinea</th>\n",
       "      <th>Tokelau</th>\n",
       "    </tr>\n",
       "  </thead>\n",
       "  <tbody>\n",
       "    <tr>\n",
       "      <th>count</th>\n",
       "      <td>101.000000</td>\n",
       "      <td>351.000000</td>\n",
       "      <td>302.000000</td>\n",
       "      <td>227.000000</td>\n",
       "      <td>112.000000</td>\n",
       "      <td>340.000000</td>\n",
       "      <td>81.000000</td>\n",
       "      <td>659.000000</td>\n",
       "      <td>128.000000</td>\n",
       "      <td>378.000000</td>\n",
       "      <td>...</td>\n",
       "      <td>134.000000</td>\n",
       "      <td>250.000000</td>\n",
       "      <td>982.000000</td>\n",
       "      <td>304.000000</td>\n",
       "      <td>540.000000</td>\n",
       "      <td>443.000000</td>\n",
       "      <td>243.000000</td>\n",
       "      <td>227.0</td>\n",
       "      <td>787.000000</td>\n",
       "      <td>106.000000</td>\n",
       "    </tr>\n",
       "    <tr>\n",
       "      <th>mean</th>\n",
       "      <td>0.960396</td>\n",
       "      <td>0.720798</td>\n",
       "      <td>1.493377</td>\n",
       "      <td>1.872247</td>\n",
       "      <td>1.125000</td>\n",
       "      <td>0.391176</td>\n",
       "      <td>2.790123</td>\n",
       "      <td>0.191199</td>\n",
       "      <td>2.250000</td>\n",
       "      <td>2.296296</td>\n",
       "      <td>...</td>\n",
       "      <td>1.716418</td>\n",
       "      <td>1.572000</td>\n",
       "      <td>0.686354</td>\n",
       "      <td>0.927632</td>\n",
       "      <td>0.070370</td>\n",
       "      <td>1.975169</td>\n",
       "      <td>0.032922</td>\n",
       "      <td>0.0</td>\n",
       "      <td>2.598475</td>\n",
       "      <td>0.867925</td>\n",
       "    </tr>\n",
       "    <tr>\n",
       "      <th>std</th>\n",
       "      <td>0.398015</td>\n",
       "      <td>0.664698</td>\n",
       "      <td>0.597577</td>\n",
       "      <td>0.621500</td>\n",
       "      <td>0.332205</td>\n",
       "      <td>0.488733</td>\n",
       "      <td>0.466799</td>\n",
       "      <td>0.393544</td>\n",
       "      <td>0.434714</td>\n",
       "      <td>0.506758</td>\n",
       "      <td>...</td>\n",
       "      <td>0.529036</td>\n",
       "      <td>0.779259</td>\n",
       "      <td>0.625158</td>\n",
       "      <td>0.558191</td>\n",
       "      <td>0.256007</td>\n",
       "      <td>0.885692</td>\n",
       "      <td>0.178800</td>\n",
       "      <td>0.0</td>\n",
       "      <td>0.832787</td>\n",
       "      <td>0.367112</td>\n",
       "    </tr>\n",
       "    <tr>\n",
       "      <th>min</th>\n",
       "      <td>0.000000</td>\n",
       "      <td>0.000000</td>\n",
       "      <td>1.000000</td>\n",
       "      <td>1.000000</td>\n",
       "      <td>1.000000</td>\n",
       "      <td>0.000000</td>\n",
       "      <td>1.000000</td>\n",
       "      <td>0.000000</td>\n",
       "      <td>2.000000</td>\n",
       "      <td>1.000000</td>\n",
       "      <td>...</td>\n",
       "      <td>1.000000</td>\n",
       "      <td>0.000000</td>\n",
       "      <td>0.000000</td>\n",
       "      <td>0.000000</td>\n",
       "      <td>0.000000</td>\n",
       "      <td>1.000000</td>\n",
       "      <td>0.000000</td>\n",
       "      <td>0.0</td>\n",
       "      <td>1.000000</td>\n",
       "      <td>0.000000</td>\n",
       "    </tr>\n",
       "    <tr>\n",
       "      <th>10%</th>\n",
       "      <td>1.000000</td>\n",
       "      <td>0.000000</td>\n",
       "      <td>1.000000</td>\n",
       "      <td>1.000000</td>\n",
       "      <td>1.000000</td>\n",
       "      <td>0.000000</td>\n",
       "      <td>2.000000</td>\n",
       "      <td>0.000000</td>\n",
       "      <td>2.000000</td>\n",
       "      <td>2.000000</td>\n",
       "      <td>...</td>\n",
       "      <td>1.000000</td>\n",
       "      <td>1.000000</td>\n",
       "      <td>0.000000</td>\n",
       "      <td>0.000000</td>\n",
       "      <td>0.000000</td>\n",
       "      <td>1.000000</td>\n",
       "      <td>0.000000</td>\n",
       "      <td>0.0</td>\n",
       "      <td>2.000000</td>\n",
       "      <td>0.000000</td>\n",
       "    </tr>\n",
       "    <tr>\n",
       "      <th>25%</th>\n",
       "      <td>1.000000</td>\n",
       "      <td>0.000000</td>\n",
       "      <td>1.000000</td>\n",
       "      <td>1.000000</td>\n",
       "      <td>1.000000</td>\n",
       "      <td>0.000000</td>\n",
       "      <td>3.000000</td>\n",
       "      <td>0.000000</td>\n",
       "      <td>2.000000</td>\n",
       "      <td>2.000000</td>\n",
       "      <td>...</td>\n",
       "      <td>1.000000</td>\n",
       "      <td>1.000000</td>\n",
       "      <td>0.000000</td>\n",
       "      <td>1.000000</td>\n",
       "      <td>0.000000</td>\n",
       "      <td>1.000000</td>\n",
       "      <td>0.000000</td>\n",
       "      <td>0.0</td>\n",
       "      <td>2.000000</td>\n",
       "      <td>1.000000</td>\n",
       "    </tr>\n",
       "    <tr>\n",
       "      <th>50%</th>\n",
       "      <td>1.000000</td>\n",
       "      <td>1.000000</td>\n",
       "      <td>1.000000</td>\n",
       "      <td>2.000000</td>\n",
       "      <td>1.000000</td>\n",
       "      <td>0.000000</td>\n",
       "      <td>3.000000</td>\n",
       "      <td>0.000000</td>\n",
       "      <td>2.000000</td>\n",
       "      <td>2.000000</td>\n",
       "      <td>...</td>\n",
       "      <td>2.000000</td>\n",
       "      <td>1.000000</td>\n",
       "      <td>1.000000</td>\n",
       "      <td>1.000000</td>\n",
       "      <td>0.000000</td>\n",
       "      <td>2.000000</td>\n",
       "      <td>0.000000</td>\n",
       "      <td>0.0</td>\n",
       "      <td>3.000000</td>\n",
       "      <td>1.000000</td>\n",
       "    </tr>\n",
       "    <tr>\n",
       "      <th>60%</th>\n",
       "      <td>1.000000</td>\n",
       "      <td>1.000000</td>\n",
       "      <td>2.000000</td>\n",
       "      <td>2.000000</td>\n",
       "      <td>1.000000</td>\n",
       "      <td>0.000000</td>\n",
       "      <td>3.000000</td>\n",
       "      <td>0.000000</td>\n",
       "      <td>2.000000</td>\n",
       "      <td>2.000000</td>\n",
       "      <td>...</td>\n",
       "      <td>2.000000</td>\n",
       "      <td>2.000000</td>\n",
       "      <td>1.000000</td>\n",
       "      <td>1.000000</td>\n",
       "      <td>0.000000</td>\n",
       "      <td>2.000000</td>\n",
       "      <td>0.000000</td>\n",
       "      <td>0.0</td>\n",
       "      <td>3.000000</td>\n",
       "      <td>1.000000</td>\n",
       "    </tr>\n",
       "    <tr>\n",
       "      <th>70%</th>\n",
       "      <td>1.000000</td>\n",
       "      <td>1.000000</td>\n",
       "      <td>2.000000</td>\n",
       "      <td>2.000000</td>\n",
       "      <td>1.000000</td>\n",
       "      <td>1.000000</td>\n",
       "      <td>3.000000</td>\n",
       "      <td>0.000000</td>\n",
       "      <td>2.000000</td>\n",
       "      <td>3.000000</td>\n",
       "      <td>...</td>\n",
       "      <td>2.000000</td>\n",
       "      <td>2.000000</td>\n",
       "      <td>1.000000</td>\n",
       "      <td>1.000000</td>\n",
       "      <td>0.000000</td>\n",
       "      <td>3.000000</td>\n",
       "      <td>0.000000</td>\n",
       "      <td>0.0</td>\n",
       "      <td>3.000000</td>\n",
       "      <td>1.000000</td>\n",
       "    </tr>\n",
       "    <tr>\n",
       "      <th>80%</th>\n",
       "      <td>1.000000</td>\n",
       "      <td>1.000000</td>\n",
       "      <td>2.000000</td>\n",
       "      <td>2.000000</td>\n",
       "      <td>1.000000</td>\n",
       "      <td>1.000000</td>\n",
       "      <td>3.000000</td>\n",
       "      <td>0.000000</td>\n",
       "      <td>3.000000</td>\n",
       "      <td>3.000000</td>\n",
       "      <td>...</td>\n",
       "      <td>2.000000</td>\n",
       "      <td>2.000000</td>\n",
       "      <td>1.000000</td>\n",
       "      <td>1.000000</td>\n",
       "      <td>0.000000</td>\n",
       "      <td>3.000000</td>\n",
       "      <td>0.000000</td>\n",
       "      <td>0.0</td>\n",
       "      <td>3.000000</td>\n",
       "      <td>1.000000</td>\n",
       "    </tr>\n",
       "    <tr>\n",
       "      <th>90%</th>\n",
       "      <td>1.000000</td>\n",
       "      <td>2.000000</td>\n",
       "      <td>2.000000</td>\n",
       "      <td>3.000000</td>\n",
       "      <td>2.000000</td>\n",
       "      <td>1.000000</td>\n",
       "      <td>3.000000</td>\n",
       "      <td>1.000000</td>\n",
       "      <td>3.000000</td>\n",
       "      <td>3.000000</td>\n",
       "      <td>...</td>\n",
       "      <td>2.000000</td>\n",
       "      <td>3.000000</td>\n",
       "      <td>1.000000</td>\n",
       "      <td>2.000000</td>\n",
       "      <td>0.000000</td>\n",
       "      <td>3.000000</td>\n",
       "      <td>0.000000</td>\n",
       "      <td>0.0</td>\n",
       "      <td>4.000000</td>\n",
       "      <td>1.000000</td>\n",
       "    </tr>\n",
       "    <tr>\n",
       "      <th>max</th>\n",
       "      <td>2.000000</td>\n",
       "      <td>2.000000</td>\n",
       "      <td>3.000000</td>\n",
       "      <td>3.000000</td>\n",
       "      <td>2.000000</td>\n",
       "      <td>1.000000</td>\n",
       "      <td>4.000000</td>\n",
       "      <td>1.000000</td>\n",
       "      <td>3.000000</td>\n",
       "      <td>3.000000</td>\n",
       "      <td>...</td>\n",
       "      <td>3.000000</td>\n",
       "      <td>4.000000</td>\n",
       "      <td>3.000000</td>\n",
       "      <td>2.000000</td>\n",
       "      <td>1.000000</td>\n",
       "      <td>4.000000</td>\n",
       "      <td>1.000000</td>\n",
       "      <td>0.0</td>\n",
       "      <td>4.000000</td>\n",
       "      <td>2.000000</td>\n",
       "    </tr>\n",
       "  </tbody>\n",
       "</table>\n",
       "<p>12 rows × 29 columns</p>\n",
       "</div>"
      ],
      "text/plain": [
       "            Nauru  Northern_Cook_Islands  Pitcairn_Islands       Tonga  \\\n",
       "count  101.000000             351.000000        302.000000  227.000000   \n",
       "mean     0.960396               0.720798          1.493377    1.872247   \n",
       "std      0.398015               0.664698          0.597577    0.621500   \n",
       "min      0.000000               0.000000          1.000000    1.000000   \n",
       "10%      1.000000               0.000000          1.000000    1.000000   \n",
       "25%      1.000000               0.000000          1.000000    1.000000   \n",
       "50%      1.000000               1.000000          1.000000    2.000000   \n",
       "60%      1.000000               1.000000          2.000000    2.000000   \n",
       "70%      1.000000               1.000000          2.000000    2.000000   \n",
       "80%      1.000000               1.000000          2.000000    2.000000   \n",
       "90%      1.000000               2.000000          2.000000    3.000000   \n",
       "max      2.000000               2.000000          3.000000    3.000000   \n",
       "\n",
       "             Niue  Kiribati_Gilbert_Islands  Wallis_&_Futuna  \\\n",
       "count  112.000000                340.000000        81.000000   \n",
       "mean     1.125000                  0.391176         2.790123   \n",
       "std      0.332205                  0.488733         0.466799   \n",
       "min      1.000000                  0.000000         1.000000   \n",
       "10%      1.000000                  0.000000         2.000000   \n",
       "25%      1.000000                  0.000000         3.000000   \n",
       "50%      1.000000                  0.000000         3.000000   \n",
       "60%      1.000000                  0.000000         3.000000   \n",
       "70%      1.000000                  1.000000         3.000000   \n",
       "80%      1.000000                  1.000000         3.000000   \n",
       "90%      2.000000                  1.000000         3.000000   \n",
       "max      2.000000                  1.000000         4.000000   \n",
       "\n",
       "       Marshall_Islands  Vanuatu_North  New_Caledonia     ...      \\\n",
       "count        659.000000     128.000000     378.000000     ...       \n",
       "mean           0.191199       2.250000       2.296296     ...       \n",
       "std            0.393544       0.434714       0.506758     ...       \n",
       "min            0.000000       2.000000       1.000000     ...       \n",
       "10%            0.000000       2.000000       2.000000     ...       \n",
       "25%            0.000000       2.000000       2.000000     ...       \n",
       "50%            0.000000       2.000000       2.000000     ...       \n",
       "60%            0.000000       2.000000       2.000000     ...       \n",
       "70%            0.000000       2.000000       3.000000     ...       \n",
       "80%            0.000000       3.000000       3.000000     ...       \n",
       "90%            1.000000       3.000000       3.000000     ...       \n",
       "max            1.000000       3.000000       3.000000     ...       \n",
       "\n",
       "       American_Samoa      Tuvalu  Federated_States_of_Micronesia  \\\n",
       "count      134.000000  250.000000                      982.000000   \n",
       "mean         1.716418    1.572000                        0.686354   \n",
       "std          0.529036    0.779259                        0.625158   \n",
       "min          1.000000    0.000000                        0.000000   \n",
       "10%          1.000000    1.000000                        0.000000   \n",
       "25%          1.000000    1.000000                        0.000000   \n",
       "50%          2.000000    1.000000                        1.000000   \n",
       "60%          2.000000    2.000000                        1.000000   \n",
       "70%          2.000000    2.000000                        1.000000   \n",
       "80%          2.000000    2.000000                        1.000000   \n",
       "90%          2.000000    3.000000                        1.000000   \n",
       "max          3.000000    4.000000                        3.000000   \n",
       "\n",
       "       Society_Islands  Kiribati_Line_Islands        Fiji  \\\n",
       "count       304.000000             540.000000  443.000000   \n",
       "mean          0.927632               0.070370    1.975169   \n",
       "std           0.558191               0.256007    0.885692   \n",
       "min           0.000000               0.000000    1.000000   \n",
       "10%           0.000000               0.000000    1.000000   \n",
       "25%           1.000000               0.000000    1.000000   \n",
       "50%           1.000000               0.000000    2.000000   \n",
       "60%           1.000000               0.000000    2.000000   \n",
       "70%           1.000000               0.000000    3.000000   \n",
       "80%           1.000000               0.000000    3.000000   \n",
       "90%           2.000000               0.000000    3.000000   \n",
       "max           2.000000               1.000000    4.000000   \n",
       "\n",
       "       Kiribati_Phoenix_Islands  Marquesas  Papua_New_Guinea     Tokelau  \n",
       "count                243.000000      227.0        787.000000  106.000000  \n",
       "mean                   0.032922        0.0          2.598475    0.867925  \n",
       "std                    0.178800        0.0          0.832787    0.367112  \n",
       "min                    0.000000        0.0          1.000000    0.000000  \n",
       "10%                    0.000000        0.0          2.000000    0.000000  \n",
       "25%                    0.000000        0.0          2.000000    1.000000  \n",
       "50%                    0.000000        0.0          3.000000    1.000000  \n",
       "60%                    0.000000        0.0          3.000000    1.000000  \n",
       "70%                    0.000000        0.0          3.000000    1.000000  \n",
       "80%                    0.000000        0.0          3.000000    1.000000  \n",
       "90%                    0.000000        0.0          4.000000    1.000000  \n",
       "max                    1.000000        0.0          4.000000    2.000000  \n",
       "\n",
       "[12 rows x 29 columns]"
      ]
     },
     "execution_count": 84,
     "metadata": {},
     "output_type": "execute_result"
    }
   ],
   "source": [
    "concat_l_summary_df "
   ]
  },
  {
   "cell_type": "code",
   "execution_count": 85,
   "metadata": {
    "collapsed": true
   },
   "outputs": [],
   "source": [
    "concat_l_summary_posmax_df = pd.concat(concat_l_summary_posmax, axis=1)"
   ]
  },
  {
   "cell_type": "code",
   "execution_count": 86,
   "metadata": {
    "collapsed": true
   },
   "outputs": [],
   "source": [
    "concat_l_summary_posmax_df.columns = cnames"
   ]
  },
  {
   "cell_type": "code",
   "execution_count": 87,
   "metadata": {},
   "outputs": [
    {
     "data": {
      "text/html": [
       "<div>\n",
       "<style scoped>\n",
       "    .dataframe tbody tr th:only-of-type {\n",
       "        vertical-align: middle;\n",
       "    }\n",
       "\n",
       "    .dataframe tbody tr th {\n",
       "        vertical-align: top;\n",
       "    }\n",
       "\n",
       "    .dataframe thead th {\n",
       "        text-align: right;\n",
       "    }\n",
       "</style>\n",
       "<table border=\"1\" class=\"dataframe\">\n",
       "  <thead>\n",
       "    <tr style=\"text-align: right;\">\n",
       "      <th></th>\n",
       "      <th>Nauru</th>\n",
       "      <th>Northern_Cook_Islands</th>\n",
       "      <th>Pitcairn_Islands</th>\n",
       "      <th>Tonga</th>\n",
       "      <th>Niue</th>\n",
       "      <th>Kiribati_Gilbert_Islands</th>\n",
       "      <th>Wallis_&amp;_Futuna</th>\n",
       "      <th>Marshall_Islands</th>\n",
       "      <th>Vanuatu_North</th>\n",
       "      <th>New_Caledonia</th>\n",
       "      <th>...</th>\n",
       "      <th>American_Samoa</th>\n",
       "      <th>Tuvalu</th>\n",
       "      <th>Federated_States_of_Micronesia</th>\n",
       "      <th>Society_Islands</th>\n",
       "      <th>Kiribati_Line_Islands</th>\n",
       "      <th>Fiji</th>\n",
       "      <th>Kiribati_Phoenix_Islands</th>\n",
       "      <th>Marquesas</th>\n",
       "      <th>Papua_New_Guinea</th>\n",
       "      <th>Tokelau</th>\n",
       "    </tr>\n",
       "  </thead>\n",
       "  <tbody>\n",
       "    <tr>\n",
       "      <th>count</th>\n",
       "      <td>85.000000</td>\n",
       "      <td>42.000000</td>\n",
       "      <td>117.000000</td>\n",
       "      <td>31.000000</td>\n",
       "      <td>14.000000</td>\n",
       "      <td>133.000000</td>\n",
       "      <td>63.000000</td>\n",
       "      <td>126.000000</td>\n",
       "      <td>32.000000</td>\n",
       "      <td>121.000000</td>\n",
       "      <td>...</td>\n",
       "      <td>86.000000</td>\n",
       "      <td>31.000000</td>\n",
       "      <td>550.000000</td>\n",
       "      <td>37.000000</td>\n",
       "      <td>502.0</td>\n",
       "      <td>123.000000</td>\n",
       "      <td>235.0</td>\n",
       "      <td>227.0</td>\n",
       "      <td>104.000000</td>\n",
       "      <td>90.000000</td>\n",
       "    </tr>\n",
       "    <tr>\n",
       "      <th>mean</th>\n",
       "      <td>1.694118</td>\n",
       "      <td>10.976190</td>\n",
       "      <td>10.965812</td>\n",
       "      <td>9.935484</td>\n",
       "      <td>10.285714</td>\n",
       "      <td>4.353383</td>\n",
       "      <td>8.492063</td>\n",
       "      <td>0.071429</td>\n",
       "      <td>9.531250</td>\n",
       "      <td>10.239669</td>\n",
       "      <td>...</td>\n",
       "      <td>9.302326</td>\n",
       "      <td>8.548387</td>\n",
       "      <td>0.020000</td>\n",
       "      <td>10.837838</td>\n",
       "      <td>0.0</td>\n",
       "      <td>9.260163</td>\n",
       "      <td>0.0</td>\n",
       "      <td>0.0</td>\n",
       "      <td>6.894231</td>\n",
       "      <td>0.766667</td>\n",
       "    </tr>\n",
       "    <tr>\n",
       "      <th>std</th>\n",
       "      <td>2.586704</td>\n",
       "      <td>0.154303</td>\n",
       "      <td>0.182493</td>\n",
       "      <td>0.727346</td>\n",
       "      <td>0.468807</td>\n",
       "      <td>2.418976</td>\n",
       "      <td>0.800665</td>\n",
       "      <td>0.258567</td>\n",
       "      <td>1.106706</td>\n",
       "      <td>0.671128</td>\n",
       "      <td>...</td>\n",
       "      <td>0.908389</td>\n",
       "      <td>1.178663</td>\n",
       "      <td>0.184953</td>\n",
       "      <td>0.553449</td>\n",
       "      <td>0.0</td>\n",
       "      <td>1.401623</td>\n",
       "      <td>0.0</td>\n",
       "      <td>0.0</td>\n",
       "      <td>2.167358</td>\n",
       "      <td>1.453782</td>\n",
       "    </tr>\n",
       "    <tr>\n",
       "      <th>min</th>\n",
       "      <td>0.000000</td>\n",
       "      <td>10.000000</td>\n",
       "      <td>10.000000</td>\n",
       "      <td>9.000000</td>\n",
       "      <td>10.000000</td>\n",
       "      <td>0.000000</td>\n",
       "      <td>7.000000</td>\n",
       "      <td>0.000000</td>\n",
       "      <td>8.000000</td>\n",
       "      <td>9.000000</td>\n",
       "      <td>...</td>\n",
       "      <td>8.000000</td>\n",
       "      <td>6.000000</td>\n",
       "      <td>0.000000</td>\n",
       "      <td>9.000000</td>\n",
       "      <td>0.0</td>\n",
       "      <td>6.000000</td>\n",
       "      <td>0.0</td>\n",
       "      <td>0.0</td>\n",
       "      <td>3.000000</td>\n",
       "      <td>0.000000</td>\n",
       "    </tr>\n",
       "    <tr>\n",
       "      <th>10%</th>\n",
       "      <td>0.000000</td>\n",
       "      <td>11.000000</td>\n",
       "      <td>11.000000</td>\n",
       "      <td>9.000000</td>\n",
       "      <td>10.000000</td>\n",
       "      <td>2.000000</td>\n",
       "      <td>8.000000</td>\n",
       "      <td>0.000000</td>\n",
       "      <td>8.000000</td>\n",
       "      <td>9.000000</td>\n",
       "      <td>...</td>\n",
       "      <td>8.000000</td>\n",
       "      <td>8.000000</td>\n",
       "      <td>0.000000</td>\n",
       "      <td>11.000000</td>\n",
       "      <td>0.0</td>\n",
       "      <td>7.200000</td>\n",
       "      <td>0.0</td>\n",
       "      <td>0.0</td>\n",
       "      <td>4.000000</td>\n",
       "      <td>0.000000</td>\n",
       "    </tr>\n",
       "    <tr>\n",
       "      <th>25%</th>\n",
       "      <td>0.000000</td>\n",
       "      <td>11.000000</td>\n",
       "      <td>11.000000</td>\n",
       "      <td>9.000000</td>\n",
       "      <td>10.000000</td>\n",
       "      <td>3.000000</td>\n",
       "      <td>8.000000</td>\n",
       "      <td>0.000000</td>\n",
       "      <td>9.000000</td>\n",
       "      <td>10.000000</td>\n",
       "      <td>...</td>\n",
       "      <td>9.000000</td>\n",
       "      <td>8.000000</td>\n",
       "      <td>0.000000</td>\n",
       "      <td>11.000000</td>\n",
       "      <td>0.0</td>\n",
       "      <td>8.000000</td>\n",
       "      <td>0.0</td>\n",
       "      <td>0.0</td>\n",
       "      <td>5.000000</td>\n",
       "      <td>0.000000</td>\n",
       "    </tr>\n",
       "    <tr>\n",
       "      <th>50%</th>\n",
       "      <td>0.000000</td>\n",
       "      <td>11.000000</td>\n",
       "      <td>11.000000</td>\n",
       "      <td>10.000000</td>\n",
       "      <td>10.000000</td>\n",
       "      <td>5.000000</td>\n",
       "      <td>8.000000</td>\n",
       "      <td>0.000000</td>\n",
       "      <td>9.500000</td>\n",
       "      <td>10.000000</td>\n",
       "      <td>...</td>\n",
       "      <td>9.000000</td>\n",
       "      <td>8.000000</td>\n",
       "      <td>0.000000</td>\n",
       "      <td>11.000000</td>\n",
       "      <td>0.0</td>\n",
       "      <td>9.000000</td>\n",
       "      <td>0.0</td>\n",
       "      <td>0.0</td>\n",
       "      <td>7.000000</td>\n",
       "      <td>0.000000</td>\n",
       "    </tr>\n",
       "    <tr>\n",
       "      <th>60%</th>\n",
       "      <td>1.000000</td>\n",
       "      <td>11.000000</td>\n",
       "      <td>11.000000</td>\n",
       "      <td>10.000000</td>\n",
       "      <td>10.000000</td>\n",
       "      <td>5.000000</td>\n",
       "      <td>9.000000</td>\n",
       "      <td>0.000000</td>\n",
       "      <td>10.000000</td>\n",
       "      <td>10.000000</td>\n",
       "      <td>...</td>\n",
       "      <td>9.000000</td>\n",
       "      <td>8.000000</td>\n",
       "      <td>0.000000</td>\n",
       "      <td>11.000000</td>\n",
       "      <td>0.0</td>\n",
       "      <td>10.000000</td>\n",
       "      <td>0.0</td>\n",
       "      <td>0.0</td>\n",
       "      <td>7.800000</td>\n",
       "      <td>1.000000</td>\n",
       "    </tr>\n",
       "    <tr>\n",
       "      <th>70%</th>\n",
       "      <td>2.000000</td>\n",
       "      <td>11.000000</td>\n",
       "      <td>11.000000</td>\n",
       "      <td>10.000000</td>\n",
       "      <td>10.100000</td>\n",
       "      <td>5.000000</td>\n",
       "      <td>9.000000</td>\n",
       "      <td>0.000000</td>\n",
       "      <td>10.000000</td>\n",
       "      <td>11.000000</td>\n",
       "      <td>...</td>\n",
       "      <td>10.000000</td>\n",
       "      <td>9.000000</td>\n",
       "      <td>0.000000</td>\n",
       "      <td>11.000000</td>\n",
       "      <td>0.0</td>\n",
       "      <td>10.000000</td>\n",
       "      <td>0.0</td>\n",
       "      <td>0.0</td>\n",
       "      <td>8.000000</td>\n",
       "      <td>1.000000</td>\n",
       "    </tr>\n",
       "    <tr>\n",
       "      <th>80%</th>\n",
       "      <td>3.000000</td>\n",
       "      <td>11.000000</td>\n",
       "      <td>11.000000</td>\n",
       "      <td>11.000000</td>\n",
       "      <td>11.000000</td>\n",
       "      <td>5.000000</td>\n",
       "      <td>9.000000</td>\n",
       "      <td>0.000000</td>\n",
       "      <td>11.000000</td>\n",
       "      <td>11.000000</td>\n",
       "      <td>...</td>\n",
       "      <td>10.000000</td>\n",
       "      <td>9.000000</td>\n",
       "      <td>0.000000</td>\n",
       "      <td>11.000000</td>\n",
       "      <td>0.0</td>\n",
       "      <td>11.000000</td>\n",
       "      <td>0.0</td>\n",
       "      <td>0.0</td>\n",
       "      <td>9.000000</td>\n",
       "      <td>1.000000</td>\n",
       "    </tr>\n",
       "    <tr>\n",
       "      <th>90%</th>\n",
       "      <td>7.000000</td>\n",
       "      <td>11.000000</td>\n",
       "      <td>11.000000</td>\n",
       "      <td>11.000000</td>\n",
       "      <td>11.000000</td>\n",
       "      <td>6.000000</td>\n",
       "      <td>9.000000</td>\n",
       "      <td>0.000000</td>\n",
       "      <td>11.000000</td>\n",
       "      <td>11.000000</td>\n",
       "      <td>...</td>\n",
       "      <td>11.000000</td>\n",
       "      <td>10.000000</td>\n",
       "      <td>0.000000</td>\n",
       "      <td>11.000000</td>\n",
       "      <td>0.0</td>\n",
       "      <td>11.000000</td>\n",
       "      <td>0.0</td>\n",
       "      <td>0.0</td>\n",
       "      <td>10.000000</td>\n",
       "      <td>2.000000</td>\n",
       "    </tr>\n",
       "    <tr>\n",
       "      <th>max</th>\n",
       "      <td>10.000000</td>\n",
       "      <td>11.000000</td>\n",
       "      <td>11.000000</td>\n",
       "      <td>11.000000</td>\n",
       "      <td>11.000000</td>\n",
       "      <td>11.000000</td>\n",
       "      <td>11.000000</td>\n",
       "      <td>1.000000</td>\n",
       "      <td>11.000000</td>\n",
       "      <td>11.000000</td>\n",
       "      <td>...</td>\n",
       "      <td>11.000000</td>\n",
       "      <td>11.000000</td>\n",
       "      <td>2.000000</td>\n",
       "      <td>11.000000</td>\n",
       "      <td>0.0</td>\n",
       "      <td>11.000000</td>\n",
       "      <td>0.0</td>\n",
       "      <td>0.0</td>\n",
       "      <td>11.000000</td>\n",
       "      <td>8.000000</td>\n",
       "    </tr>\n",
       "  </tbody>\n",
       "</table>\n",
       "<p>12 rows × 29 columns</p>\n",
       "</div>"
      ],
      "text/plain": [
       "           Nauru  Northern_Cook_Islands  Pitcairn_Islands      Tonga  \\\n",
       "count  85.000000              42.000000        117.000000  31.000000   \n",
       "mean    1.694118              10.976190         10.965812   9.935484   \n",
       "std     2.586704               0.154303          0.182493   0.727346   \n",
       "min     0.000000              10.000000         10.000000   9.000000   \n",
       "10%     0.000000              11.000000         11.000000   9.000000   \n",
       "25%     0.000000              11.000000         11.000000   9.000000   \n",
       "50%     0.000000              11.000000         11.000000  10.000000   \n",
       "60%     1.000000              11.000000         11.000000  10.000000   \n",
       "70%     2.000000              11.000000         11.000000  10.000000   \n",
       "80%     3.000000              11.000000         11.000000  11.000000   \n",
       "90%     7.000000              11.000000         11.000000  11.000000   \n",
       "max    10.000000              11.000000         11.000000  11.000000   \n",
       "\n",
       "            Niue  Kiribati_Gilbert_Islands  Wallis_&_Futuna  Marshall_Islands  \\\n",
       "count  14.000000                133.000000        63.000000        126.000000   \n",
       "mean   10.285714                  4.353383         8.492063          0.071429   \n",
       "std     0.468807                  2.418976         0.800665          0.258567   \n",
       "min    10.000000                  0.000000         7.000000          0.000000   \n",
       "10%    10.000000                  2.000000         8.000000          0.000000   \n",
       "25%    10.000000                  3.000000         8.000000          0.000000   \n",
       "50%    10.000000                  5.000000         8.000000          0.000000   \n",
       "60%    10.000000                  5.000000         9.000000          0.000000   \n",
       "70%    10.100000                  5.000000         9.000000          0.000000   \n",
       "80%    11.000000                  5.000000         9.000000          0.000000   \n",
       "90%    11.000000                  6.000000         9.000000          0.000000   \n",
       "max    11.000000                 11.000000        11.000000          1.000000   \n",
       "\n",
       "       Vanuatu_North  New_Caledonia    ...      American_Samoa     Tuvalu  \\\n",
       "count      32.000000     121.000000    ...           86.000000  31.000000   \n",
       "mean        9.531250      10.239669    ...            9.302326   8.548387   \n",
       "std         1.106706       0.671128    ...            0.908389   1.178663   \n",
       "min         8.000000       9.000000    ...            8.000000   6.000000   \n",
       "10%         8.000000       9.000000    ...            8.000000   8.000000   \n",
       "25%         9.000000      10.000000    ...            9.000000   8.000000   \n",
       "50%         9.500000      10.000000    ...            9.000000   8.000000   \n",
       "60%        10.000000      10.000000    ...            9.000000   8.000000   \n",
       "70%        10.000000      11.000000    ...           10.000000   9.000000   \n",
       "80%        11.000000      11.000000    ...           10.000000   9.000000   \n",
       "90%        11.000000      11.000000    ...           11.000000  10.000000   \n",
       "max        11.000000      11.000000    ...           11.000000  11.000000   \n",
       "\n",
       "       Federated_States_of_Micronesia  Society_Islands  Kiribati_Line_Islands  \\\n",
       "count                      550.000000        37.000000                  502.0   \n",
       "mean                         0.020000        10.837838                    0.0   \n",
       "std                          0.184953         0.553449                    0.0   \n",
       "min                          0.000000         9.000000                    0.0   \n",
       "10%                          0.000000        11.000000                    0.0   \n",
       "25%                          0.000000        11.000000                    0.0   \n",
       "50%                          0.000000        11.000000                    0.0   \n",
       "60%                          0.000000        11.000000                    0.0   \n",
       "70%                          0.000000        11.000000                    0.0   \n",
       "80%                          0.000000        11.000000                    0.0   \n",
       "90%                          0.000000        11.000000                    0.0   \n",
       "max                          2.000000        11.000000                    0.0   \n",
       "\n",
       "             Fiji  Kiribati_Phoenix_Islands  Marquesas  Papua_New_Guinea  \\\n",
       "count  123.000000                     235.0      227.0        104.000000   \n",
       "mean     9.260163                       0.0        0.0          6.894231   \n",
       "std      1.401623                       0.0        0.0          2.167358   \n",
       "min      6.000000                       0.0        0.0          3.000000   \n",
       "10%      7.200000                       0.0        0.0          4.000000   \n",
       "25%      8.000000                       0.0        0.0          5.000000   \n",
       "50%      9.000000                       0.0        0.0          7.000000   \n",
       "60%     10.000000                       0.0        0.0          7.800000   \n",
       "70%     10.000000                       0.0        0.0          8.000000   \n",
       "80%     11.000000                       0.0        0.0          9.000000   \n",
       "90%     11.000000                       0.0        0.0         10.000000   \n",
       "max     11.000000                       0.0        0.0         11.000000   \n",
       "\n",
       "         Tokelau  \n",
       "count  90.000000  \n",
       "mean    0.766667  \n",
       "std     1.453782  \n",
       "min     0.000000  \n",
       "10%     0.000000  \n",
       "25%     0.000000  \n",
       "50%     0.000000  \n",
       "60%     1.000000  \n",
       "70%     1.000000  \n",
       "80%     1.000000  \n",
       "90%     2.000000  \n",
       "max     8.000000  \n",
       "\n",
       "[12 rows x 29 columns]"
      ]
     },
     "execution_count": 87,
     "metadata": {},
     "output_type": "execute_result"
    }
   ],
   "source": [
    "concat_l_summary_posmax_df"
   ]
  },
  {
   "cell_type": "code",
   "execution_count": 88,
   "metadata": {
    "collapsed": true
   },
   "outputs": [],
   "source": [
    "all_df.to_csv('../outputs/CSFV2_outlook_summary_table_from_{:%Y%m%d}.csv'.format(dates_range[0]))"
   ]
  },
  {
   "cell_type": "code",
   "execution_count": 89,
   "metadata": {},
   "outputs": [
    {
     "data": {
      "text/plain": [
       "DatetimeIndex(['2017-12-10', '2017-12-17', '2017-12-24', '2017-12-31',\n",
       "               '2018-01-07', '2018-01-14', '2018-01-21', '2018-01-28',\n",
       "               '2018-02-04', '2018-02-11', '2018-02-18', '2018-02-25'],\n",
       "              dtype='datetime64[ns]', freq='7D')"
      ]
     },
     "execution_count": 89,
     "metadata": {},
     "output_type": "execute_result"
    }
   ],
   "source": [
    "dates_range"
   ]
  },
  {
   "cell_type": "code",
   "execution_count": null,
   "metadata": {
    "collapsed": true
   },
   "outputs": [],
   "source": []
  }
 ],
 "metadata": {
  "kernelspec": {
   "display_name": "Python [conda env:IOOS]",
   "language": "python",
   "name": "conda-env-IOOS-py"
  },
  "language_info": {
   "codemirror_mode": {
    "name": "ipython",
    "version": 3
   },
   "file_extension": ".py",
   "mimetype": "text/x-python",
   "name": "python",
   "nbconvert_exporter": "python",
   "pygments_lexer": "ipython3",
   "version": "3.5.2"
  },
  "toc": {
   "colors": {
    "hover_highlight": "#DAA520",
    "running_highlight": "#FF0000",
    "selected_highlight": "#FFD700"
   },
   "moveMenuLeft": true,
   "nav_menu": {
    "height": "12px",
    "width": "252px"
   },
   "navigate_menu": true,
   "number_sections": true,
   "sideBar": true,
   "threshold": 4,
   "toc_cell": false,
   "toc_section_display": "block",
   "toc_window_display": false,
   "widenNotebook": false
  }
 },
 "nbformat": 4,
 "nbformat_minor": 2
}
