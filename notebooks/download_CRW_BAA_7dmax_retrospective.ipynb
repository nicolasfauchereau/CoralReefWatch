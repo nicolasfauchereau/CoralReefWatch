{
 "cells": [
  {
   "cell_type": "markdown",
   "metadata": {},
   "source": [
    "# download the past 4 weeks of CRW BAA 7 days max"
   ]
  },
  {
   "cell_type": "code",
   "execution_count": 21,
   "metadata": {},
   "outputs": [],
   "source": [
    "import os"
   ]
  },
  {
   "cell_type": "code",
   "execution_count": 12,
   "metadata": {},
   "outputs": [],
   "source": [
    "from datetime import datetime, timedelta"
   ]
  },
  {
   "cell_type": "code",
   "execution_count": 13,
   "metadata": {},
   "outputs": [],
   "source": [
    "from subprocess import call"
   ]
  },
  {
   "cell_type": "code",
   "execution_count": 16,
   "metadata": {},
   "outputs": [],
   "source": [
    "import pandas as pd"
   ]
  },
  {
   "cell_type": "markdown",
   "metadata": {},
   "source": [
    "### output directory path"
   ]
  },
  {
   "cell_type": "code",
   "execution_count": 19,
   "metadata": {},
   "outputs": [],
   "source": [
    "ldates = pd.date_range(start=datetime(2017,7,31), end=datetime(2017,12,31), freq='M').to_pydatetime()"
   ]
  },
  {
   "cell_type": "code",
   "execution_count": 20,
   "metadata": {},
   "outputs": [
    {
     "data": {
      "text/plain": [
       "array([datetime.datetime(2017, 7, 31, 0, 0),\n",
       "       datetime.datetime(2017, 8, 31, 0, 0),\n",
       "       datetime.datetime(2017, 9, 30, 0, 0),\n",
       "       datetime.datetime(2017, 10, 31, 0, 0),\n",
       "       datetime.datetime(2017, 11, 30, 0, 0),\n",
       "       datetime.datetime(2017, 12, 31, 0, 0)], dtype=object)"
      ]
     },
     "execution_count": 20,
     "metadata": {},
     "output_type": "execute_result"
    }
   ],
   "source": [
    "ldates"
   ]
  },
  {
   "cell_type": "code",
   "execution_count": 14,
   "metadata": {
    "run_control": {
     "marked": false
    }
   },
   "outputs": [],
   "source": [
    "opath = '/Volumes/GDATA/data/CRW/BAA7dMAX/retrospective'"
   ]
  },
  {
   "cell_type": "code",
   "execution_count": 7,
   "metadata": {},
   "outputs": [],
   "source": [
    "base_url = \"ftp://ftp.star.nesdis.noaa.gov/pub/sod/mecb/crw/data/5km/v3/nc/v1/composite/daily/7day/baa-max\""
   ]
  },
  {
   "cell_type": "markdown",
   "metadata": {},
   "source": [
    "### builds the list of dates, starting 4 weeks from now "
   ]
  },
  {
   "cell_type": "code",
   "execution_count": 26,
   "metadata": {},
   "outputs": [
    {
     "name": "stdout",
     "output_type": "stream",
     "text": [
      "downloading ftp://ftp.star.nesdis.noaa.gov/pub/sod/mecb/crw/data/5km/v3/nc/v1/composite/daily/7day/baa-max/2017/b5km_baa-max-7d_20170710.nc\n",
      "downloading ftp://ftp.star.nesdis.noaa.gov/pub/sod/mecb/crw/data/5km/v3/nc/v1/composite/daily/7day/baa-max/2017/b5km_baa-max-7d_20170717.nc\n",
      "downloading ftp://ftp.star.nesdis.noaa.gov/pub/sod/mecb/crw/data/5km/v3/nc/v1/composite/daily/7day/baa-max/2017/b5km_baa-max-7d_20170724.nc\n",
      "downloading ftp://ftp.star.nesdis.noaa.gov/pub/sod/mecb/crw/data/5km/v3/nc/v1/composite/daily/7day/baa-max/2017/b5km_baa-max-7d_20170731.nc\n",
      "downloading ftp://ftp.star.nesdis.noaa.gov/pub/sod/mecb/crw/data/5km/v3/nc/v1/composite/daily/7day/baa-max/2017/b5km_baa-max-7d_20170810.nc\n",
      "downloading ftp://ftp.star.nesdis.noaa.gov/pub/sod/mecb/crw/data/5km/v3/nc/v1/composite/daily/7day/baa-max/2017/b5km_baa-max-7d_20170817.nc\n",
      "downloading ftp://ftp.star.nesdis.noaa.gov/pub/sod/mecb/crw/data/5km/v3/nc/v1/composite/daily/7day/baa-max/2017/b5km_baa-max-7d_20170824.nc\n",
      "downloading ftp://ftp.star.nesdis.noaa.gov/pub/sod/mecb/crw/data/5km/v3/nc/v1/composite/daily/7day/baa-max/2017/b5km_baa-max-7d_20170831.nc\n",
      "downloading ftp://ftp.star.nesdis.noaa.gov/pub/sod/mecb/crw/data/5km/v3/nc/v1/composite/daily/7day/baa-max/2017/b5km_baa-max-7d_20170909.nc\n",
      "downloading ftp://ftp.star.nesdis.noaa.gov/pub/sod/mecb/crw/data/5km/v3/nc/v1/composite/daily/7day/baa-max/2017/b5km_baa-max-7d_20170916.nc\n",
      "downloading ftp://ftp.star.nesdis.noaa.gov/pub/sod/mecb/crw/data/5km/v3/nc/v1/composite/daily/7day/baa-max/2017/b5km_baa-max-7d_20170923.nc\n",
      "downloading ftp://ftp.star.nesdis.noaa.gov/pub/sod/mecb/crw/data/5km/v3/nc/v1/composite/daily/7day/baa-max/2017/b5km_baa-max-7d_20170930.nc\n",
      "downloading ftp://ftp.star.nesdis.noaa.gov/pub/sod/mecb/crw/data/5km/v3/nc/v1/composite/daily/7day/baa-max/2017/b5km_baa-max-7d_20171010.nc\n",
      "downloading ftp://ftp.star.nesdis.noaa.gov/pub/sod/mecb/crw/data/5km/v3/nc/v1/composite/daily/7day/baa-max/2017/b5km_baa-max-7d_20171017.nc\n",
      "downloading ftp://ftp.star.nesdis.noaa.gov/pub/sod/mecb/crw/data/5km/v3/nc/v1/composite/daily/7day/baa-max/2017/b5km_baa-max-7d_20171024.nc\n",
      "downloading ftp://ftp.star.nesdis.noaa.gov/pub/sod/mecb/crw/data/5km/v3/nc/v1/composite/daily/7day/baa-max/2017/b5km_baa-max-7d_20171031.nc\n",
      "downloading ftp://ftp.star.nesdis.noaa.gov/pub/sod/mecb/crw/data/5km/v3/nc/v1/composite/daily/7day/baa-max/2017/b5km_baa-max-7d_20171109.nc\n",
      "downloading ftp://ftp.star.nesdis.noaa.gov/pub/sod/mecb/crw/data/5km/v3/nc/v1/composite/daily/7day/baa-max/2017/b5km_baa-max-7d_20171116.nc\n",
      "downloading ftp://ftp.star.nesdis.noaa.gov/pub/sod/mecb/crw/data/5km/v3/nc/v1/composite/daily/7day/baa-max/2017/b5km_baa-max-7d_20171123.nc\n",
      "downloading ftp://ftp.star.nesdis.noaa.gov/pub/sod/mecb/crw/data/5km/v3/nc/v1/composite/daily/7day/baa-max/2017/b5km_baa-max-7d_20171130.nc\n",
      "downloading ftp://ftp.star.nesdis.noaa.gov/pub/sod/mecb/crw/data/5km/v3/nc/v1/composite/daily/7day/baa-max/2017/b5km_baa-max-7d_20171210.nc\n",
      "downloading ftp://ftp.star.nesdis.noaa.gov/pub/sod/mecb/crw/data/5km/v3/nc/v1/composite/daily/7day/baa-max/2017/b5km_baa-max-7d_20171217.nc\n",
      "downloading ftp://ftp.star.nesdis.noaa.gov/pub/sod/mecb/crw/data/5km/v3/nc/v1/composite/daily/7day/baa-max/2017/b5km_baa-max-7d_20171224.nc\n",
      "downloading ftp://ftp.star.nesdis.noaa.gov/pub/sod/mecb/crw/data/5km/v3/nc/v1/composite/daily/7day/baa-max/2017/b5km_baa-max-7d_20171231.nc\n"
     ]
    }
   ],
   "source": [
    "for date_download in ldates: \n",
    "    dates = [date_download - timedelta(weeks=x) for x in range(4)]\n",
    "    dates.sort()\n",
    "    os.mkdir(os.path.join(opath, \"{:%Y%m}\".format(date_download)))\n",
    "    dpath = os.path.join(opath, \"{:%Y%m}\".format(date_download))\n",
    "    for date in dates: \n",
    "        filename = \"b5km_baa-max-7d_{:%Y%m%d}.nc\".format(date)\n",
    "        url = \"{}/{:%Y}\".format(base_url, date)\n",
    "        print(\"downloading {}/{}\".format(url, filename))\n",
    "        cmd = 'curl --silent {}/{} -o {}/{}'.format(url, filename, dpath, filename) \n",
    "        r = call(cmd, shell=True)\n",
    "        if r != 0:\n",
    "            print(\"something went wrong with the download of {}/{}\".format(url, filename))"
   ]
  },
  {
   "cell_type": "code",
   "execution_count": null,
   "metadata": {},
   "outputs": [],
   "source": []
  }
 ],
 "metadata": {
  "kernelspec": {
   "display_name": "Python 3",
   "language": "python",
   "name": "python3"
  },
  "language_info": {
   "codemirror_mode": {
    "name": "ipython",
    "version": 3
   },
   "file_extension": ".py",
   "mimetype": "text/x-python",
   "name": "python",
   "nbconvert_exporter": "python",
   "pygments_lexer": "ipython3",
   "version": "3.5.4"
  },
  "latex_envs": {
   "LaTeX_envs_menu_present": true,
   "autocomplete": true,
   "bibliofile": "biblio.bib",
   "cite_by": "apalike",
   "current_citInitial": 1,
   "eqLabelWithNumbers": true,
   "eqNumInitial": 1,
   "hotkeys": {
    "equation": "Ctrl-E",
    "itemize": "Ctrl-I"
   },
   "labels_anchors": false,
   "latex_user_defs": false,
   "report_style_numbering": false,
   "user_envs_cfg": false
  },
  "toc": {
   "colors": {
    "hover_highlight": "#DAA520",
    "running_highlight": "#FF0000",
    "selected_highlight": "#FFD700"
   },
   "moveMenuLeft": true,
   "nav_menu": {
    "height": "12px",
    "width": "252px"
   },
   "navigate_menu": true,
   "number_sections": true,
   "sideBar": true,
   "threshold": 4,
   "toc_cell": false,
   "toc_section_display": "block",
   "toc_window_display": false,
   "widenNotebook": false
  }
 },
 "nbformat": 4,
 "nbformat_minor": 2
}
