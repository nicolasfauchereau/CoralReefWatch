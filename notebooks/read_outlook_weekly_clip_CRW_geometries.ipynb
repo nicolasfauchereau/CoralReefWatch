{
 "cells": [
  {
   "cell_type": "code",
   "execution_count": 120,
   "metadata": {},
   "outputs": [],
   "source": [
    "%matplotlib inline\n",
    "import os\n",
    "import sys\n",
    "import numpy as np\n",
    "import pandas as pd\n",
    "from matplotlib import pyplot as plt\n",
    "import xarray as xr"
   ]
  },
  {
   "cell_type": "code",
   "execution_count": 126,
   "metadata": {},
   "outputs": [],
   "source": [
    "import ftplib"
   ]
  },
  {
   "cell_type": "code",
   "execution_count": 121,
   "metadata": {},
   "outputs": [],
   "source": [
    "from datetime import date, datetime, timedelta"
   ]
  },
  {
   "cell_type": "code",
   "execution_count": 122,
   "metadata": {},
   "outputs": [],
   "source": [
    "from dateutil import parser"
   ]
  },
  {
   "cell_type": "code",
   "execution_count": 123,
   "metadata": {},
   "outputs": [],
   "source": [
    "import salem"
   ]
  },
  {
   "cell_type": "code",
   "execution_count": 124,
   "metadata": {},
   "outputs": [],
   "source": [
    "from subprocess import call"
   ]
  },
  {
   "cell_type": "code",
   "execution_count": 125,
   "metadata": {},
   "outputs": [],
   "source": [
    "def list_files(ftp_connection):\n",
    "    files = []\n",
    " \n",
    "    def dir_callback(line):\n",
    "        bits = line.split()\n",
    " \n",
    "        if ('d' not in bits[0]):\n",
    "            files.append(bits[-1])\n",
    " \n",
    "    ftp_connection.dir(dir_callback)\n",
    "    return files"
   ]
  },
  {
   "cell_type": "markdown",
   "metadata": {},
   "source": [
    "### download the CFSv2 outlook"
   ]
  },
  {
   "cell_type": "code",
   "execution_count": 106,
   "metadata": {},
   "outputs": [],
   "source": [
    "today_UTC = date.today()"
   ]
  },
  {
   "cell_type": "code",
   "execution_count": 107,
   "metadata": {},
   "outputs": [
    {
     "data": {
      "text/plain": [
       "datetime.date(2018, 1, 5)"
      ]
     },
     "execution_count": 107,
     "metadata": {},
     "output_type": "execute_result"
    }
   ],
   "source": [
    "today_UTC"
   ]
  },
  {
   "cell_type": "markdown",
   "metadata": {},
   "source": [
    "### connect to the FTP server, and retrieve the list of files in the last directory"
   ]
  },
  {
   "cell_type": "code",
   "execution_count": 133,
   "metadata": {},
   "outputs": [],
   "source": [
    "ftp = ftplib.FTP(\"ftp.star.nesdis.noaa.gov\")"
   ]
  },
  {
   "cell_type": "code",
   "execution_count": 134,
   "metadata": {},
   "outputs": [
    {
     "data": {
      "text/plain": [
       "'230 Anonymous access granted, restrictions apply'"
      ]
     },
     "execution_count": 134,
     "metadata": {},
     "output_type": "execute_result"
    }
   ],
   "source": [
    "ftp.login(\"anonymous\", \"anonymous\")"
   ]
  },
  {
   "cell_type": "code",
   "execution_count": 135,
   "metadata": {},
   "outputs": [
    {
     "data": {
      "text/plain": [
       "'250 CWD command successful'"
      ]
     },
     "execution_count": 135,
     "metadata": {},
     "output_type": "execute_result"
    }
   ],
   "source": [
    "ftp.cwd(\"pub/sod/mecb/crw/data/outlook/v4/nc/v1/outlook/2017\")"
   ]
  },
  {
   "cell_type": "code",
   "execution_count": 136,
   "metadata": {},
   "outputs": [],
   "source": [
    "lfiles = list_files(ftp)"
   ]
  },
  {
   "cell_type": "markdown",
   "metadata": {},
   "source": [
    "### keep only the ones we want"
   ]
  },
  {
   "cell_type": "code",
   "execution_count": 138,
   "metadata": {},
   "outputs": [],
   "source": [
    "lfiles = [x for x in lfiles if '060' in x]"
   ]
  },
  {
   "cell_type": "code",
   "execution_count": 140,
   "metadata": {},
   "outputs": [],
   "source": [
    "lfiles.sort()"
   ]
  },
  {
   "cell_type": "code",
   "execution_count": 56,
   "metadata": {},
   "outputs": [],
   "source": [
    "url = \"ftp://ftp.star.nesdis.noaa.gov/pub/sod/mecb/crw/data/outlook/v4/nc/v1/outlook/2017/cfsv2_outlook-060perc_4mon-and-wkly_v4_icwk20171231_for_20180114to20180429.nc\""
   ]
  },
  {
   "cell_type": "code",
   "execution_count": 57,
   "metadata": {},
   "outputs": [],
   "source": [
    "dates = url.split('_')[-1].split(\".\")[-2].split(\"to\")"
   ]
  },
  {
   "cell_type": "code",
   "execution_count": 58,
   "metadata": {},
   "outputs": [
    {
     "data": {
      "text/plain": [
       "['20180114', '20180429']"
      ]
     },
     "execution_count": 58,
     "metadata": {},
     "output_type": "execute_result"
    }
   ],
   "source": [
    "dates"
   ]
  },
  {
   "cell_type": "code",
   "execution_count": 59,
   "metadata": {},
   "outputs": [],
   "source": [
    "dates = list(map(parser.parse, dates))"
   ]
  },
  {
   "cell_type": "code",
   "execution_count": 60,
   "metadata": {},
   "outputs": [],
   "source": [
    "dates_range = pd.date_range(start=dates[0], freq='7d', periods=12)"
   ]
  },
  {
   "cell_type": "code",
   "execution_count": 61,
   "metadata": {},
   "outputs": [
    {
     "data": {
      "text/plain": [
       "DatetimeIndex(['2018-01-14', '2018-01-21', '2018-01-28', '2018-02-04',\n",
       "               '2018-02-11', '2018-02-18', '2018-02-25', '2018-03-04',\n",
       "               '2018-03-11', '2018-03-18', '2018-03-25', '2018-04-01'],\n",
       "              dtype='datetime64[ns]', freq='7D')"
      ]
     },
     "execution_count": 61,
     "metadata": {},
     "output_type": "execute_result"
    }
   ],
   "source": [
    "dates_range"
   ]
  },
  {
   "cell_type": "code",
   "execution_count": 62,
   "metadata": {},
   "outputs": [],
   "source": [
    "opath = \"/Volumes/GDATA/data/CRW/outlook/\""
   ]
  },
  {
   "cell_type": "code",
   "execution_count": 63,
   "metadata": {},
   "outputs": [],
   "source": [
    "filename = url.split(\"/\")[-1]"
   ]
  },
  {
   "cell_type": "code",
   "execution_count": 64,
   "metadata": {},
   "outputs": [
    {
     "data": {
      "text/plain": [
       "'cfsv2_outlook-060perc_4mon-and-wkly_v4_icwk20171231_for_20180114to20180429.nc'"
      ]
     },
     "execution_count": 64,
     "metadata": {},
     "output_type": "execute_result"
    }
   ],
   "source": [
    "filename"
   ]
  },
  {
   "cell_type": "code",
   "execution_count": 65,
   "metadata": {},
   "outputs": [],
   "source": [
    "download = True"
   ]
  },
  {
   "cell_type": "code",
   "execution_count": 66,
   "metadata": {},
   "outputs": [],
   "source": [
    "if download:\n",
    "    cmd = \"curl --silent {} -o {}/{}\".format(url, opath, filename)\n",
    "    r = call(cmd, shell=True)"
   ]
  },
  {
   "cell_type": "code",
   "execution_count": 67,
   "metadata": {},
   "outputs": [],
   "source": [
    "dset = xr.open_dataset(os.path.join(opath, filename))"
   ]
  },
  {
   "cell_type": "code",
   "execution_count": 68,
   "metadata": {},
   "outputs": [
    {
     "data": {
      "text/plain": [
       "<xarray.Dataset>\n",
       "Dimensions:            (lat: 360, lon: 720, time: 1)\n",
       "Coordinates:\n",
       "  * time               (time) datetime64[ns] 2018-01-07T12:00:00\n",
       "  * lat                (lat) float32 89.75 89.25 88.75 88.25 87.75 87.25 ...\n",
       "  * lon                (lon) float32 0.25 0.75 1.25 1.75 2.25 2.75 3.25 3.75 ...\n",
       "Data variables:\n",
       "    surface_flag       (lat, lon) int8 ...\n",
       "    CRW_BAA_FourMonth  (time, lat, lon) float64 ...\n",
       "    CRW_BAA_Week_01    (time, lat, lon) float64 ...\n",
       "    CRW_BAA_Week_02    (time, lat, lon) float64 ...\n",
       "    CRW_BAA_Week_03    (time, lat, lon) float64 ...\n",
       "    CRW_BAA_Week_04    (time, lat, lon) float64 ...\n",
       "    CRW_BAA_Week_05    (time, lat, lon) float64 ...\n",
       "    CRW_BAA_Week_06    (time, lat, lon) float64 ...\n",
       "    CRW_BAA_Week_07    (time, lat, lon) float64 ...\n",
       "    CRW_BAA_Week_08    (time, lat, lon) float64 ...\n",
       "    CRW_BAA_Week_09    (time, lat, lon) float64 ...\n",
       "    CRW_BAA_Week_10    (time, lat, lon) float64 ...\n",
       "    CRW_BAA_Week_11    (time, lat, lon) float64 ...\n",
       "    CRW_BAA_Week_12    (time, lat, lon) float64 ...\n",
       "    CRW_BAA_Week_13    (time, lat, lon) float64 ...\n",
       "    CRW_BAA_Week_14    (time, lat, lon) float64 ...\n",
       "    CRW_BAA_Week_15    (time, lat, lon) float64 ...\n",
       "    CRW_BAA_Week_16    (time, lat, lon) float64 ...\n",
       "    CRW_BAA_Week_17    (time, lat, lon) float64 ...\n",
       "    CRW_BAA_Week_18    (time, lat, lon) float64 ...\n",
       "    CRW_BAA_Week_19    (time, lat, lon) float64 ...\n",
       "    CRW_BAA_Week_20    (time, lat, lon) float64 ...\n",
       "    crs                int16 ...\n",
       "Attributes:\n",
       "    Conventions:                CF-1.6, ACDD-1.3, Unidata Observation Dataset...\n",
       "    ncei_template_version:      NCEI_NetCDF_Grid_Template_v2.0\n",
       "    title:                      NOAA Coral Reef Watch 2 Jan 2018 Global 0.5-d...\n",
       "    summary:                    This is a product of NOAA Coral Reef Watch gl...\n",
       "    references:                 https://coralreefwatch.noaa.gov/satellite/ble...\n",
       "    institution:                NOAA/NESDIS/STAR Coral Reef Watch program\n",
       "    history:                    This data file is based on NOAA Coral Reef Wa...\n",
       "    comment:                    This product is a product of the Coral Reef W...\n",
       "    license:                    The data are available for use without restri...\n",
       "    id:                         NOAA_CoralReefWatch_Global_Four_Month_Coral_B...\n",
       "    naming_authority:           gov.noaa.coralreefwatch\n",
       "    product_version:            4.0\n",
       "    product_netcdf_version:     1.0\n",
       "    uuid:                       a638114f-bb6d-4837-a4f0-f168b6395539\n",
       "    gds_version_id:             2.0\n",
       "    netcdf_version_id:          4.1.2\n",
       "    date_created:               20160830T120000Z\n",
       "    date_issued:                20180102T170731Z\n",
       "    date_modified:              20180102T170731Z\n",
       "    date_metadata_modified:     20180102T170731Z\n",
       "    start_time:                 20180108T000000Z\n",
       "    time_coverage_start:        20180108T000000Z\n",
       "    time_coverage_duration:     P4M\n",
       "    stop_time:                  20180430T000000Z\n",
       "    time_coverage_end:          20180430T000000Z\n",
       "    time_coverage_resolution:   P4M\n",
       "    description_time:           Contents of the global time attributes (start...\n",
       "    source:                     This Outlook product was based on the sea sur...\n",
       "    metadata_link:              https://coralreefwatch.noaa.gov/satellite/ble...\n",
       "    keywords:                   Oceans > Ocean Temperature > Bleaching Alert ...\n",
       "    keywords_vocabulary:        NASA Global Change Master Directory (GCMD) Sc...\n",
       "    standard_name_vocabulary:   NetCDF Climate and Forecast (CF) Metadata Con...\n",
       "    geospatial_bounds:          POLYGON((-90.0 0.0, 90.0 0.0, 90.0 360.0, -90...\n",
       "    geospatial_bounds_crs:      EPSG:4326\n",
       "    geospatial_lon_min:         0.0\n",
       "    geospatial_lon_max:         360.0\n",
       "    geospatial_lat_min:         -90.0\n",
       "    geospatial_lat_max:         90.0\n",
       "    spatial_resolution:         0.5 degrees\n",
       "    geospatial_lat_units:       degrees north\n",
       "    geospatial_lat_resolution:  0.5\n",
       "    geospatial_lon_units:       degrees east\n",
       "    geospatial_lon_resolution:  0.5\n",
       "    acknowledgment:             NOAA Coral Reef Watch program\n",
       "    creator_type:               group\n",
       "    creator_institution:        NOAA/NESDIS/STAR\n",
       "    creator_name:               NOAA Coral Reef Watch program\n",
       "    creator_email:              coralreefwatch@noaa.gov\n",
       "    creator_url:                https://coralreefwatch.noaa.gov\n",
       "    project:                    NOAA Coral Reef Watch program\n",
       "    program:                    NOAA Coral Reef Watch program\n",
       "    publisher_type:             group\n",
       "    publisher_institution:      NOAA/NESDIS/STAR\n",
       "    publisher_name:             NOAA Coral Reef Watch program\n",
       "    publisher_url:              https://coralreefwatch.noaa.gov\n",
       "    publisher_email:            coralreefwatch@noaa.gov\n",
       "    contributor_name:           NOAA Coral Reef Watch program\n",
       "    contributor_role:           Collecting source data and deriving products;...\n",
       "    processing_level:           L4\n",
       "    cdm_data_type:              Grid"
      ]
     },
     "execution_count": 68,
     "metadata": {},
     "output_type": "execute_result"
    }
   ],
   "source": [
    "dset"
   ]
  },
  {
   "cell_type": "code",
   "execution_count": 69,
   "metadata": {},
   "outputs": [],
   "source": [
    "dset = dset.squeeze()"
   ]
  },
  {
   "cell_type": "code",
   "execution_count": 70,
   "metadata": {},
   "outputs": [
    {
     "data": {
      "text/plain": [
       "<xarray.Dataset>\n",
       "Dimensions:            (lat: 360, lon: 720)\n",
       "Coordinates:\n",
       "    time               datetime64[ns] 2018-01-07T12:00:00\n",
       "  * lat                (lat) float32 89.75 89.25 88.75 88.25 87.75 87.25 ...\n",
       "  * lon                (lon) float32 0.25 0.75 1.25 1.75 2.25 2.75 3.25 3.75 ...\n",
       "Data variables:\n",
       "    surface_flag       (lat, lon) int8 ...\n",
       "    CRW_BAA_FourMonth  (lat, lon) float64 ...\n",
       "    CRW_BAA_Week_01    (lat, lon) float64 ...\n",
       "    CRW_BAA_Week_02    (lat, lon) float64 ...\n",
       "    CRW_BAA_Week_03    (lat, lon) float64 ...\n",
       "    CRW_BAA_Week_04    (lat, lon) float64 ...\n",
       "    CRW_BAA_Week_05    (lat, lon) float64 ...\n",
       "    CRW_BAA_Week_06    (lat, lon) float64 ...\n",
       "    CRW_BAA_Week_07    (lat, lon) float64 ...\n",
       "    CRW_BAA_Week_08    (lat, lon) float64 ...\n",
       "    CRW_BAA_Week_09    (lat, lon) float64 ...\n",
       "    CRW_BAA_Week_10    (lat, lon) float64 ...\n",
       "    CRW_BAA_Week_11    (lat, lon) float64 ...\n",
       "    CRW_BAA_Week_12    (lat, lon) float64 ...\n",
       "    CRW_BAA_Week_13    (lat, lon) float64 ...\n",
       "    CRW_BAA_Week_14    (lat, lon) float64 ...\n",
       "    CRW_BAA_Week_15    (lat, lon) float64 ...\n",
       "    CRW_BAA_Week_16    (lat, lon) float64 ...\n",
       "    CRW_BAA_Week_17    (lat, lon) float64 ...\n",
       "    CRW_BAA_Week_18    (lat, lon) float64 ...\n",
       "    CRW_BAA_Week_19    (lat, lon) float64 ...\n",
       "    CRW_BAA_Week_20    (lat, lon) float64 ...\n",
       "    crs                int16 ...\n",
       "Attributes:\n",
       "    Conventions:                CF-1.6, ACDD-1.3, Unidata Observation Dataset...\n",
       "    ncei_template_version:      NCEI_NetCDF_Grid_Template_v2.0\n",
       "    title:                      NOAA Coral Reef Watch 2 Jan 2018 Global 0.5-d...\n",
       "    summary:                    This is a product of NOAA Coral Reef Watch gl...\n",
       "    references:                 https://coralreefwatch.noaa.gov/satellite/ble...\n",
       "    institution:                NOAA/NESDIS/STAR Coral Reef Watch program\n",
       "    history:                    This data file is based on NOAA Coral Reef Wa...\n",
       "    comment:                    This product is a product of the Coral Reef W...\n",
       "    license:                    The data are available for use without restri...\n",
       "    id:                         NOAA_CoralReefWatch_Global_Four_Month_Coral_B...\n",
       "    naming_authority:           gov.noaa.coralreefwatch\n",
       "    product_version:            4.0\n",
       "    product_netcdf_version:     1.0\n",
       "    uuid:                       a638114f-bb6d-4837-a4f0-f168b6395539\n",
       "    gds_version_id:             2.0\n",
       "    netcdf_version_id:          4.1.2\n",
       "    date_created:               20160830T120000Z\n",
       "    date_issued:                20180102T170731Z\n",
       "    date_modified:              20180102T170731Z\n",
       "    date_metadata_modified:     20180102T170731Z\n",
       "    start_time:                 20180108T000000Z\n",
       "    time_coverage_start:        20180108T000000Z\n",
       "    time_coverage_duration:     P4M\n",
       "    stop_time:                  20180430T000000Z\n",
       "    time_coverage_end:          20180430T000000Z\n",
       "    time_coverage_resolution:   P4M\n",
       "    description_time:           Contents of the global time attributes (start...\n",
       "    source:                     This Outlook product was based on the sea sur...\n",
       "    metadata_link:              https://coralreefwatch.noaa.gov/satellite/ble...\n",
       "    keywords:                   Oceans > Ocean Temperature > Bleaching Alert ...\n",
       "    keywords_vocabulary:        NASA Global Change Master Directory (GCMD) Sc...\n",
       "    standard_name_vocabulary:   NetCDF Climate and Forecast (CF) Metadata Con...\n",
       "    geospatial_bounds:          POLYGON((-90.0 0.0, 90.0 0.0, 90.0 360.0, -90...\n",
       "    geospatial_bounds_crs:      EPSG:4326\n",
       "    geospatial_lon_min:         0.0\n",
       "    geospatial_lon_max:         360.0\n",
       "    geospatial_lat_min:         -90.0\n",
       "    geospatial_lat_max:         90.0\n",
       "    spatial_resolution:         0.5 degrees\n",
       "    geospatial_lat_units:       degrees north\n",
       "    geospatial_lat_resolution:  0.5\n",
       "    geospatial_lon_units:       degrees east\n",
       "    geospatial_lon_resolution:  0.5\n",
       "    acknowledgment:             NOAA Coral Reef Watch program\n",
       "    creator_type:               group\n",
       "    creator_institution:        NOAA/NESDIS/STAR\n",
       "    creator_name:               NOAA Coral Reef Watch program\n",
       "    creator_email:              coralreefwatch@noaa.gov\n",
       "    creator_url:                https://coralreefwatch.noaa.gov\n",
       "    project:                    NOAA Coral Reef Watch program\n",
       "    program:                    NOAA Coral Reef Watch program\n",
       "    publisher_type:             group\n",
       "    publisher_institution:      NOAA/NESDIS/STAR\n",
       "    publisher_name:             NOAA Coral Reef Watch program\n",
       "    publisher_url:              https://coralreefwatch.noaa.gov\n",
       "    publisher_email:            coralreefwatch@noaa.gov\n",
       "    contributor_name:           NOAA Coral Reef Watch program\n",
       "    contributor_role:           Collecting source data and deriving products;...\n",
       "    processing_level:           L4\n",
       "    cdm_data_type:              Grid"
      ]
     },
     "execution_count": 70,
     "metadata": {},
     "output_type": "execute_result"
    }
   ],
   "source": [
    "dset"
   ]
  },
  {
   "cell_type": "code",
   "execution_count": 71,
   "metadata": {},
   "outputs": [
    {
     "data": {
      "text/plain": [
       "<matplotlib.collections.QuadMesh at 0x123e58128>"
      ]
     },
     "execution_count": 71,
     "metadata": {},
     "output_type": "execute_result"
    },
    {
     "data": {
      "image/png": "[encoded data removed]",
      "text/plain": [
       "<matplotlib.figure.Figure at 0x124190390>"
      ]
     },
     "metadata": {},
     "output_type": "display_data"
    }
   ],
   "source": [
    "dset['CRW_BAA_Week_04'].plot()"
   ]
  },
  {
   "cell_type": "code",
   "execution_count": 72,
   "metadata": {},
   "outputs": [],
   "source": [
    "dset = dset.sel(lon=slice(100, 300), lat=slice(50, -50))"
   ]
  },
  {
   "cell_type": "code",
   "execution_count": 73,
   "metadata": {},
   "outputs": [],
   "source": [
    "variables = [\"CRW_BAA_Week_{:02d}\".format(x) for x in range(2, 14)]"
   ]
  },
  {
   "cell_type": "code",
   "execution_count": 74,
   "metadata": {},
   "outputs": [
    {
     "data": {
      "text/plain": [
       "['CRW_BAA_Week_02',\n",
       " 'CRW_BAA_Week_03',\n",
       " 'CRW_BAA_Week_04',\n",
       " 'CRW_BAA_Week_05',\n",
       " 'CRW_BAA_Week_06',\n",
       " 'CRW_BAA_Week_07',\n",
       " 'CRW_BAA_Week_08',\n",
       " 'CRW_BAA_Week_09',\n",
       " 'CRW_BAA_Week_10',\n",
       " 'CRW_BAA_Week_11',\n",
       " 'CRW_BAA_Week_12',\n",
       " 'CRW_BAA_Week_13']"
      ]
     },
     "execution_count": 74,
     "metadata": {},
     "output_type": "execute_result"
    }
   ],
   "source": [
    "variables"
   ]
  },
  {
   "cell_type": "code",
   "execution_count": 75,
   "metadata": {},
   "outputs": [
    {
     "data": {
      "text/plain": [
       "<matplotlib.collections.QuadMesh at 0x12421ab38>"
      ]
     },
     "execution_count": 75,
     "metadata": {},
     "output_type": "execute_result"
    },
    {
     "data": {
      "image/png": "[encoded data removed]",
      "text/plain": [
       "<matplotlib.figure.Figure at 0x124193400>"
      ]
     },
     "metadata": {},
     "output_type": "display_data"
    }
   ],
   "source": [
    "dset['surface_flag'].plot()"
   ]
  },
  {
   "cell_type": "code",
   "execution_count": 76,
   "metadata": {},
   "outputs": [
    {
     "data": {
      "text/plain": [
       "<matplotlib.collections.QuadMesh at 0x124ba7550>"
      ]
     },
     "execution_count": 76,
     "metadata": {},
     "output_type": "execute_result"
    },
    {
     "data": {
      "image/png": "[encoded data removed]",
      "text/plain": [
       "<matplotlib.figure.Figure at 0x1244509b0>"
      ]
     },
     "metadata": {},
     "output_type": "display_data"
    }
   ],
   "source": [
    "dset['CRW_BAA_FourMonth'].plot()"
   ]
  },
  {
   "cell_type": "code",
   "execution_count": 77,
   "metadata": {},
   "outputs": [],
   "source": [
    "dset = dset[variables]"
   ]
  },
  {
   "cell_type": "code",
   "execution_count": 78,
   "metadata": {},
   "outputs": [],
   "source": [
    "l = [] \n",
    "for v in variables: \n",
    "    d = dset[v]\n",
    "    d.name = 'CRW_BAA'\n",
    "    l.append(d)"
   ]
  },
  {
   "cell_type": "code",
   "execution_count": 79,
   "metadata": {
    "run_control": {
     "marked": false
    }
   },
   "outputs": [],
   "source": [
    "dset = xr.concat(l, dim='time')"
   ]
  },
  {
   "cell_type": "code",
   "execution_count": 80,
   "metadata": {},
   "outputs": [],
   "source": [
    "dset['time'] = (('time'), dates_range)"
   ]
  },
  {
   "cell_type": "code",
   "execution_count": 81,
   "metadata": {},
   "outputs": [
    {
     "data": {
      "text/plain": [
       "<xarray.DataArray 'CRW_BAA' (time: 12, lat: 200, lon: 400)>\n",
       "array([[[ nan,  nan, ...,   0.,   0.],\n",
       "        [ nan,  nan, ...,   0.,   0.],\n",
       "        ..., \n",
       "        [  0.,   0., ...,   0.,   0.],\n",
       "        [  1.,   1., ...,   0.,   0.]],\n",
       "\n",
       "       [[ nan,  nan, ...,   0.,   0.],\n",
       "        [ nan,  nan, ...,   0.,   0.],\n",
       "        ..., \n",
       "        [  1.,   1., ...,   0.,   0.],\n",
       "        [  1.,   1., ...,   0.,   0.]],\n",
       "\n",
       "       ..., \n",
       "       [[ nan,  nan, ...,   0.,   0.],\n",
       "        [ nan,  nan, ...,   0.,   0.],\n",
       "        ..., \n",
       "        [  3.,   3., ...,   0.,   0.],\n",
       "        [  4.,   3., ...,   0.,   0.]],\n",
       "\n",
       "       [[ nan,  nan, ...,   0.,   0.],\n",
       "        [ nan,  nan, ...,   0.,   0.],\n",
       "        ..., \n",
       "        [  4.,   3., ...,   0.,   0.],\n",
       "        [  4.,   4., ...,   0.,   0.]]])\n",
       "Coordinates:\n",
       "  * lon      (lon) float32 100.25 100.75 101.25 101.75 102.25 102.75 103.25 ...\n",
       "  * lat      (lat) float32 49.75 49.25 48.75 48.25 47.75 47.25 46.75 46.25 ...\n",
       "  * time     (time) datetime64[ns] 2018-01-14 2018-01-21 2018-01-28 ...\n",
       "Attributes:\n",
       "    long_name:              predicted bleaching alert area at  60% probabilit...\n",
       "    valid_min:              0\n",
       "    valid_max:              4\n",
       "    reference:              https://coralreefwatch.noaa.gov/satellite/bleachi...\n",
       "    source:                 This Outlook product was based on the sea surface...\n",
       "    comment:                Predicted Bleaching Alert Area for each ocean gri...\n",
       "    coverage_content_type:  thematicClassification\n",
       "    grid_mapping:           crs"
      ]
     },
     "execution_count": 81,
     "metadata": {},
     "output_type": "execute_result"
    }
   ],
   "source": [
    "dset"
   ]
  },
  {
   "cell_type": "code",
   "execution_count": 82,
   "metadata": {},
   "outputs": [],
   "source": [
    "from glob import glob"
   ]
  },
  {
   "cell_type": "code",
   "execution_count": 83,
   "metadata": {},
   "outputs": [],
   "source": [
    "lfiles = glob(\"../shapefiles/shapes_*_converted.shp\")"
   ]
  },
  {
   "cell_type": "code",
   "execution_count": 84,
   "metadata": {},
   "outputs": [
    {
     "data": {
      "text/plain": [
       "['../shapefiles/shapes_Nauru_converted.shp',\n",
       " '../shapefiles/shapes_Northern_Cook_Islands_converted.shp',\n",
       " '../shapefiles/shapes_Pitcairn_Islands_converted.shp',\n",
       " '../shapefiles/shapes_Tonga_converted.shp',\n",
       " '../shapefiles/shapes_Niue_converted.shp',\n",
       " '../shapefiles/shapes_Kiribati_Gilbert_Islands_converted.shp',\n",
       " '../shapefiles/shapes_Wallis_&_Futuna_converted.shp',\n",
       " '../shapefiles/shapes_Marshall_Islands_converted.shp',\n",
       " '../shapefiles/shapes_Vanuatu_North_converted.shp',\n",
       " '../shapefiles/shapes_New_Caledonia_converted.shp',\n",
       " '../shapefiles/shapes_Palau_converted.shp',\n",
       " '../shapefiles/shapes_Austral_Islands_converted.shp',\n",
       " '../shapefiles/shapes_Tuamotu__Gambier_Islands_converted.shp',\n",
       " '../shapefiles/shapes_Vanuatu_South_converted.shp',\n",
       " '../shapefiles/shapes_Samoa_converted.shp',\n",
       " '../shapefiles/shapes_Guam_converted.shp',\n",
       " '../shapefiles/shapes_Northern_Marianas_converted.shp',\n",
       " '../shapefiles/shapes_Southern_Cook_Islands_converted.shp',\n",
       " '../shapefiles/shapes_Solomon_Islands_converted.shp',\n",
       " '../shapefiles/shapes_American_Samoa_converted.shp',\n",
       " '../shapefiles/shapes_Tuvalu_converted.shp',\n",
       " '../shapefiles/shapes_Federated_States_of_Micronesia_converted.shp',\n",
       " '../shapefiles/shapes_Society_Islands_converted.shp',\n",
       " '../shapefiles/shapes_Kiribati_Line_Islands_converted.shp',\n",
       " '../shapefiles/shapes_Fiji_converted.shp',\n",
       " '../shapefiles/shapes_Kiribati_Phoenix_Islands_converted.shp',\n",
       " '../shapefiles/shapes_Marquesas_converted.shp',\n",
       " '../shapefiles/shapes_Papua_New_Guinea_converted.shp',\n",
       " '../shapefiles/shapes_Tokelau_converted.shp']"
      ]
     },
     "execution_count": 84,
     "metadata": {},
     "output_type": "execute_result"
    }
   ],
   "source": [
    "lfiles"
   ]
  },
  {
   "cell_type": "code",
   "execution_count": 85,
   "metadata": {},
   "outputs": [],
   "source": [
    "dates_e = []\n",
    "df_dates = []\n",
    "for t in range(len(dset.time)): \n",
    "    df_country = {}\n",
    "    dset_w = dset.isel(time=t)\n",
    "    dates_e.append(pd.to_datetime(dset_w.time.data))\n",
    "    for f in lfiles:\n",
    "        country_name = f.split('/')[-1].split(\".\")[-2].replace(\"shapes_\",\"\").replace(\"_converted\",\"\")\n",
    "#         print(\"processing {}\".format(country_name))\n",
    "        sh_country = salem.read_shapefile(f)\n",
    "        d_subset = dset_w.salem.subset(shape=sh_country, margin=2)\n",
    "        d_subset_roi = d_subset.salem.roi(shape=sh_country) \n",
    "        d_subset_roi_stacked = d_subset_roi.stack(z=('lat','lon'))\n",
    "        df = d_subset_roi_stacked.to_dataframe() \n",
    "        df = df.dropna()\n",
    "        summary_df = df.describe(percentiles=[0.1, 0.25, 0.5, 0.6, 0.7, 0.8, 0.9])\n",
    "        df_country[country_name] = int(summary_df.loc['90%',:][0])\n",
    "#     df_dates.append(pd.DataFrame(df_country, index=[\"{:%Y-%m-%d}\".format(pd.to_datetime(dset_w.time.data))]))\n",
    "    df_dates.append(pd.DataFrame(df_country, index=[pd.to_datetime(dset_w.time.data)]))"
   ]
  },
  {
   "cell_type": "code",
   "execution_count": 86,
   "metadata": {},
   "outputs": [],
   "source": [
    "df = pd.concat(df_dates, axis=0)"
   ]
  },
  {
   "cell_type": "code",
   "execution_count": 87,
   "metadata": {},
   "outputs": [
    {
     "data": {
      "text/html": [
       "<div>\n",
       "<style scoped>\n",
       "    .dataframe tbody tr th:only-of-type {\n",
       "        vertical-align: middle;\n",
       "    }\n",
       "\n",
       "    .dataframe tbody tr th {\n",
       "        vertical-align: top;\n",
       "    }\n",
       "\n",
       "    .dataframe thead th {\n",
       "        text-align: right;\n",
       "    }\n",
       "</style>\n",
       "<table border=\"1\" class=\"dataframe\">\n",
       "  <thead>\n",
       "    <tr style=\"text-align: right;\">\n",
       "      <th></th>\n",
       "      <th>American_Samoa</th>\n",
       "      <th>Austral_Islands</th>\n",
       "      <th>Federated_States_of_Micronesia</th>\n",
       "      <th>Fiji</th>\n",
       "      <th>Guam</th>\n",
       "      <th>Kiribati_Gilbert_Islands</th>\n",
       "      <th>Kiribati_Line_Islands</th>\n",
       "      <th>Kiribati_Phoenix_Islands</th>\n",
       "      <th>Marquesas</th>\n",
       "      <th>Marshall_Islands</th>\n",
       "      <th>...</th>\n",
       "      <th>Society_Islands</th>\n",
       "      <th>Solomon_Islands</th>\n",
       "      <th>Southern_Cook_Islands</th>\n",
       "      <th>Tokelau</th>\n",
       "      <th>Tonga</th>\n",
       "      <th>Tuamotu__Gambier_Islands</th>\n",
       "      <th>Tuvalu</th>\n",
       "      <th>Vanuatu_North</th>\n",
       "      <th>Vanuatu_South</th>\n",
       "      <th>Wallis_&amp;_Futuna</th>\n",
       "    </tr>\n",
       "  </thead>\n",
       "  <tbody>\n",
       "    <tr>\n",
       "      <th>2018-01-14</th>\n",
       "      <td>1</td>\n",
       "      <td>0</td>\n",
       "      <td>0</td>\n",
       "      <td>1</td>\n",
       "      <td>0</td>\n",
       "      <td>0</td>\n",
       "      <td>0</td>\n",
       "      <td>0</td>\n",
       "      <td>0</td>\n",
       "      <td>0</td>\n",
       "      <td>...</td>\n",
       "      <td>1</td>\n",
       "      <td>2</td>\n",
       "      <td>1</td>\n",
       "      <td>0</td>\n",
       "      <td>1</td>\n",
       "      <td>1</td>\n",
       "      <td>1</td>\n",
       "      <td>1</td>\n",
       "      <td>1</td>\n",
       "      <td>1</td>\n",
       "    </tr>\n",
       "    <tr>\n",
       "      <th>2018-01-21</th>\n",
       "      <td>2</td>\n",
       "      <td>1</td>\n",
       "      <td>0</td>\n",
       "      <td>2</td>\n",
       "      <td>0</td>\n",
       "      <td>0</td>\n",
       "      <td>0</td>\n",
       "      <td>0</td>\n",
       "      <td>0</td>\n",
       "      <td>0</td>\n",
       "      <td>...</td>\n",
       "      <td>1</td>\n",
       "      <td>3</td>\n",
       "      <td>1</td>\n",
       "      <td>1</td>\n",
       "      <td>1</td>\n",
       "      <td>1</td>\n",
       "      <td>1</td>\n",
       "      <td>1</td>\n",
       "      <td>1</td>\n",
       "      <td>2</td>\n",
       "    </tr>\n",
       "    <tr>\n",
       "      <th>2018-01-28</th>\n",
       "      <td>2</td>\n",
       "      <td>1</td>\n",
       "      <td>0</td>\n",
       "      <td>2</td>\n",
       "      <td>0</td>\n",
       "      <td>0</td>\n",
       "      <td>0</td>\n",
       "      <td>0</td>\n",
       "      <td>0</td>\n",
       "      <td>0</td>\n",
       "      <td>...</td>\n",
       "      <td>1</td>\n",
       "      <td>3</td>\n",
       "      <td>1</td>\n",
       "      <td>1</td>\n",
       "      <td>2</td>\n",
       "      <td>1</td>\n",
       "      <td>1</td>\n",
       "      <td>1</td>\n",
       "      <td>1</td>\n",
       "      <td>2</td>\n",
       "    </tr>\n",
       "    <tr>\n",
       "      <th>2018-02-04</th>\n",
       "      <td>2</td>\n",
       "      <td>1</td>\n",
       "      <td>0</td>\n",
       "      <td>2</td>\n",
       "      <td>0</td>\n",
       "      <td>0</td>\n",
       "      <td>0</td>\n",
       "      <td>0</td>\n",
       "      <td>0</td>\n",
       "      <td>0</td>\n",
       "      <td>...</td>\n",
       "      <td>1</td>\n",
       "      <td>3</td>\n",
       "      <td>2</td>\n",
       "      <td>1</td>\n",
       "      <td>2</td>\n",
       "      <td>1</td>\n",
       "      <td>2</td>\n",
       "      <td>2</td>\n",
       "      <td>2</td>\n",
       "      <td>2</td>\n",
       "    </tr>\n",
       "    <tr>\n",
       "      <th>2018-02-11</th>\n",
       "      <td>2</td>\n",
       "      <td>1</td>\n",
       "      <td>0</td>\n",
       "      <td>3</td>\n",
       "      <td>0</td>\n",
       "      <td>0</td>\n",
       "      <td>0</td>\n",
       "      <td>0</td>\n",
       "      <td>0</td>\n",
       "      <td>0</td>\n",
       "      <td>...</td>\n",
       "      <td>1</td>\n",
       "      <td>3</td>\n",
       "      <td>2</td>\n",
       "      <td>1</td>\n",
       "      <td>2</td>\n",
       "      <td>1</td>\n",
       "      <td>2</td>\n",
       "      <td>2</td>\n",
       "      <td>2</td>\n",
       "      <td>3</td>\n",
       "    </tr>\n",
       "    <tr>\n",
       "      <th>2018-02-18</th>\n",
       "      <td>3</td>\n",
       "      <td>1</td>\n",
       "      <td>0</td>\n",
       "      <td>3</td>\n",
       "      <td>0</td>\n",
       "      <td>0</td>\n",
       "      <td>0</td>\n",
       "      <td>0</td>\n",
       "      <td>0</td>\n",
       "      <td>0</td>\n",
       "      <td>...</td>\n",
       "      <td>1</td>\n",
       "      <td>3</td>\n",
       "      <td>2</td>\n",
       "      <td>0</td>\n",
       "      <td>2</td>\n",
       "      <td>1</td>\n",
       "      <td>1</td>\n",
       "      <td>2</td>\n",
       "      <td>2</td>\n",
       "      <td>3</td>\n",
       "    </tr>\n",
       "    <tr>\n",
       "      <th>2018-02-25</th>\n",
       "      <td>3</td>\n",
       "      <td>1</td>\n",
       "      <td>0</td>\n",
       "      <td>3</td>\n",
       "      <td>0</td>\n",
       "      <td>0</td>\n",
       "      <td>0</td>\n",
       "      <td>0</td>\n",
       "      <td>0</td>\n",
       "      <td>0</td>\n",
       "      <td>...</td>\n",
       "      <td>2</td>\n",
       "      <td>3</td>\n",
       "      <td>2</td>\n",
       "      <td>0</td>\n",
       "      <td>3</td>\n",
       "      <td>1</td>\n",
       "      <td>1</td>\n",
       "      <td>2</td>\n",
       "      <td>2</td>\n",
       "      <td>3</td>\n",
       "    </tr>\n",
       "    <tr>\n",
       "      <th>2018-03-04</th>\n",
       "      <td>3</td>\n",
       "      <td>2</td>\n",
       "      <td>0</td>\n",
       "      <td>3</td>\n",
       "      <td>0</td>\n",
       "      <td>0</td>\n",
       "      <td>0</td>\n",
       "      <td>0</td>\n",
       "      <td>0</td>\n",
       "      <td>0</td>\n",
       "      <td>...</td>\n",
       "      <td>2</td>\n",
       "      <td>3</td>\n",
       "      <td>2</td>\n",
       "      <td>0</td>\n",
       "      <td>3</td>\n",
       "      <td>2</td>\n",
       "      <td>1</td>\n",
       "      <td>2</td>\n",
       "      <td>3</td>\n",
       "      <td>3</td>\n",
       "    </tr>\n",
       "    <tr>\n",
       "      <th>2018-03-11</th>\n",
       "      <td>3</td>\n",
       "      <td>2</td>\n",
       "      <td>0</td>\n",
       "      <td>3</td>\n",
       "      <td>0</td>\n",
       "      <td>0</td>\n",
       "      <td>0</td>\n",
       "      <td>0</td>\n",
       "      <td>0</td>\n",
       "      <td>0</td>\n",
       "      <td>...</td>\n",
       "      <td>2</td>\n",
       "      <td>3</td>\n",
       "      <td>3</td>\n",
       "      <td>0</td>\n",
       "      <td>3</td>\n",
       "      <td>2</td>\n",
       "      <td>1</td>\n",
       "      <td>2</td>\n",
       "      <td>3</td>\n",
       "      <td>3</td>\n",
       "    </tr>\n",
       "    <tr>\n",
       "      <th>2018-03-18</th>\n",
       "      <td>3</td>\n",
       "      <td>2</td>\n",
       "      <td>0</td>\n",
       "      <td>3</td>\n",
       "      <td>0</td>\n",
       "      <td>0</td>\n",
       "      <td>0</td>\n",
       "      <td>0</td>\n",
       "      <td>0</td>\n",
       "      <td>0</td>\n",
       "      <td>...</td>\n",
       "      <td>2</td>\n",
       "      <td>3</td>\n",
       "      <td>3</td>\n",
       "      <td>0</td>\n",
       "      <td>3</td>\n",
       "      <td>2</td>\n",
       "      <td>1</td>\n",
       "      <td>3</td>\n",
       "      <td>3</td>\n",
       "      <td>3</td>\n",
       "    </tr>\n",
       "    <tr>\n",
       "      <th>2018-03-25</th>\n",
       "      <td>3</td>\n",
       "      <td>2</td>\n",
       "      <td>0</td>\n",
       "      <td>3</td>\n",
       "      <td>0</td>\n",
       "      <td>0</td>\n",
       "      <td>0</td>\n",
       "      <td>0</td>\n",
       "      <td>0</td>\n",
       "      <td>0</td>\n",
       "      <td>...</td>\n",
       "      <td>2</td>\n",
       "      <td>2</td>\n",
       "      <td>3</td>\n",
       "      <td>0</td>\n",
       "      <td>3</td>\n",
       "      <td>2</td>\n",
       "      <td>0</td>\n",
       "      <td>2</td>\n",
       "      <td>2</td>\n",
       "      <td>3</td>\n",
       "    </tr>\n",
       "    <tr>\n",
       "      <th>2018-04-01</th>\n",
       "      <td>4</td>\n",
       "      <td>2</td>\n",
       "      <td>0</td>\n",
       "      <td>3</td>\n",
       "      <td>0</td>\n",
       "      <td>0</td>\n",
       "      <td>0</td>\n",
       "      <td>0</td>\n",
       "      <td>0</td>\n",
       "      <td>0</td>\n",
       "      <td>...</td>\n",
       "      <td>2</td>\n",
       "      <td>3</td>\n",
       "      <td>3</td>\n",
       "      <td>0</td>\n",
       "      <td>3</td>\n",
       "      <td>2</td>\n",
       "      <td>1</td>\n",
       "      <td>3</td>\n",
       "      <td>0</td>\n",
       "      <td>4</td>\n",
       "    </tr>\n",
       "  </tbody>\n",
       "</table>\n",
       "<p>12 rows × 29 columns</p>\n",
       "</div>"
      ],
      "text/plain": [
       "            American_Samoa  Austral_Islands  Federated_States_of_Micronesia  \\\n",
       "2018-01-14               1                0                               0   \n",
       "2018-01-21               2                1                               0   \n",
       "2018-01-28               2                1                               0   \n",
       "2018-02-04               2                1                               0   \n",
       "2018-02-11               2                1                               0   \n",
       "2018-02-18               3                1                               0   \n",
       "2018-02-25               3                1                               0   \n",
       "2018-03-04               3                2                               0   \n",
       "2018-03-11               3                2                               0   \n",
       "2018-03-18               3                2                               0   \n",
       "2018-03-25               3                2                               0   \n",
       "2018-04-01               4                2                               0   \n",
       "\n",
       "            Fiji  Guam  Kiribati_Gilbert_Islands  Kiribati_Line_Islands  \\\n",
       "2018-01-14     1     0                         0                      0   \n",
       "2018-01-21     2     0                         0                      0   \n",
       "2018-01-28     2     0                         0                      0   \n",
       "2018-02-04     2     0                         0                      0   \n",
       "2018-02-11     3     0                         0                      0   \n",
       "2018-02-18     3     0                         0                      0   \n",
       "2018-02-25     3     0                         0                      0   \n",
       "2018-03-04     3     0                         0                      0   \n",
       "2018-03-11     3     0                         0                      0   \n",
       "2018-03-18     3     0                         0                      0   \n",
       "2018-03-25     3     0                         0                      0   \n",
       "2018-04-01     3     0                         0                      0   \n",
       "\n",
       "            Kiribati_Phoenix_Islands  Marquesas  Marshall_Islands  \\\n",
       "2018-01-14                         0          0                 0   \n",
       "2018-01-21                         0          0                 0   \n",
       "2018-01-28                         0          0                 0   \n",
       "2018-02-04                         0          0                 0   \n",
       "2018-02-11                         0          0                 0   \n",
       "2018-02-18                         0          0                 0   \n",
       "2018-02-25                         0          0                 0   \n",
       "2018-03-04                         0          0                 0   \n",
       "2018-03-11                         0          0                 0   \n",
       "2018-03-18                         0          0                 0   \n",
       "2018-03-25                         0          0                 0   \n",
       "2018-04-01                         0          0                 0   \n",
       "\n",
       "                 ...         Society_Islands  Solomon_Islands  \\\n",
       "2018-01-14       ...                       1                2   \n",
       "2018-01-21       ...                       1                3   \n",
       "2018-01-28       ...                       1                3   \n",
       "2018-02-04       ...                       1                3   \n",
       "2018-02-11       ...                       1                3   \n",
       "2018-02-18       ...                       1                3   \n",
       "2018-02-25       ...                       2                3   \n",
       "2018-03-04       ...                       2                3   \n",
       "2018-03-11       ...                       2                3   \n",
       "2018-03-18       ...                       2                3   \n",
       "2018-03-25       ...                       2                2   \n",
       "2018-04-01       ...                       2                3   \n",
       "\n",
       "            Southern_Cook_Islands  Tokelau  Tonga  Tuamotu__Gambier_Islands  \\\n",
       "2018-01-14                      1        0      1                         1   \n",
       "2018-01-21                      1        1      1                         1   \n",
       "2018-01-28                      1        1      2                         1   \n",
       "2018-02-04                      2        1      2                         1   \n",
       "2018-02-11                      2        1      2                         1   \n",
       "2018-02-18                      2        0      2                         1   \n",
       "2018-02-25                      2        0      3                         1   \n",
       "2018-03-04                      2        0      3                         2   \n",
       "2018-03-11                      3        0      3                         2   \n",
       "2018-03-18                      3        0      3                         2   \n",
       "2018-03-25                      3        0      3                         2   \n",
       "2018-04-01                      3        0      3                         2   \n",
       "\n",
       "            Tuvalu  Vanuatu_North  Vanuatu_South  Wallis_&_Futuna  \n",
       "2018-01-14       1              1              1                1  \n",
       "2018-01-21       1              1              1                2  \n",
       "2018-01-28       1              1              1                2  \n",
       "2018-02-04       2              2              2                2  \n",
       "2018-02-11       2              2              2                3  \n",
       "2018-02-18       1              2              2                3  \n",
       "2018-02-25       1              2              2                3  \n",
       "2018-03-04       1              2              3                3  \n",
       "2018-03-11       1              2              3                3  \n",
       "2018-03-18       1              3              3                3  \n",
       "2018-03-25       0              2              2                3  \n",
       "2018-04-01       1              3              0                4  \n",
       "\n",
       "[12 rows x 29 columns]"
      ]
     },
     "execution_count": 87,
     "metadata": {},
     "output_type": "execute_result"
    }
   ],
   "source": [
    "df"
   ]
  },
  {
   "cell_type": "code",
   "execution_count": 88,
   "metadata": {},
   "outputs": [],
   "source": [
    "df_max = df.groupby(df.index.month).max()"
   ]
  },
  {
   "cell_type": "code",
   "execution_count": 89,
   "metadata": {},
   "outputs": [
    {
     "data": {
      "text/html": [
       "<div>\n",
       "<style scoped>\n",
       "    .dataframe tbody tr th:only-of-type {\n",
       "        vertical-align: middle;\n",
       "    }\n",
       "\n",
       "    .dataframe tbody tr th {\n",
       "        vertical-align: top;\n",
       "    }\n",
       "\n",
       "    .dataframe thead th {\n",
       "        text-align: right;\n",
       "    }\n",
       "</style>\n",
       "<table border=\"1\" class=\"dataframe\">\n",
       "  <thead>\n",
       "    <tr style=\"text-align: right;\">\n",
       "      <th></th>\n",
       "      <th>American_Samoa</th>\n",
       "      <th>Austral_Islands</th>\n",
       "      <th>Federated_States_of_Micronesia</th>\n",
       "      <th>Fiji</th>\n",
       "      <th>Guam</th>\n",
       "      <th>Kiribati_Gilbert_Islands</th>\n",
       "      <th>Kiribati_Line_Islands</th>\n",
       "      <th>Kiribati_Phoenix_Islands</th>\n",
       "      <th>Marquesas</th>\n",
       "      <th>Marshall_Islands</th>\n",
       "      <th>...</th>\n",
       "      <th>Society_Islands</th>\n",
       "      <th>Solomon_Islands</th>\n",
       "      <th>Southern_Cook_Islands</th>\n",
       "      <th>Tokelau</th>\n",
       "      <th>Tonga</th>\n",
       "      <th>Tuamotu__Gambier_Islands</th>\n",
       "      <th>Tuvalu</th>\n",
       "      <th>Vanuatu_North</th>\n",
       "      <th>Vanuatu_South</th>\n",
       "      <th>Wallis_&amp;_Futuna</th>\n",
       "    </tr>\n",
       "  </thead>\n",
       "  <tbody>\n",
       "    <tr>\n",
       "      <th>1</th>\n",
       "      <td>2</td>\n",
       "      <td>1</td>\n",
       "      <td>0</td>\n",
       "      <td>2</td>\n",
       "      <td>0</td>\n",
       "      <td>0</td>\n",
       "      <td>0</td>\n",
       "      <td>0</td>\n",
       "      <td>0</td>\n",
       "      <td>0</td>\n",
       "      <td>...</td>\n",
       "      <td>1</td>\n",
       "      <td>3</td>\n",
       "      <td>1</td>\n",
       "      <td>1</td>\n",
       "      <td>2</td>\n",
       "      <td>1</td>\n",
       "      <td>1</td>\n",
       "      <td>1</td>\n",
       "      <td>1</td>\n",
       "      <td>2</td>\n",
       "    </tr>\n",
       "    <tr>\n",
       "      <th>2</th>\n",
       "      <td>3</td>\n",
       "      <td>1</td>\n",
       "      <td>0</td>\n",
       "      <td>3</td>\n",
       "      <td>0</td>\n",
       "      <td>0</td>\n",
       "      <td>0</td>\n",
       "      <td>0</td>\n",
       "      <td>0</td>\n",
       "      <td>0</td>\n",
       "      <td>...</td>\n",
       "      <td>2</td>\n",
       "      <td>3</td>\n",
       "      <td>2</td>\n",
       "      <td>1</td>\n",
       "      <td>3</td>\n",
       "      <td>1</td>\n",
       "      <td>2</td>\n",
       "      <td>2</td>\n",
       "      <td>2</td>\n",
       "      <td>3</td>\n",
       "    </tr>\n",
       "    <tr>\n",
       "      <th>3</th>\n",
       "      <td>3</td>\n",
       "      <td>2</td>\n",
       "      <td>0</td>\n",
       "      <td>3</td>\n",
       "      <td>0</td>\n",
       "      <td>0</td>\n",
       "      <td>0</td>\n",
       "      <td>0</td>\n",
       "      <td>0</td>\n",
       "      <td>0</td>\n",
       "      <td>...</td>\n",
       "      <td>2</td>\n",
       "      <td>3</td>\n",
       "      <td>3</td>\n",
       "      <td>0</td>\n",
       "      <td>3</td>\n",
       "      <td>2</td>\n",
       "      <td>1</td>\n",
       "      <td>3</td>\n",
       "      <td>3</td>\n",
       "      <td>3</td>\n",
       "    </tr>\n",
       "    <tr>\n",
       "      <th>4</th>\n",
       "      <td>4</td>\n",
       "      <td>2</td>\n",
       "      <td>0</td>\n",
       "      <td>3</td>\n",
       "      <td>0</td>\n",
       "      <td>0</td>\n",
       "      <td>0</td>\n",
       "      <td>0</td>\n",
       "      <td>0</td>\n",
       "      <td>0</td>\n",
       "      <td>...</td>\n",
       "      <td>2</td>\n",
       "      <td>3</td>\n",
       "      <td>3</td>\n",
       "      <td>0</td>\n",
       "      <td>3</td>\n",
       "      <td>2</td>\n",
       "      <td>1</td>\n",
       "      <td>3</td>\n",
       "      <td>0</td>\n",
       "      <td>4</td>\n",
       "    </tr>\n",
       "  </tbody>\n",
       "</table>\n",
       "<p>4 rows × 29 columns</p>\n",
       "</div>"
      ],
      "text/plain": [
       "   American_Samoa  Austral_Islands  Federated_States_of_Micronesia  Fiji  \\\n",
       "1               2                1                               0     2   \n",
       "2               3                1                               0     3   \n",
       "3               3                2                               0     3   \n",
       "4               4                2                               0     3   \n",
       "\n",
       "   Guam  Kiribati_Gilbert_Islands  Kiribati_Line_Islands  \\\n",
       "1     0                         0                      0   \n",
       "2     0                         0                      0   \n",
       "3     0                         0                      0   \n",
       "4     0                         0                      0   \n",
       "\n",
       "   Kiribati_Phoenix_Islands  Marquesas  Marshall_Islands       ...         \\\n",
       "1                         0          0                 0       ...          \n",
       "2                         0          0                 0       ...          \n",
       "3                         0          0                 0       ...          \n",
       "4                         0          0                 0       ...          \n",
       "\n",
       "   Society_Islands  Solomon_Islands  Southern_Cook_Islands  Tokelau  Tonga  \\\n",
       "1                1                3                      1        1      2   \n",
       "2                2                3                      2        1      3   \n",
       "3                2                3                      3        0      3   \n",
       "4                2                3                      3        0      3   \n",
       "\n",
       "   Tuamotu__Gambier_Islands  Tuvalu  Vanuatu_North  Vanuatu_South  \\\n",
       "1                         1       1              1              1   \n",
       "2                         1       2              2              2   \n",
       "3                         2       1              3              3   \n",
       "4                         2       1              3              0   \n",
       "\n",
       "   Wallis_&_Futuna  \n",
       "1                2  \n",
       "2                3  \n",
       "3                3  \n",
       "4                4  \n",
       "\n",
       "[4 rows x 29 columns]"
      ]
     },
     "execution_count": 89,
     "metadata": {},
     "output_type": "execute_result"
    }
   ],
   "source": [
    "df_max"
   ]
  },
  {
   "cell_type": "markdown",
   "metadata": {},
   "source": [
    "### uncomment the following if the month is December "
   ]
  },
  {
   "cell_type": "code",
   "execution_count": 90,
   "metadata": {},
   "outputs": [],
   "source": [
    "# df_max = df_max.reindex([12,1,2])"
   ]
  },
  {
   "cell_type": "code",
   "execution_count": 91,
   "metadata": {},
   "outputs": [
    {
     "name": "stdout",
     "output_type": "stream",
     "text": [
      "cfsv2_outlook-060perc_4mon-and-wkly_v4_icwk20171126_for_20171210to20180325.nc\r\n",
      "cfsv2_outlook-060perc_4mon-and-wkly_v4_icwk20171210_for_20171224to20180325.nc\r\n",
      "cfsv2_outlook-060perc_4mon-and-wkly_v4_icwk20171231_for_20180114to20180429.nc\r\n",
      "cfsv2_outlook-100perc_4mon-and-wkly_v4_icwk20171231_for_20180114to20180429.nc\r\n"
     ]
    }
   ],
   "source": [
    "!ls /Volumes/GDATA/data/CRW/outlook/"
   ]
  },
  {
   "cell_type": "code",
   "execution_count": 92,
   "metadata": {},
   "outputs": [],
   "source": [
    "df_max.T.to_csv('../outputs/CSFV2_outlook_monthly_90th_per_summary_table_from_20180114.csv')"
   ]
  },
  {
   "cell_type": "code",
   "execution_count": 93,
   "metadata": {},
   "outputs": [
    {
     "data": {
      "text/html": [
       "<div>\n",
       "<style scoped>\n",
       "    .dataframe tbody tr th:only-of-type {\n",
       "        vertical-align: middle;\n",
       "    }\n",
       "\n",
       "    .dataframe tbody tr th {\n",
       "        vertical-align: top;\n",
       "    }\n",
       "\n",
       "    .dataframe thead th {\n",
       "        text-align: right;\n",
       "    }\n",
       "</style>\n",
       "<table border=\"1\" class=\"dataframe\">\n",
       "  <thead>\n",
       "    <tr style=\"text-align: right;\">\n",
       "      <th></th>\n",
       "      <th>American_Samoa</th>\n",
       "      <th>Austral_Islands</th>\n",
       "      <th>Federated_States_of_Micronesia</th>\n",
       "      <th>Fiji</th>\n",
       "      <th>Guam</th>\n",
       "      <th>Kiribati_Gilbert_Islands</th>\n",
       "      <th>Kiribati_Line_Islands</th>\n",
       "      <th>Kiribati_Phoenix_Islands</th>\n",
       "      <th>Marquesas</th>\n",
       "      <th>Marshall_Islands</th>\n",
       "      <th>...</th>\n",
       "      <th>Society_Islands</th>\n",
       "      <th>Solomon_Islands</th>\n",
       "      <th>Southern_Cook_Islands</th>\n",
       "      <th>Tokelau</th>\n",
       "      <th>Tonga</th>\n",
       "      <th>Tuamotu__Gambier_Islands</th>\n",
       "      <th>Tuvalu</th>\n",
       "      <th>Vanuatu_North</th>\n",
       "      <th>Vanuatu_South</th>\n",
       "      <th>Wallis_&amp;_Futuna</th>\n",
       "    </tr>\n",
       "  </thead>\n",
       "  <tbody>\n",
       "    <tr>\n",
       "      <th>1</th>\n",
       "      <td>2</td>\n",
       "      <td>1</td>\n",
       "      <td>0</td>\n",
       "      <td>2</td>\n",
       "      <td>0</td>\n",
       "      <td>0</td>\n",
       "      <td>0</td>\n",
       "      <td>0</td>\n",
       "      <td>0</td>\n",
       "      <td>0</td>\n",
       "      <td>...</td>\n",
       "      <td>1</td>\n",
       "      <td>3</td>\n",
       "      <td>1</td>\n",
       "      <td>1</td>\n",
       "      <td>2</td>\n",
       "      <td>1</td>\n",
       "      <td>1</td>\n",
       "      <td>1</td>\n",
       "      <td>1</td>\n",
       "      <td>2</td>\n",
       "    </tr>\n",
       "    <tr>\n",
       "      <th>2</th>\n",
       "      <td>3</td>\n",
       "      <td>1</td>\n",
       "      <td>0</td>\n",
       "      <td>3</td>\n",
       "      <td>0</td>\n",
       "      <td>0</td>\n",
       "      <td>0</td>\n",
       "      <td>0</td>\n",
       "      <td>0</td>\n",
       "      <td>0</td>\n",
       "      <td>...</td>\n",
       "      <td>2</td>\n",
       "      <td>3</td>\n",
       "      <td>2</td>\n",
       "      <td>1</td>\n",
       "      <td>3</td>\n",
       "      <td>1</td>\n",
       "      <td>2</td>\n",
       "      <td>2</td>\n",
       "      <td>2</td>\n",
       "      <td>3</td>\n",
       "    </tr>\n",
       "    <tr>\n",
       "      <th>3</th>\n",
       "      <td>3</td>\n",
       "      <td>2</td>\n",
       "      <td>0</td>\n",
       "      <td>3</td>\n",
       "      <td>0</td>\n",
       "      <td>0</td>\n",
       "      <td>0</td>\n",
       "      <td>0</td>\n",
       "      <td>0</td>\n",
       "      <td>0</td>\n",
       "      <td>...</td>\n",
       "      <td>2</td>\n",
       "      <td>3</td>\n",
       "      <td>3</td>\n",
       "      <td>0</td>\n",
       "      <td>3</td>\n",
       "      <td>2</td>\n",
       "      <td>1</td>\n",
       "      <td>3</td>\n",
       "      <td>3</td>\n",
       "      <td>3</td>\n",
       "    </tr>\n",
       "    <tr>\n",
       "      <th>4</th>\n",
       "      <td>4</td>\n",
       "      <td>2</td>\n",
       "      <td>0</td>\n",
       "      <td>3</td>\n",
       "      <td>0</td>\n",
       "      <td>0</td>\n",
       "      <td>0</td>\n",
       "      <td>0</td>\n",
       "      <td>0</td>\n",
       "      <td>0</td>\n",
       "      <td>...</td>\n",
       "      <td>2</td>\n",
       "      <td>3</td>\n",
       "      <td>3</td>\n",
       "      <td>0</td>\n",
       "      <td>3</td>\n",
       "      <td>2</td>\n",
       "      <td>1</td>\n",
       "      <td>3</td>\n",
       "      <td>0</td>\n",
       "      <td>4</td>\n",
       "    </tr>\n",
       "  </tbody>\n",
       "</table>\n",
       "<p>4 rows × 29 columns</p>\n",
       "</div>"
      ],
      "text/plain": [
       "   American_Samoa  Austral_Islands  Federated_States_of_Micronesia  Fiji  \\\n",
       "1               2                1                               0     2   \n",
       "2               3                1                               0     3   \n",
       "3               3                2                               0     3   \n",
       "4               4                2                               0     3   \n",
       "\n",
       "   Guam  Kiribati_Gilbert_Islands  Kiribati_Line_Islands  \\\n",
       "1     0                         0                      0   \n",
       "2     0                         0                      0   \n",
       "3     0                         0                      0   \n",
       "4     0                         0                      0   \n",
       "\n",
       "   Kiribati_Phoenix_Islands  Marquesas  Marshall_Islands       ...         \\\n",
       "1                         0          0                 0       ...          \n",
       "2                         0          0                 0       ...          \n",
       "3                         0          0                 0       ...          \n",
       "4                         0          0                 0       ...          \n",
       "\n",
       "   Society_Islands  Solomon_Islands  Southern_Cook_Islands  Tokelau  Tonga  \\\n",
       "1                1                3                      1        1      2   \n",
       "2                2                3                      2        1      3   \n",
       "3                2                3                      3        0      3   \n",
       "4                2                3                      3        0      3   \n",
       "\n",
       "   Tuamotu__Gambier_Islands  Tuvalu  Vanuatu_North  Vanuatu_South  \\\n",
       "1                         1       1              1              1   \n",
       "2                         1       2              2              2   \n",
       "3                         2       1              3              3   \n",
       "4                         2       1              3              0   \n",
       "\n",
       "   Wallis_&_Futuna  \n",
       "1                2  \n",
       "2                3  \n",
       "3                3  \n",
       "4                4  \n",
       "\n",
       "[4 rows x 29 columns]"
      ]
     },
     "execution_count": 93,
     "metadata": {},
     "output_type": "execute_result"
    }
   ],
   "source": [
    "df_max"
   ]
  },
  {
   "cell_type": "code",
   "execution_count": 94,
   "metadata": {},
   "outputs": [],
   "source": [
    "df.T.to_csv('../outputs/CSFV2_outlook_weekly_90th_per_summary_table_from_20180114.csv')"
   ]
  },
  {
   "cell_type": "code",
   "execution_count": 95,
   "metadata": {},
   "outputs": [
    {
     "data": {
      "text/plain": [
       "Index(['American_Samoa', 'Austral_Islands', 'Federated_States_of_Micronesia',\n",
       "       'Fiji', 'Guam', 'Kiribati_Gilbert_Islands', 'Kiribati_Line_Islands',\n",
       "       'Kiribati_Phoenix_Islands', 'Marquesas', 'Marshall_Islands', 'Nauru',\n",
       "       'New_Caledonia', 'Niue', 'Northern_Cook_Islands', 'Northern_Marianas',\n",
       "       'Palau', 'Papua_New_Guinea', 'Pitcairn_Islands', 'Samoa',\n",
       "       'Society_Islands', 'Solomon_Islands', 'Southern_Cook_Islands',\n",
       "       'Tokelau', 'Tonga', 'Tuamotu__Gambier_Islands', 'Tuvalu',\n",
       "       'Vanuatu_North', 'Vanuatu_South', 'Wallis_&_Futuna'],\n",
       "      dtype='object')"
      ]
     },
     "execution_count": 95,
     "metadata": {},
     "output_type": "execute_result"
    }
   ],
   "source": [
    "df.columns"
   ]
  },
  {
   "cell_type": "code",
   "execution_count": 96,
   "metadata": {},
   "outputs": [],
   "source": [
    "lnames = df.columns"
   ]
  },
  {
   "cell_type": "code",
   "execution_count": 97,
   "metadata": {},
   "outputs": [
    {
     "data": {
      "text/plain": [
       "Index(['American_Samoa', 'Austral_Islands', 'Federated_States_of_Micronesia',\n",
       "       'Fiji', 'Guam', 'Kiribati_Gilbert_Islands', 'Kiribati_Line_Islands',\n",
       "       'Kiribati_Phoenix_Islands', 'Marquesas', 'Marshall_Islands', 'Nauru',\n",
       "       'New_Caledonia', 'Niue', 'Northern_Cook_Islands', 'Northern_Marianas',\n",
       "       'Palau', 'Papua_New_Guinea', 'Pitcairn_Islands', 'Samoa',\n",
       "       'Society_Islands', 'Solomon_Islands', 'Southern_Cook_Islands',\n",
       "       'Tokelau', 'Tonga', 'Tuamotu__Gambier_Islands', 'Tuvalu',\n",
       "       'Vanuatu_North', 'Vanuatu_South', 'Wallis_&_Futuna'],\n",
       "      dtype='object')"
      ]
     },
     "execution_count": 97,
     "metadata": {},
     "output_type": "execute_result"
    }
   ],
   "source": [
    "lnames"
   ]
  },
  {
   "cell_type": "code",
   "execution_count": 98,
   "metadata": {},
   "outputs": [],
   "source": [
    "rnames = ['American Samoa',\n",
    "          'Austral Islands',\n",
    "          'Federates States of Micronesia',\n",
    "          'Fiji','Guam','Kiribati (Gilbert Islands)',\n",
    "          'Kiribati (Line Island)','Kiribati (Phoenix Islands)',\n",
    "          'Marquesas',\n",
    "         'Marshall Islands']"
   ]
  },
  {
   "cell_type": "code",
   "execution_count": 100,
   "metadata": {},
   "outputs": [],
   "source": [
    "!open ../outputs/CSFV2_outlook_weekly_90th_per_summary_table_from_20180114.csv"
   ]
  },
  {
   "cell_type": "code",
   "execution_count": null,
   "metadata": {},
   "outputs": [],
   "source": []
  }
 ],
 "metadata": {
  "kernelspec": {
   "display_name": "Python 3",
   "language": "python",
   "name": "python3"
  },
  "language_info": {
   "codemirror_mode": {
    "name": "ipython",
    "version": 3
   },
   "file_extension": ".py",
   "mimetype": "text/x-python",
   "name": "python",
   "nbconvert_exporter": "python",
   "pygments_lexer": "ipython3",
   "version": "3.5.4"
  },
  "toc": {
   "colors": {
    "hover_highlight": "#DAA520",
    "running_highlight": "#FF0000",
    "selected_highlight": "#FFD700"
   },
   "moveMenuLeft": true,
   "nav_menu": {
    "height": "12px",
    "width": "252px"
   },
   "navigate_menu": true,
   "number_sections": true,
   "sideBar": true,
   "threshold": 4,
   "toc_cell": false,
   "toc_section_display": "block",
   "toc_window_display": false,
   "widenNotebook": false
  }
 },
 "nbformat": 4,
 "nbformat_minor": 2
}
