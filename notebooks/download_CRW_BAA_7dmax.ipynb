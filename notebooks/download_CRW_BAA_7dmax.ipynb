{
 "cells": [
  {
   "cell_type": "markdown",
   "metadata": {},
   "source": [
    "# download the past 4 weeks of CRW BAA 7 days max"
   ]
  },
  {
   "cell_type": "code",
   "execution_count": 5,
   "metadata": {
    "collapsed": true
   },
   "outputs": [],
   "source": [
    "from datetime import datetime, timedelta"
   ]
  },
  {
   "cell_type": "code",
   "execution_count": 6,
   "metadata": {
    "collapsed": true
   },
   "outputs": [],
   "source": [
    "from subprocess import call"
   ]
  },
  {
   "cell_type": "markdown",
   "metadata": {},
   "source": [
    "### output directory path"
   ]
  },
  {
   "cell_type": "code",
   "execution_count": 20,
   "metadata": {
    "collapsed": true,
    "run_control": {
     "marked": false
    }
   },
   "outputs": [],
   "source": [
    "opath = '/Volumes/GDATA/data/CRW/BAA7dMAX/'"
   ]
  },
  {
   "cell_type": "code",
   "execution_count": 21,
   "metadata": {},
   "outputs": [
    {
     "name": "stdout",
     "output_type": "stream",
     "text": [
      "b5km_baa-max-7d_20170814.nc b5km_baa-max-7d_20171106.nc\r\n",
      "b5km_baa-max-7d_20170821.nc b5km_baa-max-7d_20171113.nc\r\n",
      "b5km_baa-max-7d_20170828.nc b5km_baa-max-7d_20171120.nc\r\n",
      "b5km_baa-max-7d_20170904.nc b5km_baa-max-7d_20171126.nc\r\n",
      "b5km_baa-max-7d_20170911.nc b5km_baa-max-7d_20171127.nc\r\n",
      "b5km_baa-max-7d_20170918.nc b5km_baa-max-7d_20171203.nc\r\n",
      "b5km_baa-max-7d_20170925.nc b5km_baa-max-7d_20171204.nc\r\n",
      "b5km_baa-max-7d_20171002.nc b5km_baa-max-7d_20171210.nc\r\n",
      "b5km_baa-max-7d_20171009.nc b5km_baa-max-7d_20171211.nc\r\n",
      "b5km_baa-max-7d_20171016.nc b5km_baa-max-7d_20171217.nc\r\n",
      "b5km_baa-max-7d_20171023.nc b5km_baa-max-7d_20180103.nc\r\n",
      "b5km_baa-max-7d_20171030.nc baa-max-7d_to_2017-12-17.nc\r\n"
     ]
    }
   ],
   "source": [
    "!ls {opath}"
   ]
  },
  {
   "cell_type": "code",
   "execution_count": 22,
   "metadata": {
    "collapsed": true
   },
   "outputs": [],
   "source": [
    "delay = 1"
   ]
  },
  {
   "cell_type": "code",
   "execution_count": 23,
   "metadata": {
    "collapsed": true
   },
   "outputs": [],
   "source": [
    "today = datetime.utcnow() - timedelta(days=delay)"
   ]
  },
  {
   "cell_type": "code",
   "execution_count": 30,
   "metadata": {
    "collapsed": true
   },
   "outputs": [],
   "source": [
    "base_url = \"ftp://ftp.star.nesdis.noaa.gov/pub/sod/mecb/crw/data/5km/v3/nc/v1/composite/daily/7day/baa-max\""
   ]
  },
  {
   "cell_type": "markdown",
   "metadata": {},
   "source": [
    "### builds the list of dates, starting 4 weeks from now "
   ]
  },
  {
   "cell_type": "code",
   "execution_count": 31,
   "metadata": {
    "collapsed": true
   },
   "outputs": [],
   "source": [
    "dates = [today - timedelta(weeks=x) for x in range(4)]"
   ]
  },
  {
   "cell_type": "code",
   "execution_count": 36,
   "metadata": {},
   "outputs": [
    {
     "data": {
      "text/plain": [
       "[datetime.datetime(2017, 12, 13, 22, 3, 29, 454403),\n",
       " datetime.datetime(2017, 12, 20, 22, 3, 29, 454403),\n",
       " datetime.datetime(2017, 12, 27, 22, 3, 29, 454403),\n",
       " datetime.datetime(2018, 1, 3, 22, 3, 29, 454403)]"
      ]
     },
     "execution_count": 36,
     "metadata": {},
     "output_type": "execute_result"
    }
   ],
   "source": [
    "dates"
   ]
  },
  {
   "cell_type": "code",
   "execution_count": 37,
   "metadata": {
    "collapsed": true
   },
   "outputs": [],
   "source": [
    "dates.sort()"
   ]
  },
  {
   "cell_type": "code",
   "execution_count": 38,
   "metadata": {},
   "outputs": [
    {
     "name": "stdout",
     "output_type": "stream",
     "text": [
      "ftp://ftp.star.nesdis.noaa.gov/pub/sod/mecb/crw/data/5km/v3/nc/v1/composite/daily/7day/baa-max//2017\n",
      "0\n",
      "ftp://ftp.star.nesdis.noaa.gov/pub/sod/mecb/crw/data/5km/v3/nc/v1/composite/daily/7day/baa-max//2017\n",
      "0\n",
      "ftp://ftp.star.nesdis.noaa.gov/pub/sod/mecb/crw/data/5km/v3/nc/v1/composite/daily/7day/baa-max//2017\n",
      "0\n",
      "ftp://ftp.star.nesdis.noaa.gov/pub/sod/mecb/crw/data/5km/v3/nc/v1/composite/daily/7day/baa-max//2018\n",
      "0\n"
     ]
    }
   ],
   "source": [
    "for date in dates: \n",
    "    filename = \"b5km_baa-max-7d_{:%Y%m%d}.nc\".format(date)\n",
    "    url = \"{}/{:%Y}\".format(base_url, date)\n",
    "    print(\"downloading {}/{}\".format(url, filename))\n",
    "    cmd = 'curl --silent {}/{} -o {}/{}'.format(url, filename, opath, filename) \n",
    "    r = call(cmd, shell=True)\n",
    "    if r != 0:\n",
    "        print(\"something went wrong with the download of {}/{}\".format(url, filename))"
   ]
  },
  {
   "cell_type": "code",
   "execution_count": null,
   "metadata": {
    "collapsed": true
   },
   "outputs": [],
   "source": []
  }
 ],
 "metadata": {
  "kernelspec": {
   "display_name": "Python [default]",
   "language": "python",
   "name": "python3"
  },
  "language_info": {
   "codemirror_mode": {
    "name": "ipython",
    "version": 3
   },
   "file_extension": ".py",
   "mimetype": "text/x-python",
   "name": "python",
   "nbconvert_exporter": "python",
   "pygments_lexer": "ipython3",
   "version": "3.5.2"
  },
  "toc": {
   "colors": {
    "hover_highlight": "#DAA520",
    "running_highlight": "#FF0000",
    "selected_highlight": "#FFD700"
   },
   "moveMenuLeft": true,
   "nav_menu": {
    "height": "12px",
    "width": "252px"
   },
   "navigate_menu": true,
   "number_sections": true,
   "sideBar": true,
   "threshold": 4,
   "toc_cell": false,
   "toc_section_display": "block",
   "toc_window_display": false,
   "widenNotebook": false
  }
 },
 "nbformat": 4,
 "nbformat_minor": 2
}
