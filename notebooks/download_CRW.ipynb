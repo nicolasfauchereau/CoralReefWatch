{
 "cells": [
  {
   "cell_type": "code",
   "execution_count": 11,
   "metadata": {
    "collapsed": true
   },
   "outputs": [],
   "source": [
    "%matplotlib inline"
   ]
  },
  {
   "cell_type": "code",
   "execution_count": 12,
   "metadata": {
    "collapsed": true
   },
   "outputs": [],
   "source": [
    "import numpy as np\n",
    "import pandas as pd"
   ]
  },
  {
   "cell_type": "code",
   "execution_count": 20,
   "metadata": {
    "collapsed": true
   },
   "outputs": [],
   "source": [
    "from datetime import datetime, timedelta\n",
    "from dateutil.parser import parse as dparse\n",
    "import arrow\n",
    "import calendar\n",
    "import monthdelta"
   ]
  },
  {
   "cell_type": "code",
   "execution_count": 13,
   "metadata": {
    "collapsed": true
   },
   "outputs": [],
   "source": [
    "from datetime import datetime, timedelta\n"
   ]
  },
  {
   "cell_type": "code",
   "execution_count": 14,
   "metadata": {
    "collapsed": true
   },
   "outputs": [],
   "source": [
    "from subprocess import call"
   ]
  },
  {
   "cell_type": "code",
   "execution_count": 15,
   "metadata": {
    "collapsed": true
   },
   "outputs": [],
   "source": [
    "# opath = '/Volumes/GDATA/data/CRW/SSTA/'\n",
    "# opath = '/Volumes/GDATA/data/CRW/BAA/'\n",
    "opath = '/Volumes/GDATA/data/CRW/BAA7dMAX/'"
   ]
  },
  {
   "cell_type": "code",
   "execution_count": 16,
   "metadata": {
    "collapsed": true
   },
   "outputs": [],
   "source": [
    "# url = \"ftp://ftp.star.nesdis.noaa.gov/pub/sod/mecb/crw/data/5km/v3/nc/v1/daily/ssta/2017/\"\n",
    "# url = \"ftp://ftp.star.nesdis.noaa.gov/pub/sod/mecb/crw/data/5km/v3/nc/v1/daily/baa/2017/\"\n",
    "url = \"ftp://ftp.star.nesdis.noaa.gov/pub/sod/mecb/crw/data/5km/v3/nc/v1/composite/daily/7day/baa-max/2017/\""
   ]
  },
  {
   "cell_type": "code",
   "execution_count": 31,
   "metadata": {
    "collapsed": true
   },
   "outputs": [],
   "source": [
    "today = datetime.utcnow() - timedelta(days=1)"
   ]
  },
  {
   "cell_type": "code",
   "execution_count": 33,
   "metadata": {},
   "outputs": [
    {
     "data": {
      "text/plain": [
       "datetime.datetime(2017, 12, 11, 20, 0, 38, 773588)"
      ]
     },
     "execution_count": 33,
     "metadata": {},
     "output_type": "execute_result"
    }
   ],
   "source": [
    "today"
   ]
  },
  {
   "cell_type": "code",
   "execution_count": 34,
   "metadata": {
    "collapsed": true
   },
   "outputs": [],
   "source": [
    "start_date = today - monthdelta.monthdelta(months=4)"
   ]
  },
  {
   "cell_type": "code",
   "execution_count": 35,
   "metadata": {},
   "outputs": [
    {
     "data": {
      "text/plain": [
       "datetime.datetime(2017, 8, 11, 20, 0, 38, 773588)"
      ]
     },
     "execution_count": 35,
     "metadata": {},
     "output_type": "execute_result"
    }
   ],
   "source": [
    "start_date"
   ]
  },
  {
   "cell_type": "code",
   "execution_count": 36,
   "metadata": {
    "collapsed": true
   },
   "outputs": [],
   "source": [
    "d = today\n",
    "dates = []\n",
    "while d > start_date: \n",
    "    dates.append(d)\n",
    "    d = d - timedelta(days=7)"
   ]
  },
  {
   "cell_type": "code",
   "execution_count": 37,
   "metadata": {},
   "outputs": [],
   "source": [
    "dates.sort()"
   ]
  },
  {
   "cell_type": "code",
   "execution_count": 38,
   "metadata": {},
   "outputs": [
    {
     "data": {
      "text/plain": [
       "[datetime.datetime(2017, 8, 14, 20, 0, 38, 773588),\n",
       " datetime.datetime(2017, 8, 21, 20, 0, 38, 773588),\n",
       " datetime.datetime(2017, 8, 28, 20, 0, 38, 773588),\n",
       " datetime.datetime(2017, 9, 4, 20, 0, 38, 773588),\n",
       " datetime.datetime(2017, 9, 11, 20, 0, 38, 773588),\n",
       " datetime.datetime(2017, 9, 18, 20, 0, 38, 773588),\n",
       " datetime.datetime(2017, 9, 25, 20, 0, 38, 773588),\n",
       " datetime.datetime(2017, 10, 2, 20, 0, 38, 773588),\n",
       " datetime.datetime(2017, 10, 9, 20, 0, 38, 773588),\n",
       " datetime.datetime(2017, 10, 16, 20, 0, 38, 773588),\n",
       " datetime.datetime(2017, 10, 23, 20, 0, 38, 773588),\n",
       " datetime.datetime(2017, 10, 30, 20, 0, 38, 773588),\n",
       " datetime.datetime(2017, 11, 6, 20, 0, 38, 773588),\n",
       " datetime.datetime(2017, 11, 13, 20, 0, 38, 773588),\n",
       " datetime.datetime(2017, 11, 20, 20, 0, 38, 773588),\n",
       " datetime.datetime(2017, 11, 27, 20, 0, 38, 773588),\n",
       " datetime.datetime(2017, 12, 4, 20, 0, 38, 773588),\n",
       " datetime.datetime(2017, 12, 11, 20, 0, 38, 773588)]"
      ]
     },
     "execution_count": 38,
     "metadata": {},
     "output_type": "execute_result"
    }
   ],
   "source": [
    "dates"
   ]
  },
  {
   "cell_type": "code",
   "execution_count": 39,
   "metadata": {},
   "outputs": [
    {
     "name": "stdout",
     "output_type": "stream",
     "text": [
      "0\n",
      "0\n",
      "0\n",
      "0\n",
      "0\n",
      "0\n",
      "0\n",
      "0\n",
      "0\n",
      "0\n",
      "0\n",
      "0\n",
      "0\n",
      "0\n",
      "0\n",
      "0\n",
      "0\n",
      "0\n"
     ]
    }
   ],
   "source": [
    "for date in dates: \n",
    "    filename = \"b5km_baa-max-7d_{:%Y%m%d}.nc\".format(date)\n",
    "    cmd = 'curl --silent {}/{} -o {}/{}'.format(url, filename, opath, filename)\n",
    "#     print(cmd)\n",
    "    r = call(cmd, shell=True)\n",
    "    print(r)"
   ]
  },
  {
   "cell_type": "code",
   "execution_count": null,
   "metadata": {
    "collapsed": true
   },
   "outputs": [],
   "source": []
  }
 ],
 "metadata": {
  "kernelspec": {
   "display_name": "Python [default]",
   "language": "python",
   "name": "python3"
  },
  "language_info": {
   "codemirror_mode": {
    "name": "ipython",
    "version": 3
   },
   "file_extension": ".py",
   "mimetype": "text/x-python",
   "name": "python",
   "nbconvert_exporter": "python",
   "pygments_lexer": "ipython3",
   "version": "3.5.2"
  },
  "toc": {
   "colors": {
    "hover_highlight": "#DAA520",
    "running_highlight": "#FF0000",
    "selected_highlight": "#FFD700"
   },
   "moveMenuLeft": true,
   "nav_menu": {
    "height": "12px",
    "width": "252px"
   },
   "navigate_menu": true,
   "number_sections": true,
   "sideBar": true,
   "threshold": 4,
   "toc_cell": false,
   "toc_section_display": "block",
   "toc_window_display": false,
   "widenNotebook": false
  }
 },
 "nbformat": 4,
 "nbformat_minor": 2
}
