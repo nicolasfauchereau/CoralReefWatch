{
 "cells": [
  {
   "cell_type": "code",
   "execution_count": 69,
   "metadata": {
    "collapsed": true
   },
   "outputs": [],
   "source": [
    "%matplotlib inline\n",
    "import os\n",
    "import sys\n",
    "import numpy as np\n",
    "import pandas as pd\n",
    "from matplotlib import pyplot as plt\n",
    "import xarray as xr"
   ]
  },
  {
   "cell_type": "code",
   "execution_count": 70,
   "metadata": {
    "collapsed": true
   },
   "outputs": [],
   "source": [
    "import salem"
   ]
  },
  {
   "cell_type": "code",
   "execution_count": 71,
   "metadata": {
    "collapsed": true
   },
   "outputs": [],
   "source": [
    "from glob import glob"
   ]
  },
  {
   "cell_type": "code",
   "execution_count": 72,
   "metadata": {
    "collapsed": true
   },
   "outputs": [],
   "source": [
    "import fiona"
   ]
  },
  {
   "cell_type": "code",
   "execution_count": 73,
   "metadata": {
    "collapsed": true
   },
   "outputs": [],
   "source": [
    "def convert_shape(country_name=\"New Caledonia\"):\n",
    "    with fiona.open('../shapefiles/shapes_{}_converted.shp'.format(country_name), 'w', 'ESRI Shapefile', sh_country.schema.copy(), crs = sh_country.crs) as output:\n",
    "        for shape in sh_country:\n",
    "            if shape['properties']['min_x'] < 0: \n",
    "                shape['properties']['min_x'] += 360 \n",
    "            if shape['properties']['max_x'] < 0: \n",
    "                shape['properties']['max_x'] += 360\n",
    "            if (len(shape['geometry']['coordinates']) == 1):\n",
    "                coords = shape['geometry']['coordinates']\n",
    "                coords_mod = coords.copy()\n",
    "                for j in range(len(coords[0])): \n",
    "                    lon, lat = coords[0][j]\n",
    "                    if lon < 0: \n",
    "                        lon += 360\n",
    "                    coords_mod[0][j] = (lon, lat)\n",
    "                shape['geometry']['coordinates'] = coords_mod  \n",
    "            else: \n",
    "                for i in range(len(shape['geometry']['coordinates'])): \n",
    "                    coords = shape['geometry']['coordinates'][i]\n",
    "                    coords_mod = coords.copy()\n",
    "                    for j in range(len(coords[0])): \n",
    "                        lon, lat = coords[0][j]\n",
    "                        if lon < 0: \n",
    "                            lon += 360\n",
    "                        coords_mod[0][j] = (lon, lat)\n",
    "                    shape['geometry']['coordinates'][i] = coords_mod  \n",
    "            output.write(shape)"
   ]
  },
  {
   "cell_type": "markdown",
   "metadata": {},
   "source": [
    "### past 4 months, 7 days chunks "
   ]
  },
  {
   "cell_type": "code",
   "execution_count": 74,
   "metadata": {
    "collapsed": true
   },
   "outputs": [],
   "source": [
    "lfiles = glob('/Volumes/GDATA/data/CRW/BAA7dMAX/*.nc')"
   ]
  },
  {
   "cell_type": "code",
   "execution_count": 75,
   "metadata": {
    "collapsed": true
   },
   "outputs": [],
   "source": [
    "lfiles.sort()"
   ]
  },
  {
   "cell_type": "code",
   "execution_count": 76,
   "metadata": {
    "collapsed": true
   },
   "outputs": [],
   "source": [
    "lfiles = lfiles[-4:]"
   ]
  },
  {
   "cell_type": "code",
   "execution_count": 77,
   "metadata": {},
   "outputs": [
    {
     "data": {
      "text/plain": [
       "['/Volumes/GDATA/data/CRW/BAA7dMAX/b5km_baa-max-7d_20171120.nc',\n",
       " '/Volumes/GDATA/data/CRW/BAA7dMAX/b5km_baa-max-7d_20171127.nc',\n",
       " '/Volumes/GDATA/data/CRW/BAA7dMAX/b5km_baa-max-7d_20171204.nc',\n",
       " '/Volumes/GDATA/data/CRW/BAA7dMAX/b5km_baa-max-7d_20171211.nc']"
      ]
     },
     "execution_count": 77,
     "metadata": {},
     "output_type": "execute_result"
    }
   ],
   "source": [
    "lfiles"
   ]
  },
  {
   "cell_type": "markdown",
   "metadata": {},
   "source": [
    "### reads in the BAA 7 days max"
   ]
  },
  {
   "cell_type": "code",
   "execution_count": 78,
   "metadata": {
    "collapsed": true
   },
   "outputs": [],
   "source": [
    "BAA = xr.open_mfdataset(lfiles)"
   ]
  },
  {
   "cell_type": "code",
   "execution_count": 79,
   "metadata": {},
   "outputs": [
    {
     "data": {
      "text/plain": [
       "<xarray.Dataset>\n",
       "Dimensions:        (lat: 3600, lon: 7200, time: 4)\n",
       "Coordinates:\n",
       "  * lat            (lat) float32 89.975 89.925 89.875 89.825 89.775 89.725 ...\n",
       "  * lon            (lon) float32 -179.975 -179.925 -179.875 -179.825 ...\n",
       "  * time           (time) datetime64[ns] 2017-11-20T12:00:00 ...\n",
       "Data variables:\n",
       "    surface_flag   (time, lat, lon) int8 dask.array<shape=(4, 3600, 7200), chunksize=(1, 3600, 7200)>\n",
       "    CRW_BAA_max7d  (time, lat, lon) float64 dask.array<shape=(4, 3600, 7200), chunksize=(1, 3600, 7200)>\n",
       "    crs            (time) int16 -32767 -32767 -32767 -32767\n",
       "Attributes:\n",
       "    Conventions:                CF-1.6, ACDD-1.3, Unidata Observation Dataset...\n",
       "    ncei_template_version:      NCEI_NetCDF_Grid_Template_v2.0\n",
       "    title:                      NOAA Coral Reef Watch Daily Global 5-km Satel...\n",
       "    summary:                    This is a product of NOAA Coral Reef Watch da...\n",
       "    references:                 Liu, G, Heron SF, Eakin CM, Muller-Karger FE,...\n",
       "    institution:                NOAA/NESDIS/STAR Coral Reef Watch program\n",
       "    history:                    This product is based on CRW Version 1.0 NetC...\n",
       "    comment:                    This product is a product of the Coral Reef W...\n",
       "    license:                    The data are available for use without restri...\n",
       "    id:                         Satellite_Daily_Global_5km_7day_Maximum_Bleac...\n",
       "    naming_authority:           gov.noaa.coralreefwatch\n",
       "    product_version:            3.0\n",
       "    product_netcdf_version:     1.0\n",
       "    uuid:                       cb288872-6cd9-4bd0-8e48-2570e042801c\n",
       "    gds_version_id:             2.0\n",
       "    netcdf_version_id:          4.1.2\n",
       "    date_created:               20130312T120000Z\n",
       "    date_issued:                20171121T180006Z\n",
       "    date_modified:              20171121T180006Z\n",
       "    date_metadata_modified:     20171121T180006Z\n",
       "    start_time:                 20171114T000000Z\n",
       "    time_coverage_start:        20171114T000000Z\n",
       "    time_coverage_duration:     P7D\n",
       "    stop_time:                  20171121T000000Z\n",
       "    time_coverage_end:          20171121T000000Z\n",
       "    time_coverage_resolution:   P1D\n",
       "    source:                     This is a 7-day composite. Please check out t...\n",
       "    platform:                   This is a 7-day composite. Please check out t...\n",
       "    sensor:                     This is a 7-day composite. Please check out t...\n",
       "    instrument:                 This is a 7-day composite. Please check out t...\n",
       "    platform_vocabulary:        This is a 7-day composite. Please check out t...\n",
       "    instrument_vocabulary:      This is a 7-day composite. Please check out t...\n",
       "    metadata_link:              https://coralreefwatch.noaa.gov/satellite/ble...\n",
       "    keywords:                   Oceans > Ocean Temperature > Bleaching Alert ...\n",
       "    keywords_vocabulary:        NASA Global Change Master Directory (GCMD) Sc...\n",
       "    standard_name_vocabulary:   NetCDF Climate and Forecast (CF) Metadata Con...\n",
       "    geospatial_bounds:          POLYGON((-90.0 180.0, 90.0 180.0, 90.0 -180.0...\n",
       "    geospatial_bounds_crs:      EPSG:4326\n",
       "    geospatial_lon_min:         -180.0\n",
       "    geospatial_lon_max:         180.0\n",
       "    geospatial_lat_min:         -90.0\n",
       "    geospatial_lat_max:         90.0\n",
       "    spatial_resolution:         0.05 degree\n",
       "    geospatial_lat_units:       degrees north\n",
       "    geospatial_lat_resolution:  0.05\n",
       "    geospatial_lon_units:       degrees east\n",
       "    geospatial_lon_resolution:  0.05\n",
       "    acknowledgment:             NOAA Coral Reef Watch program\n",
       "    creator_type:               group\n",
       "    creator_institution:        NOAA/NESDIS/STAR\n",
       "    creator_name:               NOAA Coral Reef Watch program\n",
       "    creator_email:              coralreefwatch@noaa.gov\n",
       "    creator_url:                https://coralreefwatch.noaa.gov\n",
       "    project:                    NOAA Coral Reef Watch program\n",
       "    program:                    NOAA Coral Reef Watch program\n",
       "    publisher_type:             group\n",
       "    publisher_institution:      NOAA/NESDIS/STAR\n",
       "    publisher_name:             NOAA Coral Reef Watch program\n",
       "    publisher_url:              https://coralreefwatch.noaa.gov\n",
       "    publisher_email:            coralreefwatch@noaa.gov\n",
       "    contributor_name:           NOAA Coral Reef Watch program\n",
       "    contributor_role:           Collecting source data and deriving products;...\n",
       "    processing_level:           L4\n",
       "    cdm_data_type:              Grid"
      ]
     },
     "execution_count": 79,
     "metadata": {},
     "output_type": "execute_result"
    }
   ],
   "source": [
    "BAA"
   ]
  },
  {
   "cell_type": "markdown",
   "metadata": {},
   "source": [
    "### calculates the max over time"
   ]
  },
  {
   "cell_type": "code",
   "execution_count": 80,
   "metadata": {
    "collapsed": true,
    "run_control": {
     "marked": false
    }
   },
   "outputs": [],
   "source": [
    "BAA = BAA.max('time')"
   ]
  },
  {
   "cell_type": "code",
   "execution_count": 81,
   "metadata": {},
   "outputs": [
    {
     "data": {
      "text/plain": [
       "<xarray.Dataset>\n",
       "Dimensions:        (lat: 3600, lon: 7200)\n",
       "Coordinates:\n",
       "  * lat            (lat) float32 89.975 89.925 89.875 89.825 89.775 89.725 ...\n",
       "  * lon            (lon) float32 -179.975 -179.925 -179.875 -179.825 ...\n",
       "Data variables:\n",
       "    surface_flag   (lat, lon) int8 dask.array<shape=(3600, 7200), chunksize=(3600, 7200)>\n",
       "    CRW_BAA_max7d  (lat, lon) float64 dask.array<shape=(3600, 7200), chunksize=(3600, 7200)>\n",
       "    crs            int16 -32767"
      ]
     },
     "execution_count": 81,
     "metadata": {},
     "output_type": "execute_result"
    }
   ],
   "source": [
    "BAA"
   ]
  },
  {
   "cell_type": "markdown",
   "metadata": {},
   "source": [
    "### goes from 0 to 360 "
   ]
  },
  {
   "cell_type": "code",
   "execution_count": 82,
   "metadata": {
    "collapsed": true
   },
   "outputs": [],
   "source": [
    "BAA_rolled = BAA.assign_coords(lon=(BAA.lon % 360)).roll(lon=(BAA.dims['lon'] // 2))"
   ]
  },
  {
   "cell_type": "code",
   "execution_count": 83,
   "metadata": {},
   "outputs": [
    {
     "name": "stderr",
     "output_type": "stream",
     "text": [
      "/Users/nicolasf/anaconda/envs/IOOS/lib/python3.5/site-packages/numpy/lib/nanfunctions.py:343: RuntimeWarning: All-NaN slice encountered\n",
      "  warnings.warn(\"All-NaN slice encountered\", RuntimeWarning)\n"
     ]
    },
    {
     "data": {
      "text/plain": [
       "<matplotlib.image.AxesImage at 0x1a44dec9e8>"
      ]
     },
     "execution_count": 83,
     "metadata": {},
     "output_type": "execute_result"
    },
    {
     "data": {
      "image/png": "[encoded data removed]",
      "text/plain": [
       "<matplotlib.figure.Figure at 0x1a2dd3c198>"
      ]
     },
     "metadata": {},
     "output_type": "display_data"
    }
   ],
   "source": [
    "plt.imshow(BAA['CRW_BAA_max7d'].data)"
   ]
  },
  {
   "cell_type": "code",
   "execution_count": 84,
   "metadata": {},
   "outputs": [
    {
     "name": "stderr",
     "output_type": "stream",
     "text": [
      "/Users/nicolasf/anaconda/envs/IOOS/lib/python3.5/site-packages/numpy/lib/nanfunctions.py:343: RuntimeWarning: All-NaN slice encountered\n",
      "  warnings.warn(\"All-NaN slice encountered\", RuntimeWarning)\n"
     ]
    },
    {
     "data": {
      "text/plain": [
       "<matplotlib.image.AxesImage at 0x1a393eb860>"
      ]
     },
     "execution_count": 84,
     "metadata": {},
     "output_type": "execute_result"
    },
    {
     "data": {
      "image/png": "[encoded data removed]",
      "text/plain": [
       "<matplotlib.figure.Figure at 0x1a44df70b8>"
      ]
     },
     "metadata": {},
     "output_type": "display_data"
    }
   ],
   "source": [
    "plt.imshow(BAA_rolled['CRW_BAA_max7d'].data)"
   ]
  },
  {
   "cell_type": "code",
   "execution_count": 85,
   "metadata": {
    "collapsed": true
   },
   "outputs": [],
   "source": [
    "BAA_rolled = BAA_rolled.sel(lon=slice(100, 300), lat=slice(50, -50))"
   ]
  },
  {
   "cell_type": "code",
   "execution_count": 86,
   "metadata": {},
   "outputs": [
    {
     "name": "stderr",
     "output_type": "stream",
     "text": [
      "/Users/nicolasf/anaconda/envs/IOOS/lib/python3.5/site-packages/numpy/lib/nanfunctions.py:343: RuntimeWarning: All-NaN slice encountered\n",
      "  warnings.warn(\"All-NaN slice encountered\", RuntimeWarning)\n"
     ]
    },
    {
     "data": {
      "text/plain": [
       "<matplotlib.image.AxesImage at 0x1a2d4d62e8>"
      ]
     },
     "execution_count": 86,
     "metadata": {},
     "output_type": "execute_result"
    },
    {
     "data": {
      "image/png": "[encoded data removed]",
      "text/plain": [
       "<matplotlib.figure.Figure at 0x1a393d5470>"
      ]
     },
     "metadata": {},
     "output_type": "display_data"
    }
   ],
   "source": [
    "plt.imshow(BAA_rolled['CRW_BAA_max7d'].data)"
   ]
  },
  {
   "cell_type": "code",
   "execution_count": 87,
   "metadata": {
    "collapsed": true
   },
   "outputs": [],
   "source": [
    "BAA.close()"
   ]
  },
  {
   "cell_type": "markdown",
   "metadata": {},
   "source": [
    "### loads in memory"
   ]
  },
  {
   "cell_type": "code",
   "execution_count": 88,
   "metadata": {},
   "outputs": [
    {
     "name": "stderr",
     "output_type": "stream",
     "text": [
      "/Users/nicolasf/anaconda/envs/IOOS/lib/python3.5/site-packages/numpy/lib/nanfunctions.py:343: RuntimeWarning: All-NaN slice encountered\n",
      "  warnings.warn(\"All-NaN slice encountered\", RuntimeWarning)\n"
     ]
    },
    {
     "data": {
      "text/plain": [
       "<xarray.Dataset>\n",
       "Dimensions:        (lat: 2000, lon: 4000)\n",
       "Coordinates:\n",
       "  * lat            (lat) float32 49.975 49.925 49.875 49.825 49.775 49.725 ...\n",
       "  * lon            (lon) float32 100.025 100.075 100.125 100.175 100.225 ...\n",
       "Data variables:\n",
       "    surface_flag   (lat, lon) int8 1 1 1 1 1 1 1 1 1 1 1 1 1 1 1 1 1 1 1 1 1 ...\n",
       "    CRW_BAA_max7d  (lat, lon) float64 nan nan nan nan nan nan nan nan nan ...\n",
       "    crs            int16 -32767"
      ]
     },
     "execution_count": 88,
     "metadata": {},
     "output_type": "execute_result"
    }
   ],
   "source": [
    "BAA_rolled.load()"
   ]
  },
  {
   "cell_type": "markdown",
   "metadata": {},
   "source": [
    "### reads in the masks"
   ]
  },
  {
   "cell_type": "code",
   "execution_count": 89,
   "metadata": {
    "collapsed": true
   },
   "outputs": [],
   "source": [
    "masks = xr.open_dataset('../data/reef_mask/compiled_5km_reef_mask_for_edit_20171113_buffer4pix.nc')"
   ]
  },
  {
   "cell_type": "code",
   "execution_count": 90,
   "metadata": {},
   "outputs": [
    {
     "data": {
      "text/plain": [
       "<xarray.Dataset>\n",
       "Dimensions:    (lat: 3600, lon: 7200)\n",
       "Coordinates:\n",
       "  * lon        (lon) float32 -179.975 -179.925 -179.875 -179.825 -179.775 ...\n",
       "  * lat        (lat) float32 89.975 89.925 89.875 89.825 89.775 89.725 ...\n",
       "Data variables:\n",
       "    reef_mask  (lat, lon) uint8 ...\n",
       "    land_mask  (lat, lon) uint8 ..."
      ]
     },
     "execution_count": 90,
     "metadata": {},
     "output_type": "execute_result"
    }
   ],
   "source": [
    "masks"
   ]
  },
  {
   "cell_type": "code",
   "execution_count": 91,
   "metadata": {},
   "outputs": [
    {
     "data": {
      "text/plain": [
       "<matplotlib.image.AxesImage at 0x1a26480828>"
      ]
     },
     "execution_count": 91,
     "metadata": {},
     "output_type": "execute_result"
    },
    {
     "data": {
      "image/png": "[encoded data removed]",
      "text/plain": [
       "<matplotlib.figure.Figure at 0x1a393d55f8>"
      ]
     },
     "metadata": {},
     "output_type": "display_data"
    }
   ],
   "source": [
    "plt.imshow(masks['land_mask'].data)"
   ]
  },
  {
   "cell_type": "code",
   "execution_count": 92,
   "metadata": {
    "collapsed": true
   },
   "outputs": [],
   "source": [
    "masks_rolled = masks.assign_coords(lon=(masks.lon % 360)).roll(lon=(masks.dims['lon'] // 2))"
   ]
  },
  {
   "cell_type": "code",
   "execution_count": 93,
   "metadata": {},
   "outputs": [
    {
     "data": {
      "text/plain": [
       "<matplotlib.image.AxesImage at 0x1a20ef3c88>"
      ]
     },
     "execution_count": 93,
     "metadata": {},
     "output_type": "execute_result"
    },
    {
     "data": {
      "image/png": "[encoded data removed]",
      "text/plain": [
       "<matplotlib.figure.Figure at 0x1a2dd3a4e0>"
      ]
     },
     "metadata": {},
     "output_type": "display_data"
    }
   ],
   "source": [
    "plt.imshow(masks_rolled['land_mask'].data)"
   ]
  },
  {
   "cell_type": "code",
   "execution_count": 94,
   "metadata": {
    "collapsed": true
   },
   "outputs": [],
   "source": [
    "land_mask = ~(masks_rolled['land_mask'].data.astype(np.bool))"
   ]
  },
  {
   "cell_type": "code",
   "execution_count": 95,
   "metadata": {
    "collapsed": true
   },
   "outputs": [],
   "source": [
    "land_mask = land_mask.astype(np.float32)"
   ]
  },
  {
   "cell_type": "code",
   "execution_count": 96,
   "metadata": {},
   "outputs": [
    {
     "data": {
      "text/plain": [
       "array([[ 1.,  1.,  1., ...,  1.,  1.,  1.],\n",
       "       [ 1.,  1.,  1., ...,  1.,  1.,  1.],\n",
       "       [ 1.,  1.,  1., ...,  1.,  1.,  1.],\n",
       "       ..., \n",
       "       [ 0.,  0.,  0., ...,  0.,  0.,  0.],\n",
       "       [ 0.,  0.,  0., ...,  0.,  0.,  0.],\n",
       "       [ 0.,  0.,  0., ...,  0.,  0.,  0.]], dtype=float32)"
      ]
     },
     "execution_count": 96,
     "metadata": {},
     "output_type": "execute_result"
    }
   ],
   "source": [
    "land_mask"
   ]
  },
  {
   "cell_type": "code",
   "execution_count": 97,
   "metadata": {},
   "outputs": [
    {
     "data": {
      "text/plain": [
       "<matplotlib.colorbar.Colorbar at 0x1a20ff6278>"
      ]
     },
     "execution_count": 97,
     "metadata": {},
     "output_type": "execute_result"
    },
    {
     "data": {
      "image/png": "[encoded data removed]",
      "text/plain": [
       "<matplotlib.figure.Figure at 0x1a264a4b70>"
      ]
     },
     "metadata": {},
     "output_type": "display_data"
    }
   ],
   "source": [
    "plt.imshow(land_mask); plt.colorbar()"
   ]
  },
  {
   "cell_type": "code",
   "execution_count": 98,
   "metadata": {
    "collapsed": true
   },
   "outputs": [],
   "source": [
    "masks_rolled['land_mask'] = (('lat','lon'), land_mask)"
   ]
  },
  {
   "cell_type": "code",
   "execution_count": 99,
   "metadata": {
    "collapsed": true
   },
   "outputs": [],
   "source": [
    "masks_rolled = masks_rolled.sel(lon=slice(100, 300), lat=slice(50, -50))"
   ]
  },
  {
   "cell_type": "code",
   "execution_count": 100,
   "metadata": {},
   "outputs": [
    {
     "data": {
      "text/plain": [
       "<matplotlib.colorbar.Colorbar at 0x1a210c3898>"
      ]
     },
     "execution_count": 100,
     "metadata": {},
     "output_type": "execute_result"
    },
    {
     "data": {
      "image/png": "[encoded data removed]",
      "text/plain": [
       "<matplotlib.figure.Figure at 0x1a20fdba90>"
      ]
     },
     "metadata": {},
     "output_type": "display_data"
    }
   ],
   "source": [
    "plt.imshow(masks_rolled['land_mask'].data); plt.colorbar()"
   ]
  },
  {
   "cell_type": "code",
   "execution_count": 101,
   "metadata": {},
   "outputs": [
    {
     "data": {
      "text/plain": [
       "<matplotlib.colorbar.Colorbar at 0x1a2dd6c390>"
      ]
     },
     "execution_count": 101,
     "metadata": {},
     "output_type": "execute_result"
    },
    {
     "data": {
      "image/png": "[encoded data removed]",
      "text/plain": [
       "<matplotlib.figure.Figure at 0x1a210cb898>"
      ]
     },
     "metadata": {},
     "output_type": "display_data"
    }
   ],
   "source": [
    "plt.imshow(masks_rolled['reef_mask'].data); plt.colorbar()"
   ]
  },
  {
   "cell_type": "code",
   "execution_count": 102,
   "metadata": {
    "collapsed": true
   },
   "outputs": [],
   "source": [
    "mask = masks_rolled['reef_mask'] * masks_rolled['land_mask']"
   ]
  },
  {
   "cell_type": "code",
   "execution_count": 103,
   "metadata": {},
   "outputs": [
    {
     "data": {
      "text/plain": [
       "<matplotlib.colorbar.Colorbar at 0x1a21208fd0>"
      ]
     },
     "execution_count": 103,
     "metadata": {},
     "output_type": "execute_result"
    },
    {
     "data": {
      "image/png": "[encoded data removed]",
      "text/plain": [
       "<matplotlib.figure.Figure at 0x1a382b6c88>"
      ]
     },
     "metadata": {},
     "output_type": "display_data"
    }
   ],
   "source": [
    "plt.imshow(mask); plt.colorbar()"
   ]
  },
  {
   "cell_type": "code",
   "execution_count": 104,
   "metadata": {
    "collapsed": true
   },
   "outputs": [],
   "source": [
    "mask_data = mask.data"
   ]
  },
  {
   "cell_type": "code",
   "execution_count": 105,
   "metadata": {
    "collapsed": true
   },
   "outputs": [],
   "source": [
    "mask_data[np.where(mask_data == 0)] = np.nan"
   ]
  },
  {
   "cell_type": "code",
   "execution_count": 106,
   "metadata": {
    "collapsed": true
   },
   "outputs": [],
   "source": [
    "d = {}\n",
    "d['lat'] = (('lat'), mask.lat.data)\n",
    "d['lon'] = (('lon'), mask.lon.data)\n",
    "d['mask'] = (('lat','lon'), mask_data)"
   ]
  },
  {
   "cell_type": "code",
   "execution_count": 107,
   "metadata": {
    "collapsed": true
   },
   "outputs": [],
   "source": [
    "mask_dset = xr.Dataset(d)"
   ]
  },
  {
   "cell_type": "code",
   "execution_count": 108,
   "metadata": {
    "collapsed": true
   },
   "outputs": [],
   "source": [
    "mask_dset.to_netcdf('../data/combined_reef_mask.nc')"
   ]
  },
  {
   "cell_type": "code",
   "execution_count": 109,
   "metadata": {},
   "outputs": [
    {
     "data": {
      "text/plain": [
       "array([[ nan,  nan,  nan, ...,  nan,  nan,  nan],\n",
       "       [ nan,  nan,  nan, ...,  nan,  nan,  nan],\n",
       "       [ nan,  nan,  nan, ...,  nan,  nan,  nan],\n",
       "       ..., \n",
       "       [ nan,  nan,  nan, ...,  nan,  nan,  nan],\n",
       "       [ nan,  nan,  nan, ...,  nan,  nan,  nan],\n",
       "       [ nan,  nan,  nan, ...,  nan,  nan,  nan]], dtype=float32)"
      ]
     },
     "execution_count": 109,
     "metadata": {},
     "output_type": "execute_result"
    }
   ],
   "source": [
    "mask_data"
   ]
  },
  {
   "cell_type": "code",
   "execution_count": 110,
   "metadata": {
    "collapsed": true
   },
   "outputs": [],
   "source": [
    "BAA_rolled['reef_mask'] = (('lat','lon'), mask_data)"
   ]
  },
  {
   "cell_type": "code",
   "execution_count": 111,
   "metadata": {
    "collapsed": true
   },
   "outputs": [],
   "source": [
    "if os.path.exists('../outputs/tmp.nc'):\n",
    "    os.remove('../outputs/tmp.nc')"
   ]
  },
  {
   "cell_type": "code",
   "execution_count": 112,
   "metadata": {
    "collapsed": true
   },
   "outputs": [],
   "source": [
    "BAA_rolled.to_netcdf('../outputs/tmp.nc')"
   ]
  },
  {
   "cell_type": "markdown",
   "metadata": {},
   "source": [
    "### reads the EEZ shapefile"
   ]
  },
  {
   "cell_type": "code",
   "execution_count": 113,
   "metadata": {
    "collapsed": true
   },
   "outputs": [],
   "source": [
    "shp_path = \"/Users/nicolasf/drives/auck_projects/ICU14101/Working/ICU Water Watch/GIS map files\""
   ]
  },
  {
   "cell_type": "code",
   "execution_count": 114,
   "metadata": {
    "collapsed": true
   },
   "outputs": [],
   "source": [
    "shp = salem.read_shapefile(os.path.join(shp_path, \"ALL_ICU_countries.shp\"))"
   ]
  },
  {
   "cell_type": "code",
   "execution_count": 115,
   "metadata": {
    "collapsed": true
   },
   "outputs": [],
   "source": [
    "# shp.plot()"
   ]
  },
  {
   "cell_type": "code",
   "execution_count": 116,
   "metadata": {},
   "outputs": [
    {
     "data": {
      "text/html": [
       "<div>\n",
       "<style scoped>\n",
       "    .dataframe tbody tr th:only-of-type {\n",
       "        vertical-align: middle;\n",
       "    }\n",
       "\n",
       "    .dataframe tbody tr th {\n",
       "        vertical-align: top;\n",
       "    }\n",
       "\n",
       "    .dataframe thead th {\n",
       "        text-align: right;\n",
       "    }\n",
       "</style>\n",
       "<table border=\"1\" class=\"dataframe\">\n",
       "  <thead>\n",
       "    <tr style=\"text-align: right;\">\n",
       "      <th></th>\n",
       "      <th>ACP</th>\n",
       "      <th>COUNTRYNAM</th>\n",
       "      <th>COUNTRY_ID</th>\n",
       "      <th>FFA</th>\n",
       "      <th>FORUM</th>\n",
       "      <th>ICU</th>\n",
       "      <th>SOPAC</th>\n",
       "      <th>SPC</th>\n",
       "      <th>SPREP</th>\n",
       "      <th>Stress</th>\n",
       "      <th>TCSP</th>\n",
       "      <th>USP</th>\n",
       "      <th>area</th>\n",
       "      <th>geometry</th>\n",
       "      <th>min_x</th>\n",
       "      <th>max_x</th>\n",
       "      <th>min_y</th>\n",
       "      <th>max_y</th>\n",
       "    </tr>\n",
       "  </thead>\n",
       "  <tbody>\n",
       "    <tr>\n",
       "      <th>0</th>\n",
       "      <td>0</td>\n",
       "      <td>New Caledonia</td>\n",
       "      <td>NC</td>\n",
       "      <td>0</td>\n",
       "      <td>0</td>\n",
       "      <td>2</td>\n",
       "      <td>0</td>\n",
       "      <td>0</td>\n",
       "      <td>0</td>\n",
       "      <td>-14</td>\n",
       "      <td>0</td>\n",
       "      <td>0</td>\n",
       "      <td>0.0</td>\n",
       "      <td>POLYGON ((158.6108 -25.14667, 157.8011 -23.248...</td>\n",
       "      <td>156.255600</td>\n",
       "      <td>170.033300</td>\n",
       "      <td>-25.919891</td>\n",
       "      <td>-14.769438</td>\n",
       "    </tr>\n",
       "    <tr>\n",
       "      <th>1</th>\n",
       "      <td>0</td>\n",
       "      <td>Pitcairn Islands</td>\n",
       "      <td>PN</td>\n",
       "      <td>0</td>\n",
       "      <td>0</td>\n",
       "      <td>-3</td>\n",
       "      <td>0</td>\n",
       "      <td>0</td>\n",
       "      <td>0</td>\n",
       "      <td>0</td>\n",
       "      <td>0</td>\n",
       "      <td>0</td>\n",
       "      <td>0.0</td>\n",
       "      <td>POLYGON ((-132.499382 -22.511733, -132.228513 ...</td>\n",
       "      <td>-133.405666</td>\n",
       "      <td>-121.133705</td>\n",
       "      <td>-28.385089</td>\n",
       "      <td>-20.530577</td>\n",
       "    </tr>\n",
       "    <tr>\n",
       "      <th>2</th>\n",
       "      <td>0</td>\n",
       "      <td>Papua New Guinea</td>\n",
       "      <td>PG</td>\n",
       "      <td>0</td>\n",
       "      <td>0</td>\n",
       "      <td>0</td>\n",
       "      <td>0</td>\n",
       "      <td>0</td>\n",
       "      <td>0</td>\n",
       "      <td>7</td>\n",
       "      <td>0</td>\n",
       "      <td>0</td>\n",
       "      <td>0.0</td>\n",
       "      <td>POLYGON ((157.168058 -13.692712, 157.038334 -1...</td>\n",
       "      <td>139.200227</td>\n",
       "      <td>162.801941</td>\n",
       "      <td>-14.750038</td>\n",
       "      <td>2.591944</td>\n",
       "    </tr>\n",
       "    <tr>\n",
       "      <th>3</th>\n",
       "      <td>0</td>\n",
       "      <td>Solomon Islands</td>\n",
       "      <td>SB</td>\n",
       "      <td>0</td>\n",
       "      <td>0</td>\n",
       "      <td>-9</td>\n",
       "      <td>0</td>\n",
       "      <td>0</td>\n",
       "      <td>0</td>\n",
       "      <td>2</td>\n",
       "      <td>0</td>\n",
       "      <td>0</td>\n",
       "      <td>0.0</td>\n",
       "      <td>POLYGON ((173.5906 -11.85417, 173.525754 -12.5...</td>\n",
       "      <td>154.585556</td>\n",
       "      <td>173.590600</td>\n",
       "      <td>-16.133050</td>\n",
       "      <td>-4.142221</td>\n",
       "    </tr>\n",
       "    <tr>\n",
       "      <th>4</th>\n",
       "      <td>0</td>\n",
       "      <td>Kiribati: Phoenix Islands</td>\n",
       "      <td>KI</td>\n",
       "      <td>0</td>\n",
       "      <td>0</td>\n",
       "      <td>-5</td>\n",
       "      <td>0</td>\n",
       "      <td>0</td>\n",
       "      <td>0</td>\n",
       "      <td>-1</td>\n",
       "      <td>0</td>\n",
       "      <td>0</td>\n",
       "      <td>0.0</td>\n",
       "      <td>POLYGON ((-168.921636 -6.882211000000032, -170...</td>\n",
       "      <td>-177.883300</td>\n",
       "      <td>-167.366700</td>\n",
       "      <td>-7.785231</td>\n",
       "      <td>0.583333</td>\n",
       "    </tr>\n",
       "  </tbody>\n",
       "</table>\n",
       "</div>"
      ],
      "text/plain": [
       "   ACP                 COUNTRYNAM COUNTRY_ID  FFA  FORUM  ICU  SOPAC  SPC  \\\n",
       "0    0              New Caledonia         NC    0      0    2      0    0   \n",
       "1    0           Pitcairn Islands         PN    0      0   -3      0    0   \n",
       "2    0           Papua New Guinea         PG    0      0    0      0    0   \n",
       "3    0            Solomon Islands         SB    0      0   -9      0    0   \n",
       "4    0  Kiribati: Phoenix Islands         KI    0      0   -5      0    0   \n",
       "\n",
       "   SPREP  Stress  TCSP  USP  area  \\\n",
       "0      0     -14     0    0   0.0   \n",
       "1      0       0     0    0   0.0   \n",
       "2      0       7     0    0   0.0   \n",
       "3      0       2     0    0   0.0   \n",
       "4      0      -1     0    0   0.0   \n",
       "\n",
       "                                            geometry       min_x       max_x  \\\n",
       "0  POLYGON ((158.6108 -25.14667, 157.8011 -23.248...  156.255600  170.033300   \n",
       "1  POLYGON ((-132.499382 -22.511733, -132.228513 ... -133.405666 -121.133705   \n",
       "2  POLYGON ((157.168058 -13.692712, 157.038334 -1...  139.200227  162.801941   \n",
       "3  POLYGON ((173.5906 -11.85417, 173.525754 -12.5...  154.585556  173.590600   \n",
       "4  POLYGON ((-168.921636 -6.882211000000032, -170... -177.883300 -167.366700   \n",
       "\n",
       "       min_y      max_y  \n",
       "0 -25.919891 -14.769438  \n",
       "1 -28.385089 -20.530577  \n",
       "2 -14.750038   2.591944  \n",
       "3 -16.133050  -4.142221  \n",
       "4  -7.785231   0.583333  "
      ]
     },
     "execution_count": 116,
     "metadata": {},
     "output_type": "execute_result"
    }
   ],
   "source": [
    "shp.head()"
   ]
  },
  {
   "cell_type": "code",
   "execution_count": 117,
   "metadata": {
    "collapsed": true
   },
   "outputs": [],
   "source": [
    "def sanitize(x): \n",
    "    x = x.replace(\" \",\"_\")\n",
    "    x = x.replace(\"/\",\"\")\n",
    "    x = x.replace(\":\",\"\")\n",
    "    return x"
   ]
  },
  {
   "cell_type": "code",
   "execution_count": 118,
   "metadata": {
    "collapsed": true
   },
   "outputs": [],
   "source": [
    "shp.loc[:,'COUNTRYNAM']= shp.loc[:,'COUNTRYNAM'].apply(sanitize)"
   ]
  },
  {
   "cell_type": "code",
   "execution_count": 119,
   "metadata": {},
   "outputs": [
    {
     "data": {
      "text/html": [
       "<div>\n",
       "<style scoped>\n",
       "    .dataframe tbody tr th:only-of-type {\n",
       "        vertical-align: middle;\n",
       "    }\n",
       "\n",
       "    .dataframe tbody tr th {\n",
       "        vertical-align: top;\n",
       "    }\n",
       "\n",
       "    .dataframe thead th {\n",
       "        text-align: right;\n",
       "    }\n",
       "</style>\n",
       "<table border=\"1\" class=\"dataframe\">\n",
       "  <thead>\n",
       "    <tr style=\"text-align: right;\">\n",
       "      <th></th>\n",
       "      <th>ACP</th>\n",
       "      <th>COUNTRYNAM</th>\n",
       "      <th>COUNTRY_ID</th>\n",
       "      <th>FFA</th>\n",
       "      <th>FORUM</th>\n",
       "      <th>ICU</th>\n",
       "      <th>SOPAC</th>\n",
       "      <th>SPC</th>\n",
       "      <th>SPREP</th>\n",
       "      <th>Stress</th>\n",
       "      <th>TCSP</th>\n",
       "      <th>USP</th>\n",
       "      <th>area</th>\n",
       "      <th>geometry</th>\n",
       "      <th>min_x</th>\n",
       "      <th>max_x</th>\n",
       "      <th>min_y</th>\n",
       "      <th>max_y</th>\n",
       "    </tr>\n",
       "  </thead>\n",
       "  <tbody>\n",
       "    <tr>\n",
       "      <th>0</th>\n",
       "      <td>0</td>\n",
       "      <td>New_Caledonia</td>\n",
       "      <td>NC</td>\n",
       "      <td>0</td>\n",
       "      <td>0</td>\n",
       "      <td>2</td>\n",
       "      <td>0</td>\n",
       "      <td>0</td>\n",
       "      <td>0</td>\n",
       "      <td>-14</td>\n",
       "      <td>0</td>\n",
       "      <td>0</td>\n",
       "      <td>0.0</td>\n",
       "      <td>POLYGON ((158.6108 -25.14667, 157.8011 -23.248...</td>\n",
       "      <td>156.255600</td>\n",
       "      <td>170.033300</td>\n",
       "      <td>-25.919891</td>\n",
       "      <td>-14.769438</td>\n",
       "    </tr>\n",
       "    <tr>\n",
       "      <th>1</th>\n",
       "      <td>0</td>\n",
       "      <td>Pitcairn_Islands</td>\n",
       "      <td>PN</td>\n",
       "      <td>0</td>\n",
       "      <td>0</td>\n",
       "      <td>-3</td>\n",
       "      <td>0</td>\n",
       "      <td>0</td>\n",
       "      <td>0</td>\n",
       "      <td>0</td>\n",
       "      <td>0</td>\n",
       "      <td>0</td>\n",
       "      <td>0.0</td>\n",
       "      <td>POLYGON ((-132.499382 -22.511733, -132.228513 ...</td>\n",
       "      <td>-133.405666</td>\n",
       "      <td>-121.133705</td>\n",
       "      <td>-28.385089</td>\n",
       "      <td>-20.530577</td>\n",
       "    </tr>\n",
       "    <tr>\n",
       "      <th>2</th>\n",
       "      <td>0</td>\n",
       "      <td>Papua_New_Guinea</td>\n",
       "      <td>PG</td>\n",
       "      <td>0</td>\n",
       "      <td>0</td>\n",
       "      <td>0</td>\n",
       "      <td>0</td>\n",
       "      <td>0</td>\n",
       "      <td>0</td>\n",
       "      <td>7</td>\n",
       "      <td>0</td>\n",
       "      <td>0</td>\n",
       "      <td>0.0</td>\n",
       "      <td>POLYGON ((157.168058 -13.692712, 157.038334 -1...</td>\n",
       "      <td>139.200227</td>\n",
       "      <td>162.801941</td>\n",
       "      <td>-14.750038</td>\n",
       "      <td>2.591944</td>\n",
       "    </tr>\n",
       "    <tr>\n",
       "      <th>3</th>\n",
       "      <td>0</td>\n",
       "      <td>Solomon_Islands</td>\n",
       "      <td>SB</td>\n",
       "      <td>0</td>\n",
       "      <td>0</td>\n",
       "      <td>-9</td>\n",
       "      <td>0</td>\n",
       "      <td>0</td>\n",
       "      <td>0</td>\n",
       "      <td>2</td>\n",
       "      <td>0</td>\n",
       "      <td>0</td>\n",
       "      <td>0.0</td>\n",
       "      <td>POLYGON ((173.5906 -11.85417, 173.525754 -12.5...</td>\n",
       "      <td>154.585556</td>\n",
       "      <td>173.590600</td>\n",
       "      <td>-16.133050</td>\n",
       "      <td>-4.142221</td>\n",
       "    </tr>\n",
       "    <tr>\n",
       "      <th>4</th>\n",
       "      <td>0</td>\n",
       "      <td>Kiribati_Phoenix_Islands</td>\n",
       "      <td>KI</td>\n",
       "      <td>0</td>\n",
       "      <td>0</td>\n",
       "      <td>-5</td>\n",
       "      <td>0</td>\n",
       "      <td>0</td>\n",
       "      <td>0</td>\n",
       "      <td>-1</td>\n",
       "      <td>0</td>\n",
       "      <td>0</td>\n",
       "      <td>0.0</td>\n",
       "      <td>POLYGON ((-168.921636 -6.882211000000032, -170...</td>\n",
       "      <td>-177.883300</td>\n",
       "      <td>-167.366700</td>\n",
       "      <td>-7.785231</td>\n",
       "      <td>0.583333</td>\n",
       "    </tr>\n",
       "  </tbody>\n",
       "</table>\n",
       "</div>"
      ],
      "text/plain": [
       "   ACP                COUNTRYNAM COUNTRY_ID  FFA  FORUM  ICU  SOPAC  SPC  \\\n",
       "0    0             New_Caledonia         NC    0      0    2      0    0   \n",
       "1    0          Pitcairn_Islands         PN    0      0   -3      0    0   \n",
       "2    0          Papua_New_Guinea         PG    0      0    0      0    0   \n",
       "3    0           Solomon_Islands         SB    0      0   -9      0    0   \n",
       "4    0  Kiribati_Phoenix_Islands         KI    0      0   -5      0    0   \n",
       "\n",
       "   SPREP  Stress  TCSP  USP  area  \\\n",
       "0      0     -14     0    0   0.0   \n",
       "1      0       0     0    0   0.0   \n",
       "2      0       7     0    0   0.0   \n",
       "3      0       2     0    0   0.0   \n",
       "4      0      -1     0    0   0.0   \n",
       "\n",
       "                                            geometry       min_x       max_x  \\\n",
       "0  POLYGON ((158.6108 -25.14667, 157.8011 -23.248...  156.255600  170.033300   \n",
       "1  POLYGON ((-132.499382 -22.511733, -132.228513 ... -133.405666 -121.133705   \n",
       "2  POLYGON ((157.168058 -13.692712, 157.038334 -1...  139.200227  162.801941   \n",
       "3  POLYGON ((173.5906 -11.85417, 173.525754 -12.5...  154.585556  173.590600   \n",
       "4  POLYGON ((-168.921636 -6.882211000000032, -170... -177.883300 -167.366700   \n",
       "\n",
       "       min_y      max_y  \n",
       "0 -25.919891 -14.769438  \n",
       "1 -28.385089 -20.530577  \n",
       "2 -14.750038   2.591944  \n",
       "3 -16.133050  -4.142221  \n",
       "4  -7.785231   0.583333  "
      ]
     },
     "execution_count": 119,
     "metadata": {},
     "output_type": "execute_result"
    }
   ],
   "source": [
    "shp.head()"
   ]
  },
  {
   "cell_type": "code",
   "execution_count": 120,
   "metadata": {
    "collapsed": true
   },
   "outputs": [],
   "source": [
    "dset_salem = salem.open_xr_dataset('../outputs/tmp.nc')"
   ]
  },
  {
   "cell_type": "code",
   "execution_count": 121,
   "metadata": {},
   "outputs": [
    {
     "data": {
      "text/plain": [
       "<xarray.Dataset>\n",
       "Dimensions:        (lat: 2000, lon: 4000)\n",
       "Coordinates:\n",
       "  * lat            (lat) float32 49.975 49.925 49.875 49.825 49.775 49.725 ...\n",
       "  * lon            (lon) float32 100.025 100.075 100.125 100.175 100.225 ...\n",
       "Data variables:\n",
       "    surface_flag   (lat, lon) int8 ...\n",
       "    CRW_BAA_max7d  (lat, lon) float64 ...\n",
       "    crs            int16 ...\n",
       "    reef_mask      (lat, lon) float32 ...\n",
       "Attributes:\n",
       "    pyproj_srs:  +units=m +datum=WGS84 +proj=latlong "
      ]
     },
     "execution_count": 121,
     "metadata": {},
     "output_type": "execute_result"
    }
   ],
   "source": [
    "dset_salem"
   ]
  },
  {
   "cell_type": "code",
   "execution_count": 122,
   "metadata": {},
   "outputs": [
    {
     "data": {
      "text/plain": [
       "array(['New_Caledonia', 'Pitcairn_Islands', 'Papua_New_Guinea',\n",
       "       'Solomon_Islands', 'Kiribati_Phoenix_Islands', 'Fiji', 'Tuvalu',\n",
       "       'Northern_Cook_Islands', 'Kiribati_Line_Islands',\n",
       "       'Federated_States_of_Micronesia', 'Samoa',\n",
       "       'Kiribati_Gilbert_Islands', 'Wallis_&_Futuna', 'Tokelau',\n",
       "       'Tuamotu__Gambier_Islands', 'Tonga', 'Niue',\n",
       "       'Southern_Cook_Islands', 'Austral_Islands', 'Society_Islands',\n",
       "       'Marquesas', 'Vanuatu_South', 'Vanuatu_North', 'Guam',\n",
       "       'Northern_Marianas', 'Marshall_Islands', 'Nauru', 'Palau',\n",
       "       'American_Samoa'], dtype=object)"
      ]
     },
     "execution_count": 122,
     "metadata": {},
     "output_type": "execute_result"
    }
   ],
   "source": [
    "shp.COUNTRYNAM.unique()"
   ]
  },
  {
   "cell_type": "code",
   "execution_count": 124,
   "metadata": {
    "collapsed": true
   },
   "outputs": [],
   "source": [
    "for country_name in shp.COUNTRYNAM.unique(): \n",
    "    sh_country = shp.query(\"COUNTRYNAM == '{}'\".format(country_name))\n",
    "    sh_country.to_file('../shapefiles/shapes_{}'.format(country_name))\n",
    "    sh_country = fiona.open('../shapefiles/shapes_{}'.format(country_name))\n",
    "    convert_shape(country_name)\n",
    "    sh_country = salem.read_shapefile('../shapefiles/shapes_{}_converted.shp'.format(country_name))\n",
    "    ds_subset = dset_salem.salem.subset(shape=sh_country, margin=2)\n",
    "    ds_subset_roi = ds_subset.salem.roi(shape=sh_country)\n",
    "    masked_roi = ds_subset_roi['CRW_BAA_max7d'] * ds_subset_roi['reef_mask']\n",
    "    masked_roi = masked_roi.stack(z=('lat','lon'))\n",
    "    df = masked_roi.to_dataframe(name='masked_roi')\n",
    "    df_na = df.dropna()\n",
    "    summary  = df_na.describe(percentiles=[0.1, 0.25, 0.5, 0.6, 0.7, 0.8, 0.9])\n",
    "    summary = summary.T\n",
    "    counts = pd.value_counts(df_na.iloc[:,0])\n",
    "    counts = counts.reindex(range(5))\n",
    "    counts = counts.replace(np.nan, 0)\n",
    "    counts = counts.to_frame().T\n",
    "    summary = pd.concat([summary, counts], axis=1)\n",
    "    summary.index.name = \"country\"\n",
    "    summary.index = [country_name]\n",
    "    summary.to_csv('../outputs/{}_summary.csv'.format(country_name))"
   ]
  },
  {
   "cell_type": "code",
   "execution_count": 125,
   "metadata": {},
   "outputs": [
    {
     "name": "stdout",
     "output_type": "stream",
     "text": [
      "American_Samoa_summary.csv\r\n",
      "Austral_Islands_summary.csv\r\n",
      "\u001b[1m\u001b[36mBAA\u001b[m\u001b[m\r\n",
      "BAA_4weeks_max_summary.csv\r\n",
      "CSFV2_outlook_monthly_90th_per_summary_table_from_20171210.csv\r\n",
      "CSFV2_outlook_summary_table_from_20171210.csv\r\n",
      "CSFV2_outlook_weekly_90th_per_summary_table_from_20171210.csv\r\n",
      "Federated_States_of_Micronesia_summary.csv\r\n",
      "Fiji_summary.csv\r\n",
      "Guam_summary.csv\r\n",
      "Kiribati_Gilbert_Islands_summary.csv\r\n",
      "Kiribati_Line_Islands_summary.csv\r\n",
      "Kiribati_Phoenix_Islands_summary.csv\r\n",
      "Marquesas_summary.csv\r\n",
      "Marshall_Islands_summary.csv\r\n",
      "Nauru_summary.csv\r\n",
      "New_Caledonia_summary.csv\r\n",
      "Niue_summary.csv\r\n",
      "Northern_Cook_Islands_summary.csv\r\n",
      "Northern_Marianas_summary.csv\r\n",
      "Palau_summary.csv\r\n",
      "Papua_New_Guinea_summary.csv\r\n",
      "Pitcairn_Islands_summary.csv\r\n",
      "Samoa_summary.csv\r\n",
      "Society_Islands_summary.csv\r\n",
      "Solomon_Islands_summary.csv\r\n",
      "Southern_Cook_Islands_summary.csv\r\n",
      "Tokelau_summary.csv\r\n",
      "Tonga_summary.csv\r\n",
      "Tuamotu__Gambier_Islands_summary.csv\r\n",
      "Tuvalu_summary.csv\r\n",
      "Vanuatu_North_summary.csv\r\n",
      "Vanuatu_South_summary.csv\r\n",
      "Wallis_&_Futuna_summary.csv\r",
      "\r\n",
      "tmp.nc\r\n"
     ]
    }
   ],
   "source": [
    "!ls ../outputs/"
   ]
  },
  {
   "cell_type": "code",
   "execution_count": 128,
   "metadata": {
    "collapsed": true
   },
   "outputs": [],
   "source": [
    "lfiles = glob(\"../outputs/*_summary.csv\")"
   ]
  },
  {
   "cell_type": "code",
   "execution_count": 129,
   "metadata": {},
   "outputs": [
    {
     "data": {
      "text/plain": [
       "29"
      ]
     },
     "execution_count": 129,
     "metadata": {},
     "output_type": "execute_result"
    }
   ],
   "source": [
    "len(lfiles)"
   ]
  },
  {
   "cell_type": "code",
   "execution_count": 130,
   "metadata": {
    "collapsed": true
   },
   "outputs": [],
   "source": [
    "data = pd.read_csv(lfiles[0], index_col=0)"
   ]
  },
  {
   "cell_type": "code",
   "execution_count": 131,
   "metadata": {},
   "outputs": [
    {
     "data": {
      "text/html": [
       "<div>\n",
       "<style scoped>\n",
       "    .dataframe tbody tr th:only-of-type {\n",
       "        vertical-align: middle;\n",
       "    }\n",
       "\n",
       "    .dataframe tbody tr th {\n",
       "        vertical-align: top;\n",
       "    }\n",
       "\n",
       "    .dataframe thead th {\n",
       "        text-align: right;\n",
       "    }\n",
       "</style>\n",
       "<table border=\"1\" class=\"dataframe\">\n",
       "  <thead>\n",
       "    <tr style=\"text-align: right;\">\n",
       "      <th></th>\n",
       "      <th>count</th>\n",
       "      <th>mean</th>\n",
       "      <th>std</th>\n",
       "      <th>min</th>\n",
       "      <th>10%</th>\n",
       "      <th>25%</th>\n",
       "      <th>50%</th>\n",
       "      <th>60%</th>\n",
       "      <th>70%</th>\n",
       "      <th>80%</th>\n",
       "      <th>90%</th>\n",
       "      <th>max</th>\n",
       "      <th>0</th>\n",
       "      <th>1</th>\n",
       "      <th>2</th>\n",
       "      <th>3</th>\n",
       "      <th>4</th>\n",
       "    </tr>\n",
       "  </thead>\n",
       "  <tbody>\n",
       "    <tr>\n",
       "      <th>New_Caledonia</th>\n",
       "      <td>4647.0</td>\n",
       "      <td>0.06671</td>\n",
       "      <td>0.249545</td>\n",
       "      <td>0.0</td>\n",
       "      <td>0.0</td>\n",
       "      <td>0.0</td>\n",
       "      <td>0.0</td>\n",
       "      <td>0.0</td>\n",
       "      <td>0.0</td>\n",
       "      <td>0.0</td>\n",
       "      <td>0.0</td>\n",
       "      <td>1.0</td>\n",
       "      <td>4337.0</td>\n",
       "      <td>310.0</td>\n",
       "      <td>0.0</td>\n",
       "      <td>0.0</td>\n",
       "      <td>0.0</td>\n",
       "    </tr>\n",
       "  </tbody>\n",
       "</table>\n",
       "</div>"
      ],
      "text/plain": [
       "                count     mean       std  min  10%  25%  50%  60%  70%  80%  \\\n",
       "New_Caledonia  4647.0  0.06671  0.249545  0.0  0.0  0.0  0.0  0.0  0.0  0.0   \n",
       "\n",
       "               90%  max       0      1    2    3    4  \n",
       "New_Caledonia  0.0  1.0  4337.0  310.0  0.0  0.0  0.0  "
      ]
     },
     "execution_count": 131,
     "metadata": {},
     "output_type": "execute_result"
    }
   ],
   "source": [
    "data"
   ]
  },
  {
   "cell_type": "code",
   "execution_count": 132,
   "metadata": {
    "collapsed": true
   },
   "outputs": [],
   "source": [
    "dl = [] \n",
    "for f in lfiles: \n",
    "    d = pd.read_csv(f, index_col=0)\n",
    "    dl.append(d)"
   ]
  },
  {
   "cell_type": "code",
   "execution_count": 133,
   "metadata": {
    "collapsed": true
   },
   "outputs": [],
   "source": [
    "dlf = pd.concat(dl, axis=0)"
   ]
  },
  {
   "cell_type": "code",
   "execution_count": 134,
   "metadata": {},
   "outputs": [
    {
     "data": {
      "text/html": [
       "<div>\n",
       "<style scoped>\n",
       "    .dataframe tbody tr th:only-of-type {\n",
       "        vertical-align: middle;\n",
       "    }\n",
       "\n",
       "    .dataframe tbody tr th {\n",
       "        vertical-align: top;\n",
       "    }\n",
       "\n",
       "    .dataframe thead th {\n",
       "        text-align: right;\n",
       "    }\n",
       "</style>\n",
       "<table border=\"1\" class=\"dataframe\">\n",
       "  <thead>\n",
       "    <tr style=\"text-align: right;\">\n",
       "      <th></th>\n",
       "      <th>count</th>\n",
       "      <th>mean</th>\n",
       "      <th>std</th>\n",
       "      <th>min</th>\n",
       "      <th>10%</th>\n",
       "      <th>25%</th>\n",
       "      <th>50%</th>\n",
       "      <th>60%</th>\n",
       "      <th>70%</th>\n",
       "      <th>80%</th>\n",
       "      <th>90%</th>\n",
       "      <th>max</th>\n",
       "      <th>0</th>\n",
       "      <th>1</th>\n",
       "      <th>2</th>\n",
       "      <th>3</th>\n",
       "      <th>4</th>\n",
       "    </tr>\n",
       "  </thead>\n",
       "  <tbody>\n",
       "    <tr>\n",
       "      <th>New_Caledonia</th>\n",
       "      <td>4647.0</td>\n",
       "      <td>0.066710</td>\n",
       "      <td>0.249545</td>\n",
       "      <td>0.0</td>\n",
       "      <td>0.0</td>\n",
       "      <td>0.0</td>\n",
       "      <td>0.0</td>\n",
       "      <td>0.0</td>\n",
       "      <td>0.0</td>\n",
       "      <td>0.0</td>\n",
       "      <td>0.0</td>\n",
       "      <td>1.0</td>\n",
       "      <td>4337.0</td>\n",
       "      <td>310.0</td>\n",
       "      <td>0.0</td>\n",
       "      <td>0.0</td>\n",
       "      <td>0.0</td>\n",
       "    </tr>\n",
       "    <tr>\n",
       "      <th>Tonga</th>\n",
       "      <td>1616.0</td>\n",
       "      <td>0.344059</td>\n",
       "      <td>0.475208</td>\n",
       "      <td>0.0</td>\n",
       "      <td>0.0</td>\n",
       "      <td>0.0</td>\n",
       "      <td>0.0</td>\n",
       "      <td>0.0</td>\n",
       "      <td>1.0</td>\n",
       "      <td>1.0</td>\n",
       "      <td>1.0</td>\n",
       "      <td>1.0</td>\n",
       "      <td>1060.0</td>\n",
       "      <td>556.0</td>\n",
       "      <td>0.0</td>\n",
       "      <td>0.0</td>\n",
       "      <td>0.0</td>\n",
       "    </tr>\n",
       "    <tr>\n",
       "      <th>Kiribati_Phoenix_Islands</th>\n",
       "      <td>612.0</td>\n",
       "      <td>0.032680</td>\n",
       "      <td>0.177942</td>\n",
       "      <td>0.0</td>\n",
       "      <td>0.0</td>\n",
       "      <td>0.0</td>\n",
       "      <td>0.0</td>\n",
       "      <td>0.0</td>\n",
       "      <td>0.0</td>\n",
       "      <td>0.0</td>\n",
       "      <td>0.0</td>\n",
       "      <td>1.0</td>\n",
       "      <td>592.0</td>\n",
       "      <td>20.0</td>\n",
       "      <td>0.0</td>\n",
       "      <td>0.0</td>\n",
       "      <td>0.0</td>\n",
       "    </tr>\n",
       "    <tr>\n",
       "      <th>Tuvalu</th>\n",
       "      <td>1339.0</td>\n",
       "      <td>1.050784</td>\n",
       "      <td>0.219639</td>\n",
       "      <td>1.0</td>\n",
       "      <td>1.0</td>\n",
       "      <td>1.0</td>\n",
       "      <td>1.0</td>\n",
       "      <td>1.0</td>\n",
       "      <td>1.0</td>\n",
       "      <td>1.0</td>\n",
       "      <td>1.0</td>\n",
       "      <td>2.0</td>\n",
       "      <td>0.0</td>\n",
       "      <td>1271.0</td>\n",
       "      <td>68.0</td>\n",
       "      <td>0.0</td>\n",
       "      <td>0.0</td>\n",
       "    </tr>\n",
       "    <tr>\n",
       "      <th>Tokelau</th>\n",
       "      <td>236.0</td>\n",
       "      <td>1.000000</td>\n",
       "      <td>0.000000</td>\n",
       "      <td>1.0</td>\n",
       "      <td>1.0</td>\n",
       "      <td>1.0</td>\n",
       "      <td>1.0</td>\n",
       "      <td>1.0</td>\n",
       "      <td>1.0</td>\n",
       "      <td>1.0</td>\n",
       "      <td>1.0</td>\n",
       "      <td>1.0</td>\n",
       "      <td>0.0</td>\n",
       "      <td>236.0</td>\n",
       "      <td>0.0</td>\n",
       "      <td>0.0</td>\n",
       "      <td>0.0</td>\n",
       "    </tr>\n",
       "    <tr>\n",
       "      <th>Society_Islands</th>\n",
       "      <td>1337.0</td>\n",
       "      <td>0.000000</td>\n",
       "      <td>0.000000</td>\n",
       "      <td>0.0</td>\n",
       "      <td>0.0</td>\n",
       "      <td>0.0</td>\n",
       "      <td>0.0</td>\n",
       "      <td>0.0</td>\n",
       "      <td>0.0</td>\n",
       "      <td>0.0</td>\n",
       "      <td>0.0</td>\n",
       "      <td>0.0</td>\n",
       "      <td>1337.0</td>\n",
       "      <td>0.0</td>\n",
       "      <td>0.0</td>\n",
       "      <td>0.0</td>\n",
       "      <td>0.0</td>\n",
       "    </tr>\n",
       "    <tr>\n",
       "      <th>Austral_Islands</th>\n",
       "      <td>560.0</td>\n",
       "      <td>0.000000</td>\n",
       "      <td>0.000000</td>\n",
       "      <td>0.0</td>\n",
       "      <td>0.0</td>\n",
       "      <td>0.0</td>\n",
       "      <td>0.0</td>\n",
       "      <td>0.0</td>\n",
       "      <td>0.0</td>\n",
       "      <td>0.0</td>\n",
       "      <td>0.0</td>\n",
       "      <td>0.0</td>\n",
       "      <td>560.0</td>\n",
       "      <td>0.0</td>\n",
       "      <td>0.0</td>\n",
       "      <td>0.0</td>\n",
       "      <td>0.0</td>\n",
       "    </tr>\n",
       "    <tr>\n",
       "      <th>Federated_States_of_Micronesia</th>\n",
       "      <td>5229.0</td>\n",
       "      <td>1.424555</td>\n",
       "      <td>0.920468</td>\n",
       "      <td>1.0</td>\n",
       "      <td>1.0</td>\n",
       "      <td>1.0</td>\n",
       "      <td>1.0</td>\n",
       "      <td>1.0</td>\n",
       "      <td>1.0</td>\n",
       "      <td>1.0</td>\n",
       "      <td>3.0</td>\n",
       "      <td>4.0</td>\n",
       "      <td>0.0</td>\n",
       "      <td>4248.0</td>\n",
       "      <td>79.0</td>\n",
       "      <td>565.0</td>\n",
       "      <td>337.0</td>\n",
       "    </tr>\n",
       "    <tr>\n",
       "      <th>Solomon_Islands</th>\n",
       "      <td>6016.0</td>\n",
       "      <td>1.413231</td>\n",
       "      <td>0.492455</td>\n",
       "      <td>1.0</td>\n",
       "      <td>1.0</td>\n",
       "      <td>1.0</td>\n",
       "      <td>1.0</td>\n",
       "      <td>2.0</td>\n",
       "      <td>2.0</td>\n",
       "      <td>2.0</td>\n",
       "      <td>2.0</td>\n",
       "      <td>2.0</td>\n",
       "      <td>0.0</td>\n",
       "      <td>3530.0</td>\n",
       "      <td>2486.0</td>\n",
       "      <td>0.0</td>\n",
       "      <td>0.0</td>\n",
       "    </tr>\n",
       "    <tr>\n",
       "      <th>Pitcairn_Islands</th>\n",
       "      <td>242.0</td>\n",
       "      <td>0.000000</td>\n",
       "      <td>0.000000</td>\n",
       "      <td>0.0</td>\n",
       "      <td>0.0</td>\n",
       "      <td>0.0</td>\n",
       "      <td>0.0</td>\n",
       "      <td>0.0</td>\n",
       "      <td>0.0</td>\n",
       "      <td>0.0</td>\n",
       "      <td>0.0</td>\n",
       "      <td>0.0</td>\n",
       "      <td>242.0</td>\n",
       "      <td>0.0</td>\n",
       "      <td>0.0</td>\n",
       "      <td>0.0</td>\n",
       "      <td>0.0</td>\n",
       "    </tr>\n",
       "    <tr>\n",
       "      <th>Northern_Marianas</th>\n",
       "      <td>828.0</td>\n",
       "      <td>0.829710</td>\n",
       "      <td>0.376114</td>\n",
       "      <td>0.0</td>\n",
       "      <td>0.0</td>\n",
       "      <td>1.0</td>\n",
       "      <td>1.0</td>\n",
       "      <td>1.0</td>\n",
       "      <td>1.0</td>\n",
       "      <td>1.0</td>\n",
       "      <td>1.0</td>\n",
       "      <td>1.0</td>\n",
       "      <td>141.0</td>\n",
       "      <td>687.0</td>\n",
       "      <td>0.0</td>\n",
       "      <td>0.0</td>\n",
       "      <td>0.0</td>\n",
       "    </tr>\n",
       "    <tr>\n",
       "      <th>Vanuatu_South</th>\n",
       "      <td>730.0</td>\n",
       "      <td>0.012329</td>\n",
       "      <td>0.110424</td>\n",
       "      <td>0.0</td>\n",
       "      <td>0.0</td>\n",
       "      <td>0.0</td>\n",
       "      <td>0.0</td>\n",
       "      <td>0.0</td>\n",
       "      <td>0.0</td>\n",
       "      <td>0.0</td>\n",
       "      <td>0.0</td>\n",
       "      <td>1.0</td>\n",
       "      <td>721.0</td>\n",
       "      <td>9.0</td>\n",
       "      <td>0.0</td>\n",
       "      <td>0.0</td>\n",
       "      <td>0.0</td>\n",
       "    </tr>\n",
       "    <tr>\n",
       "      <th>American_Samoa</th>\n",
       "      <td>331.0</td>\n",
       "      <td>1.000000</td>\n",
       "      <td>0.000000</td>\n",
       "      <td>1.0</td>\n",
       "      <td>1.0</td>\n",
       "      <td>1.0</td>\n",
       "      <td>1.0</td>\n",
       "      <td>1.0</td>\n",
       "      <td>1.0</td>\n",
       "      <td>1.0</td>\n",
       "      <td>1.0</td>\n",
       "      <td>1.0</td>\n",
       "      <td>0.0</td>\n",
       "      <td>331.0</td>\n",
       "      <td>0.0</td>\n",
       "      <td>0.0</td>\n",
       "      <td>0.0</td>\n",
       "    </tr>\n",
       "    <tr>\n",
       "      <th>Marquesas</th>\n",
       "      <td>289.0</td>\n",
       "      <td>0.000000</td>\n",
       "      <td>0.000000</td>\n",
       "      <td>0.0</td>\n",
       "      <td>0.0</td>\n",
       "      <td>0.0</td>\n",
       "      <td>0.0</td>\n",
       "      <td>0.0</td>\n",
       "      <td>0.0</td>\n",
       "      <td>0.0</td>\n",
       "      <td>0.0</td>\n",
       "      <td>0.0</td>\n",
       "      <td>289.0</td>\n",
       "      <td>0.0</td>\n",
       "      <td>0.0</td>\n",
       "      <td>0.0</td>\n",
       "      <td>0.0</td>\n",
       "    </tr>\n",
       "    <tr>\n",
       "      <th>Vanuatu_North</th>\n",
       "      <td>1750.0</td>\n",
       "      <td>0.644000</td>\n",
       "      <td>0.478952</td>\n",
       "      <td>0.0</td>\n",
       "      <td>0.0</td>\n",
       "      <td>0.0</td>\n",
       "      <td>1.0</td>\n",
       "      <td>1.0</td>\n",
       "      <td>1.0</td>\n",
       "      <td>1.0</td>\n",
       "      <td>1.0</td>\n",
       "      <td>1.0</td>\n",
       "      <td>623.0</td>\n",
       "      <td>1127.0</td>\n",
       "      <td>0.0</td>\n",
       "      <td>0.0</td>\n",
       "      <td>0.0</td>\n",
       "    </tr>\n",
       "    <tr>\n",
       "      <th>Kiribati_Gilbert_Islands</th>\n",
       "      <td>1500.0</td>\n",
       "      <td>0.614000</td>\n",
       "      <td>0.486993</td>\n",
       "      <td>0.0</td>\n",
       "      <td>0.0</td>\n",
       "      <td>0.0</td>\n",
       "      <td>1.0</td>\n",
       "      <td>1.0</td>\n",
       "      <td>1.0</td>\n",
       "      <td>1.0</td>\n",
       "      <td>1.0</td>\n",
       "      <td>1.0</td>\n",
       "      <td>579.0</td>\n",
       "      <td>921.0</td>\n",
       "      <td>0.0</td>\n",
       "      <td>0.0</td>\n",
       "      <td>0.0</td>\n",
       "    </tr>\n",
       "    <tr>\n",
       "      <th>Guam</th>\n",
       "      <td>278.0</td>\n",
       "      <td>1.000000</td>\n",
       "      <td>0.000000</td>\n",
       "      <td>1.0</td>\n",
       "      <td>1.0</td>\n",
       "      <td>1.0</td>\n",
       "      <td>1.0</td>\n",
       "      <td>1.0</td>\n",
       "      <td>1.0</td>\n",
       "      <td>1.0</td>\n",
       "      <td>1.0</td>\n",
       "      <td>1.0</td>\n",
       "      <td>0.0</td>\n",
       "      <td>278.0</td>\n",
       "      <td>0.0</td>\n",
       "      <td>0.0</td>\n",
       "      <td>0.0</td>\n",
       "    </tr>\n",
       "    <tr>\n",
       "      <th>Wallis_&amp;_Futuna</th>\n",
       "      <td>967.0</td>\n",
       "      <td>1.002068</td>\n",
       "      <td>0.045454</td>\n",
       "      <td>1.0</td>\n",
       "      <td>1.0</td>\n",
       "      <td>1.0</td>\n",
       "      <td>1.0</td>\n",
       "      <td>1.0</td>\n",
       "      <td>1.0</td>\n",
       "      <td>1.0</td>\n",
       "      <td>1.0</td>\n",
       "      <td>2.0</td>\n",
       "      <td>0.0</td>\n",
       "      <td>965.0</td>\n",
       "      <td>2.0</td>\n",
       "      <td>0.0</td>\n",
       "      <td>0.0</td>\n",
       "    </tr>\n",
       "    <tr>\n",
       "      <th>Marshall_Islands</th>\n",
       "      <td>3796.0</td>\n",
       "      <td>1.008166</td>\n",
       "      <td>0.090011</td>\n",
       "      <td>1.0</td>\n",
       "      <td>1.0</td>\n",
       "      <td>1.0</td>\n",
       "      <td>1.0</td>\n",
       "      <td>1.0</td>\n",
       "      <td>1.0</td>\n",
       "      <td>1.0</td>\n",
       "      <td>1.0</td>\n",
       "      <td>2.0</td>\n",
       "      <td>0.0</td>\n",
       "      <td>3765.0</td>\n",
       "      <td>31.0</td>\n",
       "      <td>0.0</td>\n",
       "      <td>0.0</td>\n",
       "    </tr>\n",
       "    <tr>\n",
       "      <th>Palau</th>\n",
       "      <td>803.0</td>\n",
       "      <td>1.288917</td>\n",
       "      <td>0.453542</td>\n",
       "      <td>1.0</td>\n",
       "      <td>1.0</td>\n",
       "      <td>1.0</td>\n",
       "      <td>1.0</td>\n",
       "      <td>1.0</td>\n",
       "      <td>1.0</td>\n",
       "      <td>2.0</td>\n",
       "      <td>2.0</td>\n",
       "      <td>2.0</td>\n",
       "      <td>0.0</td>\n",
       "      <td>571.0</td>\n",
       "      <td>232.0</td>\n",
       "      <td>0.0</td>\n",
       "      <td>0.0</td>\n",
       "    </tr>\n",
       "    <tr>\n",
       "      <th>Samoa</th>\n",
       "      <td>395.0</td>\n",
       "      <td>1.000000</td>\n",
       "      <td>0.000000</td>\n",
       "      <td>1.0</td>\n",
       "      <td>1.0</td>\n",
       "      <td>1.0</td>\n",
       "      <td>1.0</td>\n",
       "      <td>1.0</td>\n",
       "      <td>1.0</td>\n",
       "      <td>1.0</td>\n",
       "      <td>1.0</td>\n",
       "      <td>1.0</td>\n",
       "      <td>0.0</td>\n",
       "      <td>395.0</td>\n",
       "      <td>0.0</td>\n",
       "      <td>0.0</td>\n",
       "      <td>0.0</td>\n",
       "    </tr>\n",
       "    <tr>\n",
       "      <th>Tuamotu__Gambier_Islands</th>\n",
       "      <td>6949.0</td>\n",
       "      <td>0.000000</td>\n",
       "      <td>0.000000</td>\n",
       "      <td>0.0</td>\n",
       "      <td>0.0</td>\n",
       "      <td>0.0</td>\n",
       "      <td>0.0</td>\n",
       "      <td>0.0</td>\n",
       "      <td>0.0</td>\n",
       "      <td>0.0</td>\n",
       "      <td>0.0</td>\n",
       "      <td>0.0</td>\n",
       "      <td>6949.0</td>\n",
       "      <td>0.0</td>\n",
       "      <td>0.0</td>\n",
       "      <td>0.0</td>\n",
       "      <td>0.0</td>\n",
       "    </tr>\n",
       "    <tr>\n",
       "      <th>Southern_Cook_Islands</th>\n",
       "      <td>678.0</td>\n",
       "      <td>0.000000</td>\n",
       "      <td>0.000000</td>\n",
       "      <td>0.0</td>\n",
       "      <td>0.0</td>\n",
       "      <td>0.0</td>\n",
       "      <td>0.0</td>\n",
       "      <td>0.0</td>\n",
       "      <td>0.0</td>\n",
       "      <td>0.0</td>\n",
       "      <td>0.0</td>\n",
       "      <td>0.0</td>\n",
       "      <td>678.0</td>\n",
       "      <td>0.0</td>\n",
       "      <td>0.0</td>\n",
       "      <td>0.0</td>\n",
       "      <td>0.0</td>\n",
       "    </tr>\n",
       "    <tr>\n",
       "      <th>Kiribati_Line_Islands</th>\n",
       "      <td>726.0</td>\n",
       "      <td>0.179063</td>\n",
       "      <td>0.383670</td>\n",
       "      <td>0.0</td>\n",
       "      <td>0.0</td>\n",
       "      <td>0.0</td>\n",
       "      <td>0.0</td>\n",
       "      <td>0.0</td>\n",
       "      <td>0.0</td>\n",
       "      <td>0.0</td>\n",
       "      <td>1.0</td>\n",
       "      <td>1.0</td>\n",
       "      <td>596.0</td>\n",
       "      <td>130.0</td>\n",
       "      <td>0.0</td>\n",
       "      <td>0.0</td>\n",
       "      <td>0.0</td>\n",
       "    </tr>\n",
       "    <tr>\n",
       "      <th>Fiji</th>\n",
       "      <td>5578.0</td>\n",
       "      <td>0.607386</td>\n",
       "      <td>0.620633</td>\n",
       "      <td>0.0</td>\n",
       "      <td>0.0</td>\n",
       "      <td>0.0</td>\n",
       "      <td>1.0</td>\n",
       "      <td>1.0</td>\n",
       "      <td>1.0</td>\n",
       "      <td>1.0</td>\n",
       "      <td>1.0</td>\n",
       "      <td>2.0</td>\n",
       "      <td>2599.0</td>\n",
       "      <td>2570.0</td>\n",
       "      <td>409.0</td>\n",
       "      <td>0.0</td>\n",
       "      <td>0.0</td>\n",
       "    </tr>\n",
       "    <tr>\n",
       "      <th>Northern_Cook_Islands</th>\n",
       "      <td>476.0</td>\n",
       "      <td>0.506303</td>\n",
       "      <td>0.500486</td>\n",
       "      <td>0.0</td>\n",
       "      <td>0.0</td>\n",
       "      <td>0.0</td>\n",
       "      <td>1.0</td>\n",
       "      <td>1.0</td>\n",
       "      <td>1.0</td>\n",
       "      <td>1.0</td>\n",
       "      <td>1.0</td>\n",
       "      <td>1.0</td>\n",
       "      <td>235.0</td>\n",
       "      <td>241.0</td>\n",
       "      <td>0.0</td>\n",
       "      <td>0.0</td>\n",
       "      <td>0.0</td>\n",
       "    </tr>\n",
       "    <tr>\n",
       "      <th>Papua_New_Guinea</th>\n",
       "      <td>12824.0</td>\n",
       "      <td>1.821351</td>\n",
       "      <td>0.617893</td>\n",
       "      <td>0.0</td>\n",
       "      <td>1.0</td>\n",
       "      <td>1.0</td>\n",
       "      <td>2.0</td>\n",
       "      <td>2.0</td>\n",
       "      <td>2.0</td>\n",
       "      <td>2.0</td>\n",
       "      <td>3.0</td>\n",
       "      <td>3.0</td>\n",
       "      <td>180.0</td>\n",
       "      <td>3258.0</td>\n",
       "      <td>8059.0</td>\n",
       "      <td>1327.0</td>\n",
       "      <td>0.0</td>\n",
       "    </tr>\n",
       "    <tr>\n",
       "      <th>Niue</th>\n",
       "      <td>142.0</td>\n",
       "      <td>0.000000</td>\n",
       "      <td>0.000000</td>\n",
       "      <td>0.0</td>\n",
       "      <td>0.0</td>\n",
       "      <td>0.0</td>\n",
       "      <td>0.0</td>\n",
       "      <td>0.0</td>\n",
       "      <td>0.0</td>\n",
       "      <td>0.0</td>\n",
       "      <td>0.0</td>\n",
       "      <td>0.0</td>\n",
       "      <td>142.0</td>\n",
       "      <td>0.0</td>\n",
       "      <td>0.0</td>\n",
       "      <td>0.0</td>\n",
       "      <td>0.0</td>\n",
       "    </tr>\n",
       "    <tr>\n",
       "      <th>Nauru</th>\n",
       "      <td>66.0</td>\n",
       "      <td>1.015152</td>\n",
       "      <td>0.123091</td>\n",
       "      <td>1.0</td>\n",
       "      <td>1.0</td>\n",
       "      <td>1.0</td>\n",
       "      <td>1.0</td>\n",
       "      <td>1.0</td>\n",
       "      <td>1.0</td>\n",
       "      <td>1.0</td>\n",
       "      <td>1.0</td>\n",
       "      <td>2.0</td>\n",
       "      <td>0.0</td>\n",
       "      <td>65.0</td>\n",
       "      <td>1.0</td>\n",
       "      <td>0.0</td>\n",
       "      <td>0.0</td>\n",
       "    </tr>\n",
       "  </tbody>\n",
       "</table>\n",
       "</div>"
      ],
      "text/plain": [
       "                                  count      mean       std  min  10%  25%  \\\n",
       "New_Caledonia                    4647.0  0.066710  0.249545  0.0  0.0  0.0   \n",
       "Tonga                            1616.0  0.344059  0.475208  0.0  0.0  0.0   \n",
       "Kiribati_Phoenix_Islands          612.0  0.032680  0.177942  0.0  0.0  0.0   \n",
       "Tuvalu                           1339.0  1.050784  0.219639  1.0  1.0  1.0   \n",
       "Tokelau                           236.0  1.000000  0.000000  1.0  1.0  1.0   \n",
       "Society_Islands                  1337.0  0.000000  0.000000  0.0  0.0  0.0   \n",
       "Austral_Islands                   560.0  0.000000  0.000000  0.0  0.0  0.0   \n",
       "Federated_States_of_Micronesia   5229.0  1.424555  0.920468  1.0  1.0  1.0   \n",
       "Solomon_Islands                  6016.0  1.413231  0.492455  1.0  1.0  1.0   \n",
       "Pitcairn_Islands                  242.0  0.000000  0.000000  0.0  0.0  0.0   \n",
       "Northern_Marianas                 828.0  0.829710  0.376114  0.0  0.0  1.0   \n",
       "Vanuatu_South                     730.0  0.012329  0.110424  0.0  0.0  0.0   \n",
       "American_Samoa                    331.0  1.000000  0.000000  1.0  1.0  1.0   \n",
       "Marquesas                         289.0  0.000000  0.000000  0.0  0.0  0.0   \n",
       "Vanuatu_North                    1750.0  0.644000  0.478952  0.0  0.0  0.0   \n",
       "Kiribati_Gilbert_Islands         1500.0  0.614000  0.486993  0.0  0.0  0.0   \n",
       "Guam                              278.0  1.000000  0.000000  1.0  1.0  1.0   \n",
       "Wallis_&_Futuna                   967.0  1.002068  0.045454  1.0  1.0  1.0   \n",
       "Marshall_Islands                 3796.0  1.008166  0.090011  1.0  1.0  1.0   \n",
       "Palau                             803.0  1.288917  0.453542  1.0  1.0  1.0   \n",
       "Samoa                             395.0  1.000000  0.000000  1.0  1.0  1.0   \n",
       "Tuamotu__Gambier_Islands         6949.0  0.000000  0.000000  0.0  0.0  0.0   \n",
       "Southern_Cook_Islands             678.0  0.000000  0.000000  0.0  0.0  0.0   \n",
       "Kiribati_Line_Islands             726.0  0.179063  0.383670  0.0  0.0  0.0   \n",
       "Fiji                             5578.0  0.607386  0.620633  0.0  0.0  0.0   \n",
       "Northern_Cook_Islands             476.0  0.506303  0.500486  0.0  0.0  0.0   \n",
       "Papua_New_Guinea                12824.0  1.821351  0.617893  0.0  1.0  1.0   \n",
       "Niue                              142.0  0.000000  0.000000  0.0  0.0  0.0   \n",
       "Nauru                              66.0  1.015152  0.123091  1.0  1.0  1.0   \n",
       "\n",
       "                                50%  60%  70%  80%  90%  max       0       1  \\\n",
       "New_Caledonia                   0.0  0.0  0.0  0.0  0.0  1.0  4337.0   310.0   \n",
       "Tonga                           0.0  0.0  1.0  1.0  1.0  1.0  1060.0   556.0   \n",
       "Kiribati_Phoenix_Islands        0.0  0.0  0.0  0.0  0.0  1.0   592.0    20.0   \n",
       "Tuvalu                          1.0  1.0  1.0  1.0  1.0  2.0     0.0  1271.0   \n",
       "Tokelau                         1.0  1.0  1.0  1.0  1.0  1.0     0.0   236.0   \n",
       "Society_Islands                 0.0  0.0  0.0  0.0  0.0  0.0  1337.0     0.0   \n",
       "Austral_Islands                 0.0  0.0  0.0  0.0  0.0  0.0   560.0     0.0   \n",
       "Federated_States_of_Micronesia  1.0  1.0  1.0  1.0  3.0  4.0     0.0  4248.0   \n",
       "Solomon_Islands                 1.0  2.0  2.0  2.0  2.0  2.0     0.0  3530.0   \n",
       "Pitcairn_Islands                0.0  0.0  0.0  0.0  0.0  0.0   242.0     0.0   \n",
       "Northern_Marianas               1.0  1.0  1.0  1.0  1.0  1.0   141.0   687.0   \n",
       "Vanuatu_South                   0.0  0.0  0.0  0.0  0.0  1.0   721.0     9.0   \n",
       "American_Samoa                  1.0  1.0  1.0  1.0  1.0  1.0     0.0   331.0   \n",
       "Marquesas                       0.0  0.0  0.0  0.0  0.0  0.0   289.0     0.0   \n",
       "Vanuatu_North                   1.0  1.0  1.0  1.0  1.0  1.0   623.0  1127.0   \n",
       "Kiribati_Gilbert_Islands        1.0  1.0  1.0  1.0  1.0  1.0   579.0   921.0   \n",
       "Guam                            1.0  1.0  1.0  1.0  1.0  1.0     0.0   278.0   \n",
       "Wallis_&_Futuna                 1.0  1.0  1.0  1.0  1.0  2.0     0.0   965.0   \n",
       "Marshall_Islands                1.0  1.0  1.0  1.0  1.0  2.0     0.0  3765.0   \n",
       "Palau                           1.0  1.0  1.0  2.0  2.0  2.0     0.0   571.0   \n",
       "Samoa                           1.0  1.0  1.0  1.0  1.0  1.0     0.0   395.0   \n",
       "Tuamotu__Gambier_Islands        0.0  0.0  0.0  0.0  0.0  0.0  6949.0     0.0   \n",
       "Southern_Cook_Islands           0.0  0.0  0.0  0.0  0.0  0.0   678.0     0.0   \n",
       "Kiribati_Line_Islands           0.0  0.0  0.0  0.0  1.0  1.0   596.0   130.0   \n",
       "Fiji                            1.0  1.0  1.0  1.0  1.0  2.0  2599.0  2570.0   \n",
       "Northern_Cook_Islands           1.0  1.0  1.0  1.0  1.0  1.0   235.0   241.0   \n",
       "Papua_New_Guinea                2.0  2.0  2.0  2.0  3.0  3.0   180.0  3258.0   \n",
       "Niue                            0.0  0.0  0.0  0.0  0.0  0.0   142.0     0.0   \n",
       "Nauru                           1.0  1.0  1.0  1.0  1.0  2.0     0.0    65.0   \n",
       "\n",
       "                                     2       3      4  \n",
       "New_Caledonia                      0.0     0.0    0.0  \n",
       "Tonga                              0.0     0.0    0.0  \n",
       "Kiribati_Phoenix_Islands           0.0     0.0    0.0  \n",
       "Tuvalu                            68.0     0.0    0.0  \n",
       "Tokelau                            0.0     0.0    0.0  \n",
       "Society_Islands                    0.0     0.0    0.0  \n",
       "Austral_Islands                    0.0     0.0    0.0  \n",
       "Federated_States_of_Micronesia    79.0   565.0  337.0  \n",
       "Solomon_Islands                 2486.0     0.0    0.0  \n",
       "Pitcairn_Islands                   0.0     0.0    0.0  \n",
       "Northern_Marianas                  0.0     0.0    0.0  \n",
       "Vanuatu_South                      0.0     0.0    0.0  \n",
       "American_Samoa                     0.0     0.0    0.0  \n",
       "Marquesas                          0.0     0.0    0.0  \n",
       "Vanuatu_North                      0.0     0.0    0.0  \n",
       "Kiribati_Gilbert_Islands           0.0     0.0    0.0  \n",
       "Guam                               0.0     0.0    0.0  \n",
       "Wallis_&_Futuna                    2.0     0.0    0.0  \n",
       "Marshall_Islands                  31.0     0.0    0.0  \n",
       "Palau                            232.0     0.0    0.0  \n",
       "Samoa                              0.0     0.0    0.0  \n",
       "Tuamotu__Gambier_Islands           0.0     0.0    0.0  \n",
       "Southern_Cook_Islands              0.0     0.0    0.0  \n",
       "Kiribati_Line_Islands              0.0     0.0    0.0  \n",
       "Fiji                             409.0     0.0    0.0  \n",
       "Northern_Cook_Islands              0.0     0.0    0.0  \n",
       "Papua_New_Guinea                8059.0  1327.0    0.0  \n",
       "Niue                               0.0     0.0    0.0  \n",
       "Nauru                              1.0     0.0    0.0  "
      ]
     },
     "execution_count": 134,
     "metadata": {},
     "output_type": "execute_result"
    }
   ],
   "source": [
    "dlf"
   ]
  },
  {
   "cell_type": "code",
   "execution_count": 135,
   "metadata": {
    "collapsed": true
   },
   "outputs": [],
   "source": [
    "dlf.to_csv('../outputs/BAA_4weeks_max_summary.csv')"
   ]
  },
  {
   "cell_type": "code",
   "execution_count": 136,
   "metadata": {},
   "outputs": [
    {
     "data": {
      "text/html": [
       "<div>\n",
       "<style scoped>\n",
       "    .dataframe tbody tr th:only-of-type {\n",
       "        vertical-align: middle;\n",
       "    }\n",
       "\n",
       "    .dataframe tbody tr th {\n",
       "        vertical-align: top;\n",
       "    }\n",
       "\n",
       "    .dataframe thead th {\n",
       "        text-align: right;\n",
       "    }\n",
       "</style>\n",
       "<table border=\"1\" class=\"dataframe\">\n",
       "  <thead>\n",
       "    <tr style=\"text-align: right;\">\n",
       "      <th></th>\n",
       "      <th>count</th>\n",
       "      <th>mean</th>\n",
       "      <th>std</th>\n",
       "      <th>min</th>\n",
       "      <th>10%</th>\n",
       "      <th>25%</th>\n",
       "      <th>50%</th>\n",
       "      <th>60%</th>\n",
       "      <th>70%</th>\n",
       "      <th>80%</th>\n",
       "      <th>90%</th>\n",
       "      <th>max</th>\n",
       "      <th>0</th>\n",
       "      <th>1</th>\n",
       "      <th>2</th>\n",
       "      <th>3</th>\n",
       "      <th>4</th>\n",
       "    </tr>\n",
       "  </thead>\n",
       "  <tbody>\n",
       "    <tr>\n",
       "      <th>Papua_New_Guinea</th>\n",
       "      <td>12824.0</td>\n",
       "      <td>1.821351</td>\n",
       "      <td>0.617893</td>\n",
       "      <td>0.0</td>\n",
       "      <td>1.0</td>\n",
       "      <td>1.0</td>\n",
       "      <td>2.0</td>\n",
       "      <td>2.0</td>\n",
       "      <td>2.0</td>\n",
       "      <td>2.0</td>\n",
       "      <td>3.0</td>\n",
       "      <td>3.0</td>\n",
       "      <td>180.0</td>\n",
       "      <td>3258.0</td>\n",
       "      <td>8059.0</td>\n",
       "      <td>1327.0</td>\n",
       "      <td>0.0</td>\n",
       "    </tr>\n",
       "    <tr>\n",
       "      <th>Federated_States_of_Micronesia</th>\n",
       "      <td>5229.0</td>\n",
       "      <td>1.424555</td>\n",
       "      <td>0.920468</td>\n",
       "      <td>1.0</td>\n",
       "      <td>1.0</td>\n",
       "      <td>1.0</td>\n",
       "      <td>1.0</td>\n",
       "      <td>1.0</td>\n",
       "      <td>1.0</td>\n",
       "      <td>1.0</td>\n",
       "      <td>3.0</td>\n",
       "      <td>4.0</td>\n",
       "      <td>0.0</td>\n",
       "      <td>4248.0</td>\n",
       "      <td>79.0</td>\n",
       "      <td>565.0</td>\n",
       "      <td>337.0</td>\n",
       "    </tr>\n",
       "    <tr>\n",
       "      <th>Solomon_Islands</th>\n",
       "      <td>6016.0</td>\n",
       "      <td>1.413231</td>\n",
       "      <td>0.492455</td>\n",
       "      <td>1.0</td>\n",
       "      <td>1.0</td>\n",
       "      <td>1.0</td>\n",
       "      <td>1.0</td>\n",
       "      <td>2.0</td>\n",
       "      <td>2.0</td>\n",
       "      <td>2.0</td>\n",
       "      <td>2.0</td>\n",
       "      <td>2.0</td>\n",
       "      <td>0.0</td>\n",
       "      <td>3530.0</td>\n",
       "      <td>2486.0</td>\n",
       "      <td>0.0</td>\n",
       "      <td>0.0</td>\n",
       "    </tr>\n",
       "    <tr>\n",
       "      <th>Palau</th>\n",
       "      <td>803.0</td>\n",
       "      <td>1.288917</td>\n",
       "      <td>0.453542</td>\n",
       "      <td>1.0</td>\n",
       "      <td>1.0</td>\n",
       "      <td>1.0</td>\n",
       "      <td>1.0</td>\n",
       "      <td>1.0</td>\n",
       "      <td>1.0</td>\n",
       "      <td>2.0</td>\n",
       "      <td>2.0</td>\n",
       "      <td>2.0</td>\n",
       "      <td>0.0</td>\n",
       "      <td>571.0</td>\n",
       "      <td>232.0</td>\n",
       "      <td>0.0</td>\n",
       "      <td>0.0</td>\n",
       "    </tr>\n",
       "    <tr>\n",
       "      <th>Vanuatu_North</th>\n",
       "      <td>1750.0</td>\n",
       "      <td>0.644000</td>\n",
       "      <td>0.478952</td>\n",
       "      <td>0.0</td>\n",
       "      <td>0.0</td>\n",
       "      <td>0.0</td>\n",
       "      <td>1.0</td>\n",
       "      <td>1.0</td>\n",
       "      <td>1.0</td>\n",
       "      <td>1.0</td>\n",
       "      <td>1.0</td>\n",
       "      <td>1.0</td>\n",
       "      <td>623.0</td>\n",
       "      <td>1127.0</td>\n",
       "      <td>0.0</td>\n",
       "      <td>0.0</td>\n",
       "      <td>0.0</td>\n",
       "    </tr>\n",
       "    <tr>\n",
       "      <th>Tonga</th>\n",
       "      <td>1616.0</td>\n",
       "      <td>0.344059</td>\n",
       "      <td>0.475208</td>\n",
       "      <td>0.0</td>\n",
       "      <td>0.0</td>\n",
       "      <td>0.0</td>\n",
       "      <td>0.0</td>\n",
       "      <td>0.0</td>\n",
       "      <td>1.0</td>\n",
       "      <td>1.0</td>\n",
       "      <td>1.0</td>\n",
       "      <td>1.0</td>\n",
       "      <td>1060.0</td>\n",
       "      <td>556.0</td>\n",
       "      <td>0.0</td>\n",
       "      <td>0.0</td>\n",
       "      <td>0.0</td>\n",
       "    </tr>\n",
       "    <tr>\n",
       "      <th>Northern_Cook_Islands</th>\n",
       "      <td>476.0</td>\n",
       "      <td>0.506303</td>\n",
       "      <td>0.500486</td>\n",
       "      <td>0.0</td>\n",
       "      <td>0.0</td>\n",
       "      <td>0.0</td>\n",
       "      <td>1.0</td>\n",
       "      <td>1.0</td>\n",
       "      <td>1.0</td>\n",
       "      <td>1.0</td>\n",
       "      <td>1.0</td>\n",
       "      <td>1.0</td>\n",
       "      <td>235.0</td>\n",
       "      <td>241.0</td>\n",
       "      <td>0.0</td>\n",
       "      <td>0.0</td>\n",
       "      <td>0.0</td>\n",
       "    </tr>\n",
       "    <tr>\n",
       "      <th>Fiji</th>\n",
       "      <td>5578.0</td>\n",
       "      <td>0.607386</td>\n",
       "      <td>0.620633</td>\n",
       "      <td>0.0</td>\n",
       "      <td>0.0</td>\n",
       "      <td>0.0</td>\n",
       "      <td>1.0</td>\n",
       "      <td>1.0</td>\n",
       "      <td>1.0</td>\n",
       "      <td>1.0</td>\n",
       "      <td>1.0</td>\n",
       "      <td>2.0</td>\n",
       "      <td>2599.0</td>\n",
       "      <td>2570.0</td>\n",
       "      <td>409.0</td>\n",
       "      <td>0.0</td>\n",
       "      <td>0.0</td>\n",
       "    </tr>\n",
       "    <tr>\n",
       "      <th>Kiribati_Line_Islands</th>\n",
       "      <td>726.0</td>\n",
       "      <td>0.179063</td>\n",
       "      <td>0.383670</td>\n",
       "      <td>0.0</td>\n",
       "      <td>0.0</td>\n",
       "      <td>0.0</td>\n",
       "      <td>0.0</td>\n",
       "      <td>0.0</td>\n",
       "      <td>0.0</td>\n",
       "      <td>0.0</td>\n",
       "      <td>1.0</td>\n",
       "      <td>1.0</td>\n",
       "      <td>596.0</td>\n",
       "      <td>130.0</td>\n",
       "      <td>0.0</td>\n",
       "      <td>0.0</td>\n",
       "      <td>0.0</td>\n",
       "    </tr>\n",
       "    <tr>\n",
       "      <th>Samoa</th>\n",
       "      <td>395.0</td>\n",
       "      <td>1.000000</td>\n",
       "      <td>0.000000</td>\n",
       "      <td>1.0</td>\n",
       "      <td>1.0</td>\n",
       "      <td>1.0</td>\n",
       "      <td>1.0</td>\n",
       "      <td>1.0</td>\n",
       "      <td>1.0</td>\n",
       "      <td>1.0</td>\n",
       "      <td>1.0</td>\n",
       "      <td>1.0</td>\n",
       "      <td>0.0</td>\n",
       "      <td>395.0</td>\n",
       "      <td>0.0</td>\n",
       "      <td>0.0</td>\n",
       "      <td>0.0</td>\n",
       "    </tr>\n",
       "    <tr>\n",
       "      <th>Marshall_Islands</th>\n",
       "      <td>3796.0</td>\n",
       "      <td>1.008166</td>\n",
       "      <td>0.090011</td>\n",
       "      <td>1.0</td>\n",
       "      <td>1.0</td>\n",
       "      <td>1.0</td>\n",
       "      <td>1.0</td>\n",
       "      <td>1.0</td>\n",
       "      <td>1.0</td>\n",
       "      <td>1.0</td>\n",
       "      <td>1.0</td>\n",
       "      <td>2.0</td>\n",
       "      <td>0.0</td>\n",
       "      <td>3765.0</td>\n",
       "      <td>31.0</td>\n",
       "      <td>0.0</td>\n",
       "      <td>0.0</td>\n",
       "    </tr>\n",
       "    <tr>\n",
       "      <th>Wallis_&amp;_Futuna</th>\n",
       "      <td>967.0</td>\n",
       "      <td>1.002068</td>\n",
       "      <td>0.045454</td>\n",
       "      <td>1.0</td>\n",
       "      <td>1.0</td>\n",
       "      <td>1.0</td>\n",
       "      <td>1.0</td>\n",
       "      <td>1.0</td>\n",
       "      <td>1.0</td>\n",
       "      <td>1.0</td>\n",
       "      <td>1.0</td>\n",
       "      <td>2.0</td>\n",
       "      <td>0.0</td>\n",
       "      <td>965.0</td>\n",
       "      <td>2.0</td>\n",
       "      <td>0.0</td>\n",
       "      <td>0.0</td>\n",
       "    </tr>\n",
       "    <tr>\n",
       "      <th>Guam</th>\n",
       "      <td>278.0</td>\n",
       "      <td>1.000000</td>\n",
       "      <td>0.000000</td>\n",
       "      <td>1.0</td>\n",
       "      <td>1.0</td>\n",
       "      <td>1.0</td>\n",
       "      <td>1.0</td>\n",
       "      <td>1.0</td>\n",
       "      <td>1.0</td>\n",
       "      <td>1.0</td>\n",
       "      <td>1.0</td>\n",
       "      <td>1.0</td>\n",
       "      <td>0.0</td>\n",
       "      <td>278.0</td>\n",
       "      <td>0.0</td>\n",
       "      <td>0.0</td>\n",
       "      <td>0.0</td>\n",
       "    </tr>\n",
       "    <tr>\n",
       "      <th>Kiribati_Gilbert_Islands</th>\n",
       "      <td>1500.0</td>\n",
       "      <td>0.614000</td>\n",
       "      <td>0.486993</td>\n",
       "      <td>0.0</td>\n",
       "      <td>0.0</td>\n",
       "      <td>0.0</td>\n",
       "      <td>1.0</td>\n",
       "      <td>1.0</td>\n",
       "      <td>1.0</td>\n",
       "      <td>1.0</td>\n",
       "      <td>1.0</td>\n",
       "      <td>1.0</td>\n",
       "      <td>579.0</td>\n",
       "      <td>921.0</td>\n",
       "      <td>0.0</td>\n",
       "      <td>0.0</td>\n",
       "      <td>0.0</td>\n",
       "    </tr>\n",
       "    <tr>\n",
       "      <th>Nauru</th>\n",
       "      <td>66.0</td>\n",
       "      <td>1.015152</td>\n",
       "      <td>0.123091</td>\n",
       "      <td>1.0</td>\n",
       "      <td>1.0</td>\n",
       "      <td>1.0</td>\n",
       "      <td>1.0</td>\n",
       "      <td>1.0</td>\n",
       "      <td>1.0</td>\n",
       "      <td>1.0</td>\n",
       "      <td>1.0</td>\n",
       "      <td>2.0</td>\n",
       "      <td>0.0</td>\n",
       "      <td>65.0</td>\n",
       "      <td>1.0</td>\n",
       "      <td>0.0</td>\n",
       "      <td>0.0</td>\n",
       "    </tr>\n",
       "    <tr>\n",
       "      <th>American_Samoa</th>\n",
       "      <td>331.0</td>\n",
       "      <td>1.000000</td>\n",
       "      <td>0.000000</td>\n",
       "      <td>1.0</td>\n",
       "      <td>1.0</td>\n",
       "      <td>1.0</td>\n",
       "      <td>1.0</td>\n",
       "      <td>1.0</td>\n",
       "      <td>1.0</td>\n",
       "      <td>1.0</td>\n",
       "      <td>1.0</td>\n",
       "      <td>1.0</td>\n",
       "      <td>0.0</td>\n",
       "      <td>331.0</td>\n",
       "      <td>0.0</td>\n",
       "      <td>0.0</td>\n",
       "      <td>0.0</td>\n",
       "    </tr>\n",
       "    <tr>\n",
       "      <th>Northern_Marianas</th>\n",
       "      <td>828.0</td>\n",
       "      <td>0.829710</td>\n",
       "      <td>0.376114</td>\n",
       "      <td>0.0</td>\n",
       "      <td>0.0</td>\n",
       "      <td>1.0</td>\n",
       "      <td>1.0</td>\n",
       "      <td>1.0</td>\n",
       "      <td>1.0</td>\n",
       "      <td>1.0</td>\n",
       "      <td>1.0</td>\n",
       "      <td>1.0</td>\n",
       "      <td>141.0</td>\n",
       "      <td>687.0</td>\n",
       "      <td>0.0</td>\n",
       "      <td>0.0</td>\n",
       "      <td>0.0</td>\n",
       "    </tr>\n",
       "    <tr>\n",
       "      <th>Tokelau</th>\n",
       "      <td>236.0</td>\n",
       "      <td>1.000000</td>\n",
       "      <td>0.000000</td>\n",
       "      <td>1.0</td>\n",
       "      <td>1.0</td>\n",
       "      <td>1.0</td>\n",
       "      <td>1.0</td>\n",
       "      <td>1.0</td>\n",
       "      <td>1.0</td>\n",
       "      <td>1.0</td>\n",
       "      <td>1.0</td>\n",
       "      <td>1.0</td>\n",
       "      <td>0.0</td>\n",
       "      <td>236.0</td>\n",
       "      <td>0.0</td>\n",
       "      <td>0.0</td>\n",
       "      <td>0.0</td>\n",
       "    </tr>\n",
       "    <tr>\n",
       "      <th>Tuvalu</th>\n",
       "      <td>1339.0</td>\n",
       "      <td>1.050784</td>\n",
       "      <td>0.219639</td>\n",
       "      <td>1.0</td>\n",
       "      <td>1.0</td>\n",
       "      <td>1.0</td>\n",
       "      <td>1.0</td>\n",
       "      <td>1.0</td>\n",
       "      <td>1.0</td>\n",
       "      <td>1.0</td>\n",
       "      <td>1.0</td>\n",
       "      <td>2.0</td>\n",
       "      <td>0.0</td>\n",
       "      <td>1271.0</td>\n",
       "      <td>68.0</td>\n",
       "      <td>0.0</td>\n",
       "      <td>0.0</td>\n",
       "    </tr>\n",
       "    <tr>\n",
       "      <th>Marquesas</th>\n",
       "      <td>289.0</td>\n",
       "      <td>0.000000</td>\n",
       "      <td>0.000000</td>\n",
       "      <td>0.0</td>\n",
       "      <td>0.0</td>\n",
       "      <td>0.0</td>\n",
       "      <td>0.0</td>\n",
       "      <td>0.0</td>\n",
       "      <td>0.0</td>\n",
       "      <td>0.0</td>\n",
       "      <td>0.0</td>\n",
       "      <td>0.0</td>\n",
       "      <td>289.0</td>\n",
       "      <td>0.0</td>\n",
       "      <td>0.0</td>\n",
       "      <td>0.0</td>\n",
       "      <td>0.0</td>\n",
       "    </tr>\n",
       "    <tr>\n",
       "      <th>Vanuatu_South</th>\n",
       "      <td>730.0</td>\n",
       "      <td>0.012329</td>\n",
       "      <td>0.110424</td>\n",
       "      <td>0.0</td>\n",
       "      <td>0.0</td>\n",
       "      <td>0.0</td>\n",
       "      <td>0.0</td>\n",
       "      <td>0.0</td>\n",
       "      <td>0.0</td>\n",
       "      <td>0.0</td>\n",
       "      <td>0.0</td>\n",
       "      <td>1.0</td>\n",
       "      <td>721.0</td>\n",
       "      <td>9.0</td>\n",
       "      <td>0.0</td>\n",
       "      <td>0.0</td>\n",
       "      <td>0.0</td>\n",
       "    </tr>\n",
       "    <tr>\n",
       "      <th>Pitcairn_Islands</th>\n",
       "      <td>242.0</td>\n",
       "      <td>0.000000</td>\n",
       "      <td>0.000000</td>\n",
       "      <td>0.0</td>\n",
       "      <td>0.0</td>\n",
       "      <td>0.0</td>\n",
       "      <td>0.0</td>\n",
       "      <td>0.0</td>\n",
       "      <td>0.0</td>\n",
       "      <td>0.0</td>\n",
       "      <td>0.0</td>\n",
       "      <td>0.0</td>\n",
       "      <td>242.0</td>\n",
       "      <td>0.0</td>\n",
       "      <td>0.0</td>\n",
       "      <td>0.0</td>\n",
       "      <td>0.0</td>\n",
       "    </tr>\n",
       "    <tr>\n",
       "      <th>Austral_Islands</th>\n",
       "      <td>560.0</td>\n",
       "      <td>0.000000</td>\n",
       "      <td>0.000000</td>\n",
       "      <td>0.0</td>\n",
       "      <td>0.0</td>\n",
       "      <td>0.0</td>\n",
       "      <td>0.0</td>\n",
       "      <td>0.0</td>\n",
       "      <td>0.0</td>\n",
       "      <td>0.0</td>\n",
       "      <td>0.0</td>\n",
       "      <td>0.0</td>\n",
       "      <td>560.0</td>\n",
       "      <td>0.0</td>\n",
       "      <td>0.0</td>\n",
       "      <td>0.0</td>\n",
       "      <td>0.0</td>\n",
       "    </tr>\n",
       "    <tr>\n",
       "      <th>Tuamotu__Gambier_Islands</th>\n",
       "      <td>6949.0</td>\n",
       "      <td>0.000000</td>\n",
       "      <td>0.000000</td>\n",
       "      <td>0.0</td>\n",
       "      <td>0.0</td>\n",
       "      <td>0.0</td>\n",
       "      <td>0.0</td>\n",
       "      <td>0.0</td>\n",
       "      <td>0.0</td>\n",
       "      <td>0.0</td>\n",
       "      <td>0.0</td>\n",
       "      <td>0.0</td>\n",
       "      <td>6949.0</td>\n",
       "      <td>0.0</td>\n",
       "      <td>0.0</td>\n",
       "      <td>0.0</td>\n",
       "      <td>0.0</td>\n",
       "    </tr>\n",
       "    <tr>\n",
       "      <th>Southern_Cook_Islands</th>\n",
       "      <td>678.0</td>\n",
       "      <td>0.000000</td>\n",
       "      <td>0.000000</td>\n",
       "      <td>0.0</td>\n",
       "      <td>0.0</td>\n",
       "      <td>0.0</td>\n",
       "      <td>0.0</td>\n",
       "      <td>0.0</td>\n",
       "      <td>0.0</td>\n",
       "      <td>0.0</td>\n",
       "      <td>0.0</td>\n",
       "      <td>0.0</td>\n",
       "      <td>678.0</td>\n",
       "      <td>0.0</td>\n",
       "      <td>0.0</td>\n",
       "      <td>0.0</td>\n",
       "      <td>0.0</td>\n",
       "    </tr>\n",
       "    <tr>\n",
       "      <th>Society_Islands</th>\n",
       "      <td>1337.0</td>\n",
       "      <td>0.000000</td>\n",
       "      <td>0.000000</td>\n",
       "      <td>0.0</td>\n",
       "      <td>0.0</td>\n",
       "      <td>0.0</td>\n",
       "      <td>0.0</td>\n",
       "      <td>0.0</td>\n",
       "      <td>0.0</td>\n",
       "      <td>0.0</td>\n",
       "      <td>0.0</td>\n",
       "      <td>0.0</td>\n",
       "      <td>1337.0</td>\n",
       "      <td>0.0</td>\n",
       "      <td>0.0</td>\n",
       "      <td>0.0</td>\n",
       "      <td>0.0</td>\n",
       "    </tr>\n",
       "    <tr>\n",
       "      <th>Kiribati_Phoenix_Islands</th>\n",
       "      <td>612.0</td>\n",
       "      <td>0.032680</td>\n",
       "      <td>0.177942</td>\n",
       "      <td>0.0</td>\n",
       "      <td>0.0</td>\n",
       "      <td>0.0</td>\n",
       "      <td>0.0</td>\n",
       "      <td>0.0</td>\n",
       "      <td>0.0</td>\n",
       "      <td>0.0</td>\n",
       "      <td>0.0</td>\n",
       "      <td>1.0</td>\n",
       "      <td>592.0</td>\n",
       "      <td>20.0</td>\n",
       "      <td>0.0</td>\n",
       "      <td>0.0</td>\n",
       "      <td>0.0</td>\n",
       "    </tr>\n",
       "    <tr>\n",
       "      <th>Niue</th>\n",
       "      <td>142.0</td>\n",
       "      <td>0.000000</td>\n",
       "      <td>0.000000</td>\n",
       "      <td>0.0</td>\n",
       "      <td>0.0</td>\n",
       "      <td>0.0</td>\n",
       "      <td>0.0</td>\n",
       "      <td>0.0</td>\n",
       "      <td>0.0</td>\n",
       "      <td>0.0</td>\n",
       "      <td>0.0</td>\n",
       "      <td>0.0</td>\n",
       "      <td>142.0</td>\n",
       "      <td>0.0</td>\n",
       "      <td>0.0</td>\n",
       "      <td>0.0</td>\n",
       "      <td>0.0</td>\n",
       "    </tr>\n",
       "    <tr>\n",
       "      <th>New_Caledonia</th>\n",
       "      <td>4647.0</td>\n",
       "      <td>0.066710</td>\n",
       "      <td>0.249545</td>\n",
       "      <td>0.0</td>\n",
       "      <td>0.0</td>\n",
       "      <td>0.0</td>\n",
       "      <td>0.0</td>\n",
       "      <td>0.0</td>\n",
       "      <td>0.0</td>\n",
       "      <td>0.0</td>\n",
       "      <td>0.0</td>\n",
       "      <td>1.0</td>\n",
       "      <td>4337.0</td>\n",
       "      <td>310.0</td>\n",
       "      <td>0.0</td>\n",
       "      <td>0.0</td>\n",
       "      <td>0.0</td>\n",
       "    </tr>\n",
       "  </tbody>\n",
       "</table>\n",
       "</div>"
      ],
      "text/plain": [
       "                                  count      mean       std  min  10%  25%  \\\n",
       "Papua_New_Guinea                12824.0  1.821351  0.617893  0.0  1.0  1.0   \n",
       "Federated_States_of_Micronesia   5229.0  1.424555  0.920468  1.0  1.0  1.0   \n",
       "Solomon_Islands                  6016.0  1.413231  0.492455  1.0  1.0  1.0   \n",
       "Palau                             803.0  1.288917  0.453542  1.0  1.0  1.0   \n",
       "Vanuatu_North                    1750.0  0.644000  0.478952  0.0  0.0  0.0   \n",
       "Tonga                            1616.0  0.344059  0.475208  0.0  0.0  0.0   \n",
       "Northern_Cook_Islands             476.0  0.506303  0.500486  0.0  0.0  0.0   \n",
       "Fiji                             5578.0  0.607386  0.620633  0.0  0.0  0.0   \n",
       "Kiribati_Line_Islands             726.0  0.179063  0.383670  0.0  0.0  0.0   \n",
       "Samoa                             395.0  1.000000  0.000000  1.0  1.0  1.0   \n",
       "Marshall_Islands                 3796.0  1.008166  0.090011  1.0  1.0  1.0   \n",
       "Wallis_&_Futuna                   967.0  1.002068  0.045454  1.0  1.0  1.0   \n",
       "Guam                              278.0  1.000000  0.000000  1.0  1.0  1.0   \n",
       "Kiribati_Gilbert_Islands         1500.0  0.614000  0.486993  0.0  0.0  0.0   \n",
       "Nauru                              66.0  1.015152  0.123091  1.0  1.0  1.0   \n",
       "American_Samoa                    331.0  1.000000  0.000000  1.0  1.0  1.0   \n",
       "Northern_Marianas                 828.0  0.829710  0.376114  0.0  0.0  1.0   \n",
       "Tokelau                           236.0  1.000000  0.000000  1.0  1.0  1.0   \n",
       "Tuvalu                           1339.0  1.050784  0.219639  1.0  1.0  1.0   \n",
       "Marquesas                         289.0  0.000000  0.000000  0.0  0.0  0.0   \n",
       "Vanuatu_South                     730.0  0.012329  0.110424  0.0  0.0  0.0   \n",
       "Pitcairn_Islands                  242.0  0.000000  0.000000  0.0  0.0  0.0   \n",
       "Austral_Islands                   560.0  0.000000  0.000000  0.0  0.0  0.0   \n",
       "Tuamotu__Gambier_Islands         6949.0  0.000000  0.000000  0.0  0.0  0.0   \n",
       "Southern_Cook_Islands             678.0  0.000000  0.000000  0.0  0.0  0.0   \n",
       "Society_Islands                  1337.0  0.000000  0.000000  0.0  0.0  0.0   \n",
       "Kiribati_Phoenix_Islands          612.0  0.032680  0.177942  0.0  0.0  0.0   \n",
       "Niue                              142.0  0.000000  0.000000  0.0  0.0  0.0   \n",
       "New_Caledonia                    4647.0  0.066710  0.249545  0.0  0.0  0.0   \n",
       "\n",
       "                                50%  60%  70%  80%  90%  max       0       1  \\\n",
       "Papua_New_Guinea                2.0  2.0  2.0  2.0  3.0  3.0   180.0  3258.0   \n",
       "Federated_States_of_Micronesia  1.0  1.0  1.0  1.0  3.0  4.0     0.0  4248.0   \n",
       "Solomon_Islands                 1.0  2.0  2.0  2.0  2.0  2.0     0.0  3530.0   \n",
       "Palau                           1.0  1.0  1.0  2.0  2.0  2.0     0.0   571.0   \n",
       "Vanuatu_North                   1.0  1.0  1.0  1.0  1.0  1.0   623.0  1127.0   \n",
       "Tonga                           0.0  0.0  1.0  1.0  1.0  1.0  1060.0   556.0   \n",
       "Northern_Cook_Islands           1.0  1.0  1.0  1.0  1.0  1.0   235.0   241.0   \n",
       "Fiji                            1.0  1.0  1.0  1.0  1.0  2.0  2599.0  2570.0   \n",
       "Kiribati_Line_Islands           0.0  0.0  0.0  0.0  1.0  1.0   596.0   130.0   \n",
       "Samoa                           1.0  1.0  1.0  1.0  1.0  1.0     0.0   395.0   \n",
       "Marshall_Islands                1.0  1.0  1.0  1.0  1.0  2.0     0.0  3765.0   \n",
       "Wallis_&_Futuna                 1.0  1.0  1.0  1.0  1.0  2.0     0.0   965.0   \n",
       "Guam                            1.0  1.0  1.0  1.0  1.0  1.0     0.0   278.0   \n",
       "Kiribati_Gilbert_Islands        1.0  1.0  1.0  1.0  1.0  1.0   579.0   921.0   \n",
       "Nauru                           1.0  1.0  1.0  1.0  1.0  2.0     0.0    65.0   \n",
       "American_Samoa                  1.0  1.0  1.0  1.0  1.0  1.0     0.0   331.0   \n",
       "Northern_Marianas               1.0  1.0  1.0  1.0  1.0  1.0   141.0   687.0   \n",
       "Tokelau                         1.0  1.0  1.0  1.0  1.0  1.0     0.0   236.0   \n",
       "Tuvalu                          1.0  1.0  1.0  1.0  1.0  2.0     0.0  1271.0   \n",
       "Marquesas                       0.0  0.0  0.0  0.0  0.0  0.0   289.0     0.0   \n",
       "Vanuatu_South                   0.0  0.0  0.0  0.0  0.0  1.0   721.0     9.0   \n",
       "Pitcairn_Islands                0.0  0.0  0.0  0.0  0.0  0.0   242.0     0.0   \n",
       "Austral_Islands                 0.0  0.0  0.0  0.0  0.0  0.0   560.0     0.0   \n",
       "Tuamotu__Gambier_Islands        0.0  0.0  0.0  0.0  0.0  0.0  6949.0     0.0   \n",
       "Southern_Cook_Islands           0.0  0.0  0.0  0.0  0.0  0.0   678.0     0.0   \n",
       "Society_Islands                 0.0  0.0  0.0  0.0  0.0  0.0  1337.0     0.0   \n",
       "Kiribati_Phoenix_Islands        0.0  0.0  0.0  0.0  0.0  1.0   592.0    20.0   \n",
       "Niue                            0.0  0.0  0.0  0.0  0.0  0.0   142.0     0.0   \n",
       "New_Caledonia                   0.0  0.0  0.0  0.0  0.0  1.0  4337.0   310.0   \n",
       "\n",
       "                                     2       3      4  \n",
       "Papua_New_Guinea                8059.0  1327.0    0.0  \n",
       "Federated_States_of_Micronesia    79.0   565.0  337.0  \n",
       "Solomon_Islands                 2486.0     0.0    0.0  \n",
       "Palau                            232.0     0.0    0.0  \n",
       "Vanuatu_North                      0.0     0.0    0.0  \n",
       "Tonga                              0.0     0.0    0.0  \n",
       "Northern_Cook_Islands              0.0     0.0    0.0  \n",
       "Fiji                             409.0     0.0    0.0  \n",
       "Kiribati_Line_Islands              0.0     0.0    0.0  \n",
       "Samoa                              0.0     0.0    0.0  \n",
       "Marshall_Islands                  31.0     0.0    0.0  \n",
       "Wallis_&_Futuna                    2.0     0.0    0.0  \n",
       "Guam                               0.0     0.0    0.0  \n",
       "Kiribati_Gilbert_Islands           0.0     0.0    0.0  \n",
       "Nauru                              1.0     0.0    0.0  \n",
       "American_Samoa                     0.0     0.0    0.0  \n",
       "Northern_Marianas                  0.0     0.0    0.0  \n",
       "Tokelau                            0.0     0.0    0.0  \n",
       "Tuvalu                            68.0     0.0    0.0  \n",
       "Marquesas                          0.0     0.0    0.0  \n",
       "Vanuatu_South                      0.0     0.0    0.0  \n",
       "Pitcairn_Islands                   0.0     0.0    0.0  \n",
       "Austral_Islands                    0.0     0.0    0.0  \n",
       "Tuamotu__Gambier_Islands           0.0     0.0    0.0  \n",
       "Southern_Cook_Islands              0.0     0.0    0.0  \n",
       "Society_Islands                    0.0     0.0    0.0  \n",
       "Kiribati_Phoenix_Islands           0.0     0.0    0.0  \n",
       "Niue                               0.0     0.0    0.0  \n",
       "New_Caledonia                      0.0     0.0    0.0  "
      ]
     },
     "execution_count": 136,
     "metadata": {},
     "output_type": "execute_result"
    }
   ],
   "source": [
    "dlf.sort_values(\"90%\", ascending=False)"
   ]
  },
  {
   "cell_type": "code",
   "execution_count": 137,
   "metadata": {
    "collapsed": true
   },
   "outputs": [],
   "source": [
    "!open ../outputs/BAA_4weeks_max_summary.csv"
   ]
  },
  {
   "cell_type": "code",
   "execution_count": null,
   "metadata": {
    "collapsed": true
   },
   "outputs": [],
   "source": []
  }
 ],
 "metadata": {
  "kernelspec": {
   "display_name": "Python [conda env:IOOS]",
   "language": "python",
   "name": "conda-env-IOOS-py"
  },
  "language_info": {
   "codemirror_mode": {
    "name": "ipython",
    "version": 3
   },
   "file_extension": ".py",
   "mimetype": "text/x-python",
   "name": "python",
   "nbconvert_exporter": "python",
   "pygments_lexer": "ipython3",
   "version": "3.5.2"
  },
  "toc": {
   "colors": {
    "hover_highlight": "#DAA520",
    "running_highlight": "#FF0000",
    "selected_highlight": "#FFD700"
   },
   "moveMenuLeft": true,
   "nav_menu": {
    "height": "12px",
    "width": "252px"
   },
   "navigate_menu": true,
   "number_sections": true,
   "sideBar": true,
   "threshold": 4,
   "toc_cell": false,
   "toc_section_display": "block",
   "toc_window_display": false,
   "widenNotebook": false
  }
 },
 "nbformat": 4,
 "nbformat_minor": 2
}
