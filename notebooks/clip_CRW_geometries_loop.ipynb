{
 "cells": [
  {
   "cell_type": "markdown",
   "metadata": {},
   "source": [
    "# reads in the BAA 7 days max from CRW"
   ]
  },
  {
   "cell_type": "code",
   "execution_count": 82,
   "metadata": {},
   "outputs": [],
   "source": [
    "%matplotlib inline\n",
    "import os\n",
    "import sys\n",
    "import numpy as np\n",
    "import pandas as pd\n",
    "from matplotlib import pyplot as plt\n",
    "import xarray as xr"
   ]
  },
  {
   "cell_type": "code",
   "execution_count": 83,
   "metadata": {},
   "outputs": [],
   "source": [
    "from datetime import datetime, timedelta"
   ]
  },
  {
   "cell_type": "code",
   "execution_count": 84,
   "metadata": {},
   "outputs": [],
   "source": [
    "import salem"
   ]
  },
  {
   "cell_type": "code",
   "execution_count": 85,
   "metadata": {},
   "outputs": [],
   "source": [
    "from glob import glob"
   ]
  },
  {
   "cell_type": "code",
   "execution_count": 86,
   "metadata": {},
   "outputs": [],
   "source": [
    "import fiona"
   ]
  },
  {
   "cell_type": "code",
   "execution_count": 87,
   "metadata": {},
   "outputs": [],
   "source": [
    "def convert_shape(country_name=\"New Caledonia\"):\n",
    "    with fiona.open('../shapefiles/shapes_{}_converted.shp'.format(country_name), 'w', 'ESRI Shapefile', sh_country.schema.copy(), crs = sh_country.crs) as output:\n",
    "        for shape in sh_country:\n",
    "            if shape['properties']['min_x'] < 0: \n",
    "                shape['properties']['min_x'] += 360 \n",
    "            if shape['properties']['max_x'] < 0: \n",
    "                shape['properties']['max_x'] += 360\n",
    "            if (len(shape['geometry']['coordinates']) == 1):\n",
    "                coords = shape['geometry']['coordinates']\n",
    "                coords_mod = coords.copy()\n",
    "                for j in range(len(coords[0])): \n",
    "                    lon, lat = coords[0][j]\n",
    "                    if lon < 0: \n",
    "                        lon += 360\n",
    "                    coords_mod[0][j] = (lon, lat)\n",
    "                shape['geometry']['coordinates'] = coords_mod  \n",
    "            else: \n",
    "                for i in range(len(shape['geometry']['coordinates'])): \n",
    "                    coords = shape['geometry']['coordinates'][i]\n",
    "                    coords_mod = coords.copy()\n",
    "                    for j in range(len(coords[0])): \n",
    "                        lon, lat = coords[0][j]\n",
    "                        if lon < 0: \n",
    "                            lon += 360\n",
    "                        coords_mod[0][j] = (lon, lat)\n",
    "                    shape['geometry']['coordinates'][i] = coords_mod  \n",
    "            output.write(shape)"
   ]
  },
  {
   "cell_type": "markdown",
   "metadata": {},
   "source": [
    "### past 4 months, 7 days chunks "
   ]
  },
  {
   "cell_type": "code",
   "execution_count": 88,
   "metadata": {},
   "outputs": [],
   "source": [
    "delay = 2"
   ]
  },
  {
   "cell_type": "code",
   "execution_count": 89,
   "metadata": {},
   "outputs": [],
   "source": [
    "today = datetime.utcnow() - timedelta(days=delay)"
   ]
  },
  {
   "cell_type": "code",
   "execution_count": 90,
   "metadata": {},
   "outputs": [],
   "source": [
    "dates = [today - timedelta(weeks=x) for x in range(4)]"
   ]
  },
  {
   "cell_type": "code",
   "execution_count": 91,
   "metadata": {},
   "outputs": [],
   "source": [
    "lfiles = ['/Volumes/GDATA/data/CRW/BAA7dMAX/b5km_baa-max-7d_{:%Y%m%d}.nc'.format(d) for d in dates]"
   ]
  },
  {
   "cell_type": "code",
   "execution_count": 92,
   "metadata": {},
   "outputs": [
    {
     "data": {
      "text/plain": [
       "['/Volumes/GDATA/data/CRW/BAA7dMAX/b5km_baa-max-7d_20180107.nc',\n",
       " '/Volumes/GDATA/data/CRW/BAA7dMAX/b5km_baa-max-7d_20171231.nc',\n",
       " '/Volumes/GDATA/data/CRW/BAA7dMAX/b5km_baa-max-7d_20171224.nc',\n",
       " '/Volumes/GDATA/data/CRW/BAA7dMAX/b5km_baa-max-7d_20171217.nc']"
      ]
     },
     "execution_count": 92,
     "metadata": {},
     "output_type": "execute_result"
    }
   ],
   "source": [
    "lfiles"
   ]
  },
  {
   "cell_type": "code",
   "execution_count": 93,
   "metadata": {},
   "outputs": [],
   "source": [
    "lfiles.sort()"
   ]
  },
  {
   "cell_type": "code",
   "execution_count": 94,
   "metadata": {},
   "outputs": [
    {
     "data": {
      "text/plain": [
       "['/Volumes/GDATA/data/CRW/BAA7dMAX/b5km_baa-max-7d_20171217.nc',\n",
       " '/Volumes/GDATA/data/CRW/BAA7dMAX/b5km_baa-max-7d_20171224.nc',\n",
       " '/Volumes/GDATA/data/CRW/BAA7dMAX/b5km_baa-max-7d_20171231.nc',\n",
       " '/Volumes/GDATA/data/CRW/BAA7dMAX/b5km_baa-max-7d_20180107.nc']"
      ]
     },
     "execution_count": 94,
     "metadata": {},
     "output_type": "execute_result"
    }
   ],
   "source": [
    "lfiles"
   ]
  },
  {
   "cell_type": "markdown",
   "metadata": {},
   "source": [
    "### reads in the BAA 7 days max"
   ]
  },
  {
   "cell_type": "code",
   "execution_count": 95,
   "metadata": {},
   "outputs": [],
   "source": [
    "BAA = xr.open_mfdataset(lfiles)"
   ]
  },
  {
   "cell_type": "code",
   "execution_count": 98,
   "metadata": {},
   "outputs": [],
   "source": [
    "last_week_BAA = BAA.time[-1].data"
   ]
  },
  {
   "cell_type": "code",
   "execution_count": 102,
   "metadata": {},
   "outputs": [],
   "source": [
    "last_week_BAA = pd.to_datetime(last_week_BAA)"
   ]
  },
  {
   "cell_type": "markdown",
   "metadata": {},
   "source": [
    "### calculates the max over time"
   ]
  },
  {
   "cell_type": "code",
   "execution_count": 22,
   "metadata": {
    "run_control": {
     "marked": false
    }
   },
   "outputs": [],
   "source": [
    "BAA = BAA.max('time')"
   ]
  },
  {
   "cell_type": "code",
   "execution_count": 23,
   "metadata": {},
   "outputs": [
    {
     "data": {
      "text/plain": [
       "<xarray.Dataset>\n",
       "Dimensions:        (lat: 3600, lon: 7200)\n",
       "Coordinates:\n",
       "  * lat            (lat) float32 89.975 89.925 89.875 89.825 89.775 89.725 ...\n",
       "  * lon            (lon) float32 -179.975 -179.925 -179.875 -179.825 ...\n",
       "Data variables:\n",
       "    surface_flag   (lat, lon) int8 dask.array<shape=(3600, 7200), chunksize=(3600, 7200)>\n",
       "    CRW_BAA_max7d  (lat, lon) float64 dask.array<shape=(3600, 7200), chunksize=(3600, 7200)>\n",
       "    crs            int16 -32767"
      ]
     },
     "execution_count": 23,
     "metadata": {},
     "output_type": "execute_result"
    }
   ],
   "source": [
    "BAA"
   ]
  },
  {
   "cell_type": "markdown",
   "metadata": {},
   "source": [
    "### goes from 0 to 360 "
   ]
  },
  {
   "cell_type": "code",
   "execution_count": 24,
   "metadata": {},
   "outputs": [],
   "source": [
    "BAA_rolled = BAA.assign_coords(lon=(BAA.lon % 360)).roll(lon=(BAA.dims['lon'] // 2))"
   ]
  },
  {
   "cell_type": "code",
   "execution_count": 25,
   "metadata": {},
   "outputs": [
    {
     "name": "stderr",
     "output_type": "stream",
     "text": [
      "/Users/nicolasf/anaconda3/envs/IOOS/lib/python3.5/site-packages/dask/compatibility.py:47: RuntimeWarning: All-NaN slice encountered\n",
      "  return func(*args, **kwargs)\n",
      "/Users/nicolasf/anaconda3/envs/IOOS/lib/python3.5/site-packages/toolz/functoolz.py:468: RuntimeWarning: All-NaN slice encountered\n",
      "  ret = f(ret)\n"
     ]
    },
    {
     "data": {
      "image/png": "[encoded data removed]",
      "text/plain": [
       "<matplotlib.figure.Figure at 0x126e0f9e8>"
      ]
     },
     "metadata": {},
     "output_type": "display_data"
    }
   ],
   "source": [
    "plt.imshow(BAA['CRW_BAA_max7d'].data);"
   ]
  },
  {
   "cell_type": "code",
   "execution_count": 26,
   "metadata": {},
   "outputs": [
    {
     "name": "stderr",
     "output_type": "stream",
     "text": [
      "/Users/nicolasf/anaconda3/envs/IOOS/lib/python3.5/site-packages/dask/compatibility.py:47: RuntimeWarning: All-NaN slice encountered\n",
      "  return func(*args, **kwargs)\n",
      "/Users/nicolasf/anaconda3/envs/IOOS/lib/python3.5/site-packages/toolz/functoolz.py:468: RuntimeWarning: All-NaN slice encountered\n",
      "  ret = f(ret)\n"
     ]
    },
    {
     "data": {
      "text/plain": [
       "<matplotlib.image.AxesImage at 0x13f0439e8>"
      ]
     },
     "execution_count": 26,
     "metadata": {},
     "output_type": "execute_result"
    },
    {
     "data": {
      "image/png": "[encoded data removed]",
      "text/plain": [
       "<matplotlib.figure.Figure at 0x12714abe0>"
      ]
     },
     "metadata": {},
     "output_type": "display_data"
    }
   ],
   "source": [
    "plt.imshow(BAA_rolled['CRW_BAA_max7d'].data)"
   ]
  },
  {
   "cell_type": "markdown",
   "metadata": {},
   "source": [
    "### selects the Pacific region"
   ]
  },
  {
   "cell_type": "code",
   "execution_count": 27,
   "metadata": {},
   "outputs": [],
   "source": [
    "BAA_rolled = BAA_rolled.sel(lon=slice(100, 300), lat=slice(50, -50))"
   ]
  },
  {
   "cell_type": "code",
   "execution_count": 28,
   "metadata": {},
   "outputs": [
    {
     "name": "stderr",
     "output_type": "stream",
     "text": [
      "/Users/nicolasf/anaconda3/envs/IOOS/lib/python3.5/site-packages/dask/compatibility.py:47: RuntimeWarning: All-NaN slice encountered\n",
      "  return func(*args, **kwargs)\n",
      "/Users/nicolasf/anaconda3/envs/IOOS/lib/python3.5/site-packages/toolz/functoolz.py:468: RuntimeWarning: All-NaN slice encountered\n",
      "  ret = f(ret)\n"
     ]
    },
    {
     "data": {
      "text/plain": [
       "<matplotlib.image.AxesImage at 0x13f0716d8>"
      ]
     },
     "execution_count": 28,
     "metadata": {},
     "output_type": "execute_result"
    },
    {
     "data": {
      "image/png": "[encoded data removed]",
      "text/plain": [
       "<matplotlib.figure.Figure at 0x125cc7cc0>"
      ]
     },
     "metadata": {},
     "output_type": "display_data"
    }
   ],
   "source": [
    "plt.imshow(BAA_rolled['CRW_BAA_max7d'].data)"
   ]
  },
  {
   "cell_type": "markdown",
   "metadata": {},
   "source": [
    "### closes the BAA dataset"
   ]
  },
  {
   "cell_type": "code",
   "execution_count": 29,
   "metadata": {},
   "outputs": [],
   "source": [
    "BAA.close()"
   ]
  },
  {
   "cell_type": "markdown",
   "metadata": {},
   "source": [
    "### loads in memory"
   ]
  },
  {
   "cell_type": "code",
   "execution_count": 30,
   "metadata": {},
   "outputs": [
    {
     "name": "stderr",
     "output_type": "stream",
     "text": [
      "/Users/nicolasf/anaconda3/envs/IOOS/lib/python3.5/site-packages/dask/compatibility.py:47: RuntimeWarning: All-NaN slice encountered\n",
      "  return func(*args, **kwargs)\n",
      "/Users/nicolasf/anaconda3/envs/IOOS/lib/python3.5/site-packages/toolz/functoolz.py:468: RuntimeWarning: All-NaN slice encountered\n",
      "  ret = f(ret)\n"
     ]
    },
    {
     "data": {
      "text/plain": [
       "<xarray.Dataset>\n",
       "Dimensions:        (lat: 2000, lon: 4000)\n",
       "Coordinates:\n",
       "  * lat            (lat) float32 49.975 49.925 49.875 49.825 49.775 49.725 ...\n",
       "  * lon            (lon) float32 100.025 100.075 100.125 100.175 100.225 ...\n",
       "Data variables:\n",
       "    surface_flag   (lat, lon) int8 1 1 1 1 1 1 1 1 1 1 1 1 1 1 1 1 1 1 1 1 1 ...\n",
       "    CRW_BAA_max7d  (lat, lon) float64 nan nan nan nan nan nan nan nan nan ...\n",
       "    crs            int16 -32767"
      ]
     },
     "execution_count": 30,
     "metadata": {},
     "output_type": "execute_result"
    }
   ],
   "source": [
    "BAA_rolled.load()"
   ]
  },
  {
   "cell_type": "markdown",
   "metadata": {},
   "source": [
    "### reads in the masks"
   ]
  },
  {
   "cell_type": "code",
   "execution_count": 31,
   "metadata": {},
   "outputs": [],
   "source": [
    "masks = xr.open_dataset('../data/reef_mask/compiled_5km_reef_mask_for_edit_20171113_buffer4pix.nc')"
   ]
  },
  {
   "cell_type": "code",
   "execution_count": 32,
   "metadata": {},
   "outputs": [
    {
     "data": {
      "text/plain": [
       "<xarray.Dataset>\n",
       "Dimensions:    (lat: 3600, lon: 7200)\n",
       "Coordinates:\n",
       "  * lon        (lon) float32 -179.975 -179.925 -179.875 -179.825 -179.775 ...\n",
       "  * lat        (lat) float32 89.975 89.925 89.875 89.825 89.775 89.725 ...\n",
       "Data variables:\n",
       "    reef_mask  (lat, lon) uint8 ...\n",
       "    land_mask  (lat, lon) uint8 ..."
      ]
     },
     "execution_count": 32,
     "metadata": {},
     "output_type": "execute_result"
    }
   ],
   "source": [
    "masks"
   ]
  },
  {
   "cell_type": "code",
   "execution_count": 33,
   "metadata": {},
   "outputs": [
    {
     "data": {
      "text/plain": [
       "<matplotlib.image.AxesImage at 0x12732ce80>"
      ]
     },
     "execution_count": 33,
     "metadata": {},
     "output_type": "execute_result"
    },
    {
     "data": {
      "image/png": "[encoded data removed]",
      "text/plain": [
       "<matplotlib.figure.Figure at 0x12730bd30>"
      ]
     },
     "metadata": {},
     "output_type": "display_data"
    }
   ],
   "source": [
    "plt.imshow(masks['land_mask'].data)"
   ]
  },
  {
   "cell_type": "code",
   "execution_count": 34,
   "metadata": {},
   "outputs": [],
   "source": [
    "masks_rolled = masks.assign_coords(lon=(masks.lon % 360)).roll(lon=(masks.dims['lon'] // 2))"
   ]
  },
  {
   "cell_type": "code",
   "execution_count": 35,
   "metadata": {},
   "outputs": [
    {
     "data": {
      "text/plain": [
       "<matplotlib.image.AxesImage at 0x13f11b240>"
      ]
     },
     "execution_count": 35,
     "metadata": {},
     "output_type": "execute_result"
    },
    {
     "data": {
      "image/png": "[encoded data removed]",
      "text/plain": [
       "<matplotlib.figure.Figure at 0x12733bf28>"
      ]
     },
     "metadata": {},
     "output_type": "display_data"
    }
   ],
   "source": [
    "plt.imshow(masks_rolled['land_mask'].data)"
   ]
  },
  {
   "cell_type": "code",
   "execution_count": 36,
   "metadata": {},
   "outputs": [],
   "source": [
    "land_mask = ~(masks_rolled['land_mask'].data.astype(np.bool))"
   ]
  },
  {
   "cell_type": "code",
   "execution_count": 37,
   "metadata": {},
   "outputs": [],
   "source": [
    "land_mask = land_mask.astype(np.float32)"
   ]
  },
  {
   "cell_type": "code",
   "execution_count": 38,
   "metadata": {},
   "outputs": [
    {
     "data": {
      "text/plain": [
       "array([[ 1.,  1.,  1., ...,  1.,  1.,  1.],\n",
       "       [ 1.,  1.,  1., ...,  1.,  1.,  1.],\n",
       "       [ 1.,  1.,  1., ...,  1.,  1.,  1.],\n",
       "       ..., \n",
       "       [ 0.,  0.,  0., ...,  0.,  0.,  0.],\n",
       "       [ 0.,  0.,  0., ...,  0.,  0.,  0.],\n",
       "       [ 0.,  0.,  0., ...,  0.,  0.,  0.]], dtype=float32)"
      ]
     },
     "execution_count": 38,
     "metadata": {},
     "output_type": "execute_result"
    }
   ],
   "source": [
    "land_mask"
   ]
  },
  {
   "cell_type": "code",
   "execution_count": 39,
   "metadata": {},
   "outputs": [
    {
     "data": {
      "text/plain": [
       "<matplotlib.colorbar.Colorbar at 0x1450797b8>"
      ]
     },
     "execution_count": 39,
     "metadata": {},
     "output_type": "execute_result"
    },
    {
     "data": {
      "image/png": "[encoded data removed]",
      "text/plain": [
       "<matplotlib.figure.Figure at 0x127346470>"
      ]
     },
     "metadata": {},
     "output_type": "display_data"
    }
   ],
   "source": [
    "plt.imshow(land_mask); plt.colorbar()"
   ]
  },
  {
   "cell_type": "code",
   "execution_count": 40,
   "metadata": {},
   "outputs": [],
   "source": [
    "masks_rolled['land_mask'] = (('lat','lon'), land_mask)"
   ]
  },
  {
   "cell_type": "code",
   "execution_count": 41,
   "metadata": {},
   "outputs": [],
   "source": [
    "masks_rolled = masks_rolled.sel(lon=slice(100, 300), lat=slice(50, -50))"
   ]
  },
  {
   "cell_type": "code",
   "execution_count": 42,
   "metadata": {},
   "outputs": [
    {
     "data": {
      "text/plain": [
       "<matplotlib.colorbar.Colorbar at 0x1450eca58>"
      ]
     },
     "execution_count": 42,
     "metadata": {},
     "output_type": "execute_result"
    },
    {
     "data": {
      "image/png": "[encoded data removed]",
      "text/plain": [
       "<matplotlib.figure.Figure at 0x14508cda0>"
      ]
     },
     "metadata": {},
     "output_type": "display_data"
    }
   ],
   "source": [
    "plt.imshow(masks_rolled['land_mask'].data); plt.colorbar()"
   ]
  },
  {
   "cell_type": "code",
   "execution_count": 43,
   "metadata": {},
   "outputs": [
    {
     "data": {
      "text/plain": [
       "<matplotlib.colorbar.Colorbar at 0x14519cf28>"
      ]
     },
     "execution_count": 43,
     "metadata": {},
     "output_type": "execute_result"
    },
    {
     "data": {
      "image/png": "[encoded data removed]",
      "text/plain": [
       "<matplotlib.figure.Figure at 0x1450f9438>"
      ]
     },
     "metadata": {},
     "output_type": "display_data"
    }
   ],
   "source": [
    "plt.imshow(masks_rolled['reef_mask'].data); plt.colorbar()"
   ]
  },
  {
   "cell_type": "code",
   "execution_count": 44,
   "metadata": {},
   "outputs": [],
   "source": [
    "mask = masks_rolled['reef_mask'] * masks_rolled['land_mask']"
   ]
  },
  {
   "cell_type": "code",
   "execution_count": 45,
   "metadata": {},
   "outputs": [
    {
     "data": {
      "text/plain": [
       "<matplotlib.colorbar.Colorbar at 0x14526e400>"
      ]
     },
     "execution_count": 45,
     "metadata": {},
     "output_type": "execute_result"
    },
    {
     "data": {
      "image/png": "[encoded data removed]",
      "text/plain": [
       "<matplotlib.figure.Figure at 0x14518c860>"
      ]
     },
     "metadata": {},
     "output_type": "display_data"
    }
   ],
   "source": [
    "plt.imshow(mask); plt.colorbar()"
   ]
  },
  {
   "cell_type": "code",
   "execution_count": 46,
   "metadata": {},
   "outputs": [],
   "source": [
    "mask_data = mask.data"
   ]
  },
  {
   "cell_type": "code",
   "execution_count": 47,
   "metadata": {},
   "outputs": [],
   "source": [
    "mask_data[np.where(mask_data == 0)] = np.nan"
   ]
  },
  {
   "cell_type": "code",
   "execution_count": 48,
   "metadata": {},
   "outputs": [],
   "source": [
    "d = {}\n",
    "d['lat'] = (('lat'), mask.lat.data)\n",
    "d['lon'] = (('lon'), mask.lon.data)\n",
    "d['mask'] = (('lat','lon'), mask_data)"
   ]
  },
  {
   "cell_type": "code",
   "execution_count": 49,
   "metadata": {},
   "outputs": [],
   "source": [
    "mask_dset = xr.Dataset(d)"
   ]
  },
  {
   "cell_type": "code",
   "execution_count": 50,
   "metadata": {},
   "outputs": [],
   "source": [
    "mask_dset.to_netcdf('../data/combined_reef_mask.nc')"
   ]
  },
  {
   "cell_type": "code",
   "execution_count": 51,
   "metadata": {},
   "outputs": [
    {
     "data": {
      "text/plain": [
       "array([[ nan,  nan,  nan, ...,  nan,  nan,  nan],\n",
       "       [ nan,  nan,  nan, ...,  nan,  nan,  nan],\n",
       "       [ nan,  nan,  nan, ...,  nan,  nan,  nan],\n",
       "       ..., \n",
       "       [ nan,  nan,  nan, ...,  nan,  nan,  nan],\n",
       "       [ nan,  nan,  nan, ...,  nan,  nan,  nan],\n",
       "       [ nan,  nan,  nan, ...,  nan,  nan,  nan]], dtype=float32)"
      ]
     },
     "execution_count": 51,
     "metadata": {},
     "output_type": "execute_result"
    }
   ],
   "source": [
    "mask_data"
   ]
  },
  {
   "cell_type": "code",
   "execution_count": 52,
   "metadata": {},
   "outputs": [],
   "source": [
    "BAA_rolled['reef_mask'] = (('lat','lon'), mask_data)"
   ]
  },
  {
   "cell_type": "code",
   "execution_count": 53,
   "metadata": {},
   "outputs": [],
   "source": [
    "if os.path.exists('../outputs/tmp.nc'):\n",
    "    os.remove('../outputs/tmp.nc')"
   ]
  },
  {
   "cell_type": "code",
   "execution_count": 54,
   "metadata": {},
   "outputs": [],
   "source": [
    "BAA_rolled.to_netcdf('../outputs/tmp.nc')"
   ]
  },
  {
   "cell_type": "markdown",
   "metadata": {},
   "source": [
    "### reads the EEZ shapefile"
   ]
  },
  {
   "cell_type": "code",
   "execution_count": 55,
   "metadata": {},
   "outputs": [],
   "source": [
    "shp_path = \"/Users/nicolasf/drives/auck_projects/ICU14101/Working/ICU Water Watch/GIS map files\""
   ]
  },
  {
   "cell_type": "code",
   "execution_count": 56,
   "metadata": {},
   "outputs": [],
   "source": [
    "shp = salem.read_shapefile(os.path.join(shp_path, \"ALL_ICU_countries.shp\"))"
   ]
  },
  {
   "cell_type": "code",
   "execution_count": 57,
   "metadata": {},
   "outputs": [
    {
     "data": {
      "text/plain": [
       "<matplotlib.axes._subplots.AxesSubplot at 0x12714a128>"
      ]
     },
     "execution_count": 57,
     "metadata": {},
     "output_type": "execute_result"
    },
    {
     "data": {
      "image/png": "[encoded data removed]",
      "text/plain": [
       "<matplotlib.figure.Figure at 0x14511e278>"
      ]
     },
     "metadata": {},
     "output_type": "display_data"
    }
   ],
   "source": [
    "shp.plot()"
   ]
  },
  {
   "cell_type": "code",
   "execution_count": 58,
   "metadata": {},
   "outputs": [
    {
     "data": {
      "text/html": [
       "<div>\n",
       "<style scoped>\n",
       "    .dataframe tbody tr th:only-of-type {\n",
       "        vertical-align: middle;\n",
       "    }\n",
       "\n",
       "    .dataframe tbody tr th {\n",
       "        vertical-align: top;\n",
       "    }\n",
       "\n",
       "    .dataframe thead th {\n",
       "        text-align: right;\n",
       "    }\n",
       "</style>\n",
       "<table border=\"1\" class=\"dataframe\">\n",
       "  <thead>\n",
       "    <tr style=\"text-align: right;\">\n",
       "      <th></th>\n",
       "      <th>COUNTRY_ID</th>\n",
       "      <th>COUNTRYNAM</th>\n",
       "      <th>ICU</th>\n",
       "      <th>Stress</th>\n",
       "      <th>SOPAC</th>\n",
       "      <th>FFA</th>\n",
       "      <th>SPC</th>\n",
       "      <th>SPREP</th>\n",
       "      <th>USP</th>\n",
       "      <th>TCSP</th>\n",
       "      <th>FORUM</th>\n",
       "      <th>ACP</th>\n",
       "      <th>area</th>\n",
       "      <th>geometry</th>\n",
       "      <th>min_x</th>\n",
       "      <th>max_x</th>\n",
       "      <th>min_y</th>\n",
       "      <th>max_y</th>\n",
       "    </tr>\n",
       "  </thead>\n",
       "  <tbody>\n",
       "    <tr>\n",
       "      <th>0</th>\n",
       "      <td>NC</td>\n",
       "      <td>New Caledonia</td>\n",
       "      <td>2</td>\n",
       "      <td>-14</td>\n",
       "      <td>0</td>\n",
       "      <td>0</td>\n",
       "      <td>0</td>\n",
       "      <td>3</td>\n",
       "      <td>0</td>\n",
       "      <td>0</td>\n",
       "      <td>0</td>\n",
       "      <td>0</td>\n",
       "      <td>0.0</td>\n",
       "      <td>POLYGON ((158.6108 -25.14667, 157.8011 -23.248...</td>\n",
       "      <td>156.255600</td>\n",
       "      <td>170.033300</td>\n",
       "      <td>-25.919891</td>\n",
       "      <td>-14.769438</td>\n",
       "    </tr>\n",
       "    <tr>\n",
       "      <th>1</th>\n",
       "      <td>PN</td>\n",
       "      <td>Pitcairn Islands</td>\n",
       "      <td>-3</td>\n",
       "      <td>0</td>\n",
       "      <td>0</td>\n",
       "      <td>0</td>\n",
       "      <td>0</td>\n",
       "      <td>2</td>\n",
       "      <td>0</td>\n",
       "      <td>0</td>\n",
       "      <td>0</td>\n",
       "      <td>0</td>\n",
       "      <td>0.0</td>\n",
       "      <td>POLYGON ((-132.499382 -22.511733, -132.228513 ...</td>\n",
       "      <td>-133.405666</td>\n",
       "      <td>-121.133705</td>\n",
       "      <td>-28.385089</td>\n",
       "      <td>-20.530577</td>\n",
       "    </tr>\n",
       "    <tr>\n",
       "      <th>2</th>\n",
       "      <td>PG</td>\n",
       "      <td>Papua New Guinea</td>\n",
       "      <td>0</td>\n",
       "      <td>7</td>\n",
       "      <td>3</td>\n",
       "      <td>0</td>\n",
       "      <td>0</td>\n",
       "      <td>4</td>\n",
       "      <td>0</td>\n",
       "      <td>0</td>\n",
       "      <td>0</td>\n",
       "      <td>0</td>\n",
       "      <td>0.0</td>\n",
       "      <td>POLYGON ((157.168058 -13.692712, 157.038334 -1...</td>\n",
       "      <td>139.200227</td>\n",
       "      <td>162.801941</td>\n",
       "      <td>-14.750038</td>\n",
       "      <td>2.591944</td>\n",
       "    </tr>\n",
       "    <tr>\n",
       "      <th>3</th>\n",
       "      <td>SB</td>\n",
       "      <td>Solomon Islands</td>\n",
       "      <td>-9</td>\n",
       "      <td>2</td>\n",
       "      <td>2</td>\n",
       "      <td>0</td>\n",
       "      <td>0</td>\n",
       "      <td>4</td>\n",
       "      <td>0</td>\n",
       "      <td>0</td>\n",
       "      <td>0</td>\n",
       "      <td>0</td>\n",
       "      <td>0.0</td>\n",
       "      <td>POLYGON ((173.5906 -11.85417, 173.525754 -12.5...</td>\n",
       "      <td>154.585556</td>\n",
       "      <td>173.590600</td>\n",
       "      <td>-16.133050</td>\n",
       "      <td>-4.142221</td>\n",
       "    </tr>\n",
       "    <tr>\n",
       "      <th>4</th>\n",
       "      <td>KI</td>\n",
       "      <td>Kiribati: Phoenix Islands</td>\n",
       "      <td>-5</td>\n",
       "      <td>-1</td>\n",
       "      <td>0</td>\n",
       "      <td>0</td>\n",
       "      <td>0</td>\n",
       "      <td>0</td>\n",
       "      <td>0</td>\n",
       "      <td>0</td>\n",
       "      <td>0</td>\n",
       "      <td>0</td>\n",
       "      <td>0.0</td>\n",
       "      <td>POLYGON ((-168.921636 -6.882211000000032, -170...</td>\n",
       "      <td>-177.883300</td>\n",
       "      <td>-167.366700</td>\n",
       "      <td>-7.785231</td>\n",
       "      <td>0.583333</td>\n",
       "    </tr>\n",
       "  </tbody>\n",
       "</table>\n",
       "</div>"
      ],
      "text/plain": [
       "  COUNTRY_ID                 COUNTRYNAM  ICU  Stress  SOPAC  FFA  SPC  SPREP  \\\n",
       "0         NC              New Caledonia    2     -14      0    0    0      3   \n",
       "1         PN           Pitcairn Islands   -3       0      0    0    0      2   \n",
       "2         PG           Papua New Guinea    0       7      3    0    0      4   \n",
       "3         SB            Solomon Islands   -9       2      2    0    0      4   \n",
       "4         KI  Kiribati: Phoenix Islands   -5      -1      0    0    0      0   \n",
       "\n",
       "   USP  TCSP  FORUM  ACP  area  \\\n",
       "0    0     0      0    0   0.0   \n",
       "1    0     0      0    0   0.0   \n",
       "2    0     0      0    0   0.0   \n",
       "3    0     0      0    0   0.0   \n",
       "4    0     0      0    0   0.0   \n",
       "\n",
       "                                            geometry       min_x       max_x  \\\n",
       "0  POLYGON ((158.6108 -25.14667, 157.8011 -23.248...  156.255600  170.033300   \n",
       "1  POLYGON ((-132.499382 -22.511733, -132.228513 ... -133.405666 -121.133705   \n",
       "2  POLYGON ((157.168058 -13.692712, 157.038334 -1...  139.200227  162.801941   \n",
       "3  POLYGON ((173.5906 -11.85417, 173.525754 -12.5...  154.585556  173.590600   \n",
       "4  POLYGON ((-168.921636 -6.882211000000032, -170... -177.883300 -167.366700   \n",
       "\n",
       "       min_y      max_y  \n",
       "0 -25.919891 -14.769438  \n",
       "1 -28.385089 -20.530577  \n",
       "2 -14.750038   2.591944  \n",
       "3 -16.133050  -4.142221  \n",
       "4  -7.785231   0.583333  "
      ]
     },
     "execution_count": 58,
     "metadata": {},
     "output_type": "execute_result"
    }
   ],
   "source": [
    "shp.head()"
   ]
  },
  {
   "cell_type": "code",
   "execution_count": 59,
   "metadata": {},
   "outputs": [],
   "source": [
    "def sanitize(x): \n",
    "    x = x.replace(\" \",\"_\")\n",
    "    x = x.replace(\"/\",\"\")\n",
    "    x = x.replace(\":\",\"\")\n",
    "    return x"
   ]
  },
  {
   "cell_type": "code",
   "execution_count": 60,
   "metadata": {},
   "outputs": [],
   "source": [
    "shp.loc[:,'COUNTRYNAM']= shp.loc[:,'COUNTRYNAM'].apply(sanitize)"
   ]
  },
  {
   "cell_type": "code",
   "execution_count": 61,
   "metadata": {},
   "outputs": [
    {
     "data": {
      "text/html": [
       "<div>\n",
       "<style scoped>\n",
       "    .dataframe tbody tr th:only-of-type {\n",
       "        vertical-align: middle;\n",
       "    }\n",
       "\n",
       "    .dataframe tbody tr th {\n",
       "        vertical-align: top;\n",
       "    }\n",
       "\n",
       "    .dataframe thead th {\n",
       "        text-align: right;\n",
       "    }\n",
       "</style>\n",
       "<table border=\"1\" class=\"dataframe\">\n",
       "  <thead>\n",
       "    <tr style=\"text-align: right;\">\n",
       "      <th></th>\n",
       "      <th>COUNTRY_ID</th>\n",
       "      <th>COUNTRYNAM</th>\n",
       "      <th>ICU</th>\n",
       "      <th>Stress</th>\n",
       "      <th>SOPAC</th>\n",
       "      <th>FFA</th>\n",
       "      <th>SPC</th>\n",
       "      <th>SPREP</th>\n",
       "      <th>USP</th>\n",
       "      <th>TCSP</th>\n",
       "      <th>FORUM</th>\n",
       "      <th>ACP</th>\n",
       "      <th>area</th>\n",
       "      <th>geometry</th>\n",
       "      <th>min_x</th>\n",
       "      <th>max_x</th>\n",
       "      <th>min_y</th>\n",
       "      <th>max_y</th>\n",
       "    </tr>\n",
       "  </thead>\n",
       "  <tbody>\n",
       "    <tr>\n",
       "      <th>0</th>\n",
       "      <td>NC</td>\n",
       "      <td>New_Caledonia</td>\n",
       "      <td>2</td>\n",
       "      <td>-14</td>\n",
       "      <td>0</td>\n",
       "      <td>0</td>\n",
       "      <td>0</td>\n",
       "      <td>3</td>\n",
       "      <td>0</td>\n",
       "      <td>0</td>\n",
       "      <td>0</td>\n",
       "      <td>0</td>\n",
       "      <td>0.0</td>\n",
       "      <td>POLYGON ((158.6108 -25.14667, 157.8011 -23.248...</td>\n",
       "      <td>156.255600</td>\n",
       "      <td>170.033300</td>\n",
       "      <td>-25.919891</td>\n",
       "      <td>-14.769438</td>\n",
       "    </tr>\n",
       "    <tr>\n",
       "      <th>1</th>\n",
       "      <td>PN</td>\n",
       "      <td>Pitcairn_Islands</td>\n",
       "      <td>-3</td>\n",
       "      <td>0</td>\n",
       "      <td>0</td>\n",
       "      <td>0</td>\n",
       "      <td>0</td>\n",
       "      <td>2</td>\n",
       "      <td>0</td>\n",
       "      <td>0</td>\n",
       "      <td>0</td>\n",
       "      <td>0</td>\n",
       "      <td>0.0</td>\n",
       "      <td>POLYGON ((-132.499382 -22.511733, -132.228513 ...</td>\n",
       "      <td>-133.405666</td>\n",
       "      <td>-121.133705</td>\n",
       "      <td>-28.385089</td>\n",
       "      <td>-20.530577</td>\n",
       "    </tr>\n",
       "    <tr>\n",
       "      <th>2</th>\n",
       "      <td>PG</td>\n",
       "      <td>Papua_New_Guinea</td>\n",
       "      <td>0</td>\n",
       "      <td>7</td>\n",
       "      <td>3</td>\n",
       "      <td>0</td>\n",
       "      <td>0</td>\n",
       "      <td>4</td>\n",
       "      <td>0</td>\n",
       "      <td>0</td>\n",
       "      <td>0</td>\n",
       "      <td>0</td>\n",
       "      <td>0.0</td>\n",
       "      <td>POLYGON ((157.168058 -13.692712, 157.038334 -1...</td>\n",
       "      <td>139.200227</td>\n",
       "      <td>162.801941</td>\n",
       "      <td>-14.750038</td>\n",
       "      <td>2.591944</td>\n",
       "    </tr>\n",
       "    <tr>\n",
       "      <th>3</th>\n",
       "      <td>SB</td>\n",
       "      <td>Solomon_Islands</td>\n",
       "      <td>-9</td>\n",
       "      <td>2</td>\n",
       "      <td>2</td>\n",
       "      <td>0</td>\n",
       "      <td>0</td>\n",
       "      <td>4</td>\n",
       "      <td>0</td>\n",
       "      <td>0</td>\n",
       "      <td>0</td>\n",
       "      <td>0</td>\n",
       "      <td>0.0</td>\n",
       "      <td>POLYGON ((173.5906 -11.85417, 173.525754 -12.5...</td>\n",
       "      <td>154.585556</td>\n",
       "      <td>173.590600</td>\n",
       "      <td>-16.133050</td>\n",
       "      <td>-4.142221</td>\n",
       "    </tr>\n",
       "    <tr>\n",
       "      <th>4</th>\n",
       "      <td>KI</td>\n",
       "      <td>Kiribati_Phoenix_Islands</td>\n",
       "      <td>-5</td>\n",
       "      <td>-1</td>\n",
       "      <td>0</td>\n",
       "      <td>0</td>\n",
       "      <td>0</td>\n",
       "      <td>0</td>\n",
       "      <td>0</td>\n",
       "      <td>0</td>\n",
       "      <td>0</td>\n",
       "      <td>0</td>\n",
       "      <td>0.0</td>\n",
       "      <td>POLYGON ((-168.921636 -6.882211000000032, -170...</td>\n",
       "      <td>-177.883300</td>\n",
       "      <td>-167.366700</td>\n",
       "      <td>-7.785231</td>\n",
       "      <td>0.583333</td>\n",
       "    </tr>\n",
       "  </tbody>\n",
       "</table>\n",
       "</div>"
      ],
      "text/plain": [
       "  COUNTRY_ID                COUNTRYNAM  ICU  Stress  SOPAC  FFA  SPC  SPREP  \\\n",
       "0         NC             New_Caledonia    2     -14      0    0    0      3   \n",
       "1         PN          Pitcairn_Islands   -3       0      0    0    0      2   \n",
       "2         PG          Papua_New_Guinea    0       7      3    0    0      4   \n",
       "3         SB           Solomon_Islands   -9       2      2    0    0      4   \n",
       "4         KI  Kiribati_Phoenix_Islands   -5      -1      0    0    0      0   \n",
       "\n",
       "   USP  TCSP  FORUM  ACP  area  \\\n",
       "0    0     0      0    0   0.0   \n",
       "1    0     0      0    0   0.0   \n",
       "2    0     0      0    0   0.0   \n",
       "3    0     0      0    0   0.0   \n",
       "4    0     0      0    0   0.0   \n",
       "\n",
       "                                            geometry       min_x       max_x  \\\n",
       "0  POLYGON ((158.6108 -25.14667, 157.8011 -23.248...  156.255600  170.033300   \n",
       "1  POLYGON ((-132.499382 -22.511733, -132.228513 ... -133.405666 -121.133705   \n",
       "2  POLYGON ((157.168058 -13.692712, 157.038334 -1...  139.200227  162.801941   \n",
       "3  POLYGON ((173.5906 -11.85417, 173.525754 -12.5...  154.585556  173.590600   \n",
       "4  POLYGON ((-168.921636 -6.882211000000032, -170... -177.883300 -167.366700   \n",
       "\n",
       "       min_y      max_y  \n",
       "0 -25.919891 -14.769438  \n",
       "1 -28.385089 -20.530577  \n",
       "2 -14.750038   2.591944  \n",
       "3 -16.133050  -4.142221  \n",
       "4  -7.785231   0.583333  "
      ]
     },
     "execution_count": 61,
     "metadata": {},
     "output_type": "execute_result"
    }
   ],
   "source": [
    "shp.head()"
   ]
  },
  {
   "cell_type": "code",
   "execution_count": 62,
   "metadata": {},
   "outputs": [],
   "source": [
    "dset_salem = salem.open_xr_dataset('../outputs/tmp.nc')"
   ]
  },
  {
   "cell_type": "code",
   "execution_count": 63,
   "metadata": {},
   "outputs": [
    {
     "data": {
      "text/plain": [
       "<xarray.Dataset>\n",
       "Dimensions:        (lat: 2000, lon: 4000)\n",
       "Coordinates:\n",
       "  * lat            (lat) float32 49.975 49.925 49.875 49.825 49.775 49.725 ...\n",
       "  * lon            (lon) float32 100.025 100.075 100.125 100.175 100.225 ...\n",
       "Data variables:\n",
       "    surface_flag   (lat, lon) int8 ...\n",
       "    CRW_BAA_max7d  (lat, lon) float64 ...\n",
       "    crs            int16 ...\n",
       "    reef_mask      (lat, lon) float32 ...\n",
       "Attributes:\n",
       "    pyproj_srs:  +units=m +proj=latlong +datum=WGS84 "
      ]
     },
     "execution_count": 63,
     "metadata": {},
     "output_type": "execute_result"
    }
   ],
   "source": [
    "dset_salem"
   ]
  },
  {
   "cell_type": "code",
   "execution_count": 64,
   "metadata": {},
   "outputs": [
    {
     "data": {
      "text/plain": [
       "array(['New_Caledonia', 'Pitcairn_Islands', 'Papua_New_Guinea',\n",
       "       'Solomon_Islands', 'Kiribati_Phoenix_Islands', 'Fiji', 'Tuvalu',\n",
       "       'Northern_Cook_Islands', 'Kiribati_Line_Islands',\n",
       "       'Federated_States_of_Micronesia', 'Samoa',\n",
       "       'Kiribati_Gilbert_Islands', 'Wallis_&_Futuna', 'Tokelau',\n",
       "       'Tuamotu__Gambier_Islands', 'Tonga', 'Niue',\n",
       "       'Southern_Cook_Islands', 'Austral_Islands', 'Society_Islands',\n",
       "       'Marquesas', 'Vanuatu_South', 'Vanuatu_North', 'Guam',\n",
       "       'Northern_Marianas', 'Marshall_Islands', 'Nauru', 'Palau',\n",
       "       'American_Samoa'], dtype=object)"
      ]
     },
     "execution_count": 64,
     "metadata": {},
     "output_type": "execute_result"
    }
   ],
   "source": [
    "shp.COUNTRYNAM.unique()"
   ]
  },
  {
   "cell_type": "code",
   "execution_count": 65,
   "metadata": {},
   "outputs": [],
   "source": [
    "for country_name in shp.COUNTRYNAM.unique(): \n",
    "#     sh_country = shp.query(\"COUNTRYNAM == '{}'\".format(country_name))\n",
    "#     sh_country.to_file('../shapefiles/shapes_{}'.format(country_name))\n",
    "#     sh_country = fiona.open('../shapefiles/shapes_{}'.format(country_name))\n",
    "#     convert_shape(country_name)\n",
    "    sh_country = salem.read_shapefile('../shapefiles/shapes_{}_converted.shp'.format(country_name))\n",
    "    ds_subset = dset_salem.salem.subset(shape=sh_country, margin=2)\n",
    "    ds_subset_roi = ds_subset.salem.roi(shape=sh_country)\n",
    "    masked_roi = ds_subset_roi['CRW_BAA_max7d'] * ds_subset_roi['reef_mask']\n",
    "    masked_roi = masked_roi.stack(z=('lat','lon'))\n",
    "    df = masked_roi.to_dataframe(name='masked_roi')\n",
    "    df_na = df.dropna()\n",
    "    summary  = df_na.describe(percentiles=[0.1, 0.25, 0.5, 0.6, 0.7, 0.8, 0.9])\n",
    "    summary = summary.T\n",
    "    counts = pd.value_counts(df_na.iloc[:,0])\n",
    "    counts = counts.reindex(range(5))\n",
    "    counts = counts.replace(np.nan, 0)\n",
    "    counts = counts.to_frame().T\n",
    "    summary = pd.concat([summary, counts], axis=1)\n",
    "    summary.index.name = \"country\"\n",
    "    summary.index = [country_name]\n",
    "    summary.to_csv('../outputs/{}_summary.csv'.format(country_name))"
   ]
  },
  {
   "cell_type": "code",
   "execution_count": 66,
   "metadata": {},
   "outputs": [],
   "source": [
    "lfiles = glob(\"../outputs/*_summary.csv\")"
   ]
  },
  {
   "cell_type": "code",
   "execution_count": 67,
   "metadata": {},
   "outputs": [
    {
     "data": {
      "text/plain": [
       "29"
      ]
     },
     "execution_count": 67,
     "metadata": {},
     "output_type": "execute_result"
    }
   ],
   "source": [
    "len(lfiles)"
   ]
  },
  {
   "cell_type": "code",
   "execution_count": 68,
   "metadata": {},
   "outputs": [
    {
     "data": {
      "text/plain": [
       "['../outputs/New_Caledonia_summary.csv',\n",
       " '../outputs/Tonga_summary.csv',\n",
       " '../outputs/Kiribati_Phoenix_Islands_summary.csv',\n",
       " '../outputs/Tuvalu_summary.csv',\n",
       " '../outputs/Tokelau_summary.csv',\n",
       " '../outputs/Society_Islands_summary.csv',\n",
       " '../outputs/Austral_Islands_summary.csv',\n",
       " '../outputs/Federated_States_of_Micronesia_summary.csv',\n",
       " '../outputs/Solomon_Islands_summary.csv',\n",
       " '../outputs/Pitcairn_Islands_summary.csv',\n",
       " '../outputs/Northern_Marianas_summary.csv',\n",
       " '../outputs/Vanuatu_South_summary.csv',\n",
       " '../outputs/American_Samoa_summary.csv',\n",
       " '../outputs/Marquesas_summary.csv',\n",
       " '../outputs/Vanuatu_North_summary.csv',\n",
       " '../outputs/Kiribati_Gilbert_Islands_summary.csv',\n",
       " '../outputs/Guam_summary.csv',\n",
       " '../outputs/Wallis_&_Futuna_summary.csv',\n",
       " '../outputs/Marshall_Islands_summary.csv',\n",
       " '../outputs/Palau_summary.csv',\n",
       " '../outputs/Samoa_summary.csv',\n",
       " '../outputs/Tuamotu__Gambier_Islands_summary.csv',\n",
       " '../outputs/Southern_Cook_Islands_summary.csv',\n",
       " '../outputs/Kiribati_Line_Islands_summary.csv',\n",
       " '../outputs/Fiji_summary.csv',\n",
       " '../outputs/Northern_Cook_Islands_summary.csv',\n",
       " '../outputs/Papua_New_Guinea_summary.csv',\n",
       " '../outputs/Niue_summary.csv',\n",
       " '../outputs/Nauru_summary.csv']"
      ]
     },
     "execution_count": 68,
     "metadata": {},
     "output_type": "execute_result"
    }
   ],
   "source": [
    "lfiles"
   ]
  },
  {
   "cell_type": "code",
   "execution_count": 69,
   "metadata": {},
   "outputs": [],
   "source": [
    "data = pd.read_csv(lfiles[0], index_col=0)"
   ]
  },
  {
   "cell_type": "code",
   "execution_count": 70,
   "metadata": {},
   "outputs": [
    {
     "data": {
      "text/html": [
       "<div>\n",
       "<style scoped>\n",
       "    .dataframe tbody tr th:only-of-type {\n",
       "        vertical-align: middle;\n",
       "    }\n",
       "\n",
       "    .dataframe tbody tr th {\n",
       "        vertical-align: top;\n",
       "    }\n",
       "\n",
       "    .dataframe thead th {\n",
       "        text-align: right;\n",
       "    }\n",
       "</style>\n",
       "<table border=\"1\" class=\"dataframe\">\n",
       "  <thead>\n",
       "    <tr style=\"text-align: right;\">\n",
       "      <th></th>\n",
       "      <th>count</th>\n",
       "      <th>mean</th>\n",
       "      <th>std</th>\n",
       "      <th>min</th>\n",
       "      <th>10%</th>\n",
       "      <th>25%</th>\n",
       "      <th>50%</th>\n",
       "      <th>60%</th>\n",
       "      <th>70%</th>\n",
       "      <th>80%</th>\n",
       "      <th>90%</th>\n",
       "      <th>max</th>\n",
       "      <th>0</th>\n",
       "      <th>1</th>\n",
       "      <th>2</th>\n",
       "      <th>3</th>\n",
       "      <th>4</th>\n",
       "    </tr>\n",
       "  </thead>\n",
       "  <tbody>\n",
       "    <tr>\n",
       "      <th>New_Caledonia</th>\n",
       "      <td>4647.0</td>\n",
       "      <td>0.641489</td>\n",
       "      <td>0.514265</td>\n",
       "      <td>0.0</td>\n",
       "      <td>0.0</td>\n",
       "      <td>0.0</td>\n",
       "      <td>1.0</td>\n",
       "      <td>1.0</td>\n",
       "      <td>1.0</td>\n",
       "      <td>1.0</td>\n",
       "      <td>1.0</td>\n",
       "      <td>2.0</td>\n",
       "      <td>1746.0</td>\n",
       "      <td>2821.0</td>\n",
       "      <td>80.0</td>\n",
       "      <td>0.0</td>\n",
       "      <td>0.0</td>\n",
       "    </tr>\n",
       "  </tbody>\n",
       "</table>\n",
       "</div>"
      ],
      "text/plain": [
       "                count      mean       std  min  10%  25%  50%  60%  70%  80%  \\\n",
       "New_Caledonia  4647.0  0.641489  0.514265  0.0  0.0  0.0  1.0  1.0  1.0  1.0   \n",
       "\n",
       "               90%  max       0       1     2    3    4  \n",
       "New_Caledonia  1.0  2.0  1746.0  2821.0  80.0  0.0  0.0  "
      ]
     },
     "execution_count": 70,
     "metadata": {},
     "output_type": "execute_result"
    }
   ],
   "source": [
    "data"
   ]
  },
  {
   "cell_type": "code",
   "execution_count": 71,
   "metadata": {},
   "outputs": [],
   "source": [
    "dl = [] \n",
    "for f in lfiles: \n",
    "    d = pd.read_csv(f, index_col=0)\n",
    "    dl.append(d)"
   ]
  },
  {
   "cell_type": "code",
   "execution_count": 123,
   "metadata": {},
   "outputs": [],
   "source": [
    "dlf = pd.concat(dl, axis=0)"
   ]
  },
  {
   "cell_type": "code",
   "execution_count": 124,
   "metadata": {},
   "outputs": [],
   "source": [
    "index = (list(dlf.index))"
   ]
  },
  {
   "cell_type": "code",
   "execution_count": 125,
   "metadata": {},
   "outputs": [],
   "source": [
    "index.sort()"
   ]
  },
  {
   "cell_type": "code",
   "execution_count": 126,
   "metadata": {},
   "outputs": [
    {
     "data": {
      "text/plain": [
       "['American_Samoa',\n",
       " 'Austral_Islands',\n",
       " 'Federated_States_of_Micronesia',\n",
       " 'Fiji',\n",
       " 'Guam',\n",
       " 'Kiribati_Gilbert_Islands',\n",
       " 'Kiribati_Line_Islands',\n",
       " 'Kiribati_Phoenix_Islands',\n",
       " 'Marquesas',\n",
       " 'Marshall_Islands',\n",
       " 'Nauru',\n",
       " 'New_Caledonia',\n",
       " 'Niue',\n",
       " 'Northern_Cook_Islands',\n",
       " 'Northern_Marianas',\n",
       " 'Palau',\n",
       " 'Papua_New_Guinea',\n",
       " 'Pitcairn_Islands',\n",
       " 'Samoa',\n",
       " 'Society_Islands',\n",
       " 'Solomon_Islands',\n",
       " 'Southern_Cook_Islands',\n",
       " 'Tokelau',\n",
       " 'Tonga',\n",
       " 'Tuamotu__Gambier_Islands',\n",
       " 'Tuvalu',\n",
       " 'Vanuatu_North',\n",
       " 'Vanuatu_South',\n",
       " 'Wallis_&_Futuna']"
      ]
     },
     "execution_count": 126,
     "metadata": {},
     "output_type": "execute_result"
    }
   ],
   "source": [
    "index"
   ]
  },
  {
   "cell_type": "code",
   "execution_count": 127,
   "metadata": {},
   "outputs": [],
   "source": [
    "dict_names = {'Palau':'Palau',\n",
    "'Federated_States_of_Micronesia':'FSM',\n",
    "'Guam':'Guam',\n",
    "'Northern_Marianas':'Northern Marianas',\n",
    "'Marshall_Islands':'Marshall Islands',\n",
    "'Nauru':'Nauru',\n",
    "'Kiribati_Gilbert_Islands':'Kiribati (Gilbert)',\n",
    "'Kiribati_Phoenix_Islands':'Kiribati (Phoenix)',\n",
    "'Kiribati_Line_Islands':'Kiribati (Line)',\n",
    "'Papua_New_Guinea':'Papua New Guinea',\n",
    "'Solomon_Islands':'Solomon Islands',\n",
    "'New_Caledonia':'New Caledonia',\n",
    "'Vanuatu_North':'Vanuatu North',\n",
    "'Vanuatu_South':'Vanuatu South',\n",
    "'Fiji':'Fiji',\n",
    "'Tuvalu':'Tuvalu',\n",
    "'Wallis_&_Futuna':'Wallis & Futuna',\n",
    "'Tokelau':'Tokelau',\n",
    "'Tonga':'Tonga',\n",
    "'Samoa':'Samoa',\n",
    "'American_Samoa':'American Samoa',\n",
    "'Niue':'Niue',\n",
    "'Northern_Cook_Islands':'Northern Cook Islands',\n",
    "'Southern_Cook_Islands':'Southern Cook Islands',\n",
    "'Society_Islands':'Society Islands',\n",
    "'Austral_Islands':'Austral Islands',\n",
    "'Tuamotu__Gambier_Islands':'Tuamotu/Gambier',\n",
    "'Marquesas':'Marquesas',\n",
    "'Pitcairn_Islands':'Pitcairn Islands'}"
   ]
  },
  {
   "cell_type": "code",
   "execution_count": 128,
   "metadata": {},
   "outputs": [
    {
     "data": {
      "text/html": [
       "<div>\n",
       "<style scoped>\n",
       "    .dataframe tbody tr th:only-of-type {\n",
       "        vertical-align: middle;\n",
       "    }\n",
       "\n",
       "    .dataframe tbody tr th {\n",
       "        vertical-align: top;\n",
       "    }\n",
       "\n",
       "    .dataframe thead th {\n",
       "        text-align: right;\n",
       "    }\n",
       "</style>\n",
       "<table border=\"1\" class=\"dataframe\">\n",
       "  <thead>\n",
       "    <tr style=\"text-align: right;\">\n",
       "      <th></th>\n",
       "      <th>count</th>\n",
       "      <th>mean</th>\n",
       "      <th>std</th>\n",
       "      <th>min</th>\n",
       "      <th>10%</th>\n",
       "      <th>25%</th>\n",
       "      <th>50%</th>\n",
       "      <th>60%</th>\n",
       "      <th>70%</th>\n",
       "      <th>80%</th>\n",
       "      <th>90%</th>\n",
       "      <th>max</th>\n",
       "      <th>0</th>\n",
       "      <th>1</th>\n",
       "      <th>2</th>\n",
       "      <th>3</th>\n",
       "      <th>4</th>\n",
       "    </tr>\n",
       "  </thead>\n",
       "  <tbody>\n",
       "    <tr>\n",
       "      <th>New_Caledonia</th>\n",
       "      <td>4647.0</td>\n",
       "      <td>0.641489</td>\n",
       "      <td>0.514265</td>\n",
       "      <td>0.0</td>\n",
       "      <td>0.0</td>\n",
       "      <td>0.0</td>\n",
       "      <td>1.0</td>\n",
       "      <td>1.0</td>\n",
       "      <td>1.0</td>\n",
       "      <td>1.0</td>\n",
       "      <td>1.0</td>\n",
       "      <td>2.0</td>\n",
       "      <td>1746.0</td>\n",
       "      <td>2821.0</td>\n",
       "      <td>80.0</td>\n",
       "      <td>0.0</td>\n",
       "      <td>0.0</td>\n",
       "    </tr>\n",
       "    <tr>\n",
       "      <th>Tonga</th>\n",
       "      <td>1616.0</td>\n",
       "      <td>0.470297</td>\n",
       "      <td>0.573174</td>\n",
       "      <td>0.0</td>\n",
       "      <td>0.0</td>\n",
       "      <td>0.0</td>\n",
       "      <td>0.0</td>\n",
       "      <td>1.0</td>\n",
       "      <td>1.0</td>\n",
       "      <td>1.0</td>\n",
       "      <td>1.0</td>\n",
       "      <td>2.0</td>\n",
       "      <td>920.0</td>\n",
       "      <td>632.0</td>\n",
       "      <td>64.0</td>\n",
       "      <td>0.0</td>\n",
       "      <td>0.0</td>\n",
       "    </tr>\n",
       "    <tr>\n",
       "      <th>Kiribati_Phoenix_Islands</th>\n",
       "      <td>612.0</td>\n",
       "      <td>0.633987</td>\n",
       "      <td>0.482107</td>\n",
       "      <td>0.0</td>\n",
       "      <td>0.0</td>\n",
       "      <td>0.0</td>\n",
       "      <td>1.0</td>\n",
       "      <td>1.0</td>\n",
       "      <td>1.0</td>\n",
       "      <td>1.0</td>\n",
       "      <td>1.0</td>\n",
       "      <td>1.0</td>\n",
       "      <td>224.0</td>\n",
       "      <td>388.0</td>\n",
       "      <td>0.0</td>\n",
       "      <td>0.0</td>\n",
       "      <td>0.0</td>\n",
       "    </tr>\n",
       "    <tr>\n",
       "      <th>Tuvalu</th>\n",
       "      <td>1339.0</td>\n",
       "      <td>1.312173</td>\n",
       "      <td>0.463553</td>\n",
       "      <td>1.0</td>\n",
       "      <td>1.0</td>\n",
       "      <td>1.0</td>\n",
       "      <td>1.0</td>\n",
       "      <td>1.0</td>\n",
       "      <td>2.0</td>\n",
       "      <td>2.0</td>\n",
       "      <td>2.0</td>\n",
       "      <td>2.0</td>\n",
       "      <td>0.0</td>\n",
       "      <td>921.0</td>\n",
       "      <td>418.0</td>\n",
       "      <td>0.0</td>\n",
       "      <td>0.0</td>\n",
       "    </tr>\n",
       "    <tr>\n",
       "      <th>Tokelau</th>\n",
       "      <td>236.0</td>\n",
       "      <td>1.000000</td>\n",
       "      <td>0.000000</td>\n",
       "      <td>1.0</td>\n",
       "      <td>1.0</td>\n",
       "      <td>1.0</td>\n",
       "      <td>1.0</td>\n",
       "      <td>1.0</td>\n",
       "      <td>1.0</td>\n",
       "      <td>1.0</td>\n",
       "      <td>1.0</td>\n",
       "      <td>1.0</td>\n",
       "      <td>0.0</td>\n",
       "      <td>236.0</td>\n",
       "      <td>0.0</td>\n",
       "      <td>0.0</td>\n",
       "      <td>0.0</td>\n",
       "    </tr>\n",
       "    <tr>\n",
       "      <th>Society_Islands</th>\n",
       "      <td>1337.0</td>\n",
       "      <td>1.012715</td>\n",
       "      <td>0.112084</td>\n",
       "      <td>1.0</td>\n",
       "      <td>1.0</td>\n",
       "      <td>1.0</td>\n",
       "      <td>1.0</td>\n",
       "      <td>1.0</td>\n",
       "      <td>1.0</td>\n",
       "      <td>1.0</td>\n",
       "      <td>1.0</td>\n",
       "      <td>2.0</td>\n",
       "      <td>0.0</td>\n",
       "      <td>1320.0</td>\n",
       "      <td>17.0</td>\n",
       "      <td>0.0</td>\n",
       "      <td>0.0</td>\n",
       "    </tr>\n",
       "    <tr>\n",
       "      <th>Austral_Islands</th>\n",
       "      <td>560.0</td>\n",
       "      <td>0.067857</td>\n",
       "      <td>0.251725</td>\n",
       "      <td>0.0</td>\n",
       "      <td>0.0</td>\n",
       "      <td>0.0</td>\n",
       "      <td>0.0</td>\n",
       "      <td>0.0</td>\n",
       "      <td>0.0</td>\n",
       "      <td>0.0</td>\n",
       "      <td>0.0</td>\n",
       "      <td>1.0</td>\n",
       "      <td>522.0</td>\n",
       "      <td>38.0</td>\n",
       "      <td>0.0</td>\n",
       "      <td>0.0</td>\n",
       "      <td>0.0</td>\n",
       "    </tr>\n",
       "    <tr>\n",
       "      <th>Federated_States_of_Micronesia</th>\n",
       "      <td>5229.0</td>\n",
       "      <td>1.107095</td>\n",
       "      <td>0.423584</td>\n",
       "      <td>1.0</td>\n",
       "      <td>1.0</td>\n",
       "      <td>1.0</td>\n",
       "      <td>1.0</td>\n",
       "      <td>1.0</td>\n",
       "      <td>1.0</td>\n",
       "      <td>1.0</td>\n",
       "      <td>1.0</td>\n",
       "      <td>3.0</td>\n",
       "      <td>0.0</td>\n",
       "      <td>4888.0</td>\n",
       "      <td>122.0</td>\n",
       "      <td>219.0</td>\n",
       "      <td>0.0</td>\n",
       "    </tr>\n",
       "    <tr>\n",
       "      <th>Solomon_Islands</th>\n",
       "      <td>6016.0</td>\n",
       "      <td>1.552859</td>\n",
       "      <td>0.497239</td>\n",
       "      <td>1.0</td>\n",
       "      <td>1.0</td>\n",
       "      <td>1.0</td>\n",
       "      <td>2.0</td>\n",
       "      <td>2.0</td>\n",
       "      <td>2.0</td>\n",
       "      <td>2.0</td>\n",
       "      <td>2.0</td>\n",
       "      <td>2.0</td>\n",
       "      <td>0.0</td>\n",
       "      <td>2690.0</td>\n",
       "      <td>3326.0</td>\n",
       "      <td>0.0</td>\n",
       "      <td>0.0</td>\n",
       "    </tr>\n",
       "    <tr>\n",
       "      <th>Pitcairn_Islands</th>\n",
       "      <td>242.0</td>\n",
       "      <td>0.000000</td>\n",
       "      <td>0.000000</td>\n",
       "      <td>0.0</td>\n",
       "      <td>0.0</td>\n",
       "      <td>0.0</td>\n",
       "      <td>0.0</td>\n",
       "      <td>0.0</td>\n",
       "      <td>0.0</td>\n",
       "      <td>0.0</td>\n",
       "      <td>0.0</td>\n",
       "      <td>0.0</td>\n",
       "      <td>242.0</td>\n",
       "      <td>0.0</td>\n",
       "      <td>0.0</td>\n",
       "      <td>0.0</td>\n",
       "      <td>0.0</td>\n",
       "    </tr>\n",
       "    <tr>\n",
       "      <th>Northern_Marianas</th>\n",
       "      <td>828.0</td>\n",
       "      <td>0.090580</td>\n",
       "      <td>0.287184</td>\n",
       "      <td>0.0</td>\n",
       "      <td>0.0</td>\n",
       "      <td>0.0</td>\n",
       "      <td>0.0</td>\n",
       "      <td>0.0</td>\n",
       "      <td>0.0</td>\n",
       "      <td>0.0</td>\n",
       "      <td>0.0</td>\n",
       "      <td>1.0</td>\n",
       "      <td>753.0</td>\n",
       "      <td>75.0</td>\n",
       "      <td>0.0</td>\n",
       "      <td>0.0</td>\n",
       "      <td>0.0</td>\n",
       "    </tr>\n",
       "    <tr>\n",
       "      <th>Vanuatu_South</th>\n",
       "      <td>730.0</td>\n",
       "      <td>1.000000</td>\n",
       "      <td>0.000000</td>\n",
       "      <td>1.0</td>\n",
       "      <td>1.0</td>\n",
       "      <td>1.0</td>\n",
       "      <td>1.0</td>\n",
       "      <td>1.0</td>\n",
       "      <td>1.0</td>\n",
       "      <td>1.0</td>\n",
       "      <td>1.0</td>\n",
       "      <td>1.0</td>\n",
       "      <td>0.0</td>\n",
       "      <td>730.0</td>\n",
       "      <td>0.0</td>\n",
       "      <td>0.0</td>\n",
       "      <td>0.0</td>\n",
       "    </tr>\n",
       "    <tr>\n",
       "      <th>American_Samoa</th>\n",
       "      <td>331.0</td>\n",
       "      <td>1.271903</td>\n",
       "      <td>0.445614</td>\n",
       "      <td>1.0</td>\n",
       "      <td>1.0</td>\n",
       "      <td>1.0</td>\n",
       "      <td>1.0</td>\n",
       "      <td>1.0</td>\n",
       "      <td>1.0</td>\n",
       "      <td>2.0</td>\n",
       "      <td>2.0</td>\n",
       "      <td>2.0</td>\n",
       "      <td>0.0</td>\n",
       "      <td>241.0</td>\n",
       "      <td>90.0</td>\n",
       "      <td>0.0</td>\n",
       "      <td>0.0</td>\n",
       "    </tr>\n",
       "    <tr>\n",
       "      <th>Marquesas</th>\n",
       "      <td>289.0</td>\n",
       "      <td>0.000000</td>\n",
       "      <td>0.000000</td>\n",
       "      <td>0.0</td>\n",
       "      <td>0.0</td>\n",
       "      <td>0.0</td>\n",
       "      <td>0.0</td>\n",
       "      <td>0.0</td>\n",
       "      <td>0.0</td>\n",
       "      <td>0.0</td>\n",
       "      <td>0.0</td>\n",
       "      <td>0.0</td>\n",
       "      <td>289.0</td>\n",
       "      <td>0.0</td>\n",
       "      <td>0.0</td>\n",
       "      <td>0.0</td>\n",
       "      <td>0.0</td>\n",
       "    </tr>\n",
       "    <tr>\n",
       "      <th>Vanuatu_North</th>\n",
       "      <td>1750.0</td>\n",
       "      <td>1.009143</td>\n",
       "      <td>0.095207</td>\n",
       "      <td>1.0</td>\n",
       "      <td>1.0</td>\n",
       "      <td>1.0</td>\n",
       "      <td>1.0</td>\n",
       "      <td>1.0</td>\n",
       "      <td>1.0</td>\n",
       "      <td>1.0</td>\n",
       "      <td>1.0</td>\n",
       "      <td>2.0</td>\n",
       "      <td>0.0</td>\n",
       "      <td>1734.0</td>\n",
       "      <td>16.0</td>\n",
       "      <td>0.0</td>\n",
       "      <td>0.0</td>\n",
       "    </tr>\n",
       "    <tr>\n",
       "      <th>Kiribati_Gilbert_Islands</th>\n",
       "      <td>1500.0</td>\n",
       "      <td>0.866667</td>\n",
       "      <td>0.340048</td>\n",
       "      <td>0.0</td>\n",
       "      <td>0.0</td>\n",
       "      <td>1.0</td>\n",
       "      <td>1.0</td>\n",
       "      <td>1.0</td>\n",
       "      <td>1.0</td>\n",
       "      <td>1.0</td>\n",
       "      <td>1.0</td>\n",
       "      <td>1.0</td>\n",
       "      <td>200.0</td>\n",
       "      <td>1300.0</td>\n",
       "      <td>0.0</td>\n",
       "      <td>0.0</td>\n",
       "      <td>0.0</td>\n",
       "    </tr>\n",
       "    <tr>\n",
       "      <th>Guam</th>\n",
       "      <td>278.0</td>\n",
       "      <td>1.000000</td>\n",
       "      <td>0.000000</td>\n",
       "      <td>1.0</td>\n",
       "      <td>1.0</td>\n",
       "      <td>1.0</td>\n",
       "      <td>1.0</td>\n",
       "      <td>1.0</td>\n",
       "      <td>1.0</td>\n",
       "      <td>1.0</td>\n",
       "      <td>1.0</td>\n",
       "      <td>1.0</td>\n",
       "      <td>0.0</td>\n",
       "      <td>278.0</td>\n",
       "      <td>0.0</td>\n",
       "      <td>0.0</td>\n",
       "      <td>0.0</td>\n",
       "    </tr>\n",
       "    <tr>\n",
       "      <th>Wallis_&amp;_Futuna</th>\n",
       "      <td>967.0</td>\n",
       "      <td>1.469493</td>\n",
       "      <td>0.499327</td>\n",
       "      <td>1.0</td>\n",
       "      <td>1.0</td>\n",
       "      <td>1.0</td>\n",
       "      <td>1.0</td>\n",
       "      <td>2.0</td>\n",
       "      <td>2.0</td>\n",
       "      <td>2.0</td>\n",
       "      <td>2.0</td>\n",
       "      <td>2.0</td>\n",
       "      <td>0.0</td>\n",
       "      <td>513.0</td>\n",
       "      <td>454.0</td>\n",
       "      <td>0.0</td>\n",
       "      <td>0.0</td>\n",
       "    </tr>\n",
       "    <tr>\n",
       "      <th>Marshall_Islands</th>\n",
       "      <td>3796.0</td>\n",
       "      <td>0.715753</td>\n",
       "      <td>0.451114</td>\n",
       "      <td>0.0</td>\n",
       "      <td>0.0</td>\n",
       "      <td>0.0</td>\n",
       "      <td>1.0</td>\n",
       "      <td>1.0</td>\n",
       "      <td>1.0</td>\n",
       "      <td>1.0</td>\n",
       "      <td>1.0</td>\n",
       "      <td>1.0</td>\n",
       "      <td>1079.0</td>\n",
       "      <td>2717.0</td>\n",
       "      <td>0.0</td>\n",
       "      <td>0.0</td>\n",
       "      <td>0.0</td>\n",
       "    </tr>\n",
       "    <tr>\n",
       "      <th>Palau</th>\n",
       "      <td>803.0</td>\n",
       "      <td>1.004981</td>\n",
       "      <td>0.070446</td>\n",
       "      <td>1.0</td>\n",
       "      <td>1.0</td>\n",
       "      <td>1.0</td>\n",
       "      <td>1.0</td>\n",
       "      <td>1.0</td>\n",
       "      <td>1.0</td>\n",
       "      <td>1.0</td>\n",
       "      <td>1.0</td>\n",
       "      <td>2.0</td>\n",
       "      <td>0.0</td>\n",
       "      <td>799.0</td>\n",
       "      <td>4.0</td>\n",
       "      <td>0.0</td>\n",
       "      <td>0.0</td>\n",
       "    </tr>\n",
       "    <tr>\n",
       "      <th>Samoa</th>\n",
       "      <td>395.0</td>\n",
       "      <td>1.096203</td>\n",
       "      <td>0.295243</td>\n",
       "      <td>1.0</td>\n",
       "      <td>1.0</td>\n",
       "      <td>1.0</td>\n",
       "      <td>1.0</td>\n",
       "      <td>1.0</td>\n",
       "      <td>1.0</td>\n",
       "      <td>1.0</td>\n",
       "      <td>1.0</td>\n",
       "      <td>2.0</td>\n",
       "      <td>0.0</td>\n",
       "      <td>357.0</td>\n",
       "      <td>38.0</td>\n",
       "      <td>0.0</td>\n",
       "      <td>0.0</td>\n",
       "    </tr>\n",
       "    <tr>\n",
       "      <th>Tuamotu__Gambier_Islands</th>\n",
       "      <td>6949.0</td>\n",
       "      <td>0.870629</td>\n",
       "      <td>0.335634</td>\n",
       "      <td>0.0</td>\n",
       "      <td>0.0</td>\n",
       "      <td>1.0</td>\n",
       "      <td>1.0</td>\n",
       "      <td>1.0</td>\n",
       "      <td>1.0</td>\n",
       "      <td>1.0</td>\n",
       "      <td>1.0</td>\n",
       "      <td>1.0</td>\n",
       "      <td>899.0</td>\n",
       "      <td>6050.0</td>\n",
       "      <td>0.0</td>\n",
       "      <td>0.0</td>\n",
       "      <td>0.0</td>\n",
       "    </tr>\n",
       "    <tr>\n",
       "      <th>Southern_Cook_Islands</th>\n",
       "      <td>678.0</td>\n",
       "      <td>0.349558</td>\n",
       "      <td>0.477182</td>\n",
       "      <td>0.0</td>\n",
       "      <td>0.0</td>\n",
       "      <td>0.0</td>\n",
       "      <td>0.0</td>\n",
       "      <td>0.0</td>\n",
       "      <td>1.0</td>\n",
       "      <td>1.0</td>\n",
       "      <td>1.0</td>\n",
       "      <td>1.0</td>\n",
       "      <td>441.0</td>\n",
       "      <td>237.0</td>\n",
       "      <td>0.0</td>\n",
       "      <td>0.0</td>\n",
       "      <td>0.0</td>\n",
       "    </tr>\n",
       "    <tr>\n",
       "      <th>Kiribati_Line_Islands</th>\n",
       "      <td>726.0</td>\n",
       "      <td>0.012397</td>\n",
       "      <td>0.110724</td>\n",
       "      <td>0.0</td>\n",
       "      <td>0.0</td>\n",
       "      <td>0.0</td>\n",
       "      <td>0.0</td>\n",
       "      <td>0.0</td>\n",
       "      <td>0.0</td>\n",
       "      <td>0.0</td>\n",
       "      <td>0.0</td>\n",
       "      <td>1.0</td>\n",
       "      <td>717.0</td>\n",
       "      <td>9.0</td>\n",
       "      <td>0.0</td>\n",
       "      <td>0.0</td>\n",
       "      <td>0.0</td>\n",
       "    </tr>\n",
       "    <tr>\n",
       "      <th>Fiji</th>\n",
       "      <td>5578.0</td>\n",
       "      <td>0.987630</td>\n",
       "      <td>0.412757</td>\n",
       "      <td>0.0</td>\n",
       "      <td>1.0</td>\n",
       "      <td>1.0</td>\n",
       "      <td>1.0</td>\n",
       "      <td>1.0</td>\n",
       "      <td>1.0</td>\n",
       "      <td>1.0</td>\n",
       "      <td>1.0</td>\n",
       "      <td>2.0</td>\n",
       "      <td>510.0</td>\n",
       "      <td>4627.0</td>\n",
       "      <td>441.0</td>\n",
       "      <td>0.0</td>\n",
       "      <td>0.0</td>\n",
       "    </tr>\n",
       "    <tr>\n",
       "      <th>Northern_Cook_Islands</th>\n",
       "      <td>476.0</td>\n",
       "      <td>0.760504</td>\n",
       "      <td>0.455833</td>\n",
       "      <td>0.0</td>\n",
       "      <td>0.0</td>\n",
       "      <td>0.0</td>\n",
       "      <td>1.0</td>\n",
       "      <td>1.0</td>\n",
       "      <td>1.0</td>\n",
       "      <td>1.0</td>\n",
       "      <td>1.0</td>\n",
       "      <td>2.0</td>\n",
       "      <td>120.0</td>\n",
       "      <td>350.0</td>\n",
       "      <td>6.0</td>\n",
       "      <td>0.0</td>\n",
       "      <td>0.0</td>\n",
       "    </tr>\n",
       "    <tr>\n",
       "      <th>Papua_New_Guinea</th>\n",
       "      <td>12824.0</td>\n",
       "      <td>1.601061</td>\n",
       "      <td>0.626623</td>\n",
       "      <td>1.0</td>\n",
       "      <td>1.0</td>\n",
       "      <td>1.0</td>\n",
       "      <td>2.0</td>\n",
       "      <td>2.0</td>\n",
       "      <td>2.0</td>\n",
       "      <td>2.0</td>\n",
       "      <td>2.0</td>\n",
       "      <td>3.0</td>\n",
       "      <td>0.0</td>\n",
       "      <td>6096.0</td>\n",
       "      <td>5748.0</td>\n",
       "      <td>980.0</td>\n",
       "      <td>0.0</td>\n",
       "    </tr>\n",
       "    <tr>\n",
       "      <th>Niue</th>\n",
       "      <td>142.0</td>\n",
       "      <td>0.288732</td>\n",
       "      <td>0.454777</td>\n",
       "      <td>0.0</td>\n",
       "      <td>0.0</td>\n",
       "      <td>0.0</td>\n",
       "      <td>0.0</td>\n",
       "      <td>0.0</td>\n",
       "      <td>0.0</td>\n",
       "      <td>1.0</td>\n",
       "      <td>1.0</td>\n",
       "      <td>1.0</td>\n",
       "      <td>101.0</td>\n",
       "      <td>41.0</td>\n",
       "      <td>0.0</td>\n",
       "      <td>0.0</td>\n",
       "      <td>0.0</td>\n",
       "    </tr>\n",
       "    <tr>\n",
       "      <th>Nauru</th>\n",
       "      <td>66.0</td>\n",
       "      <td>1.000000</td>\n",
       "      <td>0.000000</td>\n",
       "      <td>1.0</td>\n",
       "      <td>1.0</td>\n",
       "      <td>1.0</td>\n",
       "      <td>1.0</td>\n",
       "      <td>1.0</td>\n",
       "      <td>1.0</td>\n",
       "      <td>1.0</td>\n",
       "      <td>1.0</td>\n",
       "      <td>1.0</td>\n",
       "      <td>0.0</td>\n",
       "      <td>66.0</td>\n",
       "      <td>0.0</td>\n",
       "      <td>0.0</td>\n",
       "      <td>0.0</td>\n",
       "    </tr>\n",
       "  </tbody>\n",
       "</table>\n",
       "</div>"
      ],
      "text/plain": [
       "                                  count      mean       std  min  10%  25%  \\\n",
       "New_Caledonia                    4647.0  0.641489  0.514265  0.0  0.0  0.0   \n",
       "Tonga                            1616.0  0.470297  0.573174  0.0  0.0  0.0   \n",
       "Kiribati_Phoenix_Islands          612.0  0.633987  0.482107  0.0  0.0  0.0   \n",
       "Tuvalu                           1339.0  1.312173  0.463553  1.0  1.0  1.0   \n",
       "Tokelau                           236.0  1.000000  0.000000  1.0  1.0  1.0   \n",
       "Society_Islands                  1337.0  1.012715  0.112084  1.0  1.0  1.0   \n",
       "Austral_Islands                   560.0  0.067857  0.251725  0.0  0.0  0.0   \n",
       "Federated_States_of_Micronesia   5229.0  1.107095  0.423584  1.0  1.0  1.0   \n",
       "Solomon_Islands                  6016.0  1.552859  0.497239  1.0  1.0  1.0   \n",
       "Pitcairn_Islands                  242.0  0.000000  0.000000  0.0  0.0  0.0   \n",
       "Northern_Marianas                 828.0  0.090580  0.287184  0.0  0.0  0.0   \n",
       "Vanuatu_South                     730.0  1.000000  0.000000  1.0  1.0  1.0   \n",
       "American_Samoa                    331.0  1.271903  0.445614  1.0  1.0  1.0   \n",
       "Marquesas                         289.0  0.000000  0.000000  0.0  0.0  0.0   \n",
       "Vanuatu_North                    1750.0  1.009143  0.095207  1.0  1.0  1.0   \n",
       "Kiribati_Gilbert_Islands         1500.0  0.866667  0.340048  0.0  0.0  1.0   \n",
       "Guam                              278.0  1.000000  0.000000  1.0  1.0  1.0   \n",
       "Wallis_&_Futuna                   967.0  1.469493  0.499327  1.0  1.0  1.0   \n",
       "Marshall_Islands                 3796.0  0.715753  0.451114  0.0  0.0  0.0   \n",
       "Palau                             803.0  1.004981  0.070446  1.0  1.0  1.0   \n",
       "Samoa                             395.0  1.096203  0.295243  1.0  1.0  1.0   \n",
       "Tuamotu__Gambier_Islands         6949.0  0.870629  0.335634  0.0  0.0  1.0   \n",
       "Southern_Cook_Islands             678.0  0.349558  0.477182  0.0  0.0  0.0   \n",
       "Kiribati_Line_Islands             726.0  0.012397  0.110724  0.0  0.0  0.0   \n",
       "Fiji                             5578.0  0.987630  0.412757  0.0  1.0  1.0   \n",
       "Northern_Cook_Islands             476.0  0.760504  0.455833  0.0  0.0  0.0   \n",
       "Papua_New_Guinea                12824.0  1.601061  0.626623  1.0  1.0  1.0   \n",
       "Niue                              142.0  0.288732  0.454777  0.0  0.0  0.0   \n",
       "Nauru                              66.0  1.000000  0.000000  1.0  1.0  1.0   \n",
       "\n",
       "                                50%  60%  70%  80%  90%  max       0       1  \\\n",
       "New_Caledonia                   1.0  1.0  1.0  1.0  1.0  2.0  1746.0  2821.0   \n",
       "Tonga                           0.0  1.0  1.0  1.0  1.0  2.0   920.0   632.0   \n",
       "Kiribati_Phoenix_Islands        1.0  1.0  1.0  1.0  1.0  1.0   224.0   388.0   \n",
       "Tuvalu                          1.0  1.0  2.0  2.0  2.0  2.0     0.0   921.0   \n",
       "Tokelau                         1.0  1.0  1.0  1.0  1.0  1.0     0.0   236.0   \n",
       "Society_Islands                 1.0  1.0  1.0  1.0  1.0  2.0     0.0  1320.0   \n",
       "Austral_Islands                 0.0  0.0  0.0  0.0  0.0  1.0   522.0    38.0   \n",
       "Federated_States_of_Micronesia  1.0  1.0  1.0  1.0  1.0  3.0     0.0  4888.0   \n",
       "Solomon_Islands                 2.0  2.0  2.0  2.0  2.0  2.0     0.0  2690.0   \n",
       "Pitcairn_Islands                0.0  0.0  0.0  0.0  0.0  0.0   242.0     0.0   \n",
       "Northern_Marianas               0.0  0.0  0.0  0.0  0.0  1.0   753.0    75.0   \n",
       "Vanuatu_South                   1.0  1.0  1.0  1.0  1.0  1.0     0.0   730.0   \n",
       "American_Samoa                  1.0  1.0  1.0  2.0  2.0  2.0     0.0   241.0   \n",
       "Marquesas                       0.0  0.0  0.0  0.0  0.0  0.0   289.0     0.0   \n",
       "Vanuatu_North                   1.0  1.0  1.0  1.0  1.0  2.0     0.0  1734.0   \n",
       "Kiribati_Gilbert_Islands        1.0  1.0  1.0  1.0  1.0  1.0   200.0  1300.0   \n",
       "Guam                            1.0  1.0  1.0  1.0  1.0  1.0     0.0   278.0   \n",
       "Wallis_&_Futuna                 1.0  2.0  2.0  2.0  2.0  2.0     0.0   513.0   \n",
       "Marshall_Islands                1.0  1.0  1.0  1.0  1.0  1.0  1079.0  2717.0   \n",
       "Palau                           1.0  1.0  1.0  1.0  1.0  2.0     0.0   799.0   \n",
       "Samoa                           1.0  1.0  1.0  1.0  1.0  2.0     0.0   357.0   \n",
       "Tuamotu__Gambier_Islands        1.0  1.0  1.0  1.0  1.0  1.0   899.0  6050.0   \n",
       "Southern_Cook_Islands           0.0  0.0  1.0  1.0  1.0  1.0   441.0   237.0   \n",
       "Kiribati_Line_Islands           0.0  0.0  0.0  0.0  0.0  1.0   717.0     9.0   \n",
       "Fiji                            1.0  1.0  1.0  1.0  1.0  2.0   510.0  4627.0   \n",
       "Northern_Cook_Islands           1.0  1.0  1.0  1.0  1.0  2.0   120.0   350.0   \n",
       "Papua_New_Guinea                2.0  2.0  2.0  2.0  2.0  3.0     0.0  6096.0   \n",
       "Niue                            0.0  0.0  0.0  1.0  1.0  1.0   101.0    41.0   \n",
       "Nauru                           1.0  1.0  1.0  1.0  1.0  1.0     0.0    66.0   \n",
       "\n",
       "                                     2      3    4  \n",
       "New_Caledonia                     80.0    0.0  0.0  \n",
       "Tonga                             64.0    0.0  0.0  \n",
       "Kiribati_Phoenix_Islands           0.0    0.0  0.0  \n",
       "Tuvalu                           418.0    0.0  0.0  \n",
       "Tokelau                            0.0    0.0  0.0  \n",
       "Society_Islands                   17.0    0.0  0.0  \n",
       "Austral_Islands                    0.0    0.0  0.0  \n",
       "Federated_States_of_Micronesia   122.0  219.0  0.0  \n",
       "Solomon_Islands                 3326.0    0.0  0.0  \n",
       "Pitcairn_Islands                   0.0    0.0  0.0  \n",
       "Northern_Marianas                  0.0    0.0  0.0  \n",
       "Vanuatu_South                      0.0    0.0  0.0  \n",
       "American_Samoa                    90.0    0.0  0.0  \n",
       "Marquesas                          0.0    0.0  0.0  \n",
       "Vanuatu_North                     16.0    0.0  0.0  \n",
       "Kiribati_Gilbert_Islands           0.0    0.0  0.0  \n",
       "Guam                               0.0    0.0  0.0  \n",
       "Wallis_&_Futuna                  454.0    0.0  0.0  \n",
       "Marshall_Islands                   0.0    0.0  0.0  \n",
       "Palau                              4.0    0.0  0.0  \n",
       "Samoa                             38.0    0.0  0.0  \n",
       "Tuamotu__Gambier_Islands           0.0    0.0  0.0  \n",
       "Southern_Cook_Islands              0.0    0.0  0.0  \n",
       "Kiribati_Line_Islands              0.0    0.0  0.0  \n",
       "Fiji                             441.0    0.0  0.0  \n",
       "Northern_Cook_Islands              6.0    0.0  0.0  \n",
       "Papua_New_Guinea                5748.0  980.0  0.0  \n",
       "Niue                               0.0    0.0  0.0  \n",
       "Nauru                              0.0    0.0  0.0  "
      ]
     },
     "execution_count": 128,
     "metadata": {},
     "output_type": "execute_result"
    }
   ],
   "source": [
    "dlf"
   ]
  },
  {
   "cell_type": "code",
   "execution_count": 129,
   "metadata": {},
   "outputs": [],
   "source": [
    "dlf.index = [dict_names[x] for x in dlf.index]"
   ]
  },
  {
   "cell_type": "code",
   "execution_count": 130,
   "metadata": {},
   "outputs": [
    {
     "data": {
      "text/html": [
       "<div>\n",
       "<style scoped>\n",
       "    .dataframe tbody tr th:only-of-type {\n",
       "        vertical-align: middle;\n",
       "    }\n",
       "\n",
       "    .dataframe tbody tr th {\n",
       "        vertical-align: top;\n",
       "    }\n",
       "\n",
       "    .dataframe thead th {\n",
       "        text-align: right;\n",
       "    }\n",
       "</style>\n",
       "<table border=\"1\" class=\"dataframe\">\n",
       "  <thead>\n",
       "    <tr style=\"text-align: right;\">\n",
       "      <th></th>\n",
       "      <th>count</th>\n",
       "      <th>mean</th>\n",
       "      <th>std</th>\n",
       "      <th>min</th>\n",
       "      <th>10%</th>\n",
       "      <th>25%</th>\n",
       "      <th>50%</th>\n",
       "      <th>60%</th>\n",
       "      <th>70%</th>\n",
       "      <th>80%</th>\n",
       "      <th>90%</th>\n",
       "      <th>max</th>\n",
       "      <th>0</th>\n",
       "      <th>1</th>\n",
       "      <th>2</th>\n",
       "      <th>3</th>\n",
       "      <th>4</th>\n",
       "    </tr>\n",
       "  </thead>\n",
       "  <tbody>\n",
       "    <tr>\n",
       "      <th>New Caledonia</th>\n",
       "      <td>4647.0</td>\n",
       "      <td>0.641489</td>\n",
       "      <td>0.514265</td>\n",
       "      <td>0.0</td>\n",
       "      <td>0.0</td>\n",
       "      <td>0.0</td>\n",
       "      <td>1.0</td>\n",
       "      <td>1.0</td>\n",
       "      <td>1.0</td>\n",
       "      <td>1.0</td>\n",
       "      <td>1.0</td>\n",
       "      <td>2.0</td>\n",
       "      <td>1746.0</td>\n",
       "      <td>2821.0</td>\n",
       "      <td>80.0</td>\n",
       "      <td>0.0</td>\n",
       "      <td>0.0</td>\n",
       "    </tr>\n",
       "    <tr>\n",
       "      <th>Tonga</th>\n",
       "      <td>1616.0</td>\n",
       "      <td>0.470297</td>\n",
       "      <td>0.573174</td>\n",
       "      <td>0.0</td>\n",
       "      <td>0.0</td>\n",
       "      <td>0.0</td>\n",
       "      <td>0.0</td>\n",
       "      <td>1.0</td>\n",
       "      <td>1.0</td>\n",
       "      <td>1.0</td>\n",
       "      <td>1.0</td>\n",
       "      <td>2.0</td>\n",
       "      <td>920.0</td>\n",
       "      <td>632.0</td>\n",
       "      <td>64.0</td>\n",
       "      <td>0.0</td>\n",
       "      <td>0.0</td>\n",
       "    </tr>\n",
       "    <tr>\n",
       "      <th>Kiribati (Phoenix)</th>\n",
       "      <td>612.0</td>\n",
       "      <td>0.633987</td>\n",
       "      <td>0.482107</td>\n",
       "      <td>0.0</td>\n",
       "      <td>0.0</td>\n",
       "      <td>0.0</td>\n",
       "      <td>1.0</td>\n",
       "      <td>1.0</td>\n",
       "      <td>1.0</td>\n",
       "      <td>1.0</td>\n",
       "      <td>1.0</td>\n",
       "      <td>1.0</td>\n",
       "      <td>224.0</td>\n",
       "      <td>388.0</td>\n",
       "      <td>0.0</td>\n",
       "      <td>0.0</td>\n",
       "      <td>0.0</td>\n",
       "    </tr>\n",
       "    <tr>\n",
       "      <th>Tuvalu</th>\n",
       "      <td>1339.0</td>\n",
       "      <td>1.312173</td>\n",
       "      <td>0.463553</td>\n",
       "      <td>1.0</td>\n",
       "      <td>1.0</td>\n",
       "      <td>1.0</td>\n",
       "      <td>1.0</td>\n",
       "      <td>1.0</td>\n",
       "      <td>2.0</td>\n",
       "      <td>2.0</td>\n",
       "      <td>2.0</td>\n",
       "      <td>2.0</td>\n",
       "      <td>0.0</td>\n",
       "      <td>921.0</td>\n",
       "      <td>418.0</td>\n",
       "      <td>0.0</td>\n",
       "      <td>0.0</td>\n",
       "    </tr>\n",
       "    <tr>\n",
       "      <th>Tokelau</th>\n",
       "      <td>236.0</td>\n",
       "      <td>1.000000</td>\n",
       "      <td>0.000000</td>\n",
       "      <td>1.0</td>\n",
       "      <td>1.0</td>\n",
       "      <td>1.0</td>\n",
       "      <td>1.0</td>\n",
       "      <td>1.0</td>\n",
       "      <td>1.0</td>\n",
       "      <td>1.0</td>\n",
       "      <td>1.0</td>\n",
       "      <td>1.0</td>\n",
       "      <td>0.0</td>\n",
       "      <td>236.0</td>\n",
       "      <td>0.0</td>\n",
       "      <td>0.0</td>\n",
       "      <td>0.0</td>\n",
       "    </tr>\n",
       "    <tr>\n",
       "      <th>Society Islands</th>\n",
       "      <td>1337.0</td>\n",
       "      <td>1.012715</td>\n",
       "      <td>0.112084</td>\n",
       "      <td>1.0</td>\n",
       "      <td>1.0</td>\n",
       "      <td>1.0</td>\n",
       "      <td>1.0</td>\n",
       "      <td>1.0</td>\n",
       "      <td>1.0</td>\n",
       "      <td>1.0</td>\n",
       "      <td>1.0</td>\n",
       "      <td>2.0</td>\n",
       "      <td>0.0</td>\n",
       "      <td>1320.0</td>\n",
       "      <td>17.0</td>\n",
       "      <td>0.0</td>\n",
       "      <td>0.0</td>\n",
       "    </tr>\n",
       "    <tr>\n",
       "      <th>Austral Islands</th>\n",
       "      <td>560.0</td>\n",
       "      <td>0.067857</td>\n",
       "      <td>0.251725</td>\n",
       "      <td>0.0</td>\n",
       "      <td>0.0</td>\n",
       "      <td>0.0</td>\n",
       "      <td>0.0</td>\n",
       "      <td>0.0</td>\n",
       "      <td>0.0</td>\n",
       "      <td>0.0</td>\n",
       "      <td>0.0</td>\n",
       "      <td>1.0</td>\n",
       "      <td>522.0</td>\n",
       "      <td>38.0</td>\n",
       "      <td>0.0</td>\n",
       "      <td>0.0</td>\n",
       "      <td>0.0</td>\n",
       "    </tr>\n",
       "    <tr>\n",
       "      <th>FSM</th>\n",
       "      <td>5229.0</td>\n",
       "      <td>1.107095</td>\n",
       "      <td>0.423584</td>\n",
       "      <td>1.0</td>\n",
       "      <td>1.0</td>\n",
       "      <td>1.0</td>\n",
       "      <td>1.0</td>\n",
       "      <td>1.0</td>\n",
       "      <td>1.0</td>\n",
       "      <td>1.0</td>\n",
       "      <td>1.0</td>\n",
       "      <td>3.0</td>\n",
       "      <td>0.0</td>\n",
       "      <td>4888.0</td>\n",
       "      <td>122.0</td>\n",
       "      <td>219.0</td>\n",
       "      <td>0.0</td>\n",
       "    </tr>\n",
       "    <tr>\n",
       "      <th>Solomon Islands</th>\n",
       "      <td>6016.0</td>\n",
       "      <td>1.552859</td>\n",
       "      <td>0.497239</td>\n",
       "      <td>1.0</td>\n",
       "      <td>1.0</td>\n",
       "      <td>1.0</td>\n",
       "      <td>2.0</td>\n",
       "      <td>2.0</td>\n",
       "      <td>2.0</td>\n",
       "      <td>2.0</td>\n",
       "      <td>2.0</td>\n",
       "      <td>2.0</td>\n",
       "      <td>0.0</td>\n",
       "      <td>2690.0</td>\n",
       "      <td>3326.0</td>\n",
       "      <td>0.0</td>\n",
       "      <td>0.0</td>\n",
       "    </tr>\n",
       "    <tr>\n",
       "      <th>Pitcairn Islands</th>\n",
       "      <td>242.0</td>\n",
       "      <td>0.000000</td>\n",
       "      <td>0.000000</td>\n",
       "      <td>0.0</td>\n",
       "      <td>0.0</td>\n",
       "      <td>0.0</td>\n",
       "      <td>0.0</td>\n",
       "      <td>0.0</td>\n",
       "      <td>0.0</td>\n",
       "      <td>0.0</td>\n",
       "      <td>0.0</td>\n",
       "      <td>0.0</td>\n",
       "      <td>242.0</td>\n",
       "      <td>0.0</td>\n",
       "      <td>0.0</td>\n",
       "      <td>0.0</td>\n",
       "      <td>0.0</td>\n",
       "    </tr>\n",
       "    <tr>\n",
       "      <th>Northern Marianas</th>\n",
       "      <td>828.0</td>\n",
       "      <td>0.090580</td>\n",
       "      <td>0.287184</td>\n",
       "      <td>0.0</td>\n",
       "      <td>0.0</td>\n",
       "      <td>0.0</td>\n",
       "      <td>0.0</td>\n",
       "      <td>0.0</td>\n",
       "      <td>0.0</td>\n",
       "      <td>0.0</td>\n",
       "      <td>0.0</td>\n",
       "      <td>1.0</td>\n",
       "      <td>753.0</td>\n",
       "      <td>75.0</td>\n",
       "      <td>0.0</td>\n",
       "      <td>0.0</td>\n",
       "      <td>0.0</td>\n",
       "    </tr>\n",
       "    <tr>\n",
       "      <th>Vanuatu South</th>\n",
       "      <td>730.0</td>\n",
       "      <td>1.000000</td>\n",
       "      <td>0.000000</td>\n",
       "      <td>1.0</td>\n",
       "      <td>1.0</td>\n",
       "      <td>1.0</td>\n",
       "      <td>1.0</td>\n",
       "      <td>1.0</td>\n",
       "      <td>1.0</td>\n",
       "      <td>1.0</td>\n",
       "      <td>1.0</td>\n",
       "      <td>1.0</td>\n",
       "      <td>0.0</td>\n",
       "      <td>730.0</td>\n",
       "      <td>0.0</td>\n",
       "      <td>0.0</td>\n",
       "      <td>0.0</td>\n",
       "    </tr>\n",
       "    <tr>\n",
       "      <th>American Samoa</th>\n",
       "      <td>331.0</td>\n",
       "      <td>1.271903</td>\n",
       "      <td>0.445614</td>\n",
       "      <td>1.0</td>\n",
       "      <td>1.0</td>\n",
       "      <td>1.0</td>\n",
       "      <td>1.0</td>\n",
       "      <td>1.0</td>\n",
       "      <td>1.0</td>\n",
       "      <td>2.0</td>\n",
       "      <td>2.0</td>\n",
       "      <td>2.0</td>\n",
       "      <td>0.0</td>\n",
       "      <td>241.0</td>\n",
       "      <td>90.0</td>\n",
       "      <td>0.0</td>\n",
       "      <td>0.0</td>\n",
       "    </tr>\n",
       "    <tr>\n",
       "      <th>Marquesas</th>\n",
       "      <td>289.0</td>\n",
       "      <td>0.000000</td>\n",
       "      <td>0.000000</td>\n",
       "      <td>0.0</td>\n",
       "      <td>0.0</td>\n",
       "      <td>0.0</td>\n",
       "      <td>0.0</td>\n",
       "      <td>0.0</td>\n",
       "      <td>0.0</td>\n",
       "      <td>0.0</td>\n",
       "      <td>0.0</td>\n",
       "      <td>0.0</td>\n",
       "      <td>289.0</td>\n",
       "      <td>0.0</td>\n",
       "      <td>0.0</td>\n",
       "      <td>0.0</td>\n",
       "      <td>0.0</td>\n",
       "    </tr>\n",
       "    <tr>\n",
       "      <th>Vanuatu North</th>\n",
       "      <td>1750.0</td>\n",
       "      <td>1.009143</td>\n",
       "      <td>0.095207</td>\n",
       "      <td>1.0</td>\n",
       "      <td>1.0</td>\n",
       "      <td>1.0</td>\n",
       "      <td>1.0</td>\n",
       "      <td>1.0</td>\n",
       "      <td>1.0</td>\n",
       "      <td>1.0</td>\n",
       "      <td>1.0</td>\n",
       "      <td>2.0</td>\n",
       "      <td>0.0</td>\n",
       "      <td>1734.0</td>\n",
       "      <td>16.0</td>\n",
       "      <td>0.0</td>\n",
       "      <td>0.0</td>\n",
       "    </tr>\n",
       "    <tr>\n",
       "      <th>Kiribati (Gilbert)</th>\n",
       "      <td>1500.0</td>\n",
       "      <td>0.866667</td>\n",
       "      <td>0.340048</td>\n",
       "      <td>0.0</td>\n",
       "      <td>0.0</td>\n",
       "      <td>1.0</td>\n",
       "      <td>1.0</td>\n",
       "      <td>1.0</td>\n",
       "      <td>1.0</td>\n",
       "      <td>1.0</td>\n",
       "      <td>1.0</td>\n",
       "      <td>1.0</td>\n",
       "      <td>200.0</td>\n",
       "      <td>1300.0</td>\n",
       "      <td>0.0</td>\n",
       "      <td>0.0</td>\n",
       "      <td>0.0</td>\n",
       "    </tr>\n",
       "    <tr>\n",
       "      <th>Guam</th>\n",
       "      <td>278.0</td>\n",
       "      <td>1.000000</td>\n",
       "      <td>0.000000</td>\n",
       "      <td>1.0</td>\n",
       "      <td>1.0</td>\n",
       "      <td>1.0</td>\n",
       "      <td>1.0</td>\n",
       "      <td>1.0</td>\n",
       "      <td>1.0</td>\n",
       "      <td>1.0</td>\n",
       "      <td>1.0</td>\n",
       "      <td>1.0</td>\n",
       "      <td>0.0</td>\n",
       "      <td>278.0</td>\n",
       "      <td>0.0</td>\n",
       "      <td>0.0</td>\n",
       "      <td>0.0</td>\n",
       "    </tr>\n",
       "    <tr>\n",
       "      <th>Wallis &amp; Futuna</th>\n",
       "      <td>967.0</td>\n",
       "      <td>1.469493</td>\n",
       "      <td>0.499327</td>\n",
       "      <td>1.0</td>\n",
       "      <td>1.0</td>\n",
       "      <td>1.0</td>\n",
       "      <td>1.0</td>\n",
       "      <td>2.0</td>\n",
       "      <td>2.0</td>\n",
       "      <td>2.0</td>\n",
       "      <td>2.0</td>\n",
       "      <td>2.0</td>\n",
       "      <td>0.0</td>\n",
       "      <td>513.0</td>\n",
       "      <td>454.0</td>\n",
       "      <td>0.0</td>\n",
       "      <td>0.0</td>\n",
       "    </tr>\n",
       "    <tr>\n",
       "      <th>Marshall Islands</th>\n",
       "      <td>3796.0</td>\n",
       "      <td>0.715753</td>\n",
       "      <td>0.451114</td>\n",
       "      <td>0.0</td>\n",
       "      <td>0.0</td>\n",
       "      <td>0.0</td>\n",
       "      <td>1.0</td>\n",
       "      <td>1.0</td>\n",
       "      <td>1.0</td>\n",
       "      <td>1.0</td>\n",
       "      <td>1.0</td>\n",
       "      <td>1.0</td>\n",
       "      <td>1079.0</td>\n",
       "      <td>2717.0</td>\n",
       "      <td>0.0</td>\n",
       "      <td>0.0</td>\n",
       "      <td>0.0</td>\n",
       "    </tr>\n",
       "    <tr>\n",
       "      <th>Palau</th>\n",
       "      <td>803.0</td>\n",
       "      <td>1.004981</td>\n",
       "      <td>0.070446</td>\n",
       "      <td>1.0</td>\n",
       "      <td>1.0</td>\n",
       "      <td>1.0</td>\n",
       "      <td>1.0</td>\n",
       "      <td>1.0</td>\n",
       "      <td>1.0</td>\n",
       "      <td>1.0</td>\n",
       "      <td>1.0</td>\n",
       "      <td>2.0</td>\n",
       "      <td>0.0</td>\n",
       "      <td>799.0</td>\n",
       "      <td>4.0</td>\n",
       "      <td>0.0</td>\n",
       "      <td>0.0</td>\n",
       "    </tr>\n",
       "    <tr>\n",
       "      <th>Samoa</th>\n",
       "      <td>395.0</td>\n",
       "      <td>1.096203</td>\n",
       "      <td>0.295243</td>\n",
       "      <td>1.0</td>\n",
       "      <td>1.0</td>\n",
       "      <td>1.0</td>\n",
       "      <td>1.0</td>\n",
       "      <td>1.0</td>\n",
       "      <td>1.0</td>\n",
       "      <td>1.0</td>\n",
       "      <td>1.0</td>\n",
       "      <td>2.0</td>\n",
       "      <td>0.0</td>\n",
       "      <td>357.0</td>\n",
       "      <td>38.0</td>\n",
       "      <td>0.0</td>\n",
       "      <td>0.0</td>\n",
       "    </tr>\n",
       "    <tr>\n",
       "      <th>Tuamotu/Gambier</th>\n",
       "      <td>6949.0</td>\n",
       "      <td>0.870629</td>\n",
       "      <td>0.335634</td>\n",
       "      <td>0.0</td>\n",
       "      <td>0.0</td>\n",
       "      <td>1.0</td>\n",
       "      <td>1.0</td>\n",
       "      <td>1.0</td>\n",
       "      <td>1.0</td>\n",
       "      <td>1.0</td>\n",
       "      <td>1.0</td>\n",
       "      <td>1.0</td>\n",
       "      <td>899.0</td>\n",
       "      <td>6050.0</td>\n",
       "      <td>0.0</td>\n",
       "      <td>0.0</td>\n",
       "      <td>0.0</td>\n",
       "    </tr>\n",
       "    <tr>\n",
       "      <th>Southern Cook Islands</th>\n",
       "      <td>678.0</td>\n",
       "      <td>0.349558</td>\n",
       "      <td>0.477182</td>\n",
       "      <td>0.0</td>\n",
       "      <td>0.0</td>\n",
       "      <td>0.0</td>\n",
       "      <td>0.0</td>\n",
       "      <td>0.0</td>\n",
       "      <td>1.0</td>\n",
       "      <td>1.0</td>\n",
       "      <td>1.0</td>\n",
       "      <td>1.0</td>\n",
       "      <td>441.0</td>\n",
       "      <td>237.0</td>\n",
       "      <td>0.0</td>\n",
       "      <td>0.0</td>\n",
       "      <td>0.0</td>\n",
       "    </tr>\n",
       "    <tr>\n",
       "      <th>Kiribati (Line)</th>\n",
       "      <td>726.0</td>\n",
       "      <td>0.012397</td>\n",
       "      <td>0.110724</td>\n",
       "      <td>0.0</td>\n",
       "      <td>0.0</td>\n",
       "      <td>0.0</td>\n",
       "      <td>0.0</td>\n",
       "      <td>0.0</td>\n",
       "      <td>0.0</td>\n",
       "      <td>0.0</td>\n",
       "      <td>0.0</td>\n",
       "      <td>1.0</td>\n",
       "      <td>717.0</td>\n",
       "      <td>9.0</td>\n",
       "      <td>0.0</td>\n",
       "      <td>0.0</td>\n",
       "      <td>0.0</td>\n",
       "    </tr>\n",
       "    <tr>\n",
       "      <th>Fiji</th>\n",
       "      <td>5578.0</td>\n",
       "      <td>0.987630</td>\n",
       "      <td>0.412757</td>\n",
       "      <td>0.0</td>\n",
       "      <td>1.0</td>\n",
       "      <td>1.0</td>\n",
       "      <td>1.0</td>\n",
       "      <td>1.0</td>\n",
       "      <td>1.0</td>\n",
       "      <td>1.0</td>\n",
       "      <td>1.0</td>\n",
       "      <td>2.0</td>\n",
       "      <td>510.0</td>\n",
       "      <td>4627.0</td>\n",
       "      <td>441.0</td>\n",
       "      <td>0.0</td>\n",
       "      <td>0.0</td>\n",
       "    </tr>\n",
       "    <tr>\n",
       "      <th>Northern Cook Islands</th>\n",
       "      <td>476.0</td>\n",
       "      <td>0.760504</td>\n",
       "      <td>0.455833</td>\n",
       "      <td>0.0</td>\n",
       "      <td>0.0</td>\n",
       "      <td>0.0</td>\n",
       "      <td>1.0</td>\n",
       "      <td>1.0</td>\n",
       "      <td>1.0</td>\n",
       "      <td>1.0</td>\n",
       "      <td>1.0</td>\n",
       "      <td>2.0</td>\n",
       "      <td>120.0</td>\n",
       "      <td>350.0</td>\n",
       "      <td>6.0</td>\n",
       "      <td>0.0</td>\n",
       "      <td>0.0</td>\n",
       "    </tr>\n",
       "    <tr>\n",
       "      <th>Papua New Guinea</th>\n",
       "      <td>12824.0</td>\n",
       "      <td>1.601061</td>\n",
       "      <td>0.626623</td>\n",
       "      <td>1.0</td>\n",
       "      <td>1.0</td>\n",
       "      <td>1.0</td>\n",
       "      <td>2.0</td>\n",
       "      <td>2.0</td>\n",
       "      <td>2.0</td>\n",
       "      <td>2.0</td>\n",
       "      <td>2.0</td>\n",
       "      <td>3.0</td>\n",
       "      <td>0.0</td>\n",
       "      <td>6096.0</td>\n",
       "      <td>5748.0</td>\n",
       "      <td>980.0</td>\n",
       "      <td>0.0</td>\n",
       "    </tr>\n",
       "    <tr>\n",
       "      <th>Niue</th>\n",
       "      <td>142.0</td>\n",
       "      <td>0.288732</td>\n",
       "      <td>0.454777</td>\n",
       "      <td>0.0</td>\n",
       "      <td>0.0</td>\n",
       "      <td>0.0</td>\n",
       "      <td>0.0</td>\n",
       "      <td>0.0</td>\n",
       "      <td>0.0</td>\n",
       "      <td>1.0</td>\n",
       "      <td>1.0</td>\n",
       "      <td>1.0</td>\n",
       "      <td>101.0</td>\n",
       "      <td>41.0</td>\n",
       "      <td>0.0</td>\n",
       "      <td>0.0</td>\n",
       "      <td>0.0</td>\n",
       "    </tr>\n",
       "    <tr>\n",
       "      <th>Nauru</th>\n",
       "      <td>66.0</td>\n",
       "      <td>1.000000</td>\n",
       "      <td>0.000000</td>\n",
       "      <td>1.0</td>\n",
       "      <td>1.0</td>\n",
       "      <td>1.0</td>\n",
       "      <td>1.0</td>\n",
       "      <td>1.0</td>\n",
       "      <td>1.0</td>\n",
       "      <td>1.0</td>\n",
       "      <td>1.0</td>\n",
       "      <td>1.0</td>\n",
       "      <td>0.0</td>\n",
       "      <td>66.0</td>\n",
       "      <td>0.0</td>\n",
       "      <td>0.0</td>\n",
       "      <td>0.0</td>\n",
       "    </tr>\n",
       "  </tbody>\n",
       "</table>\n",
       "</div>"
      ],
      "text/plain": [
       "                         count      mean       std  min  10%  25%  50%  60%  \\\n",
       "New Caledonia           4647.0  0.641489  0.514265  0.0  0.0  0.0  1.0  1.0   \n",
       "Tonga                   1616.0  0.470297  0.573174  0.0  0.0  0.0  0.0  1.0   \n",
       "Kiribati (Phoenix)       612.0  0.633987  0.482107  0.0  0.0  0.0  1.0  1.0   \n",
       "Tuvalu                  1339.0  1.312173  0.463553  1.0  1.0  1.0  1.0  1.0   \n",
       "Tokelau                  236.0  1.000000  0.000000  1.0  1.0  1.0  1.0  1.0   \n",
       "Society Islands         1337.0  1.012715  0.112084  1.0  1.0  1.0  1.0  1.0   \n",
       "Austral Islands          560.0  0.067857  0.251725  0.0  0.0  0.0  0.0  0.0   \n",
       "FSM                     5229.0  1.107095  0.423584  1.0  1.0  1.0  1.0  1.0   \n",
       "Solomon Islands         6016.0  1.552859  0.497239  1.0  1.0  1.0  2.0  2.0   \n",
       "Pitcairn Islands         242.0  0.000000  0.000000  0.0  0.0  0.0  0.0  0.0   \n",
       "Northern Marianas        828.0  0.090580  0.287184  0.0  0.0  0.0  0.0  0.0   \n",
       "Vanuatu South            730.0  1.000000  0.000000  1.0  1.0  1.0  1.0  1.0   \n",
       "American Samoa           331.0  1.271903  0.445614  1.0  1.0  1.0  1.0  1.0   \n",
       "Marquesas                289.0  0.000000  0.000000  0.0  0.0  0.0  0.0  0.0   \n",
       "Vanuatu North           1750.0  1.009143  0.095207  1.0  1.0  1.0  1.0  1.0   \n",
       "Kiribati (Gilbert)      1500.0  0.866667  0.340048  0.0  0.0  1.0  1.0  1.0   \n",
       "Guam                     278.0  1.000000  0.000000  1.0  1.0  1.0  1.0  1.0   \n",
       "Wallis & Futuna          967.0  1.469493  0.499327  1.0  1.0  1.0  1.0  2.0   \n",
       "Marshall Islands        3796.0  0.715753  0.451114  0.0  0.0  0.0  1.0  1.0   \n",
       "Palau                    803.0  1.004981  0.070446  1.0  1.0  1.0  1.0  1.0   \n",
       "Samoa                    395.0  1.096203  0.295243  1.0  1.0  1.0  1.0  1.0   \n",
       "Tuamotu/Gambier         6949.0  0.870629  0.335634  0.0  0.0  1.0  1.0  1.0   \n",
       "Southern Cook Islands    678.0  0.349558  0.477182  0.0  0.0  0.0  0.0  0.0   \n",
       "Kiribati (Line)          726.0  0.012397  0.110724  0.0  0.0  0.0  0.0  0.0   \n",
       "Fiji                    5578.0  0.987630  0.412757  0.0  1.0  1.0  1.0  1.0   \n",
       "Northern Cook Islands    476.0  0.760504  0.455833  0.0  0.0  0.0  1.0  1.0   \n",
       "Papua New Guinea       12824.0  1.601061  0.626623  1.0  1.0  1.0  2.0  2.0   \n",
       "Niue                     142.0  0.288732  0.454777  0.0  0.0  0.0  0.0  0.0   \n",
       "Nauru                     66.0  1.000000  0.000000  1.0  1.0  1.0  1.0  1.0   \n",
       "\n",
       "                       70%  80%  90%  max       0       1       2      3    4  \n",
       "New Caledonia          1.0  1.0  1.0  2.0  1746.0  2821.0    80.0    0.0  0.0  \n",
       "Tonga                  1.0  1.0  1.0  2.0   920.0   632.0    64.0    0.0  0.0  \n",
       "Kiribati (Phoenix)     1.0  1.0  1.0  1.0   224.0   388.0     0.0    0.0  0.0  \n",
       "Tuvalu                 2.0  2.0  2.0  2.0     0.0   921.0   418.0    0.0  0.0  \n",
       "Tokelau                1.0  1.0  1.0  1.0     0.0   236.0     0.0    0.0  0.0  \n",
       "Society Islands        1.0  1.0  1.0  2.0     0.0  1320.0    17.0    0.0  0.0  \n",
       "Austral Islands        0.0  0.0  0.0  1.0   522.0    38.0     0.0    0.0  0.0  \n",
       "FSM                    1.0  1.0  1.0  3.0     0.0  4888.0   122.0  219.0  0.0  \n",
       "Solomon Islands        2.0  2.0  2.0  2.0     0.0  2690.0  3326.0    0.0  0.0  \n",
       "Pitcairn Islands       0.0  0.0  0.0  0.0   242.0     0.0     0.0    0.0  0.0  \n",
       "Northern Marianas      0.0  0.0  0.0  1.0   753.0    75.0     0.0    0.0  0.0  \n",
       "Vanuatu South          1.0  1.0  1.0  1.0     0.0   730.0     0.0    0.0  0.0  \n",
       "American Samoa         1.0  2.0  2.0  2.0     0.0   241.0    90.0    0.0  0.0  \n",
       "Marquesas              0.0  0.0  0.0  0.0   289.0     0.0     0.0    0.0  0.0  \n",
       "Vanuatu North          1.0  1.0  1.0  2.0     0.0  1734.0    16.0    0.0  0.0  \n",
       "Kiribati (Gilbert)     1.0  1.0  1.0  1.0   200.0  1300.0     0.0    0.0  0.0  \n",
       "Guam                   1.0  1.0  1.0  1.0     0.0   278.0     0.0    0.0  0.0  \n",
       "Wallis & Futuna        2.0  2.0  2.0  2.0     0.0   513.0   454.0    0.0  0.0  \n",
       "Marshall Islands       1.0  1.0  1.0  1.0  1079.0  2717.0     0.0    0.0  0.0  \n",
       "Palau                  1.0  1.0  1.0  2.0     0.0   799.0     4.0    0.0  0.0  \n",
       "Samoa                  1.0  1.0  1.0  2.0     0.0   357.0    38.0    0.0  0.0  \n",
       "Tuamotu/Gambier        1.0  1.0  1.0  1.0   899.0  6050.0     0.0    0.0  0.0  \n",
       "Southern Cook Islands  1.0  1.0  1.0  1.0   441.0   237.0     0.0    0.0  0.0  \n",
       "Kiribati (Line)        0.0  0.0  0.0  1.0   717.0     9.0     0.0    0.0  0.0  \n",
       "Fiji                   1.0  1.0  1.0  2.0   510.0  4627.0   441.0    0.0  0.0  \n",
       "Northern Cook Islands  1.0  1.0  1.0  2.0   120.0   350.0     6.0    0.0  0.0  \n",
       "Papua New Guinea       2.0  2.0  2.0  3.0     0.0  6096.0  5748.0  980.0  0.0  \n",
       "Niue                   0.0  1.0  1.0  1.0   101.0    41.0     0.0    0.0  0.0  \n",
       "Nauru                  1.0  1.0  1.0  1.0     0.0    66.0     0.0    0.0  0.0  "
      ]
     },
     "execution_count": 130,
     "metadata": {},
     "output_type": "execute_result"
    }
   ],
   "source": [
    "dlf"
   ]
  },
  {
   "cell_type": "code",
   "execution_count": 134,
   "metadata": {},
   "outputs": [],
   "source": [
    "dlf.to_csv('../outputs/BAA_4weeks_max_to_{:%Y%m%d}.csv'.format(last_week_BAA))"
   ]
  },
  {
   "cell_type": "code",
   "execution_count": null,
   "metadata": {},
   "outputs": [],
   "source": []
  }
 ],
 "metadata": {
  "kernelspec": {
   "display_name": "Python 3",
   "language": "python",
   "name": "python3"
  },
  "language_info": {
   "codemirror_mode": {
    "name": "ipython",
    "version": 3
   },
   "file_extension": ".py",
   "mimetype": "text/x-python",
   "name": "python",
   "nbconvert_exporter": "python",
   "pygments_lexer": "ipython3",
   "version": "3.5.4"
  },
  "latex_envs": {
   "LaTeX_envs_menu_present": true,
   "autocomplete": true,
   "bibliofile": "biblio.bib",
   "cite_by": "apalike",
   "current_citInitial": 1,
   "eqLabelWithNumbers": true,
   "eqNumInitial": 1,
   "hotkeys": {
    "equation": "Ctrl-E",
    "itemize": "Ctrl-I"
   },
   "labels_anchors": false,
   "latex_user_defs": false,
   "report_style_numbering": false,
   "user_envs_cfg": false
  },
  "toc": {
   "colors": {
    "hover_highlight": "#DAA520",
    "running_highlight": "#FF0000",
    "selected_highlight": "#FFD700"
   },
   "moveMenuLeft": true,
   "nav_menu": {
    "height": "12px",
    "width": "252px"
   },
   "navigate_menu": true,
   "number_sections": true,
   "sideBar": true,
   "threshold": 4,
   "toc_cell": false,
   "toc_section_display": "block",
   "toc_window_display": false,
   "widenNotebook": false
  }
 },
 "nbformat": 4,
 "nbformat_minor": 2
}
